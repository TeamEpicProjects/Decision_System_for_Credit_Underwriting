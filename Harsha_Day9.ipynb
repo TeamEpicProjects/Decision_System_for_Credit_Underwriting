{
 "cells": [
  {
   "cell_type": "markdown",
   "metadata": {},
   "source": [
    "**Importing the libraries**"
   ]
  },
  {
   "cell_type": "code",
   "execution_count": 1,
   "metadata": {},
   "outputs": [],
   "source": [
    "import numpy as np\n",
    "import pandas as pd \n",
    "import matplotlib.pyplot as plt\n",
    "import seaborn as sns\n",
    "import warnings\n",
    "warnings.filterwarnings(\"ignore\")"
   ]
  },
  {
   "cell_type": "markdown",
   "metadata": {},
   "source": [
    "**Importing the datasets**"
   ]
  },
  {
   "cell_type": "code",
   "execution_count": 2,
   "metadata": {},
   "outputs": [],
   "source": [
    "df1 =  pd.read_csv('application_data.csv.zip')\n",
    "df2 =  pd.read_csv('previous_application.csv.zip')"
   ]
  },
  {
   "cell_type": "markdown",
   "metadata": {},
   "source": [
    "**Merging the datasets**"
   ]
  },
  {
   "cell_type": "code",
   "execution_count": 3,
   "metadata": {},
   "outputs": [
    {
     "data": {
      "text/plain": [
       "Index(['SK_ID_CURR', 'NAME_CONTRACT_TYPE', 'AMT_CREDIT', 'AMT_ANNUITY',\n",
       "       'AMT_GOODS_PRICE', 'NAME_TYPE_SUITE', 'WEEKDAY_APPR_PROCESS_START',\n",
       "       'HOUR_APPR_PROCESS_START'],\n",
       "      dtype='object')"
      ]
     },
     "execution_count": 3,
     "metadata": {},
     "output_type": "execute_result"
    }
   ],
   "source": [
    "common_columns = df1.columns.intersection (df2.columns)\n",
    "common_columns"
   ]
  },
  {
   "cell_type": "markdown",
   "metadata": {},
   "source": [
    "***8 common columns are present***"
   ]
  },
  {
   "cell_type": "code",
   "execution_count": 4,
   "metadata": {},
   "outputs": [],
   "source": [
    "df3 = df1.merge(df2,on='SK_ID_CURR')"
   ]
  },
  {
   "cell_type": "code",
   "execution_count": 5,
   "metadata": {},
   "outputs": [
    {
     "data": {
      "text/plain": [
       "(1413701, 158)"
      ]
     },
     "execution_count": 5,
     "metadata": {},
     "output_type": "execute_result"
    }
   ],
   "source": [
    "df3.shape"
   ]
  },
  {
   "cell_type": "code",
   "execution_count": 6,
   "metadata": {},
   "outputs": [
    {
     "data": {
      "text/html": [
       "<div>\n",
       "<style scoped>\n",
       "    .dataframe tbody tr th:only-of-type {\n",
       "        vertical-align: middle;\n",
       "    }\n",
       "\n",
       "    .dataframe tbody tr th {\n",
       "        vertical-align: top;\n",
       "    }\n",
       "\n",
       "    .dataframe thead th {\n",
       "        text-align: right;\n",
       "    }\n",
       "</style>\n",
       "<table border=\"1\" class=\"dataframe\">\n",
       "  <thead>\n",
       "    <tr style=\"text-align: right;\">\n",
       "      <th></th>\n",
       "      <th>SK_ID_CURR</th>\n",
       "      <th>TARGET</th>\n",
       "      <th>NAME_CONTRACT_TYPE_x</th>\n",
       "      <th>CODE_GENDER</th>\n",
       "      <th>FLAG_OWN_CAR</th>\n",
       "      <th>FLAG_OWN_REALTY</th>\n",
       "      <th>CNT_CHILDREN</th>\n",
       "      <th>AMT_INCOME_TOTAL</th>\n",
       "      <th>AMT_CREDIT_x</th>\n",
       "      <th>AMT_ANNUITY_x</th>\n",
       "      <th>...</th>\n",
       "      <th>NAME_SELLER_INDUSTRY</th>\n",
       "      <th>CNT_PAYMENT</th>\n",
       "      <th>NAME_YIELD_GROUP</th>\n",
       "      <th>PRODUCT_COMBINATION</th>\n",
       "      <th>DAYS_FIRST_DRAWING</th>\n",
       "      <th>DAYS_FIRST_DUE</th>\n",
       "      <th>DAYS_LAST_DUE_1ST_VERSION</th>\n",
       "      <th>DAYS_LAST_DUE</th>\n",
       "      <th>DAYS_TERMINATION</th>\n",
       "      <th>NFLAG_INSURED_ON_APPROVAL</th>\n",
       "    </tr>\n",
       "  </thead>\n",
       "  <tbody>\n",
       "    <tr>\n",
       "      <th>0</th>\n",
       "      <td>100002</td>\n",
       "      <td>1</td>\n",
       "      <td>Cash loans</td>\n",
       "      <td>M</td>\n",
       "      <td>N</td>\n",
       "      <td>Y</td>\n",
       "      <td>0</td>\n",
       "      <td>202500.0</td>\n",
       "      <td>406597.5</td>\n",
       "      <td>24700.5</td>\n",
       "      <td>...</td>\n",
       "      <td>Auto technology</td>\n",
       "      <td>24.0</td>\n",
       "      <td>low_normal</td>\n",
       "      <td>POS other with interest</td>\n",
       "      <td>365243.0</td>\n",
       "      <td>-565.0</td>\n",
       "      <td>125.0</td>\n",
       "      <td>-25.0</td>\n",
       "      <td>-17.0</td>\n",
       "      <td>0.0</td>\n",
       "    </tr>\n",
       "    <tr>\n",
       "      <th>1</th>\n",
       "      <td>100003</td>\n",
       "      <td>0</td>\n",
       "      <td>Cash loans</td>\n",
       "      <td>F</td>\n",
       "      <td>N</td>\n",
       "      <td>N</td>\n",
       "      <td>0</td>\n",
       "      <td>270000.0</td>\n",
       "      <td>1293502.5</td>\n",
       "      <td>35698.5</td>\n",
       "      <td>...</td>\n",
       "      <td>XNA</td>\n",
       "      <td>12.0</td>\n",
       "      <td>low_normal</td>\n",
       "      <td>Cash X-Sell: low</td>\n",
       "      <td>365243.0</td>\n",
       "      <td>-716.0</td>\n",
       "      <td>-386.0</td>\n",
       "      <td>-536.0</td>\n",
       "      <td>-527.0</td>\n",
       "      <td>1.0</td>\n",
       "    </tr>\n",
       "    <tr>\n",
       "      <th>2</th>\n",
       "      <td>100003</td>\n",
       "      <td>0</td>\n",
       "      <td>Cash loans</td>\n",
       "      <td>F</td>\n",
       "      <td>N</td>\n",
       "      <td>N</td>\n",
       "      <td>0</td>\n",
       "      <td>270000.0</td>\n",
       "      <td>1293502.5</td>\n",
       "      <td>35698.5</td>\n",
       "      <td>...</td>\n",
       "      <td>Furniture</td>\n",
       "      <td>6.0</td>\n",
       "      <td>middle</td>\n",
       "      <td>POS industry with interest</td>\n",
       "      <td>365243.0</td>\n",
       "      <td>-797.0</td>\n",
       "      <td>-647.0</td>\n",
       "      <td>-647.0</td>\n",
       "      <td>-639.0</td>\n",
       "      <td>0.0</td>\n",
       "    </tr>\n",
       "    <tr>\n",
       "      <th>3</th>\n",
       "      <td>100003</td>\n",
       "      <td>0</td>\n",
       "      <td>Cash loans</td>\n",
       "      <td>F</td>\n",
       "      <td>N</td>\n",
       "      <td>N</td>\n",
       "      <td>0</td>\n",
       "      <td>270000.0</td>\n",
       "      <td>1293502.5</td>\n",
       "      <td>35698.5</td>\n",
       "      <td>...</td>\n",
       "      <td>Consumer electronics</td>\n",
       "      <td>12.0</td>\n",
       "      <td>middle</td>\n",
       "      <td>POS household with interest</td>\n",
       "      <td>365243.0</td>\n",
       "      <td>-2310.0</td>\n",
       "      <td>-1980.0</td>\n",
       "      <td>-1980.0</td>\n",
       "      <td>-1976.0</td>\n",
       "      <td>1.0</td>\n",
       "    </tr>\n",
       "    <tr>\n",
       "      <th>4</th>\n",
       "      <td>100004</td>\n",
       "      <td>0</td>\n",
       "      <td>Revolving loans</td>\n",
       "      <td>M</td>\n",
       "      <td>Y</td>\n",
       "      <td>Y</td>\n",
       "      <td>0</td>\n",
       "      <td>67500.0</td>\n",
       "      <td>135000.0</td>\n",
       "      <td>6750.0</td>\n",
       "      <td>...</td>\n",
       "      <td>Connectivity</td>\n",
       "      <td>4.0</td>\n",
       "      <td>middle</td>\n",
       "      <td>POS mobile without interest</td>\n",
       "      <td>365243.0</td>\n",
       "      <td>-784.0</td>\n",
       "      <td>-694.0</td>\n",
       "      <td>-724.0</td>\n",
       "      <td>-714.0</td>\n",
       "      <td>0.0</td>\n",
       "    </tr>\n",
       "  </tbody>\n",
       "</table>\n",
       "<p>5 rows × 158 columns</p>\n",
       "</div>"
      ],
      "text/plain": [
       "   SK_ID_CURR  TARGET NAME_CONTRACT_TYPE_x CODE_GENDER FLAG_OWN_CAR  \\\n",
       "0      100002       1           Cash loans           M            N   \n",
       "1      100003       0           Cash loans           F            N   \n",
       "2      100003       0           Cash loans           F            N   \n",
       "3      100003       0           Cash loans           F            N   \n",
       "4      100004       0      Revolving loans           M            Y   \n",
       "\n",
       "  FLAG_OWN_REALTY  CNT_CHILDREN  AMT_INCOME_TOTAL  AMT_CREDIT_x  \\\n",
       "0               Y             0          202500.0      406597.5   \n",
       "1               N             0          270000.0     1293502.5   \n",
       "2               N             0          270000.0     1293502.5   \n",
       "3               N             0          270000.0     1293502.5   \n",
       "4               Y             0           67500.0      135000.0   \n",
       "\n",
       "   AMT_ANNUITY_x  ...  NAME_SELLER_INDUSTRY CNT_PAYMENT NAME_YIELD_GROUP  \\\n",
       "0        24700.5  ...       Auto technology        24.0       low_normal   \n",
       "1        35698.5  ...                   XNA        12.0       low_normal   \n",
       "2        35698.5  ...             Furniture         6.0           middle   \n",
       "3        35698.5  ...  Consumer electronics        12.0           middle   \n",
       "4         6750.0  ...          Connectivity         4.0           middle   \n",
       "\n",
       "           PRODUCT_COMBINATION DAYS_FIRST_DRAWING DAYS_FIRST_DUE  \\\n",
       "0      POS other with interest           365243.0         -565.0   \n",
       "1             Cash X-Sell: low           365243.0         -716.0   \n",
       "2   POS industry with interest           365243.0         -797.0   \n",
       "3  POS household with interest           365243.0        -2310.0   \n",
       "4  POS mobile without interest           365243.0         -784.0   \n",
       "\n",
       "   DAYS_LAST_DUE_1ST_VERSION  DAYS_LAST_DUE  DAYS_TERMINATION  \\\n",
       "0                      125.0          -25.0             -17.0   \n",
       "1                     -386.0         -536.0            -527.0   \n",
       "2                     -647.0         -647.0            -639.0   \n",
       "3                    -1980.0        -1980.0           -1976.0   \n",
       "4                     -694.0         -724.0            -714.0   \n",
       "\n",
       "   NFLAG_INSURED_ON_APPROVAL  \n",
       "0                        0.0  \n",
       "1                        1.0  \n",
       "2                        0.0  \n",
       "3                        1.0  \n",
       "4                        0.0  \n",
       "\n",
       "[5 rows x 158 columns]"
      ]
     },
     "execution_count": 6,
     "metadata": {},
     "output_type": "execute_result"
    }
   ],
   "source": [
    "df3.head()"
   ]
  },
  {
   "cell_type": "code",
   "execution_count": 7,
   "metadata": {},
   "outputs": [
    {
     "data": {
      "text/plain": [
       "array(['Laborers', 'Core staff', 'Accountants', 'Managers', nan,\n",
       "       'Drivers', 'Sales staff', 'Cleaning staff',\n",
       "       'Private service staff', 'Medicine staff', 'Security staff',\n",
       "       'Cooking staff', 'High skill tech staff', 'Waiters/barmen staff',\n",
       "       'Low-skill Laborers', 'Realty agents', 'Secretaries', 'IT staff',\n",
       "       'HR staff'], dtype=object)"
      ]
     },
     "execution_count": 7,
     "metadata": {},
     "output_type": "execute_result"
    }
   ],
   "source": [
    "df3['OCCUPATION_TYPE'].unique()"
   ]
  },
  {
   "cell_type": "code",
   "execution_count": 8,
   "metadata": {},
   "outputs": [
    {
     "data": {
      "text/html": [
       "<div>\n",
       "<style scoped>\n",
       "    .dataframe tbody tr th:only-of-type {\n",
       "        vertical-align: middle;\n",
       "    }\n",
       "\n",
       "    .dataframe tbody tr th {\n",
       "        vertical-align: top;\n",
       "    }\n",
       "\n",
       "    .dataframe thead th {\n",
       "        text-align: right;\n",
       "    }\n",
       "</style>\n",
       "<table border=\"1\" class=\"dataframe\">\n",
       "  <thead>\n",
       "    <tr style=\"text-align: right;\">\n",
       "      <th></th>\n",
       "      <th></th>\n",
       "      <th>SK_ID_CURR</th>\n",
       "      <th>NAME_CONTRACT_TYPE_x</th>\n",
       "      <th>CODE_GENDER</th>\n",
       "      <th>FLAG_OWN_CAR</th>\n",
       "      <th>FLAG_OWN_REALTY</th>\n",
       "      <th>CNT_CHILDREN</th>\n",
       "      <th>AMT_INCOME_TOTAL</th>\n",
       "      <th>AMT_CREDIT_x</th>\n",
       "      <th>AMT_ANNUITY_x</th>\n",
       "      <th>AMT_GOODS_PRICE_x</th>\n",
       "      <th>...</th>\n",
       "      <th>NAME_SELLER_INDUSTRY</th>\n",
       "      <th>CNT_PAYMENT</th>\n",
       "      <th>NAME_YIELD_GROUP</th>\n",
       "      <th>PRODUCT_COMBINATION</th>\n",
       "      <th>DAYS_FIRST_DRAWING</th>\n",
       "      <th>DAYS_FIRST_DUE</th>\n",
       "      <th>DAYS_LAST_DUE_1ST_VERSION</th>\n",
       "      <th>DAYS_LAST_DUE</th>\n",
       "      <th>DAYS_TERMINATION</th>\n",
       "      <th>NFLAG_INSURED_ON_APPROVAL</th>\n",
       "    </tr>\n",
       "    <tr>\n",
       "      <th>TARGET</th>\n",
       "      <th>DAYS_LAST_PHONE_CHANGE</th>\n",
       "      <th></th>\n",
       "      <th></th>\n",
       "      <th></th>\n",
       "      <th></th>\n",
       "      <th></th>\n",
       "      <th></th>\n",
       "      <th></th>\n",
       "      <th></th>\n",
       "      <th></th>\n",
       "      <th></th>\n",
       "      <th></th>\n",
       "      <th></th>\n",
       "      <th></th>\n",
       "      <th></th>\n",
       "      <th></th>\n",
       "      <th></th>\n",
       "      <th></th>\n",
       "      <th></th>\n",
       "      <th></th>\n",
       "      <th></th>\n",
       "      <th></th>\n",
       "    </tr>\n",
       "  </thead>\n",
       "  <tbody>\n",
       "    <tr>\n",
       "      <th rowspan=\"5\" valign=\"top\">0</th>\n",
       "      <th>-4292.0</th>\n",
       "      <td>2</td>\n",
       "      <td>2</td>\n",
       "      <td>2</td>\n",
       "      <td>2</td>\n",
       "      <td>2</td>\n",
       "      <td>2</td>\n",
       "      <td>2</td>\n",
       "      <td>2</td>\n",
       "      <td>2</td>\n",
       "      <td>2</td>\n",
       "      <td>...</td>\n",
       "      <td>2</td>\n",
       "      <td>2</td>\n",
       "      <td>2</td>\n",
       "      <td>2</td>\n",
       "      <td>2</td>\n",
       "      <td>2</td>\n",
       "      <td>2</td>\n",
       "      <td>2</td>\n",
       "      <td>2</td>\n",
       "      <td>2</td>\n",
       "    </tr>\n",
       "    <tr>\n",
       "      <th>-4173.0</th>\n",
       "      <td>7</td>\n",
       "      <td>7</td>\n",
       "      <td>7</td>\n",
       "      <td>7</td>\n",
       "      <td>7</td>\n",
       "      <td>7</td>\n",
       "      <td>7</td>\n",
       "      <td>7</td>\n",
       "      <td>7</td>\n",
       "      <td>7</td>\n",
       "      <td>...</td>\n",
       "      <td>7</td>\n",
       "      <td>6</td>\n",
       "      <td>7</td>\n",
       "      <td>7</td>\n",
       "      <td>5</td>\n",
       "      <td>5</td>\n",
       "      <td>5</td>\n",
       "      <td>5</td>\n",
       "      <td>5</td>\n",
       "      <td>5</td>\n",
       "    </tr>\n",
       "    <tr>\n",
       "      <th>-4153.0</th>\n",
       "      <td>2</td>\n",
       "      <td>2</td>\n",
       "      <td>2</td>\n",
       "      <td>2</td>\n",
       "      <td>2</td>\n",
       "      <td>2</td>\n",
       "      <td>2</td>\n",
       "      <td>2</td>\n",
       "      <td>2</td>\n",
       "      <td>2</td>\n",
       "      <td>...</td>\n",
       "      <td>2</td>\n",
       "      <td>1</td>\n",
       "      <td>2</td>\n",
       "      <td>2</td>\n",
       "      <td>1</td>\n",
       "      <td>1</td>\n",
       "      <td>1</td>\n",
       "      <td>1</td>\n",
       "      <td>1</td>\n",
       "      <td>1</td>\n",
       "    </tr>\n",
       "    <tr>\n",
       "      <th>-4066.0</th>\n",
       "      <td>3</td>\n",
       "      <td>3</td>\n",
       "      <td>3</td>\n",
       "      <td>3</td>\n",
       "      <td>3</td>\n",
       "      <td>3</td>\n",
       "      <td>3</td>\n",
       "      <td>3</td>\n",
       "      <td>3</td>\n",
       "      <td>3</td>\n",
       "      <td>...</td>\n",
       "      <td>3</td>\n",
       "      <td>3</td>\n",
       "      <td>3</td>\n",
       "      <td>3</td>\n",
       "      <td>2</td>\n",
       "      <td>2</td>\n",
       "      <td>2</td>\n",
       "      <td>2</td>\n",
       "      <td>2</td>\n",
       "      <td>2</td>\n",
       "    </tr>\n",
       "    <tr>\n",
       "      <th>-4051.0</th>\n",
       "      <td>7</td>\n",
       "      <td>7</td>\n",
       "      <td>7</td>\n",
       "      <td>7</td>\n",
       "      <td>7</td>\n",
       "      <td>7</td>\n",
       "      <td>7</td>\n",
       "      <td>7</td>\n",
       "      <td>7</td>\n",
       "      <td>7</td>\n",
       "      <td>...</td>\n",
       "      <td>7</td>\n",
       "      <td>4</td>\n",
       "      <td>7</td>\n",
       "      <td>7</td>\n",
       "      <td>1</td>\n",
       "      <td>1</td>\n",
       "      <td>1</td>\n",
       "      <td>1</td>\n",
       "      <td>1</td>\n",
       "      <td>1</td>\n",
       "    </tr>\n",
       "    <tr>\n",
       "      <th>...</th>\n",
       "      <th>...</th>\n",
       "      <td>...</td>\n",
       "      <td>...</td>\n",
       "      <td>...</td>\n",
       "      <td>...</td>\n",
       "      <td>...</td>\n",
       "      <td>...</td>\n",
       "      <td>...</td>\n",
       "      <td>...</td>\n",
       "      <td>...</td>\n",
       "      <td>...</td>\n",
       "      <td>...</td>\n",
       "      <td>...</td>\n",
       "      <td>...</td>\n",
       "      <td>...</td>\n",
       "      <td>...</td>\n",
       "      <td>...</td>\n",
       "      <td>...</td>\n",
       "      <td>...</td>\n",
       "      <td>...</td>\n",
       "      <td>...</td>\n",
       "      <td>...</td>\n",
       "    </tr>\n",
       "    <tr>\n",
       "      <th rowspan=\"5\" valign=\"top\">1</th>\n",
       "      <th>-4.0</th>\n",
       "      <td>201</td>\n",
       "      <td>201</td>\n",
       "      <td>201</td>\n",
       "      <td>201</td>\n",
       "      <td>201</td>\n",
       "      <td>201</td>\n",
       "      <td>201</td>\n",
       "      <td>201</td>\n",
       "      <td>201</td>\n",
       "      <td>201</td>\n",
       "      <td>...</td>\n",
       "      <td>201</td>\n",
       "      <td>161</td>\n",
       "      <td>201</td>\n",
       "      <td>201</td>\n",
       "      <td>112</td>\n",
       "      <td>112</td>\n",
       "      <td>112</td>\n",
       "      <td>112</td>\n",
       "      <td>112</td>\n",
       "      <td>112</td>\n",
       "    </tr>\n",
       "    <tr>\n",
       "      <th>-3.0</th>\n",
       "      <td>154</td>\n",
       "      <td>154</td>\n",
       "      <td>154</td>\n",
       "      <td>154</td>\n",
       "      <td>154</td>\n",
       "      <td>154</td>\n",
       "      <td>154</td>\n",
       "      <td>154</td>\n",
       "      <td>154</td>\n",
       "      <td>154</td>\n",
       "      <td>...</td>\n",
       "      <td>154</td>\n",
       "      <td>122</td>\n",
       "      <td>154</td>\n",
       "      <td>153</td>\n",
       "      <td>91</td>\n",
       "      <td>91</td>\n",
       "      <td>91</td>\n",
       "      <td>91</td>\n",
       "      <td>91</td>\n",
       "      <td>91</td>\n",
       "    </tr>\n",
       "    <tr>\n",
       "      <th>-2.0</th>\n",
       "      <td>234</td>\n",
       "      <td>234</td>\n",
       "      <td>234</td>\n",
       "      <td>234</td>\n",
       "      <td>234</td>\n",
       "      <td>234</td>\n",
       "      <td>234</td>\n",
       "      <td>234</td>\n",
       "      <td>234</td>\n",
       "      <td>234</td>\n",
       "      <td>...</td>\n",
       "      <td>234</td>\n",
       "      <td>187</td>\n",
       "      <td>234</td>\n",
       "      <td>234</td>\n",
       "      <td>135</td>\n",
       "      <td>135</td>\n",
       "      <td>135</td>\n",
       "      <td>135</td>\n",
       "      <td>135</td>\n",
       "      <td>135</td>\n",
       "    </tr>\n",
       "    <tr>\n",
       "      <th>-1.0</th>\n",
       "      <td>543</td>\n",
       "      <td>543</td>\n",
       "      <td>543</td>\n",
       "      <td>543</td>\n",
       "      <td>543</td>\n",
       "      <td>543</td>\n",
       "      <td>543</td>\n",
       "      <td>543</td>\n",
       "      <td>543</td>\n",
       "      <td>543</td>\n",
       "      <td>...</td>\n",
       "      <td>543</td>\n",
       "      <td>435</td>\n",
       "      <td>543</td>\n",
       "      <td>541</td>\n",
       "      <td>345</td>\n",
       "      <td>345</td>\n",
       "      <td>345</td>\n",
       "      <td>345</td>\n",
       "      <td>345</td>\n",
       "      <td>345</td>\n",
       "    </tr>\n",
       "    <tr>\n",
       "      <th>0.0</th>\n",
       "      <td>12659</td>\n",
       "      <td>12659</td>\n",
       "      <td>12659</td>\n",
       "      <td>12659</td>\n",
       "      <td>12659</td>\n",
       "      <td>12659</td>\n",
       "      <td>12659</td>\n",
       "      <td>12659</td>\n",
       "      <td>12659</td>\n",
       "      <td>12659</td>\n",
       "      <td>...</td>\n",
       "      <td>12659</td>\n",
       "      <td>10349</td>\n",
       "      <td>12659</td>\n",
       "      <td>12652</td>\n",
       "      <td>7823</td>\n",
       "      <td>7823</td>\n",
       "      <td>7823</td>\n",
       "      <td>7823</td>\n",
       "      <td>7823</td>\n",
       "      <td>7823</td>\n",
       "    </tr>\n",
       "  </tbody>\n",
       "</table>\n",
       "<p>6631 rows × 156 columns</p>\n",
       "</div>"
      ],
      "text/plain": [
       "                               SK_ID_CURR  NAME_CONTRACT_TYPE_x  CODE_GENDER  \\\n",
       "TARGET DAYS_LAST_PHONE_CHANGE                                                  \n",
       "0      -4292.0                          2                     2            2   \n",
       "       -4173.0                          7                     7            7   \n",
       "       -4153.0                          2                     2            2   \n",
       "       -4066.0                          3                     3            3   \n",
       "       -4051.0                          7                     7            7   \n",
       "...                                   ...                   ...          ...   \n",
       "1      -4.0                           201                   201          201   \n",
       "       -3.0                           154                   154          154   \n",
       "       -2.0                           234                   234          234   \n",
       "       -1.0                           543                   543          543   \n",
       "        0.0                         12659                 12659        12659   \n",
       "\n",
       "                               FLAG_OWN_CAR  FLAG_OWN_REALTY  CNT_CHILDREN  \\\n",
       "TARGET DAYS_LAST_PHONE_CHANGE                                                \n",
       "0      -4292.0                            2                2             2   \n",
       "       -4173.0                            7                7             7   \n",
       "       -4153.0                            2                2             2   \n",
       "       -4066.0                            3                3             3   \n",
       "       -4051.0                            7                7             7   \n",
       "...                                     ...              ...           ...   \n",
       "1      -4.0                             201              201           201   \n",
       "       -3.0                             154              154           154   \n",
       "       -2.0                             234              234           234   \n",
       "       -1.0                             543              543           543   \n",
       "        0.0                           12659            12659         12659   \n",
       "\n",
       "                               AMT_INCOME_TOTAL  AMT_CREDIT_x  AMT_ANNUITY_x  \\\n",
       "TARGET DAYS_LAST_PHONE_CHANGE                                                  \n",
       "0      -4292.0                                2             2              2   \n",
       "       -4173.0                                7             7              7   \n",
       "       -4153.0                                2             2              2   \n",
       "       -4066.0                                3             3              3   \n",
       "       -4051.0                                7             7              7   \n",
       "...                                         ...           ...            ...   \n",
       "1      -4.0                                 201           201            201   \n",
       "       -3.0                                 154           154            154   \n",
       "       -2.0                                 234           234            234   \n",
       "       -1.0                                 543           543            543   \n",
       "        0.0                               12659         12659          12659   \n",
       "\n",
       "                               AMT_GOODS_PRICE_x  ...  NAME_SELLER_INDUSTRY  \\\n",
       "TARGET DAYS_LAST_PHONE_CHANGE                     ...                         \n",
       "0      -4292.0                                 2  ...                     2   \n",
       "       -4173.0                                 7  ...                     7   \n",
       "       -4153.0                                 2  ...                     2   \n",
       "       -4066.0                                 3  ...                     3   \n",
       "       -4051.0                                 7  ...                     7   \n",
       "...                                          ...  ...                   ...   \n",
       "1      -4.0                                  201  ...                   201   \n",
       "       -3.0                                  154  ...                   154   \n",
       "       -2.0                                  234  ...                   234   \n",
       "       -1.0                                  543  ...                   543   \n",
       "        0.0                                12659  ...                 12659   \n",
       "\n",
       "                               CNT_PAYMENT  NAME_YIELD_GROUP  \\\n",
       "TARGET DAYS_LAST_PHONE_CHANGE                                  \n",
       "0      -4292.0                           2                 2   \n",
       "       -4173.0                           6                 7   \n",
       "       -4153.0                           1                 2   \n",
       "       -4066.0                           3                 3   \n",
       "       -4051.0                           4                 7   \n",
       "...                                    ...               ...   \n",
       "1      -4.0                            161               201   \n",
       "       -3.0                            122               154   \n",
       "       -2.0                            187               234   \n",
       "       -1.0                            435               543   \n",
       "        0.0                          10349             12659   \n",
       "\n",
       "                               PRODUCT_COMBINATION  DAYS_FIRST_DRAWING  \\\n",
       "TARGET DAYS_LAST_PHONE_CHANGE                                            \n",
       "0      -4292.0                                   2                   2   \n",
       "       -4173.0                                   7                   5   \n",
       "       -4153.0                                   2                   1   \n",
       "       -4066.0                                   3                   2   \n",
       "       -4051.0                                   7                   1   \n",
       "...                                            ...                 ...   \n",
       "1      -4.0                                    201                 112   \n",
       "       -3.0                                    153                  91   \n",
       "       -2.0                                    234                 135   \n",
       "       -1.0                                    541                 345   \n",
       "        0.0                                  12652                7823   \n",
       "\n",
       "                               DAYS_FIRST_DUE  DAYS_LAST_DUE_1ST_VERSION  \\\n",
       "TARGET DAYS_LAST_PHONE_CHANGE                                              \n",
       "0      -4292.0                              2                          2   \n",
       "       -4173.0                              5                          5   \n",
       "       -4153.0                              1                          1   \n",
       "       -4066.0                              2                          2   \n",
       "       -4051.0                              1                          1   \n",
       "...                                       ...                        ...   \n",
       "1      -4.0                               112                        112   \n",
       "       -3.0                                91                         91   \n",
       "       -2.0                               135                        135   \n",
       "       -1.0                               345                        345   \n",
       "        0.0                              7823                       7823   \n",
       "\n",
       "                               DAYS_LAST_DUE  DAYS_TERMINATION  \\\n",
       "TARGET DAYS_LAST_PHONE_CHANGE                                    \n",
       "0      -4292.0                             2                 2   \n",
       "       -4173.0                             5                 5   \n",
       "       -4153.0                             1                 1   \n",
       "       -4066.0                             2                 2   \n",
       "       -4051.0                             1                 1   \n",
       "...                                      ...               ...   \n",
       "1      -4.0                              112               112   \n",
       "       -3.0                               91                91   \n",
       "       -2.0                              135               135   \n",
       "       -1.0                              345               345   \n",
       "        0.0                             7823              7823   \n",
       "\n",
       "                               NFLAG_INSURED_ON_APPROVAL  \n",
       "TARGET DAYS_LAST_PHONE_CHANGE                             \n",
       "0      -4292.0                                         2  \n",
       "       -4173.0                                         5  \n",
       "       -4153.0                                         1  \n",
       "       -4066.0                                         2  \n",
       "       -4051.0                                         1  \n",
       "...                                                  ...  \n",
       "1      -4.0                                          112  \n",
       "       -3.0                                           91  \n",
       "       -2.0                                          135  \n",
       "       -1.0                                          345  \n",
       "        0.0                                         7823  \n",
       "\n",
       "[6631 rows x 156 columns]"
      ]
     },
     "execution_count": 8,
     "metadata": {},
     "output_type": "execute_result"
    }
   ],
   "source": [
    "df3.groupby(['TARGET','DAYS_LAST_PHONE_CHANGE']).count()"
   ]
  },
  {
   "cell_type": "code",
   "execution_count": 9,
   "metadata": {},
   "outputs": [
    {
     "data": {
      "text/plain": [
       " 0.0       3641\n",
       "-1.0        250\n",
       "-2.0        143\n",
       "-3.0         88\n",
       "-4.0         85\n",
       "           ... \n",
       "-2067.0       1\n",
       "-2443.0       1\n",
       "-3232.0       1\n",
       "-2400.0       1\n",
       "-3675.0       1\n",
       "Name: DAYS_LAST_PHONE_CHANGE, Length: 2965, dtype: int64"
      ]
     },
     "execution_count": 9,
     "metadata": {},
     "output_type": "execute_result"
    }
   ],
   "source": [
    "df1[df1[\"TARGET\"]==1][\"DAYS_LAST_PHONE_CHANGE\"].value_counts()"
   ]
  },
  {
   "cell_type": "markdown",
   "metadata": {},
   "source": [
    "*Most of the defaulters changed their phone recently*"
   ]
  },
  {
   "cell_type": "code",
   "execution_count": 10,
   "metadata": {},
   "outputs": [
    {
     "data": {
      "text/plain": [
       "XNA                     855720\n",
       "Consumer electronics    398265\n",
       "Connectivity            276029\n",
       "Furniture                57849\n",
       "Construction             29781\n",
       "Clothing                 23949\n",
       "Industry                 19194\n",
       "Auto technology           4990\n",
       "Jewelry                   2709\n",
       "MLM partners              1215\n",
       "Tourism                    513\n",
       "Name: NAME_SELLER_INDUSTRY, dtype: int64"
      ]
     },
     "execution_count": 10,
     "metadata": {},
     "output_type": "execute_result"
    }
   ],
   "source": [
    "df2['NAME_SELLER_INDUSTRY'].value_counts()"
   ]
  },
  {
   "cell_type": "code",
   "execution_count": 11,
   "metadata": {},
   "outputs": [
    {
     "data": {
      "text/plain": [
       "Married                 14850\n",
       "Single / not married     4457\n",
       "Civil marriage           2961\n",
       "Separated                1620\n",
       "Widow                     937\n",
       "Name: NAME_FAMILY_STATUS, dtype: int64"
      ]
     },
     "execution_count": 11,
     "metadata": {},
     "output_type": "execute_result"
    }
   ],
   "source": [
    "df1[df1[\"TARGET\"]==1][\"NAME_FAMILY_STATUS\"].value_counts()"
   ]
  },
  {
   "cell_type": "markdown",
   "metadata": {},
   "source": [
    "*Most of the loan defaulters are married people*"
   ]
  },
  {
   "cell_type": "code",
   "execution_count": 12,
   "metadata": {},
   "outputs": [
    {
     "data": {
      "text/plain": [
       "Married                 196432\n",
       "Single / not married     45444\n",
       "Civil marriage           29775\n",
       "Separated                19770\n",
       "Widow                    16088\n",
       "Unknown                      2\n",
       "Name: NAME_FAMILY_STATUS, dtype: int64"
      ]
     },
     "execution_count": 12,
     "metadata": {},
     "output_type": "execute_result"
    }
   ],
   "source": [
    "df1['NAME_FAMILY_STATUS'].value_counts()"
   ]
  },
  {
   "cell_type": "code",
   "execution_count": 13,
   "metadata": {},
   "outputs": [
    {
     "data": {
      "image/png": "[encoded data removed]",
      "text/plain": [
       "<Figure size 432x360 with 1 Axes>"
      ]
     },
     "metadata": {
      "needs_background": "light"
     },
     "output_type": "display_data"
    }
   ],
   "source": [
    "plt.figure(figsize=(6,5))\n",
    "defaulters = df3.groupby([\"NAME_FAMILY_STATUS\",'TARGET']).count()['SK_ID_CURR'].reset_index()\n",
    "sns.barplot(x='NAME_FAMILY_STATUS',y='SK_ID_CURR',hue='TARGET',data=defaulters)\n",
    "plt.ylabel(\"Count\",size=10)\n",
    "plt.xticks(rotation=45)\n",
    "plt.show()"
   ]
  },
  {
   "cell_type": "markdown",
   "metadata": {},
   "source": [
    "*Default rate for marriedpeople is 7.5% ,single is 9.8% ,Civil marriage is 9.94% , separated is 8.1% , widow is 5.8% \n",
    " the rate is highest for Civil marriage*                 "
   ]
  },
  {
   "cell_type": "code",
   "execution_count": 14,
   "metadata": {},
   "outputs": [
    {
     "data": {
      "text/plain": [
       "Y    16983\n",
       "N     7842\n",
       "Name: FLAG_OWN_REALTY, dtype: int64"
      ]
     },
     "execution_count": 14,
     "metadata": {},
     "output_type": "execute_result"
    }
   ],
   "source": [
    "df1[df1[\"TARGET\"]==1][\"FLAG_OWN_REALTY\"].value_counts()"
   ]
  },
  {
   "cell_type": "code",
   "execution_count": 15,
   "metadata": {},
   "outputs": [
    {
     "data": {
      "text/plain": [
       "Y    213312\n",
       "N     94199\n",
       "Name: FLAG_OWN_REALTY, dtype: int64"
      ]
     },
     "execution_count": 15,
     "metadata": {},
     "output_type": "execute_result"
    }
   ],
   "source": [
    "df1['FLAG_OWN_REALTY'].value_counts()"
   ]
  },
  {
   "cell_type": "code",
   "execution_count": 16,
   "metadata": {},
   "outputs": [
    {
     "data": {
      "text/html": [
       "<div>\n",
       "<style scoped>\n",
       "    .dataframe tbody tr th:only-of-type {\n",
       "        vertical-align: middle;\n",
       "    }\n",
       "\n",
       "    .dataframe tbody tr th {\n",
       "        vertical-align: top;\n",
       "    }\n",
       "\n",
       "    .dataframe thead th {\n",
       "        text-align: right;\n",
       "    }\n",
       "</style>\n",
       "<table border=\"1\" class=\"dataframe\">\n",
       "  <thead>\n",
       "    <tr style=\"text-align: right;\">\n",
       "      <th></th>\n",
       "      <th></th>\n",
       "      <th>SK_ID_CURR</th>\n",
       "    </tr>\n",
       "    <tr>\n",
       "      <th>CNT_PAYMENT</th>\n",
       "      <th>TARGET</th>\n",
       "      <th></th>\n",
       "    </tr>\n",
       "  </thead>\n",
       "  <tbody>\n",
       "    <tr>\n",
       "      <th rowspan=\"2\" valign=\"top\">0.0</th>\n",
       "      <th>0</th>\n",
       "      <td>109589</td>\n",
       "    </tr>\n",
       "    <tr>\n",
       "      <th>1</th>\n",
       "      <td>12396</td>\n",
       "    </tr>\n",
       "    <tr>\n",
       "      <th rowspan=\"2\" valign=\"top\">3.0</th>\n",
       "      <th>0</th>\n",
       "      <td>890</td>\n",
       "    </tr>\n",
       "    <tr>\n",
       "      <th>1</th>\n",
       "      <td>54</td>\n",
       "    </tr>\n",
       "    <tr>\n",
       "      <th>4.0</th>\n",
       "      <th>0</th>\n",
       "      <td>21901</td>\n",
       "    </tr>\n",
       "    <tr>\n",
       "      <th>...</th>\n",
       "      <th>...</th>\n",
       "      <td>...</td>\n",
       "    </tr>\n",
       "    <tr>\n",
       "      <th>66.0</th>\n",
       "      <th>0</th>\n",
       "      <td>10</td>\n",
       "    </tr>\n",
       "    <tr>\n",
       "      <th rowspan=\"2\" valign=\"top\">72.0</th>\n",
       "      <th>0</th>\n",
       "      <td>114</td>\n",
       "    </tr>\n",
       "    <tr>\n",
       "      <th>1</th>\n",
       "      <td>9</td>\n",
       "    </tr>\n",
       "    <tr>\n",
       "      <th rowspan=\"2\" valign=\"top\">84.0</th>\n",
       "      <th>0</th>\n",
       "      <td>21</td>\n",
       "    </tr>\n",
       "    <tr>\n",
       "      <th>1</th>\n",
       "      <td>24</td>\n",
       "    </tr>\n",
       "  </tbody>\n",
       "</table>\n",
       "<p>79 rows × 1 columns</p>\n",
       "</div>"
      ],
      "text/plain": [
       "                    SK_ID_CURR\n",
       "CNT_PAYMENT TARGET            \n",
       "0.0         0           109589\n",
       "            1            12396\n",
       "3.0         0              890\n",
       "            1               54\n",
       "4.0         0            21901\n",
       "...                        ...\n",
       "66.0        0               10\n",
       "72.0        0              114\n",
       "            1                9\n",
       "84.0        0               21\n",
       "            1               24\n",
       "\n",
       "[79 rows x 1 columns]"
      ]
     },
     "execution_count": 16,
     "metadata": {},
     "output_type": "execute_result"
    }
   ],
   "source": [
    "df3.groupby([\"CNT_PAYMENT\",'TARGET']).count()[['SK_ID_CURR']]"
   ]
  },
  {
   "cell_type": "code",
   "execution_count": 17,
   "metadata": {},
   "outputs": [
    {
     "data": {
      "text/plain": [
       " 365243.0    16322\n",
       "-204.0          68\n",
       "-271.0          65\n",
       "-163.0          64\n",
       "-236.0          64\n",
       "             ...  \n",
       "-2726.0          1\n",
       "-1680.0          1\n",
       "-1239.0          1\n",
       "-2749.0          1\n",
       "-2212.0          1\n",
       "Name: DAYS_TERMINATION, Length: 2714, dtype: int64"
      ]
     },
     "execution_count": 17,
     "metadata": {},
     "output_type": "execute_result"
    }
   ],
   "source": [
    "df3[df3[\"TARGET\"]==1][\"DAYS_TERMINATION\"].value_counts()"
   ]
  },
  {
   "cell_type": "code",
   "execution_count": 18,
   "metadata": {},
   "outputs": [
    {
     "data": {
      "text/plain": [
       " 365243.0    194000\n",
       "-156.0          653\n",
       "-233.0          652\n",
       "-170.0          641\n",
       "-163.0          638\n",
       "              ...  \n",
       "-2804.0           1\n",
       "-2757.0           1\n",
       "-2803.0           1\n",
       "-2802.0           1\n",
       "-2852.0           1\n",
       "Name: DAYS_TERMINATION, Length: 2809, dtype: int64"
      ]
     },
     "execution_count": 18,
     "metadata": {},
     "output_type": "execute_result"
    }
   ],
   "source": [
    "df3['DAYS_TERMINATION'].value_counts()"
   ]
  },
  {
   "cell_type": "code",
   "execution_count": 19,
   "metadata": {},
   "outputs": [
    {
     "data": {
      "text/plain": [
       "array(['POS', 'Cash', 'XNA', 'Cards', 'Cars'], dtype=object)"
      ]
     },
     "execution_count": 19,
     "metadata": {},
     "output_type": "execute_result"
    }
   ],
   "source": [
    "df2['NAME_PORTFOLIO'].unique()"
   ]
  },
  {
   "cell_type": "code",
   "execution_count": 20,
   "metadata": {},
   "outputs": [
    {
     "data": {
      "text/plain": [
       "POS      45240\n",
       "Cash     34766\n",
       "XNA      29937\n",
       "Cards    12396\n",
       "Cars        21\n",
       "Name: NAME_PORTFOLIO, dtype: int64"
      ]
     },
     "execution_count": 20,
     "metadata": {},
     "output_type": "execute_result"
    }
   ],
   "source": [
    "df3[df3[\"TARGET\"]==1][\"NAME_PORTFOLIO\"].value_counts()"
   ]
  },
  {
   "cell_type": "code",
   "execution_count": 21,
   "metadata": {},
   "outputs": [
    {
     "data": {
      "text/plain": [
       "0          24.0\n",
       "1          12.0\n",
       "2           6.0\n",
       "3          12.0\n",
       "4           4.0\n",
       "           ... \n",
       "1413696    24.0\n",
       "1413697     0.0\n",
       "1413698    60.0\n",
       "1413699    36.0\n",
       "1413700     6.0\n",
       "Name: CNT_PAYMENT, Length: 1413701, dtype: float64"
      ]
     },
     "execution_count": 21,
     "metadata": {},
     "output_type": "execute_result"
    }
   ],
   "source": [
    "df3['CNT_PAYMENT']"
   ]
  },
  {
   "cell_type": "code",
   "execution_count": 22,
   "metadata": {},
   "outputs": [
    {
     "data": {
      "text/plain": [
       "12.0    20857\n",
       "0.0     12396\n",
       "6.0     11512\n",
       "24.0     9853\n",
       "10.0     8682\n",
       "36.0     6370\n",
       "18.0     5522\n",
       "48.0     5135\n",
       "60.0     4616\n",
       "8.0      2063\n",
       "4.0      1459\n",
       "30.0     1359\n",
       "14.0      721\n",
       "42.0      606\n",
       "16.0      387\n",
       "5.0       215\n",
       "54.0      198\n",
       "20.0      115\n",
       "7.0        82\n",
       "15.0       68\n",
       "9.0        63\n",
       "3.0        54\n",
       "11.0       38\n",
       "84.0       24\n",
       "72.0        9\n",
       "13.0        7\n",
       "17.0        6\n",
       "28.0        2\n",
       "23.0        2\n",
       "35.0        1\n",
       "41.0        1\n",
       "Name: CNT_PAYMENT, dtype: int64"
      ]
     },
     "execution_count": 22,
     "metadata": {},
     "output_type": "execute_result"
    }
   ],
   "source": [
    "df3[df3[\"TARGET\"]==1][\"CNT_PAYMENT\"].value_counts()"
   ]
  },
  {
   "cell_type": "code",
   "execution_count": 23,
   "metadata": {},
   "outputs": [
    {
     "data": {
      "text/plain": [
       "XNA                         74824\n",
       "Mobile                      16753\n",
       "Consumer Electronics         7405\n",
       "Computers                    7288\n",
       "Audio/Video                  6551\n",
       "Furniture                    2658\n",
       "Photo / Cinema Equipment     1656\n",
       "Construction Materials       1488\n",
       "Clothing and Accessories     1117\n",
       "Auto Accessories              565\n",
       "Jewelry                       469\n",
       "Vehicles                      287\n",
       "Homewares                     286\n",
       "Sport and Leisure             184\n",
       "Medical Supplies              182\n",
       "Office Appliances             164\n",
       "Gardening                     156\n",
       "Other                         134\n",
       "Medicine                       80\n",
       "Tourism                        56\n",
       "Direct Sales                   27\n",
       "Fitness                         7\n",
       "Additional Service              7\n",
       "Insurance                       6\n",
       "Education                       5\n",
       "Weapon                          5\n",
       "Name: NAME_GOODS_CATEGORY, dtype: int64"
      ]
     },
     "execution_count": 23,
     "metadata": {},
     "output_type": "execute_result"
    }
   ],
   "source": [
    "df3[df3[\"TARGET\"]==1][\"NAME_GOODS_CATEGORY\"].value_counts()"
   ]
  },
  {
   "cell_type": "code",
   "execution_count": 24,
   "metadata": {},
   "outputs": [
    {
     "data": {
      "text/html": [
       "<div>\n",
       "<style scoped>\n",
       "    .dataframe tbody tr th:only-of-type {\n",
       "        vertical-align: middle;\n",
       "    }\n",
       "\n",
       "    .dataframe tbody tr th {\n",
       "        vertical-align: top;\n",
       "    }\n",
       "\n",
       "    .dataframe thead th {\n",
       "        text-align: right;\n",
       "    }\n",
       "</style>\n",
       "<table border=\"1\" class=\"dataframe\">\n",
       "  <thead>\n",
       "    <tr style=\"text-align: right;\">\n",
       "      <th></th>\n",
       "      <th></th>\n",
       "      <th>SK_ID_CURR</th>\n",
       "    </tr>\n",
       "    <tr>\n",
       "      <th>NAME_GOODS_CATEGORY</th>\n",
       "      <th>TARGET</th>\n",
       "      <th></th>\n",
       "    </tr>\n",
       "  </thead>\n",
       "  <tbody>\n",
       "    <tr>\n",
       "      <th rowspan=\"2\" valign=\"top\">Additional Service</th>\n",
       "      <th>0</th>\n",
       "      <td>102</td>\n",
       "    </tr>\n",
       "    <tr>\n",
       "      <th>1</th>\n",
       "      <td>7</td>\n",
       "    </tr>\n",
       "    <tr>\n",
       "      <th>Animals</th>\n",
       "      <th>0</th>\n",
       "      <td>1</td>\n",
       "    </tr>\n",
       "    <tr>\n",
       "      <th rowspan=\"2\" valign=\"top\">Audio/Video</th>\n",
       "      <th>0</th>\n",
       "      <td>78951</td>\n",
       "    </tr>\n",
       "    <tr>\n",
       "      <th>1</th>\n",
       "      <td>6551</td>\n",
       "    </tr>\n",
       "    <tr>\n",
       "      <th rowspan=\"2\" valign=\"top\">Auto Accessories</th>\n",
       "      <th>0</th>\n",
       "      <td>5663</td>\n",
       "    </tr>\n",
       "    <tr>\n",
       "      <th>1</th>\n",
       "      <td>565</td>\n",
       "    </tr>\n",
       "    <tr>\n",
       "      <th rowspan=\"2\" valign=\"top\">Clothing and Accessories</th>\n",
       "      <th>0</th>\n",
       "      <td>18473</td>\n",
       "    </tr>\n",
       "    <tr>\n",
       "      <th>1</th>\n",
       "      <td>1117</td>\n",
       "    </tr>\n",
       "    <tr>\n",
       "      <th rowspan=\"2\" valign=\"top\">Computers</th>\n",
       "      <th>0</th>\n",
       "      <td>82635</td>\n",
       "    </tr>\n",
       "    <tr>\n",
       "      <th>1</th>\n",
       "      <td>7288</td>\n",
       "    </tr>\n",
       "    <tr>\n",
       "      <th rowspan=\"2\" valign=\"top\">Construction Materials</th>\n",
       "      <th>0</th>\n",
       "      <td>19868</td>\n",
       "    </tr>\n",
       "    <tr>\n",
       "      <th>1</th>\n",
       "      <td>1488</td>\n",
       "    </tr>\n",
       "    <tr>\n",
       "      <th rowspan=\"2\" valign=\"top\">Consumer Electronics</th>\n",
       "      <th>0</th>\n",
       "      <td>97380</td>\n",
       "    </tr>\n",
       "    <tr>\n",
       "      <th>1</th>\n",
       "      <td>7405</td>\n",
       "    </tr>\n",
       "    <tr>\n",
       "      <th rowspan=\"2\" valign=\"top\">Direct Sales</th>\n",
       "      <th>0</th>\n",
       "      <td>303</td>\n",
       "    </tr>\n",
       "    <tr>\n",
       "      <th>1</th>\n",
       "      <td>27</td>\n",
       "    </tr>\n",
       "    <tr>\n",
       "      <th rowspan=\"2\" valign=\"top\">Education</th>\n",
       "      <th>0</th>\n",
       "      <td>84</td>\n",
       "    </tr>\n",
       "    <tr>\n",
       "      <th>1</th>\n",
       "      <td>5</td>\n",
       "    </tr>\n",
       "    <tr>\n",
       "      <th rowspan=\"2\" valign=\"top\">Fitness</th>\n",
       "      <th>0</th>\n",
       "      <td>159</td>\n",
       "    </tr>\n",
       "    <tr>\n",
       "      <th>1</th>\n",
       "      <td>7</td>\n",
       "    </tr>\n",
       "    <tr>\n",
       "      <th rowspan=\"2\" valign=\"top\">Furniture</th>\n",
       "      <th>0</th>\n",
       "      <td>42781</td>\n",
       "    </tr>\n",
       "    <tr>\n",
       "      <th>1</th>\n",
       "      <td>2658</td>\n",
       "    </tr>\n",
       "    <tr>\n",
       "      <th rowspan=\"2\" valign=\"top\">Gardening</th>\n",
       "      <th>0</th>\n",
       "      <td>2166</td>\n",
       "    </tr>\n",
       "    <tr>\n",
       "      <th>1</th>\n",
       "      <td>156</td>\n",
       "    </tr>\n",
       "    <tr>\n",
       "      <th rowspan=\"2\" valign=\"top\">Homewares</th>\n",
       "      <th>0</th>\n",
       "      <td>4023</td>\n",
       "    </tr>\n",
       "    <tr>\n",
       "      <th>1</th>\n",
       "      <td>286</td>\n",
       "    </tr>\n",
       "    <tr>\n",
       "      <th rowspan=\"2\" valign=\"top\">Insurance</th>\n",
       "      <th>0</th>\n",
       "      <td>52</td>\n",
       "    </tr>\n",
       "    <tr>\n",
       "      <th>1</th>\n",
       "      <td>6</td>\n",
       "    </tr>\n",
       "    <tr>\n",
       "      <th rowspan=\"2\" valign=\"top\">Jewelry</th>\n",
       "      <th>0</th>\n",
       "      <td>4719</td>\n",
       "    </tr>\n",
       "    <tr>\n",
       "      <th>1</th>\n",
       "      <td>469</td>\n",
       "    </tr>\n",
       "    <tr>\n",
       "      <th rowspan=\"2\" valign=\"top\">Medical Supplies</th>\n",
       "      <th>0</th>\n",
       "      <td>3058</td>\n",
       "    </tr>\n",
       "    <tr>\n",
       "      <th>1</th>\n",
       "      <td>182</td>\n",
       "    </tr>\n",
       "    <tr>\n",
       "      <th rowspan=\"2\" valign=\"top\">Medicine</th>\n",
       "      <th>0</th>\n",
       "      <td>1222</td>\n",
       "    </tr>\n",
       "    <tr>\n",
       "      <th>1</th>\n",
       "      <td>80</td>\n",
       "    </tr>\n",
       "    <tr>\n",
       "      <th rowspan=\"2\" valign=\"top\">Mobile</th>\n",
       "      <th>0</th>\n",
       "      <td>176990</td>\n",
       "    </tr>\n",
       "    <tr>\n",
       "      <th>1</th>\n",
       "      <td>16753</td>\n",
       "    </tr>\n",
       "    <tr>\n",
       "      <th rowspan=\"2\" valign=\"top\">Office Appliances</th>\n",
       "      <th>0</th>\n",
       "      <td>1821</td>\n",
       "    </tr>\n",
       "    <tr>\n",
       "      <th>1</th>\n",
       "      <td>164</td>\n",
       "    </tr>\n",
       "    <tr>\n",
       "      <th rowspan=\"2\" valign=\"top\">Other</th>\n",
       "      <th>0</th>\n",
       "      <td>2203</td>\n",
       "    </tr>\n",
       "    <tr>\n",
       "      <th>1</th>\n",
       "      <td>134</td>\n",
       "    </tr>\n",
       "    <tr>\n",
       "      <th rowspan=\"2\" valign=\"top\">Photo / Cinema Equipment</th>\n",
       "      <th>0</th>\n",
       "      <td>20051</td>\n",
       "    </tr>\n",
       "    <tr>\n",
       "      <th>1</th>\n",
       "      <td>1656</td>\n",
       "    </tr>\n",
       "    <tr>\n",
       "      <th rowspan=\"2\" valign=\"top\">Sport and Leisure</th>\n",
       "      <th>0</th>\n",
       "      <td>2356</td>\n",
       "    </tr>\n",
       "    <tr>\n",
       "      <th>1</th>\n",
       "      <td>184</td>\n",
       "    </tr>\n",
       "    <tr>\n",
       "      <th rowspan=\"2\" valign=\"top\">Tourism</th>\n",
       "      <th>0</th>\n",
       "      <td>1268</td>\n",
       "    </tr>\n",
       "    <tr>\n",
       "      <th>1</th>\n",
       "      <td>56</td>\n",
       "    </tr>\n",
       "    <tr>\n",
       "      <th rowspan=\"2\" valign=\"top\">Vehicles</th>\n",
       "      <th>0</th>\n",
       "      <td>2567</td>\n",
       "    </tr>\n",
       "    <tr>\n",
       "      <th>1</th>\n",
       "      <td>287</td>\n",
       "    </tr>\n",
       "    <tr>\n",
       "      <th rowspan=\"2\" valign=\"top\">Weapon</th>\n",
       "      <th>0</th>\n",
       "      <td>60</td>\n",
       "    </tr>\n",
       "    <tr>\n",
       "      <th>1</th>\n",
       "      <td>5</td>\n",
       "    </tr>\n",
       "    <tr>\n",
       "      <th rowspan=\"2\" valign=\"top\">XNA</th>\n",
       "      <th>0</th>\n",
       "      <td>722385</td>\n",
       "    </tr>\n",
       "    <tr>\n",
       "      <th>1</th>\n",
       "      <td>74824</td>\n",
       "    </tr>\n",
       "  </tbody>\n",
       "</table>\n",
       "</div>"
      ],
      "text/plain": [
       "                                 SK_ID_CURR\n",
       "NAME_GOODS_CATEGORY      TARGET            \n",
       "Additional Service       0              102\n",
       "                         1                7\n",
       "Animals                  0                1\n",
       "Audio/Video              0            78951\n",
       "                         1             6551\n",
       "Auto Accessories         0             5663\n",
       "                         1              565\n",
       "Clothing and Accessories 0            18473\n",
       "                         1             1117\n",
       "Computers                0            82635\n",
       "                         1             7288\n",
       "Construction Materials   0            19868\n",
       "                         1             1488\n",
       "Consumer Electronics     0            97380\n",
       "                         1             7405\n",
       "Direct Sales             0              303\n",
       "                         1               27\n",
       "Education                0               84\n",
       "                         1                5\n",
       "Fitness                  0              159\n",
       "                         1                7\n",
       "Furniture                0            42781\n",
       "                         1             2658\n",
       "Gardening                0             2166\n",
       "                         1              156\n",
       "Homewares                0             4023\n",
       "                         1              286\n",
       "Insurance                0               52\n",
       "                         1                6\n",
       "Jewelry                  0             4719\n",
       "                         1              469\n",
       "Medical Supplies         0             3058\n",
       "                         1              182\n",
       "Medicine                 0             1222\n",
       "                         1               80\n",
       "Mobile                   0           176990\n",
       "                         1            16753\n",
       "Office Appliances        0             1821\n",
       "                         1              164\n",
       "Other                    0             2203\n",
       "                         1              134\n",
       "Photo / Cinema Equipment 0            20051\n",
       "                         1             1656\n",
       "Sport and Leisure        0             2356\n",
       "                         1              184\n",
       "Tourism                  0             1268\n",
       "                         1               56\n",
       "Vehicles                 0             2567\n",
       "                         1              287\n",
       "Weapon                   0               60\n",
       "                         1                5\n",
       "XNA                      0           722385\n",
       "                         1            74824"
      ]
     },
     "execution_count": 24,
     "metadata": {},
     "output_type": "execute_result"
    }
   ],
   "source": [
    "df3.groupby([\"NAME_GOODS_CATEGORY\",'TARGET']).count()[['SK_ID_CURR']]"
   ]
  },
  {
   "cell_type": "code",
   "execution_count": 25,
   "metadata": {},
   "outputs": [
    {
     "data": {
      "text/plain": [
       "array(['Auto technology', 'XNA', 'Furniture', 'Consumer electronics',\n",
       "       'Connectivity', 'Construction', 'Clothing', 'Industry', 'Tourism',\n",
       "       'Jewelry', 'MLM partners'], dtype=object)"
      ]
     },
     "execution_count": 25,
     "metadata": {},
     "output_type": "execute_result"
    }
   ],
   "source": [
    "df3['NAME_SELLER_INDUSTRY'].unique()"
   ]
  },
  {
   "cell_type": "code",
   "execution_count": 26,
   "metadata": {},
   "outputs": [
    {
     "data": {
      "text/html": [
       "<div>\n",
       "<style scoped>\n",
       "    .dataframe tbody tr th:only-of-type {\n",
       "        vertical-align: middle;\n",
       "    }\n",
       "\n",
       "    .dataframe tbody tr th {\n",
       "        vertical-align: top;\n",
       "    }\n",
       "\n",
       "    .dataframe thead th {\n",
       "        text-align: right;\n",
       "    }\n",
       "</style>\n",
       "<table border=\"1\" class=\"dataframe\">\n",
       "  <thead>\n",
       "    <tr style=\"text-align: right;\">\n",
       "      <th></th>\n",
       "      <th></th>\n",
       "      <th>SK_ID_CURR</th>\n",
       "    </tr>\n",
       "    <tr>\n",
       "      <th>NAME_CASH_LOAN_PURPOSE</th>\n",
       "      <th>TARGET</th>\n",
       "      <th></th>\n",
       "    </tr>\n",
       "  </thead>\n",
       "  <tbody>\n",
       "    <tr>\n",
       "      <th rowspan=\"2\" valign=\"top\">Building a house or an annex</th>\n",
       "      <th>0</th>\n",
       "      <td>2020</td>\n",
       "    </tr>\n",
       "    <tr>\n",
       "      <th>1</th>\n",
       "      <td>324</td>\n",
       "    </tr>\n",
       "    <tr>\n",
       "      <th rowspan=\"2\" valign=\"top\">Business development</th>\n",
       "      <th>0</th>\n",
       "      <td>313</td>\n",
       "    </tr>\n",
       "    <tr>\n",
       "      <th>1</th>\n",
       "      <td>46</td>\n",
       "    </tr>\n",
       "    <tr>\n",
       "      <th rowspan=\"2\" valign=\"top\">Buying a garage</th>\n",
       "      <th>0</th>\n",
       "      <td>109</td>\n",
       "    </tr>\n",
       "    <tr>\n",
       "      <th>1</th>\n",
       "      <td>7</td>\n",
       "    </tr>\n",
       "    <tr>\n",
       "      <th rowspan=\"2\" valign=\"top\">Buying a holiday home / land</th>\n",
       "      <th>0</th>\n",
       "      <td>408</td>\n",
       "    </tr>\n",
       "    <tr>\n",
       "      <th>1</th>\n",
       "      <td>55</td>\n",
       "    </tr>\n",
       "    <tr>\n",
       "      <th rowspan=\"2\" valign=\"top\">Buying a home</th>\n",
       "      <th>0</th>\n",
       "      <td>617</td>\n",
       "    </tr>\n",
       "    <tr>\n",
       "      <th>1</th>\n",
       "      <td>84</td>\n",
       "    </tr>\n",
       "    <tr>\n",
       "      <th rowspan=\"2\" valign=\"top\">Buying a new car</th>\n",
       "      <th>0</th>\n",
       "      <td>806</td>\n",
       "    </tr>\n",
       "    <tr>\n",
       "      <th>1</th>\n",
       "      <td>80</td>\n",
       "    </tr>\n",
       "    <tr>\n",
       "      <th rowspan=\"2\" valign=\"top\">Buying a used car</th>\n",
       "      <th>0</th>\n",
       "      <td>2151</td>\n",
       "    </tr>\n",
       "    <tr>\n",
       "      <th>1</th>\n",
       "      <td>318</td>\n",
       "    </tr>\n",
       "    <tr>\n",
       "      <th rowspan=\"2\" valign=\"top\">Car repairs</th>\n",
       "      <th>0</th>\n",
       "      <td>564</td>\n",
       "    </tr>\n",
       "    <tr>\n",
       "      <th>1</th>\n",
       "      <td>127</td>\n",
       "    </tr>\n",
       "    <tr>\n",
       "      <th rowspan=\"2\" valign=\"top\">Education</th>\n",
       "      <th>0</th>\n",
       "      <td>1194</td>\n",
       "    </tr>\n",
       "    <tr>\n",
       "      <th>1</th>\n",
       "      <td>140</td>\n",
       "    </tr>\n",
       "    <tr>\n",
       "      <th rowspan=\"2\" valign=\"top\">Everyday expenses</th>\n",
       "      <th>0</th>\n",
       "      <td>1836</td>\n",
       "    </tr>\n",
       "    <tr>\n",
       "      <th>1</th>\n",
       "      <td>216</td>\n",
       "    </tr>\n",
       "    <tr>\n",
       "      <th rowspan=\"2\" valign=\"top\">Furniture</th>\n",
       "      <th>0</th>\n",
       "      <td>575</td>\n",
       "    </tr>\n",
       "    <tr>\n",
       "      <th>1</th>\n",
       "      <td>85</td>\n",
       "    </tr>\n",
       "    <tr>\n",
       "      <th rowspan=\"2\" valign=\"top\">Gasification / water supply</th>\n",
       "      <th>0</th>\n",
       "      <td>206</td>\n",
       "    </tr>\n",
       "    <tr>\n",
       "      <th>1</th>\n",
       "      <td>45</td>\n",
       "    </tr>\n",
       "    <tr>\n",
       "      <th rowspan=\"2\" valign=\"top\">Hobby</th>\n",
       "      <th>0</th>\n",
       "      <td>36</td>\n",
       "    </tr>\n",
       "    <tr>\n",
       "      <th>1</th>\n",
       "      <td>9</td>\n",
       "    </tr>\n",
       "    <tr>\n",
       "      <th rowspan=\"2\" valign=\"top\">Journey</th>\n",
       "      <th>0</th>\n",
       "      <td>931</td>\n",
       "    </tr>\n",
       "    <tr>\n",
       "      <th>1</th>\n",
       "      <td>111</td>\n",
       "    </tr>\n",
       "    <tr>\n",
       "      <th rowspan=\"2\" valign=\"top\">Medicine</th>\n",
       "      <th>0</th>\n",
       "      <td>1620</td>\n",
       "    </tr>\n",
       "    <tr>\n",
       "      <th>1</th>\n",
       "      <td>251</td>\n",
       "    </tr>\n",
       "    <tr>\n",
       "      <th rowspan=\"2\" valign=\"top\">Money for a third person</th>\n",
       "      <th>0</th>\n",
       "      <td>19</td>\n",
       "    </tr>\n",
       "    <tr>\n",
       "      <th>1</th>\n",
       "      <td>4</td>\n",
       "    </tr>\n",
       "    <tr>\n",
       "      <th rowspan=\"2\" valign=\"top\">Other</th>\n",
       "      <th>0</th>\n",
       "      <td>11759</td>\n",
       "    </tr>\n",
       "    <tr>\n",
       "      <th>1</th>\n",
       "      <td>1673</td>\n",
       "    </tr>\n",
       "    <tr>\n",
       "      <th rowspan=\"2\" valign=\"top\">Payments on other loans</th>\n",
       "      <th>0</th>\n",
       "      <td>1321</td>\n",
       "    </tr>\n",
       "    <tr>\n",
       "      <th>1</th>\n",
       "      <td>252</td>\n",
       "    </tr>\n",
       "    <tr>\n",
       "      <th rowspan=\"2\" valign=\"top\">Purchase of electronic equipment</th>\n",
       "      <th>0</th>\n",
       "      <td>817</td>\n",
       "    </tr>\n",
       "    <tr>\n",
       "      <th>1</th>\n",
       "      <td>117</td>\n",
       "    </tr>\n",
       "    <tr>\n",
       "      <th rowspan=\"2\" valign=\"top\">Refusal to name the goal</th>\n",
       "      <th>0</th>\n",
       "      <td>10</td>\n",
       "    </tr>\n",
       "    <tr>\n",
       "      <th>1</th>\n",
       "      <td>3</td>\n",
       "    </tr>\n",
       "    <tr>\n",
       "      <th rowspan=\"2\" valign=\"top\">Repairs</th>\n",
       "      <th>0</th>\n",
       "      <td>17501</td>\n",
       "    </tr>\n",
       "    <tr>\n",
       "      <th>1</th>\n",
       "      <td>2616</td>\n",
       "    </tr>\n",
       "    <tr>\n",
       "      <th rowspan=\"2\" valign=\"top\">Urgent needs</th>\n",
       "      <th>0</th>\n",
       "      <td>6154</td>\n",
       "    </tr>\n",
       "    <tr>\n",
       "      <th>1</th>\n",
       "      <td>1082</td>\n",
       "    </tr>\n",
       "    <tr>\n",
       "      <th rowspan=\"2\" valign=\"top\">Wedding / gift / holiday</th>\n",
       "      <th>0</th>\n",
       "      <td>707</td>\n",
       "    </tr>\n",
       "    <tr>\n",
       "      <th>1</th>\n",
       "      <td>94</td>\n",
       "    </tr>\n",
       "    <tr>\n",
       "      <th rowspan=\"2\" valign=\"top\">XAP</th>\n",
       "      <th>0</th>\n",
       "      <td>721774</td>\n",
       "    </tr>\n",
       "    <tr>\n",
       "      <th>1</th>\n",
       "      <td>65163</td>\n",
       "    </tr>\n",
       "    <tr>\n",
       "      <th rowspan=\"2\" valign=\"top\">XNA</th>\n",
       "      <th>0</th>\n",
       "      <td>517893</td>\n",
       "    </tr>\n",
       "    <tr>\n",
       "      <th>1</th>\n",
       "      <td>49458</td>\n",
       "    </tr>\n",
       "  </tbody>\n",
       "</table>\n",
       "</div>"
      ],
      "text/plain": [
       "                                         SK_ID_CURR\n",
       "NAME_CASH_LOAN_PURPOSE           TARGET            \n",
       "Building a house or an annex     0             2020\n",
       "                                 1              324\n",
       "Business development             0              313\n",
       "                                 1               46\n",
       "Buying a garage                  0              109\n",
       "                                 1                7\n",
       "Buying a holiday home / land     0              408\n",
       "                                 1               55\n",
       "Buying a home                    0              617\n",
       "                                 1               84\n",
       "Buying a new car                 0              806\n",
       "                                 1               80\n",
       "Buying a used car                0             2151\n",
       "                                 1              318\n",
       "Car repairs                      0              564\n",
       "                                 1              127\n",
       "Education                        0             1194\n",
       "                                 1              140\n",
       "Everyday expenses                0             1836\n",
       "                                 1              216\n",
       "Furniture                        0              575\n",
       "                                 1               85\n",
       "Gasification / water supply      0              206\n",
       "                                 1               45\n",
       "Hobby                            0               36\n",
       "                                 1                9\n",
       "Journey                          0              931\n",
       "                                 1              111\n",
       "Medicine                         0             1620\n",
       "                                 1              251\n",
       "Money for a third person         0               19\n",
       "                                 1                4\n",
       "Other                            0            11759\n",
       "                                 1             1673\n",
       "Payments on other loans          0             1321\n",
       "                                 1              252\n",
       "Purchase of electronic equipment 0              817\n",
       "                                 1              117\n",
       "Refusal to name the goal         0               10\n",
       "                                 1                3\n",
       "Repairs                          0            17501\n",
       "                                 1             2616\n",
       "Urgent needs                     0             6154\n",
       "                                 1             1082\n",
       "Wedding / gift / holiday         0              707\n",
       "                                 1               94\n",
       "XAP                              0           721774\n",
       "                                 1            65163\n",
       "XNA                              0           517893\n",
       "                                 1            49458"
      ]
     },
     "execution_count": 26,
     "metadata": {},
     "output_type": "execute_result"
    }
   ],
   "source": [
    "df3.groupby([\"NAME_CASH_LOAN_PURPOSE\",'TARGET']).count()[['SK_ID_CURR']]"
   ]
  },
  {
   "cell_type": "code",
   "execution_count": 27,
   "metadata": {},
   "outputs": [
    {
     "name": "stdout",
     "output_type": "stream",
     "text": [
      "Name portfolio\n"
     ]
    },
    {
     "data": {
      "text/plain": [
       "POS      592460\n",
       "Cash     391663\n",
       "XNA      307213\n",
       "Cards    121985\n",
       "Cars        380\n",
       "Name: NAME_PORTFOLIO, dtype: int64"
      ]
     },
     "execution_count": 27,
     "metadata": {},
     "output_type": "execute_result"
    }
   ],
   "source": [
    "print(\"Name portfolio\")\n",
    "df3[\"NAME_PORTFOLIO\"].value_counts()"
   ]
  },
  {
   "cell_type": "code",
   "execution_count": 28,
   "metadata": {},
   "outputs": [
    {
     "data": {
      "image/png": "[encoded data removed]",
      "text/plain": [
       "<Figure size 504x360 with 1 Axes>"
      ]
     },
     "metadata": {
      "needs_background": "light"
     },
     "output_type": "display_data"
    }
   ],
   "source": [
    "plt.figure(figsize=(7,5))\n",
    "a = df3.groupby(['NAME_PORTFOLIO','TARGET']).count()[['SK_ID_CURR']].reset_index()\n",
    "sns.barplot(x='NAME_PORTFOLIO',y='SK_ID_CURR',hue='TARGET',data=a)\n",
    "plt.ylabel('COUNT',size=12)\n",
    "plt.show()"
   ]
  },
  {
   "cell_type": "code",
   "execution_count": 29,
   "metadata": {},
   "outputs": [
    {
     "name": "stdout",
     "output_type": "stream",
     "text": [
      "('POS', 41.90843749845264)\n",
      "('Cash', 27.70479754912814)\n",
      "('XNA', 21.731115702683947)\n",
      "('Cards', 8.62876944983416)\n",
      "('Cars', 0.02687979990111063)\n"
     ]
    },
    {
     "data": {
      "text/plain": [
       "[None, None, None, None, None]"
      ]
     },
     "execution_count": 29,
     "metadata": {},
     "output_type": "execute_result"
    }
   ],
   "source": [
    "ind=df3[\"NAME_PORTFOLIO\"].value_counts().index\n",
    "value=df3[\"NAME_PORTFOLIO\"].value_counts()/len(df3[\"NAME_PORTFOLIO\"])*100\n",
    "[print(element) for element in list(zip(ind,value))]"
   ]
  },
  {
   "cell_type": "code",
   "execution_count": 30,
   "metadata": {},
   "outputs": [
    {
     "name": "stdout",
     "output_type": "stream",
     "text": [
      "NAME_PRODUCT_TYPE\n"
     ]
    },
    {
     "data": {
      "text/plain": [
       "XNA        900053\n",
       "x-sell     385394\n",
       "walk-in    128254\n",
       "Name: NAME_PRODUCT_TYPE, dtype: int64"
      ]
     },
     "execution_count": 30,
     "metadata": {},
     "output_type": "execute_result"
    }
   ],
   "source": [
    "print(\"NAME_PRODUCT_TYPE\")\n",
    "df3[\"NAME_PRODUCT_TYPE\"].value_counts()"
   ]
  },
  {
   "cell_type": "code",
   "execution_count": 31,
   "metadata": {},
   "outputs": [
    {
     "name": "stdout",
     "output_type": "stream",
     "text": [
      "The channeltype on which the client was previously acquired:\n",
      "('Credit and cash offices', 42.4659811374541)\n",
      "('Country-wide', 29.9258471204307)\n",
      "('Stone', 12.980679790139499)\n",
      "('Regional / Local', 6.541128569619743)\n",
      "('Contact center', 4.165732357832384)\n",
      "('AP+ (Cash loan)', 3.5102189218229314)\n",
      "('Channel of corporate sales', 0.38169315859577096)\n",
      "('Car dealer', 0.028718944104870834)\n"
     ]
    },
    {
     "data": {
      "text/plain": [
       "[None, None, None, None, None, None, None, None]"
      ]
     },
     "execution_count": 31,
     "metadata": {},
     "output_type": "execute_result"
    }
   ],
   "source": [
    "print(\"The channeltype on which the client was previously acquired:\")\n",
    "df3['CHANNEL_TYPE'].value_counts()\n",
    "ind=df3[\"CHANNEL_TYPE\"].value_counts().index\n",
    "value=df3[\"CHANNEL_TYPE\"].value_counts()/len(df3[\"CHANNEL_TYPE\"])*100\n",
    "[print(element) for element in list(zip(ind,value))]"
   ]
  },
  {
   "cell_type": "code",
   "execution_count": 32,
   "metadata": {},
   "outputs": [
    {
     "name": "stdout",
     "output_type": "stream",
     "text": [
      "Selling area of seller place of the previous application\n"
     ]
    },
    {
     "data": {
      "text/plain": [
       "-1       636583\n",
       " 0        50680\n",
       " 50       31699\n",
       " 30       29690\n",
       " 20       29085\n",
       "          ...  \n",
       " 7518         1\n",
       " 688          1\n",
       " 1317         1\n",
       " 9740         1\n",
       " 1023         1\n",
       "Name: SELLERPLACE_AREA, Length: 2077, dtype: int64"
      ]
     },
     "execution_count": 32,
     "metadata": {},
     "output_type": "execute_result"
    }
   ],
   "source": [
    "print(\"Selling area of seller place of the previous application\")\n",
    "df3['SELLERPLACE_AREA'].value_counts()"
   ]
  },
  {
   "cell_type": "code",
   "execution_count": 33,
   "metadata": {},
   "outputs": [
    {
     "name": "stdout",
     "output_type": "stream",
     "text": [
      "The industry of the seller:\n",
      "Client's education background\n"
     ]
    },
    {
     "data": {
      "image/png": "[encoded data removed]",
      "text/plain": [
       "<Figure size 720x720 with 1 Axes>"
      ]
     },
     "metadata": {
      "needs_background": "light"
     },
     "output_type": "display_data"
    }
   ],
   "source": [
    "print(\"The industry of the seller:\")\n",
    "df3['NAME_SELLER_INDUSTRY'].value_counts()\n",
    "print(\"Client's education background\")\n",
    "plt.figure(figsize=(10,10))\n",
    "c=(df3[\"NAME_SELLER_INDUSTRY\"].value_counts().values/len(df3[\"NAME_SELLER_INDUSTRY\"]))*100\n",
    "l=list(df3[\"NAME_SELLER_INDUSTRY\"].value_counts().index)\n",
    "l=list(map(str,l))\n",
    "plt.bar(l,c,width=0.5)\n",
    "plt.title(\"Seeing the percentage of children people are having\")\n",
    "plt.ylabel(\"percentage\")\n",
    "plt.xlabel(\"Number of children\")\n",
    "plt.xticks(rotation=45)\n",
    "plt.show()"
   ]
  },
  {
   "cell_type": "code",
   "execution_count": 34,
   "metadata": {},
   "outputs": [
    {
     "name": "stdout",
     "output_type": "stream",
     "text": [
      "Term of previous credit at application of the previous application\n",
      "12.0    275258\n",
      "6.0     162760\n",
      "10.0    122546\n",
      "0.0     121985\n",
      "24.0    116777\n",
      "18.0     65532\n",
      "36.0     60844\n",
      "60.0     45697\n",
      "48.0     40709\n",
      "8.0      26117\n",
      "4.0      23360\n",
      "30.0     14599\n",
      "14.0      7188\n",
      "42.0      6229\n",
      "16.0      4782\n",
      "5.0       3490\n",
      "54.0      1853\n",
      "20.0      1613\n",
      "7.0       1282\n",
      "9.0       1118\n",
      "3.0        944\n",
      "15.0       837\n",
      "11.0       582\n",
      "72.0       123\n",
      "13.0        48\n",
      "84.0        45\n",
      "17.0        37\n",
      "22.0        32\n",
      "23.0        24\n",
      "26.0        11\n",
      "66.0        10\n",
      "35.0         9\n",
      "28.0         8\n",
      "29.0         6\n",
      "19.0         5\n",
      "32.0         5\n",
      "34.0         3\n",
      "59.0         3\n",
      "21.0         3\n",
      "41.0         3\n",
      "39.0         2\n",
      "45.0         2\n",
      "47.0         2\n",
      "44.0         1\n",
      "53.0         1\n",
      "40.0         1\n",
      "38.0         1\n",
      "33.0         1\n",
      "Name: CNT_PAYMENT, dtype: int64\n",
      "\n",
      "\n",
      "\n",
      "\n"
     ]
    },
    {
     "data": {
      "text/plain": [
       "(array([-20.,   0.,  20.,  40.,  60.,  80., 100.]),\n",
       " [Text(0, 0, ''),\n",
       "  Text(0, 0, ''),\n",
       "  Text(0, 0, ''),\n",
       "  Text(0, 0, ''),\n",
       "  Text(0, 0, ''),\n",
       "  Text(0, 0, ''),\n",
       "  Text(0, 0, '')])"
      ]
     },
     "execution_count": 34,
     "metadata": {},
     "output_type": "execute_result"
    },
    {
     "data": {
      "image/png": "[encoded data removed]",
      "text/plain": [
       "<Figure size 432x288 with 1 Axes>"
      ]
     },
     "metadata": {
      "needs_background": "light"
     },
     "output_type": "display_data"
    }
   ],
   "source": [
    "print(\"Term of previous credit at application of the previous application\")\n",
    "df3['CNT_PAYMENT'].value_counts()\n",
    "print(df3[\"CNT_PAYMENT\"].value_counts())\n",
    "print(\"\\n\\n\\n\")\n",
    "plt.bar(df3[\"CNT_PAYMENT\"].value_counts().index,df3[\"CNT_PAYMENT\"].value_counts().values/len(df3[\"CNT_PAYMENT\"]),width=0.8)\n",
    "plt.xticks()"
   ]
  },
  {
   "cell_type": "code",
   "execution_count": 35,
   "metadata": {},
   "outputs": [
    {
     "name": "stdout",
     "output_type": "stream",
     "text": [
      "Grouped interest rate into small medium and high of the previous application\n",
      "('XNA', 30.359885152518107)\n",
      "('middle', 22.987251193852167)\n",
      "('high', 21.649627467194264)\n",
      "('low_normal', 19.444281357939197)\n",
      "('low_action', 5.558954828496266)\n"
     ]
    },
    {
     "data": {
      "text/plain": [
       "[None, None, None, None, None]"
      ]
     },
     "execution_count": 35,
     "metadata": {},
     "output_type": "execute_result"
    }
   ],
   "source": [
    "print(\"Grouped interest rate into small medium and high of the previous application\")\n",
    "df3['NAME_YIELD_GROUP'].value_counts()\n",
    "ind=df3[\"NAME_YIELD_GROUP\"].value_counts().index\n",
    "value=df3[\"NAME_YIELD_GROUP\"].value_counts()/len(df3[\"NAME_YIELD_GROUP\"])*100\n",
    "[print(element) for element in list(zip(ind,value))]\n"
   ]
  },
  {
   "cell_type": "code",
   "execution_count": 36,
   "metadata": {},
   "outputs": [
    {
     "data": {
      "image/png": "[encoded data removed]",
      "text/plain": [
       "<Figure size 504x360 with 1 Axes>"
      ]
     },
     "metadata": {
      "needs_background": "light"
     },
     "output_type": "display_data"
    }
   ],
   "source": [
    "plt.figure(figsize=(7,5))\n",
    "a = df3.groupby(['NAME_YIELD_GROUP','TARGET']).count()[['SK_ID_CURR']].reset_index()\n",
    "sns.barplot(x='NAME_YIELD_GROUP',y='SK_ID_CURR',hue='TARGET',data=a)\n",
    "plt.ylabel('COUNT',size=12)\n",
    "plt.show()"
   ]
  },
  {
   "cell_type": "code",
   "execution_count": 37,
   "metadata": {},
   "outputs": [
    {
     "name": "stdout",
     "output_type": "stream",
     "text": [
      "Detailed product combination of the previous application\n",
      "('XNA', 16.630178517239504)\n",
      "('middle', 16.019228960013468)\n",
      "('high', 13.500025818755168)\n",
      "('low_normal', 8.490904370867673)\n",
      "('low_action', 7.82336576121825)\n"
     ]
    },
    {
     "data": {
      "text/plain": [
       "[None, None, None, None, None]"
      ]
     },
     "execution_count": 37,
     "metadata": {},
     "output_type": "execute_result"
    }
   ],
   "source": [
    "print(\"Detailed product combination of the previous application\")\n",
    "df3['PRODUCT_COMBINATION'].value_counts()\n",
    "nd=df3[\"PRODUCT_COMBINATION\"].value_counts().index\n",
    "value=df3[\"PRODUCT_COMBINATION\"].value_counts()/len(df3[\"PRODUCT_COMBINATION\"])*100\n",
    "[print(element) for element in list(zip(ind,value))]"
   ]
  },
  {
   "cell_type": "code",
   "execution_count": 38,
   "metadata": {},
   "outputs": [
    {
     "name": "stdout",
     "output_type": "stream",
     "text": [
      "Relative to application date of current application when was the first disbursement of the previous application\n"
     ]
    },
    {
     "data": {
      "text/plain": [
       " 365243.0    799094\n",
       "-228.0          115\n",
       "-224.0          113\n",
       "-212.0          112\n",
       "-220.0          111\n",
       "              ...  \n",
       "-1842.0           1\n",
       "-1844.0           1\n",
       "-1845.0           1\n",
       "-1846.0           1\n",
       "-1886.0           1\n",
       "Name: DAYS_FIRST_DRAWING, Length: 2799, dtype: int64"
      ]
     },
     "execution_count": 38,
     "metadata": {},
     "output_type": "execute_result"
    }
   ],
   "source": [
    "print(\"Relative to application date of current application when was the first disbursement of the previous application\")\n",
    "df3['DAYS_FIRST_DRAWING'].value_counts()\n"
   ]
  },
  {
   "cell_type": "code",
   "execution_count": 39,
   "metadata": {},
   "outputs": [
    {
     "name": "stdout",
     "output_type": "stream",
     "text": [
      "Relative to application date of current application when was the first due supposed to be of the previous application:\n"
     ]
    },
    {
     "data": {
      "text/plain": [
       " 365243.0    33962\n",
       "-334.0         661\n",
       "-299.0         653\n",
       "-208.0         650\n",
       "-292.0         647\n",
       "             ...  \n",
       "-2887.0         66\n",
       "-2890.0         58\n",
       "-2891.0         44\n",
       "-2.0            11\n",
       "-2892.0          5\n",
       "Name: DAYS_FIRST_DUE, Length: 2892, dtype: int64"
      ]
     },
     "execution_count": 39,
     "metadata": {},
     "output_type": "execute_result"
    }
   ],
   "source": [
    "print(\"Relative to application date of current application when was the first due supposed to be of the previous application:\")\n",
    "df3['DAYS_FIRST_DUE'].value_counts()\n"
   ]
  },
  {
   "cell_type": "code",
   "execution_count": 40,
   "metadata": {},
   "outputs": [
    {
     "name": "stdout",
     "output_type": "stream",
     "text": [
      "Relative to application date of current application when was the first due of the previous application:\n"
     ]
    },
    {
     "data": {
      "text/plain": [
       "365243.0    79099\n",
       "9.0           621\n",
       "10.0          601\n",
       "0.0           600\n",
       "8.0           595\n",
       "            ...  \n",
       "2016.0          1\n",
       "2389.0          1\n",
       "1746.0          1\n",
       "1990.0          1\n",
       "2032.0          1\n",
       "Name: DAYS_LAST_DUE_1ST_VERSION, Length: 4604, dtype: int64"
      ]
     },
     "execution_count": 40,
     "metadata": {},
     "output_type": "execute_result"
    }
   ],
   "source": [
    "print(\"Relative to application date of current application when was the first due of the previous application:\")\n",
    "df3['DAYS_LAST_DUE_1ST_VERSION'].value_counts()\n"
   ]
  },
  {
   "cell_type": "code",
   "execution_count": 41,
   "metadata": {},
   "outputs": [
    {
     "name": "stdout",
     "output_type": "stream",
     "text": [
      "Relative to application date of current application when was the last due date of the previous application:\n"
     ]
    },
    {
     "data": {
      "text/plain": [
       " 365243.0    180792\n",
       "-239.0          569\n",
       "-188.0          564\n",
       "-245.0          559\n",
       "-236.0          550\n",
       "              ...  \n",
       "-2837.0           1\n",
       "-2836.0           1\n",
       "-2833.0           1\n",
       "-2824.0           1\n",
       "-2889.0           1\n",
       "Name: DAYS_LAST_DUE, Length: 2869, dtype: int64"
      ]
     },
     "execution_count": 41,
     "metadata": {},
     "output_type": "execute_result"
    }
   ],
   "source": [
    "print(\"Relative to application date of current application when was the last due date of the previous application:\")\n",
    "df3['DAYS_LAST_DUE'].value_counts()\n"
   ]
  },
  {
   "cell_type": "code",
   "execution_count": 42,
   "metadata": {},
   "outputs": [
    {
     "name": "stdout",
     "output_type": "stream",
     "text": [
      "Relative to application date of current application the expected termination of the previous application:\n"
     ]
    },
    {
     "data": {
      "text/plain": [
       " 365243.0    194000\n",
       "-156.0          653\n",
       "-233.0          652\n",
       "-170.0          641\n",
       "-163.0          638\n",
       "              ...  \n",
       "-2804.0           1\n",
       "-2757.0           1\n",
       "-2803.0           1\n",
       "-2802.0           1\n",
       "-2852.0           1\n",
       "Name: DAYS_TERMINATION, Length: 2809, dtype: int64"
      ]
     },
     "execution_count": 42,
     "metadata": {},
     "output_type": "execute_result"
    }
   ],
   "source": [
    "print(\"Relative to application date of current application the expected termination of the previous application:\")\n",
    "df3['DAYS_TERMINATION'].value_counts()\n"
   ]
  },
  {
   "cell_type": "code",
   "execution_count": 43,
   "metadata": {},
   "outputs": [
    {
     "name": "stdout",
     "output_type": "stream",
     "text": [
      "Clients requested for insurance during the previous application:\n",
      "(0.0, 40.37282282462841)\n",
      "(1.0, 19.936606114022695)\n"
     ]
    },
    {
     "data": {
      "text/plain": [
       "[None, None]"
      ]
     },
     "execution_count": 43,
     "metadata": {},
     "output_type": "execute_result"
    }
   ],
   "source": [
    "print(\"Clients requested for insurance during the previous application:\")\n",
    "df3['NFLAG_INSURED_ON_APPROVAL'].value_counts()\n",
    "ind=df3[\"NFLAG_INSURED_ON_APPROVAL\"].value_counts().index\n",
    "value=df3[\"NFLAG_INSURED_ON_APPROVAL\"].value_counts()/len(df3[\"NFLAG_INSURED_ON_APPROVAL\"])*100\n",
    "[print(element) for element in list(zip(ind,value))]"
   ]
  },
  {
   "cell_type": "markdown",
   "metadata": {},
   "source": [
    "***Only 20 percent of the clients requested for insurance***"
   ]
  },
  {
   "cell_type": "code",
   "execution_count": 44,
   "metadata": {},
   "outputs": [
    {
     "data": {
      "text/plain": [
       " 365243.0    194000\n",
       "-156.0          653\n",
       "-233.0          652\n",
       "-170.0          641\n",
       "-163.0          638\n",
       "              ...  \n",
       "-2804.0           1\n",
       "-2757.0           1\n",
       "-2803.0           1\n",
       "-2802.0           1\n",
       "-2852.0           1\n",
       "Name: DAYS_TERMINATION, Length: 2809, dtype: int64"
      ]
     },
     "execution_count": 44,
     "metadata": {},
     "output_type": "execute_result"
    }
   ],
   "source": [
    "df3['DAYS_TERMINATION'].value_counts()"
   ]
  },
  {
   "cell_type": "code",
   "execution_count": 45,
   "metadata": {},
   "outputs": [
    {
     "data": {
      "text/plain": [
       "<AxesSubplot:>"
      ]
     },
     "execution_count": 45,
     "metadata": {},
     "output_type": "execute_result"
    },
    {
     "data": {
      "image/png": "[encoded data removed]",
      "text/plain": [
       "<Figure size 432x288 with 1 Axes>"
      ]
     },
     "metadata": {
      "needs_background": "light"
     },
     "output_type": "display_data"
    }
   ],
   "source": [
    "df3['DAYS_TERMINATION'].hist(bins=70)"
   ]
  },
  {
   "cell_type": "code",
   "execution_count": null,
   "metadata": {},
   "outputs": [],
   "source": []
  },
  {
   "cell_type": "code",
   "execution_count": null,
   "metadata": {},
   "outputs": [],
   "source": []
  },
  {
   "cell_type": "code",
   "execution_count": null,
   "metadata": {},
   "outputs": [],
   "source": []
  },
  {
   "cell_type": "code",
   "execution_count": null,
   "metadata": {},
   "outputs": [],
   "source": []
  },
  {
   "cell_type": "code",
   "execution_count": null,
   "metadata": {},
   "outputs": [],
   "source": []
  },
  {
   "cell_type": "code",
   "execution_count": null,
   "metadata": {},
   "outputs": [],
   "source": []
  },
  {
   "cell_type": "code",
   "execution_count": null,
   "metadata": {},
   "outputs": [],
   "source": []
  },
  {
   "cell_type": "code",
   "execution_count": null,
   "metadata": {},
   "outputs": [],
   "source": []
  }
 ],
 "metadata": {
  "kernelspec": {
   "display_name": "Python 3",
   "language": "python",
   "name": "python3"
  },
  "language_info": {
   "codemirror_mode": {
    "name": "ipython",
    "version": 3
   },
   "file_extension": ".py",
   "mimetype": "text/x-python",
   "name": "python",
   "nbconvert_exporter": "python",
   "pygments_lexer": "ipython3",
   "version": "3.8.5"
  }
 },
 "nbformat": 4,
 "nbformat_minor": 4
}
