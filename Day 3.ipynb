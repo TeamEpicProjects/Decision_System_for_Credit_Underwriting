{
 "cells": [
  {
   "cell_type": "markdown",
   "id": "c87a0ad8",
   "metadata": {},
   "source": [
    "## Imports "
   ]
  },
  {
   "cell_type": "code",
   "execution_count": 31,
   "id": "e8d01a2b",
   "metadata": {},
   "outputs": [],
   "source": [
    "import pandas as pd\n",
    "import numpy as np\n",
    "import seaborn as sns\n",
    "import matplotlib.pyplot as plt\n",
    "import warnings\n",
    "warnings.filterwarnings(\"ignore\")"
   ]
  },
  {
   "cell_type": "markdown",
   "id": "685e3016",
   "metadata": {},
   "source": [
    "## Getting the datasets"
   ]
  },
  {
   "cell_type": "code",
   "execution_count": 5,
   "id": "ea4158bb",
   "metadata": {},
   "outputs": [],
   "source": [
    "application_data = pd.read_csv(\"application_data.csv\")\n",
    "prev_data = pd.read_csv(\"previous_application.csv\")"
   ]
  },
  {
   "cell_type": "markdown",
   "id": "64af96f1",
   "metadata": {},
   "source": [
    "##  Merging the data sets"
   ]
  },
  {
   "cell_type": "markdown",
   "id": "afee0337",
   "metadata": {},
   "source": [
    "_________"
   ]
  },
  {
   "cell_type": "markdown",
   "id": "9c298e0e",
   "metadata": {},
   "source": [
    "**Finding the common features**"
   ]
  },
  {
   "cell_type": "code",
   "execution_count": 8,
   "id": "396b2f50",
   "metadata": {},
   "outputs": [],
   "source": [
    "common_features = prev_data.columns.intersection(application_data.columns)"
   ]
  },
  {
   "cell_type": "code",
   "execution_count": 11,
   "id": "23056540",
   "metadata": {},
   "outputs": [
    {
     "data": {
      "text/plain": [
       "Index(['SK_ID_CURR', 'NAME_CONTRACT_TYPE', 'AMT_ANNUITY', 'AMT_CREDIT',\n",
       "       'AMT_GOODS_PRICE', 'WEEKDAY_APPR_PROCESS_START',\n",
       "       'HOUR_APPR_PROCESS_START', 'NAME_TYPE_SUITE'],\n",
       "      dtype='object')"
      ]
     },
     "execution_count": 11,
     "metadata": {},
     "output_type": "execute_result"
    }
   ],
   "source": [
    "common_features"
   ]
  },
  {
   "cell_type": "markdown",
   "id": "9ce8887a",
   "metadata": {},
   "source": [
    "**8 features are common in both the datasets**"
   ]
  },
  {
   "cell_type": "markdown",
   "id": "1b229d82",
   "metadata": {},
   "source": [
    "___________"
   ]
  },
  {
   "cell_type": "markdown",
   "id": "57a11700",
   "metadata": {},
   "source": [
    "Using SK_ID_CURR to merge the two dataframes."
   ]
  },
  {
   "cell_type": "code",
   "execution_count": 14,
   "id": "444d7f7d",
   "metadata": {},
   "outputs": [],
   "source": [
    "merged_data = application_data.merge(prev_data,on='SK_ID_CURR')"
   ]
  },
  {
   "cell_type": "markdown",
   "id": "77130b1e",
   "metadata": {},
   "source": [
    "**Merged dataset has 158 features**"
   ]
  },
  {
   "cell_type": "markdown",
   "id": "d6ba1199",
   "metadata": {},
   "source": [
    "_________________"
   ]
  },
  {
   "cell_type": "markdown",
   "id": "50c94184",
   "metadata": {},
   "source": [
    "**Finding insights from the datasets**"
   ]
  },
  {
   "cell_type": "code",
   "execution_count": 24,
   "id": "e17d9371",
   "metadata": {},
   "outputs": [
    {
     "data": {
      "text/plain": [
       "F      202448\n",
       "M      105059\n",
       "XNA         4\n",
       "Name: CODE_GENDER, dtype: int64"
      ]
     },
     "execution_count": 24,
     "metadata": {},
     "output_type": "execute_result"
    }
   ],
   "source": [
    "application_data['CODE_GENDER'].value_counts()"
   ]
  },
  {
   "cell_type": "code",
   "execution_count": 38,
   "id": "2ce69fa3",
   "metadata": {},
   "outputs": [
    {
     "data": {
      "image/png": "[encoded data removed]",
      "text/plain": [
       "<Figure size 432x288 with 1 Axes>"
      ]
     },
     "metadata": {},
     "output_type": "display_data"
    }
   ],
   "source": [
    "sns.set_theme(style=\"darkgrid\")\n",
    "sns.countplot(application_data['CODE_GENDER'])\n",
    "plt.show()"
   ]
  },
  {
   "cell_type": "markdown",
   "id": "fcd3d7e4",
   "metadata": {},
   "source": [
    "*Observation:* **Number of female applicants are more as compared to male occupants**"
   ]
  },
  {
   "cell_type": "code",
   "execution_count": 37,
   "id": "ab29ffdb",
   "metadata": {},
   "outputs": [],
   "source": [
    "# find ratio?"
   ]
  },
  {
   "cell_type": "code",
   "execution_count": 41,
   "id": "13a55fc2",
   "metadata": {},
   "outputs": [
    {
     "data": {
      "text/plain": [
       "Laborers                 55186\n",
       "Sales staff              32102\n",
       "Core staff               27570\n",
       "Managers                 21371\n",
       "Drivers                  18603\n",
       "High skill tech staff    11380\n",
       "Accountants               9813\n",
       "Medicine staff            8537\n",
       "Security staff            6721\n",
       "Cooking staff             5946\n",
       "Cleaning staff            4653\n",
       "Private service staff     2652\n",
       "Low-skill Laborers        2093\n",
       "Waiters/barmen staff      1348\n",
       "Secretaries               1305\n",
       "Realty agents              751\n",
       "HR staff                   563\n",
       "IT staff                   526\n",
       "Name: OCCUPATION_TYPE, dtype: int64"
      ]
     },
     "execution_count": 41,
     "metadata": {},
     "output_type": "execute_result"
    }
   ],
   "source": [
    "application_data['OCCUPATION_TYPE'].value_counts()"
   ]
  },
  {
   "cell_type": "markdown",
   "id": "e4c03d13",
   "metadata": {},
   "source": [
    "*Observation:* **Most of applicants are Laborers followed by Sales staff**"
   ]
  },
  {
   "cell_type": "code",
   "execution_count": 48,
   "id": "dbdf615c",
   "metadata": {},
   "outputs": [
    {
     "data": {
      "image/png": "[encoded data removed]",
      "text/plain": [
       "<Figure size 432x288 with 1 Axes>"
      ]
     },
     "metadata": {},
     "output_type": "display_data"
    }
   ],
   "source": [
    "sns.countplot(prev_data['NAME_CONTRACT_STATUS'])\n",
    "plt.title(\"Previous contract status\")\n",
    "plt.show()"
   ]
  },
  {
   "cell_type": "code",
   "execution_count": 49,
   "id": "c655190d",
   "metadata": {},
   "outputs": [
    {
     "data": {
      "text/plain": [
       "Approved        1036781\n",
       "Canceled         316319\n",
       "Refused          290678\n",
       "Unused offer      26436\n",
       "Name: NAME_CONTRACT_STATUS, dtype: int64"
      ]
     },
     "execution_count": 49,
     "metadata": {},
     "output_type": "execute_result"
    }
   ],
   "source": [
    "prev_data['NAME_CONTRACT_STATUS'].value_counts()"
   ]
  },
  {
   "cell_type": "markdown",
   "id": "50127d79",
   "metadata": {},
   "source": [
    "*Observation:* **Number of approved loans that are approved are more than the loans refused**"
   ]
  },
  {
   "cell_type": "code",
   "execution_count": 55,
   "id": "622f9628",
   "metadata": {},
   "outputs": [
    {
     "data": {
      "text/plain": [
       "XAP       1353093\n",
       "HC         175231\n",
       "LIMIT       55680\n",
       "SCO         37467\n",
       "CLIENT      26436\n",
       "SCOFR       12811\n",
       "XNA          5244\n",
       "VERIF        3535\n",
       "SYSTEM        717\n",
       "Name: CODE_REJECT_REASON, dtype: int64"
      ]
     },
     "execution_count": 55,
     "metadata": {},
     "output_type": "execute_result"
    }
   ],
   "source": [
    "prev_data['CODE_REJECT_REASON'].value_counts()"
   ]
  },
  {
   "cell_type": "code",
   "execution_count": 62,
   "id": "54d03854",
   "metadata": {},
   "outputs": [
    {
     "data": {
      "image/png": "[encoded data removed]",
      "text/plain": [
       "<Figure size 432x288 with 1 Axes>"
      ]
     },
     "metadata": {},
     "output_type": "display_data"
    }
   ],
   "source": [
    "sns.countplot(prev_data['NAME_CLIENT_TYPE'])\n",
    "plt.ylim([1000, 1231299])\n",
    "plt.show()"
   ]
  },
  {
   "cell_type": "code",
   "execution_count": null,
   "id": "4f6159c4",
   "metadata": {},
   "outputs": [],
   "source": []
  }
 ],
 "metadata": {
  "kernelspec": {
   "display_name": "Python 3",
   "language": "python",
   "name": "python3"
  },
  "language_info": {
   "codemirror_mode": {
    "name": "ipython",
    "version": 3
   },
   "file_extension": ".py",
   "mimetype": "text/x-python",
   "name": "python",
   "nbconvert_exporter": "python",
   "pygments_lexer": "ipython3",
   "version": "3.8.8"
  }
 },
 "nbformat": 4,
 "nbformat_minor": 5
}
