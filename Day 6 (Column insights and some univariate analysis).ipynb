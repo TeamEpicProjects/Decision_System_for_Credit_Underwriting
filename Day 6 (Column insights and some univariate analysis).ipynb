{
 "cells": [
  {
   "cell_type": "markdown",
   "id": "a7e3f167",
   "metadata": {},
   "source": [
    "## Imports\n"
   ]
  },
  {
   "cell_type": "code",
   "execution_count": 1,
   "id": "2d9f779f",
   "metadata": {},
   "outputs": [],
   "source": [
    "import pandas as pd\n",
    "import numpy as np\n",
    "import seaborn as sns\n",
    "import matplotlib.pyplot as plt\n",
    "import warnings\n",
    "warnings.filterwarnings(\"ignore\")"
   ]
  },
  {
   "cell_type": "markdown",
   "id": "03d03b4a",
   "metadata": {},
   "source": [
    "## Getting the datasets"
   ]
  },
  {
   "cell_type": "code",
   "execution_count": 2,
   "id": "c9dfcac2",
   "metadata": {},
   "outputs": [],
   "source": [
    "application_data = pd.read_csv(\"application_data.csv\")\n",
    "prev_data = pd.read_csv(\"previous_application.csv\")"
   ]
  },
  {
   "cell_type": "markdown",
   "id": "b211a0ac",
   "metadata": {},
   "source": [
    "## Merging the datasets"
   ]
  },
  {
   "cell_type": "code",
   "execution_count": 3,
   "id": "b2631582",
   "metadata": {},
   "outputs": [],
   "source": [
    "merged = application_data.merge(prev_data,on='SK_ID_CURR')"
   ]
  },
  {
   "cell_type": "code",
   "execution_count": 5,
   "id": "4c7e9e1d",
   "metadata": {},
   "outputs": [
    {
     "data": {
      "text/html": [
       "<div>\n",
       "<style scoped>\n",
       "    .dataframe tbody tr th:only-of-type {\n",
       "        vertical-align: middle;\n",
       "    }\n",
       "\n",
       "    .dataframe tbody tr th {\n",
       "        vertical-align: top;\n",
       "    }\n",
       "\n",
       "    .dataframe thead th {\n",
       "        text-align: right;\n",
       "    }\n",
       "</style>\n",
       "<table border=\"1\" class=\"dataframe\">\n",
       "  <thead>\n",
       "    <tr style=\"text-align: right;\">\n",
       "      <th></th>\n",
       "      <th>SK_ID_CURR</th>\n",
       "      <th>TARGET</th>\n",
       "      <th>NAME_CONTRACT_TYPE_x</th>\n",
       "      <th>CODE_GENDER</th>\n",
       "      <th>FLAG_OWN_CAR</th>\n",
       "      <th>FLAG_OWN_REALTY</th>\n",
       "      <th>CNT_CHILDREN</th>\n",
       "      <th>AMT_INCOME_TOTAL</th>\n",
       "      <th>AMT_CREDIT_x</th>\n",
       "      <th>AMT_ANNUITY_x</th>\n",
       "      <th>...</th>\n",
       "      <th>NAME_SELLER_INDUSTRY</th>\n",
       "      <th>CNT_PAYMENT</th>\n",
       "      <th>NAME_YIELD_GROUP</th>\n",
       "      <th>PRODUCT_COMBINATION</th>\n",
       "      <th>DAYS_FIRST_DRAWING</th>\n",
       "      <th>DAYS_FIRST_DUE</th>\n",
       "      <th>DAYS_LAST_DUE_1ST_VERSION</th>\n",
       "      <th>DAYS_LAST_DUE</th>\n",
       "      <th>DAYS_TERMINATION</th>\n",
       "      <th>NFLAG_INSURED_ON_APPROVAL</th>\n",
       "    </tr>\n",
       "  </thead>\n",
       "  <tbody>\n",
       "    <tr>\n",
       "      <th>0</th>\n",
       "      <td>100002</td>\n",
       "      <td>1</td>\n",
       "      <td>Cash loans</td>\n",
       "      <td>M</td>\n",
       "      <td>N</td>\n",
       "      <td>Y</td>\n",
       "      <td>0</td>\n",
       "      <td>202500.0</td>\n",
       "      <td>406597.5</td>\n",
       "      <td>24700.5</td>\n",
       "      <td>...</td>\n",
       "      <td>Auto technology</td>\n",
       "      <td>24.0</td>\n",
       "      <td>low_normal</td>\n",
       "      <td>POS other with interest</td>\n",
       "      <td>365243.0</td>\n",
       "      <td>-565.0</td>\n",
       "      <td>125.0</td>\n",
       "      <td>-25.0</td>\n",
       "      <td>-17.0</td>\n",
       "      <td>0.0</td>\n",
       "    </tr>\n",
       "    <tr>\n",
       "      <th>1</th>\n",
       "      <td>100003</td>\n",
       "      <td>0</td>\n",
       "      <td>Cash loans</td>\n",
       "      <td>F</td>\n",
       "      <td>N</td>\n",
       "      <td>N</td>\n",
       "      <td>0</td>\n",
       "      <td>270000.0</td>\n",
       "      <td>1293502.5</td>\n",
       "      <td>35698.5</td>\n",
       "      <td>...</td>\n",
       "      <td>XNA</td>\n",
       "      <td>12.0</td>\n",
       "      <td>low_normal</td>\n",
       "      <td>Cash X-Sell: low</td>\n",
       "      <td>365243.0</td>\n",
       "      <td>-716.0</td>\n",
       "      <td>-386.0</td>\n",
       "      <td>-536.0</td>\n",
       "      <td>-527.0</td>\n",
       "      <td>1.0</td>\n",
       "    </tr>\n",
       "    <tr>\n",
       "      <th>2</th>\n",
       "      <td>100003</td>\n",
       "      <td>0</td>\n",
       "      <td>Cash loans</td>\n",
       "      <td>F</td>\n",
       "      <td>N</td>\n",
       "      <td>N</td>\n",
       "      <td>0</td>\n",
       "      <td>270000.0</td>\n",
       "      <td>1293502.5</td>\n",
       "      <td>35698.5</td>\n",
       "      <td>...</td>\n",
       "      <td>Furniture</td>\n",
       "      <td>6.0</td>\n",
       "      <td>middle</td>\n",
       "      <td>POS industry with interest</td>\n",
       "      <td>365243.0</td>\n",
       "      <td>-797.0</td>\n",
       "      <td>-647.0</td>\n",
       "      <td>-647.0</td>\n",
       "      <td>-639.0</td>\n",
       "      <td>0.0</td>\n",
       "    </tr>\n",
       "    <tr>\n",
       "      <th>3</th>\n",
       "      <td>100003</td>\n",
       "      <td>0</td>\n",
       "      <td>Cash loans</td>\n",
       "      <td>F</td>\n",
       "      <td>N</td>\n",
       "      <td>N</td>\n",
       "      <td>0</td>\n",
       "      <td>270000.0</td>\n",
       "      <td>1293502.5</td>\n",
       "      <td>35698.5</td>\n",
       "      <td>...</td>\n",
       "      <td>Consumer electronics</td>\n",
       "      <td>12.0</td>\n",
       "      <td>middle</td>\n",
       "      <td>POS household with interest</td>\n",
       "      <td>365243.0</td>\n",
       "      <td>-2310.0</td>\n",
       "      <td>-1980.0</td>\n",
       "      <td>-1980.0</td>\n",
       "      <td>-1976.0</td>\n",
       "      <td>1.0</td>\n",
       "    </tr>\n",
       "    <tr>\n",
       "      <th>4</th>\n",
       "      <td>100004</td>\n",
       "      <td>0</td>\n",
       "      <td>Revolving loans</td>\n",
       "      <td>M</td>\n",
       "      <td>Y</td>\n",
       "      <td>Y</td>\n",
       "      <td>0</td>\n",
       "      <td>67500.0</td>\n",
       "      <td>135000.0</td>\n",
       "      <td>6750.0</td>\n",
       "      <td>...</td>\n",
       "      <td>Connectivity</td>\n",
       "      <td>4.0</td>\n",
       "      <td>middle</td>\n",
       "      <td>POS mobile without interest</td>\n",
       "      <td>365243.0</td>\n",
       "      <td>-784.0</td>\n",
       "      <td>-694.0</td>\n",
       "      <td>-724.0</td>\n",
       "      <td>-714.0</td>\n",
       "      <td>0.0</td>\n",
       "    </tr>\n",
       "  </tbody>\n",
       "</table>\n",
       "<p>5 rows × 158 columns</p>\n",
       "</div>"
      ],
      "text/plain": [
       "   SK_ID_CURR  TARGET NAME_CONTRACT_TYPE_x CODE_GENDER FLAG_OWN_CAR  \\\n",
       "0      100002       1           Cash loans           M            N   \n",
       "1      100003       0           Cash loans           F            N   \n",
       "2      100003       0           Cash loans           F            N   \n",
       "3      100003       0           Cash loans           F            N   \n",
       "4      100004       0      Revolving loans           M            Y   \n",
       "\n",
       "  FLAG_OWN_REALTY  CNT_CHILDREN  AMT_INCOME_TOTAL  AMT_CREDIT_x  \\\n",
       "0               Y             0          202500.0      406597.5   \n",
       "1               N             0          270000.0     1293502.5   \n",
       "2               N             0          270000.0     1293502.5   \n",
       "3               N             0          270000.0     1293502.5   \n",
       "4               Y             0           67500.0      135000.0   \n",
       "\n",
       "   AMT_ANNUITY_x  ...  NAME_SELLER_INDUSTRY CNT_PAYMENT NAME_YIELD_GROUP  \\\n",
       "0        24700.5  ...       Auto technology        24.0       low_normal   \n",
       "1        35698.5  ...                   XNA        12.0       low_normal   \n",
       "2        35698.5  ...             Furniture         6.0           middle   \n",
       "3        35698.5  ...  Consumer electronics        12.0           middle   \n",
       "4         6750.0  ...          Connectivity         4.0           middle   \n",
       "\n",
       "           PRODUCT_COMBINATION DAYS_FIRST_DRAWING DAYS_FIRST_DUE  \\\n",
       "0      POS other with interest           365243.0         -565.0   \n",
       "1             Cash X-Sell: low           365243.0         -716.0   \n",
       "2   POS industry with interest           365243.0         -797.0   \n",
       "3  POS household with interest           365243.0        -2310.0   \n",
       "4  POS mobile without interest           365243.0         -784.0   \n",
       "\n",
       "   DAYS_LAST_DUE_1ST_VERSION  DAYS_LAST_DUE  DAYS_TERMINATION  \\\n",
       "0                      125.0          -25.0             -17.0   \n",
       "1                     -386.0         -536.0            -527.0   \n",
       "2                     -647.0         -647.0            -639.0   \n",
       "3                    -1980.0        -1980.0           -1976.0   \n",
       "4                     -694.0         -724.0            -714.0   \n",
       "\n",
       "   NFLAG_INSURED_ON_APPROVAL  \n",
       "0                        0.0  \n",
       "1                        1.0  \n",
       "2                        0.0  \n",
       "3                        1.0  \n",
       "4                        0.0  \n",
       "\n",
       "[5 rows x 158 columns]"
      ]
     },
     "execution_count": 5,
     "metadata": {},
     "output_type": "execute_result"
    }
   ],
   "source": [
    "merged.head()"
   ]
  },
  {
   "cell_type": "markdown",
   "id": "e84b2c3a",
   "metadata": {},
   "source": [
    "# Categorical data"
   ]
  },
  {
   "cell_type": "code",
   "execution_count": 7,
   "id": "ccb5cc08",
   "metadata": {},
   "outputs": [],
   "source": [
    "categorical  = merged.select_dtypes(include=['object']).columns"
   ]
  },
  {
   "cell_type": "code",
   "execution_count": 8,
   "id": "881bba45",
   "metadata": {},
   "outputs": [
    {
     "data": {
      "text/plain": [
       "Index(['NAME_CONTRACT_TYPE_x', 'CODE_GENDER', 'FLAG_OWN_CAR',\n",
       "       'FLAG_OWN_REALTY', 'NAME_TYPE_SUITE_x', 'NAME_INCOME_TYPE',\n",
       "       'NAME_EDUCATION_TYPE', 'NAME_FAMILY_STATUS', 'NAME_HOUSING_TYPE',\n",
       "       'OCCUPATION_TYPE', 'WEEKDAY_APPR_PROCESS_START_x', 'ORGANIZATION_TYPE',\n",
       "       'FONDKAPREMONT_MODE', 'HOUSETYPE_MODE', 'WALLSMATERIAL_MODE',\n",
       "       'EMERGENCYSTATE_MODE', 'NAME_CONTRACT_TYPE_y',\n",
       "       'WEEKDAY_APPR_PROCESS_START_y', 'FLAG_LAST_APPL_PER_CONTRACT',\n",
       "       'NAME_CASH_LOAN_PURPOSE', 'NAME_CONTRACT_STATUS', 'NAME_PAYMENT_TYPE',\n",
       "       'CODE_REJECT_REASON', 'NAME_TYPE_SUITE_y', 'NAME_CLIENT_TYPE',\n",
       "       'NAME_GOODS_CATEGORY', 'NAME_PORTFOLIO', 'NAME_PRODUCT_TYPE',\n",
       "       'CHANNEL_TYPE', 'NAME_SELLER_INDUSTRY', 'NAME_YIELD_GROUP',\n",
       "       'PRODUCT_COMBINATION'],\n",
       "      dtype='object')"
      ]
     },
     "execution_count": 8,
     "metadata": {},
     "output_type": "execute_result"
    }
   ],
   "source": [
    "categorical"
   ]
  },
  {
   "cell_type": "markdown",
   "id": "8615f2a7",
   "metadata": {},
   "source": [
    "### Contract type"
   ]
  },
  {
   "cell_type": "code",
   "execution_count": 12,
   "id": "215067b8",
   "metadata": {},
   "outputs": [
    {
     "data": {
      "text/plain": [
       "Cash loans         1307115\n",
       "Revolving loans     106586\n",
       "Name: NAME_CONTRACT_TYPE_x, dtype: int64"
      ]
     },
     "execution_count": 12,
     "metadata": {},
     "output_type": "execute_result"
    }
   ],
   "source": [
    "merged['NAME_CONTRACT_TYPE_x'].value_counts()    "
   ]
  },
  {
   "cell_type": "code",
   "execution_count": 25,
   "id": "537e1701",
   "metadata": {},
   "outputs": [
    {
     "data": {
      "image/png": "[encoded data removed]",
      "text/plain": [
       "<Figure size 432x288 with 1 Axes>"
      ]
     },
     "metadata": {
      "needs_background": "light"
     },
     "output_type": "display_data"
    }
   ],
   "source": [
    "sns.countplot(merged['NAME_CONTRACT_TYPE_x'])\n",
    "plt.show()"
   ]
  },
  {
   "cell_type": "markdown",
   "id": "04e4ce95",
   "metadata": {},
   "source": [
    "Observation:1 -- **92.46% of the contracts are for cash loans**"
   ]
  },
  {
   "cell_type": "markdown",
   "id": "2d32fa20",
   "metadata": {},
   "source": [
    "### Income type"
   ]
  },
  {
   "cell_type": "code",
   "execution_count": 52,
   "id": "a7b20da8",
   "metadata": {
    "scrolled": true
   },
   "outputs": [
    {
     "data": {
      "text/plain": [
       "Working                 724089\n",
       "Commercial associate    321481\n",
       "Pensioner               273544\n",
       "State servant            94424\n",
       "Unemployed                 123\n",
       "Student                     24\n",
       "Maternity leave             16\n",
       "Name: NAME_INCOME_TYPE, dtype: int64"
      ]
     },
     "execution_count": 52,
     "metadata": {},
     "output_type": "execute_result"
    }
   ],
   "source": [
    "income_type = merged['NAME_INCOME_TYPE'].value_counts()\n",
    "income_type"
   ]
  },
  {
   "cell_type": "code",
   "execution_count": 70,
   "id": "91ff1978",
   "metadata": {},
   "outputs": [
    {
     "data": {
      "image/png": "[encoded data removed]",
      "text/plain": [
       "<Figure size 864x432 with 1 Axes>"
      ]
     },
     "metadata": {
      "needs_background": "light"
     },
     "output_type": "display_data"
    }
   ],
   "source": [
    "# order the plot using frequency.(sort values)\n",
    "plt.figure(figsize=(12,6)) # width = 12 and height = 6\n",
    "sns.countplot(merged['NAME_INCOME_TYPE'])\n",
    "plt.title('Income sources of the applicants')\n",
    "plt.show()"
   ]
  },
  {
   "cell_type": "markdown",
   "id": "056ca844",
   "metadata": {},
   "source": [
    "Observation: 2 -- **51.21% of the applicants are working.\n",
    "                  22.74% are commerical associate**"
   ]
  },
  {
   "cell_type": "markdown",
   "id": "5255c6f0",
   "metadata": {},
   "source": [
    "### Weekday process start"
   ]
  },
  {
   "cell_type": "code",
   "execution_count": 82,
   "id": "3699068d",
   "metadata": {},
   "outputs": [
    {
     "data": {
      "text/plain": [
       "TUESDAY      248632\n",
       "WEDNESDAY    236197\n",
       "MONDAY       234497\n",
       "THURSDAY     230278\n",
       "FRIDAY       230247\n",
       "SATURDAY     157173\n",
       "SUNDAY        76677\n",
       "Name: WEEKDAY_APPR_PROCESS_START_x, dtype: int64"
      ]
     },
     "execution_count": 82,
     "metadata": {},
     "output_type": "execute_result"
    }
   ],
   "source": [
    "merged['WEEKDAY_APPR_PROCESS_START_x'].value_counts()"
   ]
  },
  {
   "cell_type": "markdown",
   "id": "f3085c18",
   "metadata": {},
   "source": [
    "Observation 3: **17.58% applicants applied on Tu. 16.70% on wed and 16.58% on mon**"
   ]
  },
  {
   "cell_type": "code",
   "execution_count": 90,
   "id": "12dd651f",
   "metadata": {},
   "outputs": [],
   "source": [
    "# should we remove the outliers at this step?"
   ]
  },
  {
   "cell_type": "markdown",
   "id": "7868b9dd",
   "metadata": {},
   "source": [
    "### House type mode"
   ]
  },
  {
   "cell_type": "code",
   "execution_count": 92,
   "id": "40c82942",
   "metadata": {},
   "outputs": [
    {
     "data": {
      "text/plain": [
       "block of flats      696547\n",
       "specific housing      7345\n",
       "terraced house        5643\n",
       "Name: HOUSETYPE_MODE, dtype: int64"
      ]
     },
     "execution_count": 92,
     "metadata": {},
     "output_type": "execute_result"
    }
   ],
   "source": [
    "merged['HOUSETYPE_MODE'].value_counts()"
   ]
  },
  {
   "cell_type": "code",
   "execution_count": 95,
   "id": "9ea26552",
   "metadata": {},
   "outputs": [
    {
     "data": {
      "text/plain": [
       "98.16950538028428"
      ]
     },
     "execution_count": 95,
     "metadata": {},
     "output_type": "execute_result"
    }
   ],
   "source": [
    "(696547/709535)*100"
   ]
  },
  {
   "cell_type": "markdown",
   "id": "06fe374a",
   "metadata": {},
   "source": [
    "observation 4 : **98.16% of the applicants have block of flats as house type.**"
   ]
  },
  {
   "cell_type": "markdown",
   "id": "de129638",
   "metadata": {},
   "source": [
    "### Cash loan purpose"
   ]
  },
  {
   "cell_type": "code",
   "execution_count": 98,
   "id": "94d1a4f9",
   "metadata": {
    "collapsed": true
   },
   "outputs": [
    {
     "data": {
      "text/plain": [
       "XAP                                 786937\n",
       "XNA                                 567351\n",
       "Repairs                              20117\n",
       "Other                                13432\n",
       "Urgent needs                          7236\n",
       "Buying a used car                     2469\n",
       "Building a house or an annex          2344\n",
       "Everyday expenses                     2052\n",
       "Medicine                              1871\n",
       "Payments on other loans               1573\n",
       "Education                             1334\n",
       "Journey                               1042\n",
       "Purchase of electronic equipment       934\n",
       "Buying a new car                       886\n",
       "Wedding / gift / holiday               801\n",
       "Buying a home                          701\n",
       "Car repairs                            691\n",
       "Furniture                              660\n",
       "Buying a holiday home / land           463\n",
       "Business development                   359\n",
       "Gasification / water supply            251\n",
       "Buying a garage                        116\n",
       "Hobby                                   45\n",
       "Money for a third person                23\n",
       "Refusal to name the goal                13\n",
       "Name: NAME_CASH_LOAN_PURPOSE, dtype: int64"
      ]
     },
     "execution_count": 98,
     "metadata": {},
     "output_type": "execute_result"
    }
   ],
   "source": [
    "merged['NAME_CASH_LOAN_PURPOSE'].value_counts()"
   ]
  },
  {
   "cell_type": "markdown",
   "id": "2b563679",
   "metadata": {},
   "source": [
    "observation 5:**Feature cash loan purpose has high number of XAP and XNA**"
   ]
  },
  {
   "cell_type": "code",
   "execution_count": 99,
   "id": "b88d020c",
   "metadata": {},
   "outputs": [],
   "source": [
    "# how to deal with it? delete the feature?"
   ]
  },
  {
   "cell_type": "code",
   "execution_count": 102,
   "id": "ed3fea63",
   "metadata": {},
   "outputs": [
    {
     "data": {
      "text/plain": [
       "Cash loans         626764\n",
       "Consumer loans     625256\n",
       "Revolving loans    161368\n",
       "XNA                   313\n",
       "Name: NAME_CONTRACT_TYPE_y, dtype: int64"
      ]
     },
     "execution_count": 102,
     "metadata": {},
     "output_type": "execute_result"
    }
   ],
   "source": [
    "merged['NAME_CONTRACT_TYPE_y'].value_counts()"
   ]
  },
  {
   "cell_type": "code",
   "execution_count": 106,
   "id": "935201b0",
   "metadata": {},
   "outputs": [
    {
     "data": {
      "text/plain": [
       "1413701"
      ]
     },
     "execution_count": 106,
     "metadata": {},
     "output_type": "execute_result"
    }
   ],
   "source": [
    "merged['NAME_CONTRACT_TYPE_y'].value_counts().sum()"
   ]
  },
  {
   "cell_type": "code",
   "execution_count": 108,
   "id": "4e15a574",
   "metadata": {},
   "outputs": [
    {
     "data": {
      "text/plain": [
       "44.22830570254955"
      ]
     },
     "execution_count": 108,
     "metadata": {},
     "output_type": "execute_result"
    }
   ],
   "source": [
    "(625256/1413701)*100"
   ]
  },
  {
   "cell_type": "code",
   "execution_count": 105,
   "id": "6f1900f3",
   "metadata": {},
   "outputs": [
    {
     "data": {
      "image/png": "[encoded data removed]",
      "text/plain": [
       "<Figure size 432x288 with 1 Axes>"
      ]
     },
     "metadata": {
      "needs_background": "light"
     },
     "output_type": "display_data"
    }
   ],
   "source": [
    "# include the defaulter's rate\n",
    "sns.countplot(merged['NAME_CONTRACT_TYPE_y'])\n",
    "plt.title(\"Contract type\")\n",
    "plt.show()"
   ]
  },
  {
   "cell_type": "markdown",
   "id": "dc33503f",
   "metadata": {},
   "source": [
    "observation 6: **44.33% applicants applied for cash loans and 44.22% for consumer loans.**"
   ]
  },
  {
   "cell_type": "markdown",
   "id": "f7253a0f",
   "metadata": {},
   "source": [
    "### Contract status"
   ]
  },
  {
   "cell_type": "code",
   "execution_count": 110,
   "id": "0f8b289c",
   "metadata": {},
   "outputs": [
    {
     "data": {
      "text/plain": [
       "Approved        886099\n",
       "Canceled        259441\n",
       "Refused         245390\n",
       "Unused offer     22771\n",
       "Name: NAME_CONTRACT_STATUS, dtype: int64"
      ]
     },
     "execution_count": 110,
     "metadata": {},
     "output_type": "execute_result"
    }
   ],
   "source": [
    "merged['NAME_CONTRACT_STATUS'].value_counts()"
   ]
  },
  {
   "cell_type": "code",
   "execution_count": 113,
   "id": "06439b86",
   "metadata": {},
   "outputs": [
    {
     "data": {
      "image/png": "[encoded data removed]",
      "text/plain": [
       "<Figure size 432x288 with 1 Axes>"
      ]
     },
     "metadata": {
      "needs_background": "light"
     },
     "output_type": "display_data"
    }
   ],
   "source": [
    "sns.countplot(merged['NAME_CONTRACT_STATUS'])\n",
    "plt.title('Contract status')\n",
    "plt.show()"
   ]
  },
  {
   "cell_type": "code",
   "execution_count": 114,
   "id": "029577bc",
   "metadata": {},
   "outputs": [
    {
     "data": {
      "text/plain": [
       "1413701"
      ]
     },
     "execution_count": 114,
     "metadata": {},
     "output_type": "execute_result"
    }
   ],
   "source": [
    "merged['NAME_CONTRACT_STATUS'].value_counts().sum()"
   ]
  },
  {
   "cell_type": "code",
   "execution_count": 115,
   "id": "e2b31c2a",
   "metadata": {},
   "outputs": [
    {
     "data": {
      "text/plain": [
       "62.67937845414271"
      ]
     },
     "execution_count": 115,
     "metadata": {},
     "output_type": "execute_result"
    }
   ],
   "source": [
    "(886099/1413701)*100"
   ]
  },
  {
   "cell_type": "markdown",
   "id": "e7d5fefa",
   "metadata": {},
   "source": [
    "Observation 6: **62.67% of the loans were approved.**"
   ]
  },
  {
   "cell_type": "markdown",
   "id": "c7033951",
   "metadata": {},
   "source": [
    "### Payment type"
   ]
  },
  {
   "cell_type": "code",
   "execution_count": 120,
   "id": "14d56ead",
   "metadata": {},
   "outputs": [
    {
     "data": {
      "text/plain": [
       "Cash through the bank                        882700\n",
       "XNA                                          522960\n",
       "Non-cash from your account                     7100\n",
       "Cashless from the account of the employer       941\n",
       "Name: NAME_PAYMENT_TYPE, dtype: int64"
      ]
     },
     "execution_count": 120,
     "metadata": {},
     "output_type": "execute_result"
    }
   ],
   "source": [
    "merged['NAME_PAYMENT_TYPE'].value_counts()"
   ]
  },
  {
   "cell_type": "code",
   "execution_count": 118,
   "id": "4b5089ad",
   "metadata": {},
   "outputs": [
    {
     "data": {
      "text/plain": [
       "1413701"
      ]
     },
     "execution_count": 118,
     "metadata": {},
     "output_type": "execute_result"
    }
   ],
   "source": [
    "merged['NAME_PAYMENT_TYPE'].value_counts().sum()"
   ]
  },
  {
   "cell_type": "code",
   "execution_count": 121,
   "id": "17274a90",
   "metadata": {},
   "outputs": [
    {
     "data": {
      "text/plain": [
       "36.99226356917057"
      ]
     },
     "execution_count": 121,
     "metadata": {},
     "output_type": "execute_result"
    }
   ],
   "source": [
    "(522960/1413701)*100"
   ]
  },
  {
   "cell_type": "markdown",
   "id": "c58815a9",
   "metadata": {},
   "source": [
    "Observation 7: **62.43% of the applicants' payement was cash through bank but around 36.99% of the data is XNA, so not clear about this feature**"
   ]
  },
  {
   "cell_type": "code",
   "execution_count": 123,
   "id": "13072c12",
   "metadata": {},
   "outputs": [
    {
     "data": {
      "text/plain": [
       "XAP       1145533\n",
       "HC         145984\n",
       "LIMIT       47773\n",
       "SCO         32636\n",
       "CLIENT      22771\n",
       "SCOFR       10875\n",
       "XNA          4378\n",
       "VERIF        3079\n",
       "SYSTEM        672\n",
       "Name: CODE_REJECT_REASON, dtype: int64"
      ]
     },
     "execution_count": 123,
     "metadata": {},
     "output_type": "execute_result"
    }
   ],
   "source": [
    "merged['CODE_REJECT_REASON'].value_counts()"
   ]
  },
  {
   "cell_type": "markdown",
   "id": "3ad38e54",
   "metadata": {},
   "source": [
    "Observation 8: **Feature XAP** has 81.03% of XAP data."
   ]
  },
  {
   "cell_type": "markdown",
   "id": "933be90a",
   "metadata": {},
   "source": [
    "### Client type"
   ]
  },
  {
   "cell_type": "code",
   "execution_count": 127,
   "id": "77f3c91c",
   "metadata": {},
   "outputs": [
    {
     "data": {
      "text/plain": [
       "Repeater     1037682\n",
       "New           259540\n",
       "Refreshed     114936\n",
       "XNA             1543\n",
       "Name: NAME_CLIENT_TYPE, dtype: int64"
      ]
     },
     "execution_count": 127,
     "metadata": {},
     "output_type": "execute_result"
    }
   ],
   "source": [
    "merged['NAME_CLIENT_TYPE'].value_counts()"
   ]
  },
  {
   "cell_type": "markdown",
   "id": "11c2b9c8",
   "metadata": {},
   "source": [
    "Observation 9: **73.40% applicants are repeaters and around 18.35% of the applicants are new.**"
   ]
  },
  {
   "cell_type": "code",
   "execution_count": 133,
   "id": "0d25a505",
   "metadata": {},
   "outputs": [
    {
     "data": {
      "image/png": "[encoded data removed]",
      "text/plain": [
       "<Figure size 432x288 with 1 Axes>"
      ]
     },
     "metadata": {
      "needs_background": "light"
     },
     "output_type": "display_data"
    }
   ],
   "source": [
    "sns.countplot(merged['NAME_CLIENT_TYPE'])\n",
    "plt.title('Client type')\n",
    "plt.show()"
   ]
  },
  {
   "cell_type": "markdown",
   "id": "f23d1891",
   "metadata": {},
   "source": [
    "### Portfolio"
   ]
  },
  {
   "cell_type": "code",
   "execution_count": 140,
   "id": "b367ab8f",
   "metadata": {},
   "outputs": [
    {
     "data": {
      "text/plain": [
       "POS      592460\n",
       "Cash     391663\n",
       "XNA      307213\n",
       "Cards    121985\n",
       "Cars        380\n",
       "Name: NAME_PORTFOLIO, dtype: int64"
      ]
     },
     "execution_count": 140,
     "metadata": {},
     "output_type": "execute_result"
    }
   ],
   "source": [
    "merged['NAME_PORTFOLIO'].value_counts()"
   ]
  },
  {
   "cell_type": "code",
   "execution_count": 137,
   "id": "b91aa018",
   "metadata": {},
   "outputs": [],
   "source": [
    "# what is POS? -- credit card machine"
   ]
  },
  {
   "cell_type": "markdown",
   "id": "776ac67b",
   "metadata": {},
   "source": [
    "### Product type"
   ]
  },
  {
   "cell_type": "code",
   "execution_count": 139,
   "id": "c16759ee",
   "metadata": {},
   "outputs": [
    {
     "data": {
      "text/plain": [
       "XNA        900053\n",
       "x-sell     385394\n",
       "walk-in    128254\n",
       "Name: NAME_PRODUCT_TYPE, dtype: int64"
      ]
     },
     "execution_count": 139,
     "metadata": {},
     "output_type": "execute_result"
    }
   ],
   "source": [
    " merged['NAME_PRODUCT_TYPE'].value_counts()"
   ]
  },
  {
   "cell_type": "code",
   "execution_count": 141,
   "id": "78994f1d",
   "metadata": {},
   "outputs": [],
   "source": [
    "# high number of XNA"
   ]
  },
  {
   "cell_type": "markdown",
   "id": "3c3af85b",
   "metadata": {},
   "source": [
    "### Channel type"
   ]
  },
  {
   "cell_type": "code",
   "execution_count": 143,
   "id": "1b0ca894",
   "metadata": {},
   "outputs": [
    {
     "data": {
      "text/plain": [
       "Credit and cash offices       600342\n",
       "Country-wide                  423062\n",
       "Stone                         183508\n",
       "Regional / Local               92472\n",
       "Contact center                 58891\n",
       "AP+ (Cash loan)                49624\n",
       "Channel of corporate sales      5396\n",
       "Car dealer                       406\n",
       "Name: CHANNEL_TYPE, dtype: int64"
      ]
     },
     "execution_count": 143,
     "metadata": {},
     "output_type": "execute_result"
    }
   ],
   "source": [
    "merged['CHANNEL_TYPE'].value_counts()"
   ]
  },
  {
   "cell_type": "code",
   "execution_count": 144,
   "id": "0f3b6bda",
   "metadata": {},
   "outputs": [
    {
     "data": {
      "text/plain": [
       "1413701"
      ]
     },
     "execution_count": 144,
     "metadata": {},
     "output_type": "execute_result"
    }
   ],
   "source": [
    "merged['CHANNEL_TYPE'].value_counts().sum()"
   ]
  },
  {
   "cell_type": "code",
   "execution_count": 145,
   "id": "b295984e",
   "metadata": {},
   "outputs": [
    {
     "data": {
      "text/plain": [
       "42.4659811374541"
      ]
     },
     "execution_count": 145,
     "metadata": {},
     "output_type": "execute_result"
    }
   ],
   "source": [
    "(600342/1413701)*100"
   ]
  },
  {
   "cell_type": "markdown",
   "id": "66ca3285",
   "metadata": {},
   "source": [
    "Observation 10: **Credit and cash offices remains the most popular channel, around 42.46% customers were acquired through this channel.**"
   ]
  },
  {
   "cell_type": "markdown",
   "id": "8f1d9b22",
   "metadata": {},
   "source": [
    "### Product combination"
   ]
  },
  {
   "cell_type": "code",
   "execution_count": 150,
   "id": "78305620",
   "metadata": {},
   "outputs": [
    {
     "data": {
      "text/plain": [
       "Cash                              235101\n",
       "POS household with interest       226464\n",
       "POS mobile with interest          190850\n",
       "Cash X-Sell: middle               120036\n",
       "Cash X-Sell: low                  110599\n",
       "Card Street                        94594\n",
       "POS industry with interest         83508\n",
       "POS household without interest     71519\n",
       "Card X-Sell                        66774\n",
       "Cash Street: high                  51699\n",
       "Cash X-Sell: high                  50802\n",
       "Cash Street: middle                29934\n",
       "Cash Street: low                   28593\n",
       "POS other with interest            20309\n",
       "POS mobile without interest        19890\n",
       "POS industry without interest      10621\n",
       "POS others without interest         2095\n",
       "Name: PRODUCT_COMBINATION, dtype: int64"
      ]
     },
     "execution_count": 150,
     "metadata": {},
     "output_type": "execute_result"
    }
   ],
   "source": [
    "merged['PRODUCT_COMBINATION'].value_counts()"
   ]
  },
  {
   "cell_type": "code",
   "execution_count": 151,
   "id": "6e2e5900",
   "metadata": {},
   "outputs": [],
   "source": [
    "# what is POS again?"
   ]
  },
  {
   "cell_type": "markdown",
   "id": "50766ae2",
   "metadata": {},
   "source": [
    "# Numerical data"
   ]
  },
  {
   "cell_type": "code",
   "execution_count": 156,
   "id": "526f4dc0",
   "metadata": {},
   "outputs": [],
   "source": [
    "numerical  = merged.select_dtypes(include=['int64','float64']).columns"
   ]
  },
  {
   "cell_type": "code",
   "execution_count": 157,
   "id": "420d9bfd",
   "metadata": {},
   "outputs": [
    {
     "data": {
      "text/plain": [
       "Index(['SK_ID_CURR', 'TARGET', 'CNT_CHILDREN', 'AMT_INCOME_TOTAL',\n",
       "       'AMT_CREDIT_x', 'AMT_ANNUITY_x', 'AMT_GOODS_PRICE_x',\n",
       "       'REGION_POPULATION_RELATIVE', 'DAYS_BIRTH', 'DAYS_EMPLOYED',\n",
       "       ...\n",
       "       'RATE_INTEREST_PRIVILEGED', 'DAYS_DECISION', 'SELLERPLACE_AREA',\n",
       "       'CNT_PAYMENT', 'DAYS_FIRST_DRAWING', 'DAYS_FIRST_DUE',\n",
       "       'DAYS_LAST_DUE_1ST_VERSION', 'DAYS_LAST_DUE', 'DAYS_TERMINATION',\n",
       "       'NFLAG_INSURED_ON_APPROVAL'],\n",
       "      dtype='object', length=126)"
      ]
     },
     "execution_count": 157,
     "metadata": {},
     "output_type": "execute_result"
    }
   ],
   "source": [
    "numerical"
   ]
  },
  {
   "cell_type": "code",
   "execution_count": 161,
   "id": "00430597",
   "metadata": {},
   "outputs": [],
   "source": [
    "# line chart "
   ]
  },
  {
   "cell_type": "code",
   "execution_count": null,
   "id": "67951767",
   "metadata": {},
   "outputs": [],
   "source": []
  }
 ],
 "metadata": {
  "kernelspec": {
   "display_name": "Python 3",
   "language": "python",
   "name": "python3"
  },
  "language_info": {
   "codemirror_mode": {
    "name": "ipython",
    "version": 3
   },
   "file_extension": ".py",
   "mimetype": "text/x-python",
   "name": "python",
   "nbconvert_exporter": "python",
   "pygments_lexer": "ipython3",
   "version": "3.8.8"
  }
 },
 "nbformat": 4,
 "nbformat_minor": 5
}
