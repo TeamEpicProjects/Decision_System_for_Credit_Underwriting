{
 "cells": [
  {
   "cell_type": "code",
   "execution_count": 81,
   "id": "59ba2f80",
   "metadata": {},
   "outputs": [],
   "source": [
    "import pandas as pd\n",
    "import numpy as np\n",
    "import sklearn\n",
    "from sklearn import datasets, linear_model, metrics\n",
    "from sklearn.model_selection import train_test_split\n",
    "import matplotlib.pyplot as plt\n",
    "from sklearn.tree import DecisionTreeClassifier\n",
    "from sklearn.ensemble import RandomForestRegressor"
   ]
  },
  {
   "cell_type": "code",
   "execution_count": 2,
   "id": "e830c411",
   "metadata": {},
   "outputs": [],
   "source": [
    "data = pd.read_csv('regression_data_no_scaling.csv')"
   ]
  },
  {
   "cell_type": "code",
   "execution_count": 3,
   "id": "e522fa7b",
   "metadata": {
    "collapsed": true
   },
   "outputs": [
    {
     "data": {
      "text/html": [
       "<div>\n",
       "<style scoped>\n",
       "    .dataframe tbody tr th:only-of-type {\n",
       "        vertical-align: middle;\n",
       "    }\n",
       "\n",
       "    .dataframe tbody tr th {\n",
       "        vertical-align: top;\n",
       "    }\n",
       "\n",
       "    .dataframe thead th {\n",
       "        text-align: right;\n",
       "    }\n",
       "</style>\n",
       "<table border=\"1\" class=\"dataframe\">\n",
       "  <thead>\n",
       "    <tr style=\"text-align: right;\">\n",
       "      <th></th>\n",
       "      <th>Unnamed: 0</th>\n",
       "      <th>SK_ID_CURR</th>\n",
       "      <th>TARGET</th>\n",
       "      <th>CNT_CHILDREN</th>\n",
       "      <th>AMT_INCOME_TOTAL</th>\n",
       "      <th>AMT_CREDIT_x</th>\n",
       "      <th>AMT_ANNUITY_x</th>\n",
       "      <th>AMT_GOODS_PRICE_x</th>\n",
       "      <th>REGION_POPULATION_RELATIVE</th>\n",
       "      <th>DAYS_BIRTH</th>\n",
       "      <th>...</th>\n",
       "      <th>SATURDAY.1</th>\n",
       "      <th>SUNDAY.1</th>\n",
       "      <th>THURSDAY.1</th>\n",
       "      <th>TUESDAY.1</th>\n",
       "      <th>WEDNESDAY.1</th>\n",
       "      <th>House / apartment</th>\n",
       "      <th>Municipal apartment</th>\n",
       "      <th>Office apartment</th>\n",
       "      <th>Rented apartment</th>\n",
       "      <th>With parents</th>\n",
       "    </tr>\n",
       "  </thead>\n",
       "  <tbody>\n",
       "    <tr>\n",
       "      <th>0</th>\n",
       "      <td>0</td>\n",
       "      <td>100002</td>\n",
       "      <td>1</td>\n",
       "      <td>0</td>\n",
       "      <td>202500.0</td>\n",
       "      <td>406597.5</td>\n",
       "      <td>24700.5</td>\n",
       "      <td>351000.0</td>\n",
       "      <td>0.018801</td>\n",
       "      <td>-9461</td>\n",
       "      <td>...</td>\n",
       "      <td>0</td>\n",
       "      <td>0</td>\n",
       "      <td>0</td>\n",
       "      <td>0</td>\n",
       "      <td>1</td>\n",
       "      <td>1</td>\n",
       "      <td>0</td>\n",
       "      <td>0</td>\n",
       "      <td>0</td>\n",
       "      <td>0</td>\n",
       "    </tr>\n",
       "    <tr>\n",
       "      <th>1</th>\n",
       "      <td>1</td>\n",
       "      <td>100003</td>\n",
       "      <td>0</td>\n",
       "      <td>0</td>\n",
       "      <td>270000.0</td>\n",
       "      <td>1293502.5</td>\n",
       "      <td>35698.5</td>\n",
       "      <td>1129500.0</td>\n",
       "      <td>0.003541</td>\n",
       "      <td>-16765</td>\n",
       "      <td>...</td>\n",
       "      <td>0</td>\n",
       "      <td>0</td>\n",
       "      <td>0</td>\n",
       "      <td>0</td>\n",
       "      <td>0</td>\n",
       "      <td>1</td>\n",
       "      <td>0</td>\n",
       "      <td>0</td>\n",
       "      <td>0</td>\n",
       "      <td>0</td>\n",
       "    </tr>\n",
       "    <tr>\n",
       "      <th>2</th>\n",
       "      <td>2</td>\n",
       "      <td>100003</td>\n",
       "      <td>0</td>\n",
       "      <td>0</td>\n",
       "      <td>270000.0</td>\n",
       "      <td>1293502.5</td>\n",
       "      <td>35698.5</td>\n",
       "      <td>1129500.0</td>\n",
       "      <td>0.003541</td>\n",
       "      <td>-16765</td>\n",
       "      <td>...</td>\n",
       "      <td>0</td>\n",
       "      <td>0</td>\n",
       "      <td>0</td>\n",
       "      <td>0</td>\n",
       "      <td>0</td>\n",
       "      <td>1</td>\n",
       "      <td>0</td>\n",
       "      <td>0</td>\n",
       "      <td>0</td>\n",
       "      <td>0</td>\n",
       "    </tr>\n",
       "    <tr>\n",
       "      <th>3</th>\n",
       "      <td>3</td>\n",
       "      <td>100003</td>\n",
       "      <td>0</td>\n",
       "      <td>0</td>\n",
       "      <td>270000.0</td>\n",
       "      <td>1293502.5</td>\n",
       "      <td>35698.5</td>\n",
       "      <td>1129500.0</td>\n",
       "      <td>0.003541</td>\n",
       "      <td>-16765</td>\n",
       "      <td>...</td>\n",
       "      <td>0</td>\n",
       "      <td>0</td>\n",
       "      <td>0</td>\n",
       "      <td>0</td>\n",
       "      <td>0</td>\n",
       "      <td>1</td>\n",
       "      <td>0</td>\n",
       "      <td>0</td>\n",
       "      <td>0</td>\n",
       "      <td>0</td>\n",
       "    </tr>\n",
       "    <tr>\n",
       "      <th>4</th>\n",
       "      <td>4</td>\n",
       "      <td>100004</td>\n",
       "      <td>0</td>\n",
       "      <td>0</td>\n",
       "      <td>67500.0</td>\n",
       "      <td>135000.0</td>\n",
       "      <td>6750.0</td>\n",
       "      <td>135000.0</td>\n",
       "      <td>0.010032</td>\n",
       "      <td>-19046</td>\n",
       "      <td>...</td>\n",
       "      <td>0</td>\n",
       "      <td>0</td>\n",
       "      <td>0</td>\n",
       "      <td>0</td>\n",
       "      <td>0</td>\n",
       "      <td>1</td>\n",
       "      <td>0</td>\n",
       "      <td>0</td>\n",
       "      <td>0</td>\n",
       "      <td>0</td>\n",
       "    </tr>\n",
       "  </tbody>\n",
       "</table>\n",
       "<p>5 rows × 320 columns</p>\n",
       "</div>"
      ],
      "text/plain": [
       "   Unnamed: 0  SK_ID_CURR  TARGET  CNT_CHILDREN  AMT_INCOME_TOTAL  \\\n",
       "0           0      100002       1             0          202500.0   \n",
       "1           1      100003       0             0          270000.0   \n",
       "2           2      100003       0             0          270000.0   \n",
       "3           3      100003       0             0          270000.0   \n",
       "4           4      100004       0             0           67500.0   \n",
       "\n",
       "   AMT_CREDIT_x  AMT_ANNUITY_x  AMT_GOODS_PRICE_x  REGION_POPULATION_RELATIVE  \\\n",
       "0      406597.5        24700.5           351000.0                    0.018801   \n",
       "1     1293502.5        35698.5          1129500.0                    0.003541   \n",
       "2     1293502.5        35698.5          1129500.0                    0.003541   \n",
       "3     1293502.5        35698.5          1129500.0                    0.003541   \n",
       "4      135000.0         6750.0           135000.0                    0.010032   \n",
       "\n",
       "   DAYS_BIRTH  ...  SATURDAY.1  SUNDAY.1  THURSDAY.1  TUESDAY.1  WEDNESDAY.1  \\\n",
       "0       -9461  ...           0         0           0          0            1   \n",
       "1      -16765  ...           0         0           0          0            0   \n",
       "2      -16765  ...           0         0           0          0            0   \n",
       "3      -16765  ...           0         0           0          0            0   \n",
       "4      -19046  ...           0         0           0          0            0   \n",
       "\n",
       "   House / apartment  Municipal apartment  Office apartment  Rented apartment  \\\n",
       "0                  1                    0                 0                 0   \n",
       "1                  1                    0                 0                 0   \n",
       "2                  1                    0                 0                 0   \n",
       "3                  1                    0                 0                 0   \n",
       "4                  1                    0                 0                 0   \n",
       "\n",
       "   With parents  \n",
       "0             0  \n",
       "1             0  \n",
       "2             0  \n",
       "3             0  \n",
       "4             0  \n",
       "\n",
       "[5 rows x 320 columns]"
      ]
     },
     "execution_count": 3,
     "metadata": {},
     "output_type": "execute_result"
    }
   ],
   "source": [
    "data.head()"
   ]
  },
  {
   "cell_type": "code",
   "execution_count": 41,
   "id": "a14b8499",
   "metadata": {},
   "outputs": [],
   "source": [
    "X = data.drop('TARGET',axis=1)\n",
    "y = data['TARGET']"
   ]
  },
  {
   "cell_type": "code",
   "execution_count": 42,
   "id": "5aec29ec",
   "metadata": {},
   "outputs": [],
   "source": [
    "X_train, X_test, y_train, y_test = train_test_split(X, y, test_size=0.4,\n",
    "                                                    random_state=1)\n",
    "\n"
   ]
  },
  {
   "cell_type": "code",
   "execution_count": 54,
   "id": "9a8ce0ba",
   "metadata": {},
   "outputs": [],
   "source": [
    "#X_train,X_val,y_train,y_val = train_test_split(x_train1,y_train,test_size=0.2)"
   ]
  },
  {
   "cell_type": "code",
   "execution_count": 58,
   "id": "72e41cf6",
   "metadata": {},
   "outputs": [],
   "source": [
    "reg = linear_model.LogisticRegression()"
   ]
  },
  {
   "cell_type": "code",
   "execution_count": 12,
   "id": "d94cff2e",
   "metadata": {},
   "outputs": [],
   "source": [
    "flo = []\n",
    "for col in data.columns:\n",
    "    if data[col].dtype == 'float64':\n",
    "        flo.append(col)\n",
    "        "
   ]
  },
  {
   "cell_type": "code",
   "execution_count": 13,
   "id": "e9d369b5",
   "metadata": {
    "collapsed": true
   },
   "outputs": [
    {
     "data": {
      "text/plain": [
       "['AMT_INCOME_TOTAL',\n",
       " 'AMT_CREDIT_x',\n",
       " 'AMT_ANNUITY_x',\n",
       " 'AMT_GOODS_PRICE_x',\n",
       " 'REGION_POPULATION_RELATIVE',\n",
       " 'Unnamed: 13',\n",
       " 'EXT_SOURCE_2',\n",
       " 'EXT_SOURCE_3',\n",
       " 'YEARS_BEGINEXPLUATATION_AVG',\n",
       " 'Unnamed: 32',\n",
       " 'Unnamed: 33',\n",
       " 'Unnamed: 34',\n",
       " 'Unnamed: 35',\n",
       " 'Unnamed: 36',\n",
       " 'Unnamed: 37',\n",
       " 'Unnamed: 38',\n",
       " 'Unnamed: 39',\n",
       " 'Unnamed: 40',\n",
       " 'Unnamed: 41',\n",
       " 'Unnamed: 42',\n",
       " 'Unnamed: 43',\n",
       " 'OBS_30_CNT_SOCIAL_CIRCLE',\n",
       " 'DEF_30_CNT_SOCIAL_CIRCLE',\n",
       " 'OBS_60_CNT_SOCIAL_CIRCLE',\n",
       " 'DEF_60_CNT_SOCIAL_CIRCLE',\n",
       " 'Unnamed: 49',\n",
       " 'Unnamed: 50',\n",
       " 'Unnamed: 51',\n",
       " 'Unnamed: 52',\n",
       " 'Unnamed: 53',\n",
       " 'Unnamed: 54',\n",
       " 'Unnamed: 55',\n",
       " 'Unnamed: 56',\n",
       " 'Unnamed: 57',\n",
       " 'Unnamed: 58',\n",
       " 'Unnamed: 59',\n",
       " 'Unnamed: 60',\n",
       " 'Unnamed: 61',\n",
       " 'Unnamed: 62',\n",
       " 'Unnamed: 63',\n",
       " 'Unnamed: 64',\n",
       " 'Unnamed: 65',\n",
       " 'Unnamed: 66',\n",
       " 'Unnamed: 67',\n",
       " 'Unnamed: 68',\n",
       " 'AMT_REQ_CREDIT_BUREAU_HOUR',\n",
       " 'AMT_REQ_CREDIT_BUREAU_DAY',\n",
       " 'AMT_REQ_CREDIT_BUREAU_WEEK',\n",
       " 'AMT_REQ_CREDIT_BUREAU_MON',\n",
       " 'AMT_REQ_CREDIT_BUREAU_QRT',\n",
       " 'AMT_REQ_CREDIT_BUREAU_YEAR',\n",
       " 'Unnamed: 76',\n",
       " 'Unnamed: 77',\n",
       " 'Unnamed: 78',\n",
       " 'Unnamed: 79',\n",
       " 'Unnamed: 80',\n",
       " 'Unnamed: 81',\n",
       " 'Unnamed: 82',\n",
       " 'Unnamed: 83',\n",
       " 'Unnamed: 84',\n",
       " 'Unnamed: 85',\n",
       " 'Unnamed: 86',\n",
       " 'Unnamed: 87',\n",
       " 'Unnamed: 88',\n",
       " 'Unnamed: 89',\n",
       " 'Unnamed: 90',\n",
       " 'Unnamed: 91',\n",
       " 'Unnamed: 92',\n",
       " 'Unnamed: 93',\n",
       " 'Unnamed: 94',\n",
       " 'Unnamed: 95',\n",
       " 'Unnamed: 96']"
      ]
     },
     "execution_count": 13,
     "metadata": {},
     "output_type": "execute_result"
    }
   ],
   "source": [
    "flo"
   ]
  },
  {
   "cell_type": "code",
   "execution_count": 6,
   "id": "3229130d",
   "metadata": {},
   "outputs": [],
   "source": [
    "data.drop(['Unnamed: 13',\n",
    "          'Unnamed: 32','Unnamed: 33','Unnamed: 34','Unnamed: 35','Unnamed: 36','Unnamed: 37','Unnamed: 38','Unnamed: 39',\n",
    "          'Unnamed: 40','Unnamed: 41','Unnamed: 42','Unnamed: 43','Unnamed: 49','Unnamed: 50','Unnamed: 51',\n",
    "          'Unnamed: 52','Unnamed: 53','Unnamed: 54','Unnamed: 55','Unnamed: 56','Unnamed: 57','Unnamed: 58',\n",
    "          'Unnamed: 59','Unnamed: 60','Unnamed: 61','Unnamed: 62','Unnamed: 63','Unnamed: 64','Unnamed: 65',\n",
    "          'Unnamed: 66','Unnamed: 67','Unnamed: 68','Unnamed: 76','Unnamed: 77','Unnamed: 78','Unnamed: 79',\n",
    "          'Unnamed: 80','Unnamed: 81','Unnamed: 82','Unnamed: 83','Unnamed: 84','Unnamed: 85','Unnamed: 86','Unnamed: 87',\n",
    "          'Unnamed: 88','Unnamed: 89','Unnamed: 90','Unnamed: 91','Unnamed: 92','Unnamed: 93','Unnamed: 94','Unnamed: 95',\n",
    "          'Unnamed: 96','Unnamed: 0'],axis=1,inplace=True)"
   ]
  },
  {
   "cell_type": "code",
   "execution_count": 21,
   "id": "4945a0d9",
   "metadata": {},
   "outputs": [
    {
     "data": {
      "text/plain": [
       "['AMT_INCOME_TOTAL',\n",
       " 'AMT_CREDIT_x',\n",
       " 'AMT_ANNUITY_x',\n",
       " 'AMT_GOODS_PRICE_x',\n",
       " 'REGION_POPULATION_RELATIVE',\n",
       " 'EXT_SOURCE_2',\n",
       " 'EXT_SOURCE_3',\n",
       " 'YEARS_BEGINEXPLUATATION_AVG',\n",
       " 'OBS_30_CNT_SOCIAL_CIRCLE',\n",
       " 'DEF_30_CNT_SOCIAL_CIRCLE',\n",
       " 'OBS_60_CNT_SOCIAL_CIRCLE',\n",
       " 'DEF_60_CNT_SOCIAL_CIRCLE',\n",
       " 'AMT_REQ_CREDIT_BUREAU_HOUR',\n",
       " 'AMT_REQ_CREDIT_BUREAU_DAY',\n",
       " 'AMT_REQ_CREDIT_BUREAU_WEEK',\n",
       " 'AMT_REQ_CREDIT_BUREAU_MON',\n",
       " 'AMT_REQ_CREDIT_BUREAU_QRT',\n",
       " 'AMT_REQ_CREDIT_BUREAU_YEAR']"
      ]
     },
     "execution_count": 21,
     "metadata": {},
     "output_type": "execute_result"
    }
   ],
   "source": [
    "flo = []\n",
    "for col in data.columns:\n",
    "    if data[col].dtype == 'float64':\n",
    "        flo.append(col)\n",
    "flo       "
   ]
  },
  {
   "cell_type": "code",
   "execution_count": 7,
   "id": "0c953d1f",
   "metadata": {},
   "outputs": [],
   "source": [
    "# converting dtypes\n",
    "data['AMT_INCOME_TOTAL'] = data['AMT_INCOME_TOTAL'].astype(int)"
   ]
  },
  {
   "cell_type": "code",
   "execution_count": 8,
   "id": "4eb7fc82",
   "metadata": {},
   "outputs": [],
   "source": [
    "data['AMT_CREDIT_x']  = data['AMT_CREDIT_x'].astype(int)"
   ]
  },
  {
   "cell_type": "code",
   "execution_count": 9,
   "id": "75fbd87a",
   "metadata": {},
   "outputs": [],
   "source": [
    "# amt_annity  Cannot convert non-finite values (NA or inf) to integer\n",
    "data = data[data['AMT_ANNUITY_x'].notna()]"
   ]
  },
  {
   "cell_type": "code",
   "execution_count": 10,
   "id": "7fb323b1",
   "metadata": {},
   "outputs": [],
   "source": [
    "data['AMT_ANNUITY_x']  = data['AMT_ANNUITY_x'].astype(int)"
   ]
  },
  {
   "cell_type": "code",
   "execution_count": 11,
   "id": "887b226b",
   "metadata": {},
   "outputs": [],
   "source": [
    "data['AMT_GOODS_PRICE_x']  = data['AMT_GOODS_PRICE_x'].astype(int)"
   ]
  },
  {
   "cell_type": "code",
   "execution_count": 12,
   "id": "fefc47d2",
   "metadata": {},
   "outputs": [],
   "source": [
    "data['REGION_POPULATION_RELATIVE']  = data['REGION_POPULATION_RELATIVE'].astype(int)"
   ]
  },
  {
   "cell_type": "code",
   "execution_count": 13,
   "id": "de7ba2ac",
   "metadata": {},
   "outputs": [],
   "source": [
    "data = data[data['EXT_SOURCE_2'].notna()]"
   ]
  },
  {
   "cell_type": "code",
   "execution_count": 14,
   "id": "bb1cb225",
   "metadata": {},
   "outputs": [],
   "source": [
    "data['EXT_SOURCE_2']  = data['EXT_SOURCE_2'].astype(int)"
   ]
  },
  {
   "cell_type": "code",
   "execution_count": 15,
   "id": "5e34060a",
   "metadata": {},
   "outputs": [],
   "source": [
    "data = data[data['EXT_SOURCE_3'].notna()]"
   ]
  },
  {
   "cell_type": "code",
   "execution_count": 16,
   "id": "0490cec5",
   "metadata": {},
   "outputs": [],
   "source": [
    "data['EXT_SOURCE_3']  = data['EXT_SOURCE_3'].astype(int)"
   ]
  },
  {
   "cell_type": "code",
   "execution_count": 17,
   "id": "ed05e475",
   "metadata": {},
   "outputs": [],
   "source": [
    "data = data[data['YEARS_BEGINEXPLUATATION_AVG'].notna()]"
   ]
  },
  {
   "cell_type": "code",
   "execution_count": 18,
   "id": "7a4b73bf",
   "metadata": {},
   "outputs": [],
   "source": [
    "data['YEARS_BEGINEXPLUATATION_AVG']  = data['YEARS_BEGINEXPLUATATION_AVG'].astype(int)"
   ]
  },
  {
   "cell_type": "code",
   "execution_count": 19,
   "id": "f186de0c",
   "metadata": {},
   "outputs": [],
   "source": [
    "data = data[data['OBS_30_CNT_SOCIAL_CIRCLE'].notna()]"
   ]
  },
  {
   "cell_type": "code",
   "execution_count": 20,
   "id": "4406e5d1",
   "metadata": {},
   "outputs": [],
   "source": [
    "data['OBS_30_CNT_SOCIAL_CIRCLE']  = data['OBS_30_CNT_SOCIAL_CIRCLE'].astype(int)"
   ]
  },
  {
   "cell_type": "code",
   "execution_count": 39,
   "id": "0ae8d3be",
   "metadata": {},
   "outputs": [],
   "source": [
    "data = data[data['DEF_30_CNT_SOCIAL_CIRCLE'].notna()]\n",
    "data['DEF_30_CNT_SOCIAL_CIRCLE']  = data['DEF_30_CNT_SOCIAL_CIRCLE'].astype(int)"
   ]
  },
  {
   "cell_type": "code",
   "execution_count": 22,
   "id": "d95e8038",
   "metadata": {},
   "outputs": [],
   "source": [
    "data['OBS_60_CNT_SOCIAL_CIRCLE']  = data['OBS_60_CNT_SOCIAL_CIRCLE'].astype(int)"
   ]
  },
  {
   "cell_type": "code",
   "execution_count": 23,
   "id": "b989980e",
   "metadata": {},
   "outputs": [],
   "source": [
    "data = data[data['DEF_60_CNT_SOCIAL_CIRCLE'].notna()]"
   ]
  },
  {
   "cell_type": "code",
   "execution_count": 24,
   "id": "55a84269",
   "metadata": {},
   "outputs": [],
   "source": [
    "data['DEF_60_CNT_SOCIAL_CIRCLE']  = data['DEF_60_CNT_SOCIAL_CIRCLE'].astype(int)"
   ]
  },
  {
   "cell_type": "code",
   "execution_count": 25,
   "id": "66f1b1da",
   "metadata": {},
   "outputs": [],
   "source": [
    "data = data[data['AMT_REQ_CREDIT_BUREAU_HOUR'].notna()]"
   ]
  },
  {
   "cell_type": "code",
   "execution_count": 26,
   "id": "0284e4ca",
   "metadata": {},
   "outputs": [],
   "source": [
    "data['AMT_REQ_CREDIT_BUREAU_HOUR']  = data['AMT_REQ_CREDIT_BUREAU_HOUR'].astype(int)"
   ]
  },
  {
   "cell_type": "code",
   "execution_count": 27,
   "id": "996daab8",
   "metadata": {},
   "outputs": [],
   "source": [
    "data = data[data['AMT_REQ_CREDIT_BUREAU_DAY'].notna()]"
   ]
  },
  {
   "cell_type": "code",
   "execution_count": 28,
   "id": "a80bd845",
   "metadata": {},
   "outputs": [],
   "source": [
    "data['AMT_REQ_CREDIT_BUREAU_DAY']  = data['AMT_REQ_CREDIT_BUREAU_DAY'].astype(int)"
   ]
  },
  {
   "cell_type": "code",
   "execution_count": 29,
   "id": "2c47049f",
   "metadata": {},
   "outputs": [],
   "source": [
    "data = data[data['AMT_REQ_CREDIT_BUREAU_WEEK'].notna()]"
   ]
  },
  {
   "cell_type": "code",
   "execution_count": 30,
   "id": "1b7b1341",
   "metadata": {},
   "outputs": [],
   "source": [
    "data['AMT_REQ_CREDIT_BUREAU_WEEK']  = data['AMT_REQ_CREDIT_BUREAU_WEEK'].astype(int)"
   ]
  },
  {
   "cell_type": "code",
   "execution_count": 31,
   "id": "0acbdffd",
   "metadata": {},
   "outputs": [],
   "source": [
    "data = data[data['AMT_REQ_CREDIT_BUREAU_MON'].notna()]"
   ]
  },
  {
   "cell_type": "code",
   "execution_count": 32,
   "id": "76e615a1",
   "metadata": {},
   "outputs": [],
   "source": [
    "data['AMT_REQ_CREDIT_BUREAU_MON']  = data['AMT_REQ_CREDIT_BUREAU_MON'].astype(int)"
   ]
  },
  {
   "cell_type": "code",
   "execution_count": 33,
   "id": "abc5bf11",
   "metadata": {},
   "outputs": [],
   "source": [
    "data = data[data['AMT_REQ_CREDIT_BUREAU_QRT'].notna()]"
   ]
  },
  {
   "cell_type": "code",
   "execution_count": 34,
   "id": "02ea5df7",
   "metadata": {},
   "outputs": [],
   "source": [
    "data['AMT_REQ_CREDIT_BUREAU_QRT']  = data['AMT_REQ_CREDIT_BUREAU_QRT'].astype(int)"
   ]
  },
  {
   "cell_type": "code",
   "execution_count": 35,
   "id": "f6854e52",
   "metadata": {},
   "outputs": [],
   "source": [
    "data = data[data['AMT_REQ_CREDIT_BUREAU_YEAR'].notna()]"
   ]
  },
  {
   "cell_type": "code",
   "execution_count": 36,
   "id": "b9aa34e4",
   "metadata": {},
   "outputs": [],
   "source": [
    "data['AMT_REQ_CREDIT_BUREAU_YEAR']  = data['AMT_REQ_CREDIT_BUREAU_YEAR'].astype(int)"
   ]
  },
  {
   "cell_type": "code",
   "execution_count": 40,
   "id": "3abeff13",
   "metadata": {},
   "outputs": [
    {
     "data": {
      "text/plain": [
       "[]"
      ]
     },
     "execution_count": 40,
     "metadata": {},
     "output_type": "execute_result"
    }
   ],
   "source": [
    "## \n",
    "flo = []\n",
    "for col in data.columns:\n",
    "    if data[col].dtype == 'float64':\n",
    "        flo.append(col)\n",
    "flo       "
   ]
  },
  {
   "cell_type": "code",
   "execution_count": null,
   "id": "3f16780e",
   "metadata": {},
   "outputs": [],
   "source": []
  },
  {
   "cell_type": "code",
   "execution_count": 59,
   "id": "b2b58de8",
   "metadata": {
    "collapsed": true
   },
   "outputs": [
    {
     "name": "stderr",
     "output_type": "stream",
     "text": [
      "C:\\Users\\Non Work\\anaconda3\\lib\\site-packages\\sklearn\\linear_model\\_logistic.py:763: ConvergenceWarning: lbfgs failed to converge (status=1):\n",
      "STOP: TOTAL NO. of ITERATIONS REACHED LIMIT.\n",
      "\n",
      "Increase the number of iterations (max_iter) or scale the data as shown in:\n",
      "    https://scikit-learn.org/stable/modules/preprocessing.html\n",
      "Please also refer to the documentation for alternative solver options:\n",
      "    https://scikit-learn.org/stable/modules/linear_model.html#logistic-regression\n",
      "  n_iter_i = _check_optimize_result(\n"
     ]
    },
    {
     "data": {
      "text/plain": [
       "LogisticRegression()"
      ]
     },
     "execution_count": 59,
     "metadata": {},
     "output_type": "execute_result"
    }
   ],
   "source": [
    "reg.fit(X_train, y_train)  "
   ]
  },
  {
   "cell_type": "code",
   "execution_count": 60,
   "id": "bec0aacf",
   "metadata": {
    "collapsed": true
   },
   "outputs": [
    {
     "name": "stdout",
     "output_type": "stream",
     "text": [
      "Coefficients:  [[-1.66413095e-06 -3.19762425e-09  8.90395103e-08  3.30664093e-06\n",
      "   1.87398595e-06 -4.06683689e-06  0.00000000e+00  9.88189099e-05\n",
      "   6.31944085e-07  2.56855995e-05  3.20744369e-05 -5.14646462e-09\n",
      "   1.90222873e-09 -5.22741669e-09 -4.63024013e-09 -8.86319082e-10\n",
      "  -1.22065149e-08 -2.05461619e-09 -1.93304222e-09 -8.98756741e-08\n",
      "   4.74439447e-11  5.34242335e-10  4.70273484e-10  1.04512954e-09\n",
      "   1.64704051e-09  9.65191546e-10  0.00000000e+00  0.00000000e+00\n",
      "  -7.60137235e-11  5.13185731e-09  2.99937620e-09  5.27958774e-09\n",
      "   2.81597653e-09  1.67014943e-05 -4.31741901e-11  2.33135926e-10\n",
      "   2.53791545e-10 -7.38616205e-09 -6.59214019e-10  3.84658263e-09\n",
      "  -1.53035947e-07 -8.88987161e-11  4.14700404e-10  6.50460798e-10\n",
      "  -2.13610076e-09 -8.83219404e-10 -1.62402184e-10 -8.69814865e-11\n",
      "   1.12230981e-09 -3.63822924e-11  4.73097856e-10  1.49922376e-10\n",
      "  -1.14072528e-09 -2.71347140e-11  3.06840228e-11 -2.26475460e-10\n",
      "  -5.68726024e-10 -3.38585922e-09  2.71760854e-10  1.89362866e-09\n",
      "   9.90042940e-10  2.79942034e-10  4.15819053e-10  8.40931314e-10\n",
      "  -1.11462420e-09 -5.87025094e-10 -3.10408605e-09 -1.61039543e-09\n",
      "  -1.72280422e-09 -5.02461003e-10 -1.83254619e-09 -5.14483501e-10\n",
      "  -2.41016069e-10 -3.59122187e-11 -3.90452273e-09 -5.39687442e-09\n",
      "   1.07274359e-10 -1.57469417e-09 -3.80808690e-09 -3.12183710e-09\n",
      "  -6.13742118e-10 -1.78198431e-09 -3.75789848e-10 -5.09979369e-09\n",
      "  -1.25432946e-09 -2.74192638e-10 -4.61494063e-11 -6.59478211e-11\n",
      "  -2.46280859e-11  4.27443722e-09 -4.82813797e-09 -4.60635461e-09\n",
      "  -1.12266071e-11  1.95171270e-11  8.35781115e-10 -5.79924551e-09\n",
      "   2.29644723e-09 -1.10666537e-09 -2.61756399e-09  3.02608127e-09\n",
      "  -1.24603692e-09 -1.08928598e-11  8.25086044e-10 -9.21153700e-09\n",
      "   2.16910787e-09  0.00000000e+00 -1.39771610e-09 -9.31182082e-11\n",
      "  -5.98300988e-10 -1.02672257e-09 -2.08175531e-10 -1.65001371e-09\n",
      "  -8.57708355e-12 -8.85654600e-12 -1.79167525e-11 -1.22301640e-09\n",
      "  -5.51897753e-11 -6.25271020e-11 -4.57110963e-12 -9.99717504e-11\n",
      "  -4.02483570e-11 -5.50034644e-11 -2.23129791e-09 -2.13016997e-11\n",
      "  -4.62082568e-11 -3.49273873e-10 -8.85928971e-11 -8.04936066e-11\n",
      "   2.19571870e-12 -3.51220675e-12  4.08841596e-09 -1.95153432e-09\n",
      "  -1.51601834e-09 -1.74412158e-11  2.99192685e-09  9.68396094e-10\n",
      "   6.51954535e-11  8.81062520e-10 -2.17507191e-12 -9.46474680e-11\n",
      "  -9.68081459e-09 -9.54894491e-12 -1.17647644e-11 -5.40011900e-11\n",
      "   2.67318170e-09  0.00000000e+00 -1.31182705e-10 -2.36290819e-09\n",
      "  -2.13766168e-12 -8.90279588e-13  1.56984533e-09  1.01085430e-09\n",
      "   4.80227886e-09 -3.92672469e-10 -4.71742527e-09  1.86888819e-10\n",
      "  -6.48386885e-10 -1.07616649e-09 -9.22533488e-09 -7.09957673e-10\n",
      "   1.11942442e-10  4.60205532e-09 -8.17984603e-12 -1.43389441e-11\n",
      "   8.09061136e-11  8.15597336e-11  3.68277161e-11  8.09826837e-11\n",
      "   6.88473628e-11  5.39227030e-11  4.11166481e-11  2.21921282e-11\n",
      "   5.19994814e-12  2.57981702e-11 -7.88308202e-12  2.89338283e-11\n",
      "  -1.03889999e-12  2.25471839e-10  1.20026160e-10 -5.13141802e-12\n",
      "   1.34493543e-11  6.15567714e-10  3.92270398e-10  1.59281889e-11\n",
      "  -7.99199233e-09  7.13628889e-10  7.07288859e-11 -1.75506000e-09\n",
      "  -1.52086672e-09 -1.91542908e-10 -6.84879743e-11 -7.93239723e-10\n",
      "   3.73688931e-09 -1.67515747e-11 -9.56370468e-09  1.57171234e-09\n",
      "   3.36363439e-11 -4.12306864e-10  2.89712374e-10 -2.31818516e-10\n",
      "   1.71394993e-09 -9.28013280e-11  5.99116934e-10 -8.06036548e-11\n",
      "  -2.35856286e-10 -1.25525179e-10 -5.16067019e-10  2.37224615e-11\n",
      "  -8.19536289e-11  1.86857709e-10 -6.89806811e-11 -8.59813706e-11\n",
      "  -9.87923861e-11  3.66182408e-12 -8.40087003e-11  9.02350425e-11\n",
      "   3.61511622e-12 -1.30470500e-10 -5.88407819e-11 -3.75572956e-11\n",
      "  -7.54692021e-12 -2.86000227e-10 -3.50624263e-11 -5.86902614e-10\n",
      "  -1.18639321e-10 -8.78607656e-10 -1.26334509e-10 -8.25953558e-11\n",
      "  -1.11406616e-09 -3.36084783e-10 -4.01709510e-10 -7.65458314e-11\n",
      "  -3.10865225e-11  2.93570542e-10 -1.35142715e-09  1.65476881e-10\n",
      "  -4.24599489e-10  1.74952133e-10 -3.65902599e-11  5.45372880e-11\n",
      "   3.36676236e-11 -5.78874349e-10  1.56481010e-10 -2.74715015e-11\n",
      "  -2.89744760e-11 -1.12304021e-10  1.55455378e-10 -4.61415251e-12\n",
      "  -2.96533521e-10  2.37676518e-10  1.83330573e-10 -2.62338976e-10\n",
      "  -1.24024578e-10 -1.76334482e-09 -1.15939295e-09 -4.31717232e-10\n",
      "   1.35335251e-10 -4.84541831e-10 -4.90027441e-11 -5.93853885e-09\n",
      "  -1.59823178e-10 -1.08665220e-10 -3.94397419e-12  1.01889296e-09]]\n"
     ]
    }
   ],
   "source": [
    "print('Coefficients: ', reg.coef_)"
   ]
  },
  {
   "cell_type": "code",
   "execution_count": 61,
   "id": "665044d7",
   "metadata": {},
   "outputs": [
    {
     "name": "stdout",
     "output_type": "stream",
     "text": [
      "Variance score: 0.9247161011220765\n"
     ]
    }
   ],
   "source": [
    "print('Variance score: {}'.format(reg.score(X_test, y_test)))"
   ]
  },
  {
   "cell_type": "code",
   "execution_count": 62,
   "id": "8293de5d",
   "metadata": {},
   "outputs": [
    {
     "name": "stdout",
     "output_type": "stream",
     "text": [
      "92.47161011220764 %\n"
     ]
    }
   ],
   "source": [
    "r2_score = reg.score(X_test,y_test)\n",
    "print(r2_score*100,'%')"
   ]
  },
  {
   "cell_type": "code",
   "execution_count": null,
   "id": "0b7265d1",
   "metadata": {},
   "outputs": [],
   "source": []
  },
  {
   "cell_type": "code",
   "execution_count": null,
   "id": "d23da50f",
   "metadata": {},
   "outputs": [],
   "source": []
  },
  {
   "cell_type": "code",
   "execution_count": 63,
   "id": "c6066789",
   "metadata": {
    "collapsed": true
   },
   "outputs": [
    {
     "data": {
      "image/png": "[encoded data removed]",
      "text/plain": [
       "<Figure size 432x288 with 1 Axes>"
      ]
     },
     "metadata": {
      "needs_background": "light"
     },
     "output_type": "display_data"
    }
   ],
   "source": [
    "plt.scatter(reg.predict(X_train), reg.predict(X_train) - y_train,\n",
    "            color = \"green\", s = 10, label = 'Train data')\n",
    "  \n",
    "## plotting residual errors in test data\n",
    "plt.scatter(reg.predict(X_test), reg.predict(X_test) - y_test,\n",
    "            color = \"blue\", s = 10, label = 'Test data')\n",
    "  \n",
    "## plotting line for zero residual error\n",
    "plt.hlines(y = 0, xmin = 0, xmax = 50, linewidth = 2)\n",
    "  \n",
    "## plotting legend\n",
    "plt.legend(loc = 'upper right')\n",
    "  \n",
    "## plot title\n",
    "plt.title(\"Residual errors\")\n",
    "  \n",
    "## method call for showing the plot\n",
    "plt.show()"
   ]
  },
  {
   "cell_type": "code",
   "execution_count": null,
   "id": "5b5feec7",
   "metadata": {},
   "outputs": [],
   "source": [
    "## tree\n"
   ]
  },
  {
   "cell_type": "code",
   "execution_count": 70,
   "id": "11bf53ec",
   "metadata": {},
   "outputs": [
    {
     "ename": "NameError",
     "evalue": "name 'makeTerrainData' is not defined",
     "output_type": "error",
     "traceback": [
      "\u001b[1;31m---------------------------------------------------------------------------\u001b[0m",
      "\u001b[1;31mNameError\u001b[0m                                 Traceback (most recent call last)",
      "\u001b[1;32m<ipython-input-70-b2afbb5dafe0>\u001b[0m in \u001b[0;36m<module>\u001b[1;34m\u001b[0m\n\u001b[1;32m----> 1\u001b[1;33m \u001b[0mfeatures_train\u001b[0m\u001b[1;33m,\u001b[0m \u001b[0mlabels_train\u001b[0m\u001b[1;33m,\u001b[0m \u001b[0mfeatures_test\u001b[0m\u001b[1;33m,\u001b[0m \u001b[0mlabels_test\u001b[0m \u001b[1;33m=\u001b[0m \u001b[0mmakeTerrainData\u001b[0m\u001b[1;33m(\u001b[0m\u001b[1;33m)\u001b[0m\u001b[1;33m\u001b[0m\u001b[1;33m\u001b[0m\u001b[0m\n\u001b[0m",
      "\u001b[1;31mNameError\u001b[0m: name 'makeTerrainData' is not defined"
     ]
    }
   ],
   "source": [
    "features_train, labels_train, features_test, labels_test = makeTerrainData()"
   ]
  },
  {
   "cell_type": "code",
   "execution_count": 65,
   "id": "007c7dad",
   "metadata": {},
   "outputs": [],
   "source": [
    "dtree = DecisionTreeClassifier()"
   ]
  },
  {
   "cell_type": "code",
   "execution_count": 68,
   "id": "cdd1f42f",
   "metadata": {},
   "outputs": [],
   "source": [
    "dtree = dtree.fit(X_train, y_train)"
   ]
  },
  {
   "cell_type": "code",
   "execution_count": 69,
   "id": "5efdb73c",
   "metadata": {},
   "outputs": [
    {
     "ename": "NameError",
     "evalue": "name 'features_test' is not defined",
     "output_type": "error",
     "traceback": [
      "\u001b[1;31m---------------------------------------------------------------------------\u001b[0m",
      "\u001b[1;31mNameError\u001b[0m                                 Traceback (most recent call last)",
      "\u001b[1;32m<ipython-input-69-7e12ce1ab308>\u001b[0m in \u001b[0;36m<module>\u001b[1;34m\u001b[0m\n\u001b[1;32m----> 1\u001b[1;33m \u001b[0myhat_test\u001b[0m \u001b[1;33m=\u001b[0m \u001b[0mdtree\u001b[0m\u001b[1;33m.\u001b[0m\u001b[0mpredict\u001b[0m\u001b[1;33m(\u001b[0m\u001b[0mfeatures_test\u001b[0m\u001b[1;33m)\u001b[0m\u001b[1;33m\u001b[0m\u001b[1;33m\u001b[0m\u001b[0m\n\u001b[0m",
      "\u001b[1;31mNameError\u001b[0m: name 'features_test' is not defined"
     ]
    }
   ],
   "source": [
    "yhat_test = dtree.predict(features_test)"
   ]
  },
  {
   "cell_type": "code",
   "execution_count": 67,
   "id": "a75dee19",
   "metadata": {},
   "outputs": [
    {
     "ename": "NameError",
     "evalue": "name 'cross_val_score' is not defined",
     "output_type": "error",
     "traceback": [
      "\u001b[1;31m---------------------------------------------------------------------------\u001b[0m",
      "\u001b[1;31mNameError\u001b[0m                                 Traceback (most recent call last)",
      "\u001b[1;32m<ipython-input-67-2651a16b51b7>\u001b[0m in \u001b[0;36m<module>\u001b[1;34m\u001b[0m\n\u001b[1;32m----> 1\u001b[1;33m \u001b[0mprint\u001b[0m\u001b[1;33m(\u001b[0m\u001b[0mcross_val_score\u001b[0m\u001b[1;33m(\u001b[0m\u001b[0mdtree\u001b[0m\u001b[1;33m,\u001b[0m \u001b[0mX\u001b[0m\u001b[1;33m,\u001b[0m \u001b[0my\u001b[0m\u001b[1;33m,\u001b[0m \u001b[0mscoring\u001b[0m\u001b[1;33m=\u001b[0m\u001b[1;34m\"accuracy\"\u001b[0m\u001b[1;33m,\u001b[0m \u001b[0mcv\u001b[0m \u001b[1;33m=\u001b[0m \u001b[1;36m7\u001b[0m\u001b[1;33m)\u001b[0m\u001b[1;33m)\u001b[0m\u001b[1;33m\u001b[0m\u001b[1;33m\u001b[0m\u001b[0m\n\u001b[0m\u001b[0;32m      2\u001b[0m \u001b[0mmean_score\u001b[0m \u001b[1;33m=\u001b[0m \u001b[0mcross_val_score\u001b[0m\u001b[1;33m(\u001b[0m\u001b[0mdtree\u001b[0m\u001b[1;33m,\u001b[0m \u001b[0mX\u001b[0m\u001b[1;33m,\u001b[0m \u001b[0my\u001b[0m\u001b[1;33m,\u001b[0m \u001b[0mscoring\u001b[0m\u001b[1;33m=\u001b[0m\u001b[1;34m\"accuracy\"\u001b[0m\u001b[1;33m,\u001b[0m \u001b[0mcv\u001b[0m \u001b[1;33m=\u001b[0m \u001b[1;36m7\u001b[0m\u001b[1;33m)\u001b[0m\u001b[1;33m.\u001b[0m\u001b[0mmean\u001b[0m\u001b[1;33m(\u001b[0m\u001b[1;33m)\u001b[0m\u001b[1;33m\u001b[0m\u001b[1;33m\u001b[0m\u001b[0m\n\u001b[0;32m      3\u001b[0m \u001b[0mstd_score\u001b[0m \u001b[1;33m=\u001b[0m \u001b[0mcross_val_score\u001b[0m\u001b[1;33m(\u001b[0m\u001b[0mdtree\u001b[0m\u001b[1;33m,\u001b[0m \u001b[0mX\u001b[0m\u001b[1;33m,\u001b[0m \u001b[0my\u001b[0m\u001b[1;33m,\u001b[0m \u001b[0mscoring\u001b[0m\u001b[1;33m=\u001b[0m\u001b[1;34m\"accuracy\"\u001b[0m\u001b[1;33m,\u001b[0m \u001b[0mcv\u001b[0m \u001b[1;33m=\u001b[0m \u001b[1;36m7\u001b[0m\u001b[1;33m)\u001b[0m\u001b[1;33m.\u001b[0m\u001b[0mstd\u001b[0m\u001b[1;33m(\u001b[0m\u001b[1;33m)\u001b[0m\u001b[1;33m\u001b[0m\u001b[1;33m\u001b[0m\u001b[0m\n\u001b[0;32m      4\u001b[0m \u001b[0mprint\u001b[0m\u001b[1;33m(\u001b[0m\u001b[0mmean_score\u001b[0m\u001b[1;33m)\u001b[0m\u001b[1;33m\u001b[0m\u001b[1;33m\u001b[0m\u001b[0m\n\u001b[0;32m      5\u001b[0m \u001b[0mprint\u001b[0m\u001b[1;33m(\u001b[0m\u001b[0mstd_score\u001b[0m\u001b[1;33m)\u001b[0m\u001b[1;33m\u001b[0m\u001b[1;33m\u001b[0m\u001b[0m\n",
      "\u001b[1;31mNameError\u001b[0m: name 'cross_val_score' is not defined"
     ]
    }
   ],
   "source": [
    "print(cross_val_score(dtree, X, y, scoring=\"accuracy\", cv = 7))\n",
    "mean_score = cross_val_score(dtree, X, y, scoring=\"accuracy\", cv = 7).mean()\n",
    "std_score = cross_val_score(dtree, X, y, scoring=\"accuracy\", cv = 7).std()\n",
    "print(mean_score)\n",
    "print(std_score)"
   ]
  },
  {
   "cell_type": "code",
   "execution_count": 74,
   "id": "b1e5bdcb",
   "metadata": {},
   "outputs": [],
   "source": [
    "## Random forest"
   ]
  },
  {
   "cell_type": "code",
   "execution_count": 75,
   "id": "68a49c75",
   "metadata": {},
   "outputs": [],
   "source": [
    "regressor = RandomForestRegressor(n_estimators = 100, random_state = 0)"
   ]
  },
  {
   "cell_type": "code",
   "execution_count": 76,
   "id": "74429234",
   "metadata": {},
   "outputs": [
    {
     "data": {
      "text/plain": [
       "RandomForestRegressor(random_state=0)"
      ]
     },
     "execution_count": 76,
     "metadata": {},
     "output_type": "execute_result"
    }
   ],
   "source": [
    "regressor.fit(X_test,y_test)  "
   ]
  },
  {
   "cell_type": "code",
   "execution_count": 91,
   "id": "2a90770f",
   "metadata": {},
   "outputs": [],
   "source": [
    "y_pred = regressor.predict(X_test)"
   ]
  },
  {
   "cell_type": "code",
   "execution_count": 92,
   "id": "1b6cf75d",
   "metadata": {},
   "outputs": [
    {
     "name": "stdout",
     "output_type": "stream",
     "text": [
      "Mean Absolute Error: 0.02115578950926051\n",
      "Mean Squared Error: 0.002637416351223469\n",
      "Root Mean Squared Error: 0.05135578206223199\n"
     ]
    }
   ],
   "source": [
    "print('Mean Absolute Error:', metrics.mean_absolute_error(y_test, y_pred))\n",
    "print('Mean Squared Error:', metrics.mean_squared_error(y_test, y_pred))\n",
    "print('Root Mean Squared Error:', np.sqrt(metrics.mean_squared_error(y_test, y_pred)))"
   ]
  },
  {
   "cell_type": "code",
   "execution_count": 88,
   "id": "44ae552a",
   "metadata": {},
   "outputs": [],
   "source": [
    "from sklearn.metrics import classification_report, confusion_matrix, accuracy_score"
   ]
  },
  {
   "cell_type": "code",
   "execution_count": 96,
   "id": "43ff5a7e",
   "metadata": {},
   "outputs": [],
   "source": [
    "#print(confusion_matrix(y_test,y_pred))\n",
    "#print(classification_report(y_test,y_pred))\n",
    "#print(accuracy_score(y_test, y_pred))"
   ]
  },
  {
   "cell_type": "code",
   "execution_count": 94,
   "id": "924becb9",
   "metadata": {},
   "outputs": [],
   "source": [
    "#y_test = y_test.astype('int64')"
   ]
  },
  {
   "cell_type": "code",
   "execution_count": 97,
   "id": "23f188c9",
   "metadata": {},
   "outputs": [],
   "source": [
    "#print(accuracy_score(y_test, y_pred))\n"
   ]
  },
  {
   "cell_type": "code",
   "execution_count": 98,
   "id": "7623554d",
   "metadata": {},
   "outputs": [],
   "source": [
    "regressor = RandomForestRegressor(n_estimators = 200, random_state = 0)"
   ]
  },
  {
   "cell_type": "code",
   "execution_count": 99,
   "id": "29a2cf07",
   "metadata": {},
   "outputs": [
    {
     "data": {
      "text/plain": [
       "RandomForestRegressor(n_estimators=200, random_state=0)"
      ]
     },
     "execution_count": 99,
     "metadata": {},
     "output_type": "execute_result"
    }
   ],
   "source": [
    "regressor.fit(X_test,y_test)  "
   ]
  },
  {
   "cell_type": "code",
   "execution_count": 100,
   "id": "bd117508",
   "metadata": {},
   "outputs": [],
   "source": [
    "y_pred = regressor.predict(X_test)"
   ]
  },
  {
   "cell_type": "code",
   "execution_count": 101,
   "id": "04268237",
   "metadata": {},
   "outputs": [
    {
     "name": "stdout",
     "output_type": "stream",
     "text": [
      "Mean Absolute Error: 0.021093940110855754\n",
      "Mean Squared Error: 0.0025393643537920778\n",
      "Root Mean Squared Error: 0.05039210606624889\n"
     ]
    }
   ],
   "source": [
    "print('Mean Absolute Error:', metrics.mean_absolute_error(y_test, y_pred))\n",
    "print('Mean Squared Error:', metrics.mean_squared_error(y_test, y_pred))\n",
    "print('Root Mean Squared Error:', np.sqrt(metrics.mean_squared_error(y_test, y_pred)))"
   ]
  },
  {
   "cell_type": "code",
   "execution_count": null,
   "id": "dc67c16d",
   "metadata": {},
   "outputs": [],
   "source": []
  }
 ],
 "metadata": {
  "kernelspec": {
   "display_name": "Python 3",
   "language": "python",
   "name": "python3"
  },
  "language_info": {
   "codemirror_mode": {
    "name": "ipython",
    "version": 3
   },
   "file_extension": ".py",
   "mimetype": "text/x-python",
   "name": "python",
   "nbconvert_exporter": "python",
   "pygments_lexer": "ipython3",
   "version": "3.8.8"
  }
 },
 "nbformat": 4,
 "nbformat_minor": 5
}
