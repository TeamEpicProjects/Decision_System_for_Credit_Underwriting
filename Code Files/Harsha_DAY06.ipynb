{
 "cells": [
  {
   "cell_type": "markdown",
   "metadata": {},
   "source": [
    "**IMPORTING THE LIBRARIES**"
   ]
  },
  {
   "cell_type": "code",
   "execution_count": 1,
   "metadata": {},
   "outputs": [],
   "source": [
    "import numpy as np\n",
    "import pandas as pd \n",
    "import matplotlib.pyplot as plt\n",
    "import seaborn as sns\n",
    "import warnings\n",
    "warnings.filterwarnings(\"ignore\")"
   ]
  },
  {
   "cell_type": "markdown",
   "metadata": {},
   "source": [
    "**IMPORTING THE DATA**"
   ]
  },
  {
   "cell_type": "code",
   "execution_count": 2,
   "metadata": {},
   "outputs": [],
   "source": [
    "df1 =  pd.read_csv('application_data.csv.zip')\n",
    "df2 =  pd.read_csv('previous_application.csv.zip')"
   ]
  },
  {
   "cell_type": "code",
   "execution_count": 3,
   "metadata": {},
   "outputs": [],
   "source": [
    "df3 = df1.merge(df2,on='SK_ID_CURR')"
   ]
  },
  {
   "cell_type": "code",
   "execution_count": 4,
   "metadata": {},
   "outputs": [
    {
     "data": {
      "text/html": [
       "<div>\n",
       "<style scoped>\n",
       "    .dataframe tbody tr th:only-of-type {\n",
       "        vertical-align: middle;\n",
       "    }\n",
       "\n",
       "    .dataframe tbody tr th {\n",
       "        vertical-align: top;\n",
       "    }\n",
       "\n",
       "    .dataframe thead th {\n",
       "        text-align: right;\n",
       "    }\n",
       "</style>\n",
       "<table border=\"1\" class=\"dataframe\">\n",
       "  <thead>\n",
       "    <tr style=\"text-align: right;\">\n",
       "      <th></th>\n",
       "      <th>SK_ID_CURR</th>\n",
       "      <th>TARGET</th>\n",
       "      <th>NAME_CONTRACT_TYPE_x</th>\n",
       "      <th>CODE_GENDER</th>\n",
       "      <th>FLAG_OWN_CAR</th>\n",
       "      <th>FLAG_OWN_REALTY</th>\n",
       "      <th>CNT_CHILDREN</th>\n",
       "      <th>AMT_INCOME_TOTAL</th>\n",
       "      <th>AMT_CREDIT_x</th>\n",
       "      <th>AMT_ANNUITY_x</th>\n",
       "      <th>...</th>\n",
       "      <th>NAME_SELLER_INDUSTRY</th>\n",
       "      <th>CNT_PAYMENT</th>\n",
       "      <th>NAME_YIELD_GROUP</th>\n",
       "      <th>PRODUCT_COMBINATION</th>\n",
       "      <th>DAYS_FIRST_DRAWING</th>\n",
       "      <th>DAYS_FIRST_DUE</th>\n",
       "      <th>DAYS_LAST_DUE_1ST_VERSION</th>\n",
       "      <th>DAYS_LAST_DUE</th>\n",
       "      <th>DAYS_TERMINATION</th>\n",
       "      <th>NFLAG_INSURED_ON_APPROVAL</th>\n",
       "    </tr>\n",
       "  </thead>\n",
       "  <tbody>\n",
       "    <tr>\n",
       "      <th>0</th>\n",
       "      <td>100002</td>\n",
       "      <td>1</td>\n",
       "      <td>Cash loans</td>\n",
       "      <td>M</td>\n",
       "      <td>N</td>\n",
       "      <td>Y</td>\n",
       "      <td>0</td>\n",
       "      <td>202500.0</td>\n",
       "      <td>406597.5</td>\n",
       "      <td>24700.5</td>\n",
       "      <td>...</td>\n",
       "      <td>Auto technology</td>\n",
       "      <td>24.0</td>\n",
       "      <td>low_normal</td>\n",
       "      <td>POS other with interest</td>\n",
       "      <td>365243.0</td>\n",
       "      <td>-565.0</td>\n",
       "      <td>125.0</td>\n",
       "      <td>-25.0</td>\n",
       "      <td>-17.0</td>\n",
       "      <td>0.0</td>\n",
       "    </tr>\n",
       "    <tr>\n",
       "      <th>1</th>\n",
       "      <td>100003</td>\n",
       "      <td>0</td>\n",
       "      <td>Cash loans</td>\n",
       "      <td>F</td>\n",
       "      <td>N</td>\n",
       "      <td>N</td>\n",
       "      <td>0</td>\n",
       "      <td>270000.0</td>\n",
       "      <td>1293502.5</td>\n",
       "      <td>35698.5</td>\n",
       "      <td>...</td>\n",
       "      <td>XNA</td>\n",
       "      <td>12.0</td>\n",
       "      <td>low_normal</td>\n",
       "      <td>Cash X-Sell: low</td>\n",
       "      <td>365243.0</td>\n",
       "      <td>-716.0</td>\n",
       "      <td>-386.0</td>\n",
       "      <td>-536.0</td>\n",
       "      <td>-527.0</td>\n",
       "      <td>1.0</td>\n",
       "    </tr>\n",
       "    <tr>\n",
       "      <th>2</th>\n",
       "      <td>100003</td>\n",
       "      <td>0</td>\n",
       "      <td>Cash loans</td>\n",
       "      <td>F</td>\n",
       "      <td>N</td>\n",
       "      <td>N</td>\n",
       "      <td>0</td>\n",
       "      <td>270000.0</td>\n",
       "      <td>1293502.5</td>\n",
       "      <td>35698.5</td>\n",
       "      <td>...</td>\n",
       "      <td>Furniture</td>\n",
       "      <td>6.0</td>\n",
       "      <td>middle</td>\n",
       "      <td>POS industry with interest</td>\n",
       "      <td>365243.0</td>\n",
       "      <td>-797.0</td>\n",
       "      <td>-647.0</td>\n",
       "      <td>-647.0</td>\n",
       "      <td>-639.0</td>\n",
       "      <td>0.0</td>\n",
       "    </tr>\n",
       "    <tr>\n",
       "      <th>3</th>\n",
       "      <td>100003</td>\n",
       "      <td>0</td>\n",
       "      <td>Cash loans</td>\n",
       "      <td>F</td>\n",
       "      <td>N</td>\n",
       "      <td>N</td>\n",
       "      <td>0</td>\n",
       "      <td>270000.0</td>\n",
       "      <td>1293502.5</td>\n",
       "      <td>35698.5</td>\n",
       "      <td>...</td>\n",
       "      <td>Consumer electronics</td>\n",
       "      <td>12.0</td>\n",
       "      <td>middle</td>\n",
       "      <td>POS household with interest</td>\n",
       "      <td>365243.0</td>\n",
       "      <td>-2310.0</td>\n",
       "      <td>-1980.0</td>\n",
       "      <td>-1980.0</td>\n",
       "      <td>-1976.0</td>\n",
       "      <td>1.0</td>\n",
       "    </tr>\n",
       "    <tr>\n",
       "      <th>4</th>\n",
       "      <td>100004</td>\n",
       "      <td>0</td>\n",
       "      <td>Revolving loans</td>\n",
       "      <td>M</td>\n",
       "      <td>Y</td>\n",
       "      <td>Y</td>\n",
       "      <td>0</td>\n",
       "      <td>67500.0</td>\n",
       "      <td>135000.0</td>\n",
       "      <td>6750.0</td>\n",
       "      <td>...</td>\n",
       "      <td>Connectivity</td>\n",
       "      <td>4.0</td>\n",
       "      <td>middle</td>\n",
       "      <td>POS mobile without interest</td>\n",
       "      <td>365243.0</td>\n",
       "      <td>-784.0</td>\n",
       "      <td>-694.0</td>\n",
       "      <td>-724.0</td>\n",
       "      <td>-714.0</td>\n",
       "      <td>0.0</td>\n",
       "    </tr>\n",
       "  </tbody>\n",
       "</table>\n",
       "<p>5 rows × 158 columns</p>\n",
       "</div>"
      ],
      "text/plain": [
       "   SK_ID_CURR  TARGET NAME_CONTRACT_TYPE_x CODE_GENDER FLAG_OWN_CAR  \\\n",
       "0      100002       1           Cash loans           M            N   \n",
       "1      100003       0           Cash loans           F            N   \n",
       "2      100003       0           Cash loans           F            N   \n",
       "3      100003       0           Cash loans           F            N   \n",
       "4      100004       0      Revolving loans           M            Y   \n",
       "\n",
       "  FLAG_OWN_REALTY  CNT_CHILDREN  AMT_INCOME_TOTAL  AMT_CREDIT_x  \\\n",
       "0               Y             0          202500.0      406597.5   \n",
       "1               N             0          270000.0     1293502.5   \n",
       "2               N             0          270000.0     1293502.5   \n",
       "3               N             0          270000.0     1293502.5   \n",
       "4               Y             0           67500.0      135000.0   \n",
       "\n",
       "   AMT_ANNUITY_x  ...  NAME_SELLER_INDUSTRY CNT_PAYMENT NAME_YIELD_GROUP  \\\n",
       "0        24700.5  ...       Auto technology        24.0       low_normal   \n",
       "1        35698.5  ...                   XNA        12.0       low_normal   \n",
       "2        35698.5  ...             Furniture         6.0           middle   \n",
       "3        35698.5  ...  Consumer electronics        12.0           middle   \n",
       "4         6750.0  ...          Connectivity         4.0           middle   \n",
       "\n",
       "           PRODUCT_COMBINATION DAYS_FIRST_DRAWING DAYS_FIRST_DUE  \\\n",
       "0      POS other with interest           365243.0         -565.0   \n",
       "1             Cash X-Sell: low           365243.0         -716.0   \n",
       "2   POS industry with interest           365243.0         -797.0   \n",
       "3  POS household with interest           365243.0        -2310.0   \n",
       "4  POS mobile without interest           365243.0         -784.0   \n",
       "\n",
       "   DAYS_LAST_DUE_1ST_VERSION  DAYS_LAST_DUE  DAYS_TERMINATION  \\\n",
       "0                      125.0          -25.0             -17.0   \n",
       "1                     -386.0         -536.0            -527.0   \n",
       "2                     -647.0         -647.0            -639.0   \n",
       "3                    -1980.0        -1980.0           -1976.0   \n",
       "4                     -694.0         -724.0            -714.0   \n",
       "\n",
       "   NFLAG_INSURED_ON_APPROVAL  \n",
       "0                        0.0  \n",
       "1                        1.0  \n",
       "2                        0.0  \n",
       "3                        1.0  \n",
       "4                        0.0  \n",
       "\n",
       "[5 rows x 158 columns]"
      ]
     },
     "execution_count": 4,
     "metadata": {},
     "output_type": "execute_result"
    }
   ],
   "source": [
    "df3.head()"
   ]
  },
  {
   "cell_type": "code",
   "execution_count": 5,
   "metadata": {},
   "outputs": [
    {
     "name": "stdout",
     "output_type": "stream",
     "text": [
      "<class 'pandas.core.frame.DataFrame'>\n",
      "Int64Index: 1413701 entries, 0 to 1413700\n",
      "Columns: 158 entries, SK_ID_CURR to NFLAG_INSURED_ON_APPROVAL\n",
      "dtypes: float64(80), int64(46), object(32)\n",
      "memory usage: 1.7+ GB\n"
     ]
    }
   ],
   "source": [
    "df3.info()"
   ]
  },
  {
   "cell_type": "code",
   "execution_count": 7,
   "metadata": {},
   "outputs": [
    {
     "data": {
      "text/plain": [
       "(1413701, 158)"
      ]
     },
     "execution_count": 7,
     "metadata": {},
     "output_type": "execute_result"
    }
   ],
   "source": [
    "df3.shape"
   ]
  },
  {
   "cell_type": "code",
   "execution_count": 8,
   "metadata": {},
   "outputs": [
    {
     "data": {
      "text/plain": [
       "Index(['SK_ID_CURR', 'TARGET', 'NAME_CONTRACT_TYPE_x', 'CODE_GENDER',\n",
       "       'FLAG_OWN_CAR', 'FLAG_OWN_REALTY', 'CNT_CHILDREN', 'AMT_INCOME_TOTAL',\n",
       "       'AMT_CREDIT_x', 'AMT_ANNUITY_x',\n",
       "       ...\n",
       "       'NAME_SELLER_INDUSTRY', 'CNT_PAYMENT', 'NAME_YIELD_GROUP',\n",
       "       'PRODUCT_COMBINATION', 'DAYS_FIRST_DRAWING', 'DAYS_FIRST_DUE',\n",
       "       'DAYS_LAST_DUE_1ST_VERSION', 'DAYS_LAST_DUE', 'DAYS_TERMINATION',\n",
       "       'NFLAG_INSURED_ON_APPROVAL'],\n",
       "      dtype='object', length=158)"
      ]
     },
     "execution_count": 8,
     "metadata": {},
     "output_type": "execute_result"
    }
   ],
   "source": [
    "df3.columns"
   ]
  },
  {
   "cell_type": "code",
   "execution_count": 9,
   "metadata": {},
   "outputs": [
    {
     "data": {
      "text/plain": [
       "SK_ID_CURR                        0\n",
       "TARGET                            0\n",
       "NAME_CONTRACT_TYPE_x              0\n",
       "CODE_GENDER                       0\n",
       "FLAG_OWN_CAR                      0\n",
       "                              ...  \n",
       "DAYS_FIRST_DUE               561106\n",
       "DAYS_LAST_DUE_1ST_VERSION    561106\n",
       "DAYS_LAST_DUE                561106\n",
       "DAYS_TERMINATION             561106\n",
       "NFLAG_INSURED_ON_APPROVAL    561106\n",
       "Length: 158, dtype: int64"
      ]
     },
     "execution_count": 9,
     "metadata": {},
     "output_type": "execute_result"
    }
   ],
   "source": [
    "df3.isnull().sum()"
   ]
  },
  {
   "cell_type": "code",
   "execution_count": 10,
   "metadata": {},
   "outputs": [
    {
     "data": {
      "text/html": [
       "<div>\n",
       "<style scoped>\n",
       "    .dataframe tbody tr th:only-of-type {\n",
       "        vertical-align: middle;\n",
       "    }\n",
       "\n",
       "    .dataframe tbody tr th {\n",
       "        vertical-align: top;\n",
       "    }\n",
       "\n",
       "    .dataframe thead th {\n",
       "        text-align: right;\n",
       "    }\n",
       "</style>\n",
       "<table border=\"1\" class=\"dataframe\">\n",
       "  <thead>\n",
       "    <tr style=\"text-align: right;\">\n",
       "      <th></th>\n",
       "      <th>count</th>\n",
       "      <th>mean</th>\n",
       "      <th>std</th>\n",
       "      <th>min</th>\n",
       "      <th>25%</th>\n",
       "      <th>50%</th>\n",
       "      <th>75%</th>\n",
       "      <th>max</th>\n",
       "    </tr>\n",
       "  </thead>\n",
       "  <tbody>\n",
       "    <tr>\n",
       "      <th>SK_ID_CURR</th>\n",
       "      <td>1413701.0</td>\n",
       "      <td>278481.287512</td>\n",
       "      <td>102811.788043</td>\n",
       "      <td>100002.0</td>\n",
       "      <td>189364.0</td>\n",
       "      <td>278992.0</td>\n",
       "      <td>367556.0</td>\n",
       "      <td>456255.0</td>\n",
       "    </tr>\n",
       "    <tr>\n",
       "      <th>TARGET</th>\n",
       "      <td>1413701.0</td>\n",
       "      <td>0.086553</td>\n",
       "      <td>0.281179</td>\n",
       "      <td>0.0</td>\n",
       "      <td>0.0</td>\n",
       "      <td>0.0</td>\n",
       "      <td>0.0</td>\n",
       "      <td>1.0</td>\n",
       "    </tr>\n",
       "    <tr>\n",
       "      <th>CNT_CHILDREN</th>\n",
       "      <td>1413701.0</td>\n",
       "      <td>0.404893</td>\n",
       "      <td>0.717345</td>\n",
       "      <td>0.0</td>\n",
       "      <td>0.0</td>\n",
       "      <td>0.0</td>\n",
       "      <td>1.0</td>\n",
       "      <td>19.0</td>\n",
       "    </tr>\n",
       "    <tr>\n",
       "      <th>AMT_INCOME_TOTAL</th>\n",
       "      <td>1413701.0</td>\n",
       "      <td>173316.043724</td>\n",
       "      <td>198573.372016</td>\n",
       "      <td>25650.0</td>\n",
       "      <td>112500.0</td>\n",
       "      <td>157500.0</td>\n",
       "      <td>207000.0</td>\n",
       "      <td>117000000.0</td>\n",
       "    </tr>\n",
       "    <tr>\n",
       "      <th>AMT_CREDIT_x</th>\n",
       "      <td>1413701.0</td>\n",
       "      <td>587553.672718</td>\n",
       "      <td>384917.331385</td>\n",
       "      <td>45000.0</td>\n",
       "      <td>270000.0</td>\n",
       "      <td>508495.5</td>\n",
       "      <td>807984.0</td>\n",
       "      <td>4050000.0</td>\n",
       "    </tr>\n",
       "    <tr>\n",
       "      <th>...</th>\n",
       "      <td>...</td>\n",
       "      <td>...</td>\n",
       "      <td>...</td>\n",
       "      <td>...</td>\n",
       "      <td>...</td>\n",
       "      <td>...</td>\n",
       "      <td>...</td>\n",
       "      <td>...</td>\n",
       "    </tr>\n",
       "    <tr>\n",
       "      <th>DAYS_FIRST_DUE</th>\n",
       "      <td>852595.0</td>\n",
       "      <td>13488.741567</td>\n",
       "      <td>71650.147146</td>\n",
       "      <td>-2892.0</td>\n",
       "      <td>-1630.0</td>\n",
       "      <td>-825.0</td>\n",
       "      <td>-408.0</td>\n",
       "      <td>365243.0</td>\n",
       "    </tr>\n",
       "    <tr>\n",
       "      <th>DAYS_LAST_DUE_1ST_VERSION</th>\n",
       "      <td>852595.0</td>\n",
       "      <td>33274.831806</td>\n",
       "      <td>106161.775933</td>\n",
       "      <td>-2801.0</td>\n",
       "      <td>-1244.0</td>\n",
       "      <td>-358.0</td>\n",
       "      <td>135.0</td>\n",
       "      <td>365243.0</td>\n",
       "    </tr>\n",
       "    <tr>\n",
       "      <th>DAYS_LAST_DUE</th>\n",
       "      <td>852595.0</td>\n",
       "      <td>76665.634755</td>\n",
       "      <td>149704.716371</td>\n",
       "      <td>-2889.0</td>\n",
       "      <td>-1316.0</td>\n",
       "      <td>-534.0</td>\n",
       "      <td>-73.0</td>\n",
       "      <td>365243.0</td>\n",
       "    </tr>\n",
       "    <tr>\n",
       "      <th>DAYS_TERMINATION</th>\n",
       "      <td>852595.0</td>\n",
       "      <td>82353.171672</td>\n",
       "      <td>153537.064274</td>\n",
       "      <td>-2874.0</td>\n",
       "      <td>-1269.0</td>\n",
       "      <td>-494.0</td>\n",
       "      <td>-42.0</td>\n",
       "      <td>365243.0</td>\n",
       "    </tr>\n",
       "    <tr>\n",
       "      <th>NFLAG_INSURED_ON_APPROVAL</th>\n",
       "      <td>852595.0</td>\n",
       "      <td>0.330572</td>\n",
       "      <td>0.470419</td>\n",
       "      <td>0.0</td>\n",
       "      <td>0.0</td>\n",
       "      <td>0.0</td>\n",
       "      <td>1.0</td>\n",
       "      <td>1.0</td>\n",
       "    </tr>\n",
       "  </tbody>\n",
       "</table>\n",
       "<p>126 rows × 8 columns</p>\n",
       "</div>"
      ],
      "text/plain": [
       "                               count           mean            std       min  \\\n",
       "SK_ID_CURR                 1413701.0  278481.287512  102811.788043  100002.0   \n",
       "TARGET                     1413701.0       0.086553       0.281179       0.0   \n",
       "CNT_CHILDREN               1413701.0       0.404893       0.717345       0.0   \n",
       "AMT_INCOME_TOTAL           1413701.0  173316.043724  198573.372016   25650.0   \n",
       "AMT_CREDIT_x               1413701.0  587553.672718  384917.331385   45000.0   \n",
       "...                              ...            ...            ...       ...   \n",
       "DAYS_FIRST_DUE              852595.0   13488.741567   71650.147146   -2892.0   \n",
       "DAYS_LAST_DUE_1ST_VERSION   852595.0   33274.831806  106161.775933   -2801.0   \n",
       "DAYS_LAST_DUE               852595.0   76665.634755  149704.716371   -2889.0   \n",
       "DAYS_TERMINATION            852595.0   82353.171672  153537.064274   -2874.0   \n",
       "NFLAG_INSURED_ON_APPROVAL   852595.0       0.330572       0.470419       0.0   \n",
       "\n",
       "                                25%       50%       75%          max  \n",
       "SK_ID_CURR                 189364.0  278992.0  367556.0     456255.0  \n",
       "TARGET                          0.0       0.0       0.0          1.0  \n",
       "CNT_CHILDREN                    0.0       0.0       1.0         19.0  \n",
       "AMT_INCOME_TOTAL           112500.0  157500.0  207000.0  117000000.0  \n",
       "AMT_CREDIT_x               270000.0  508495.5  807984.0    4050000.0  \n",
       "...                             ...       ...       ...          ...  \n",
       "DAYS_FIRST_DUE              -1630.0    -825.0    -408.0     365243.0  \n",
       "DAYS_LAST_DUE_1ST_VERSION   -1244.0    -358.0     135.0     365243.0  \n",
       "DAYS_LAST_DUE               -1316.0    -534.0     -73.0     365243.0  \n",
       "DAYS_TERMINATION            -1269.0    -494.0     -42.0     365243.0  \n",
       "NFLAG_INSURED_ON_APPROVAL       0.0       0.0       1.0          1.0  \n",
       "\n",
       "[126 rows x 8 columns]"
      ]
     },
     "execution_count": 10,
     "metadata": {},
     "output_type": "execute_result"
    }
   ],
   "source": [
    "df3.describe().T"
   ]
  },
  {
   "cell_type": "code",
   "execution_count": 18,
   "metadata": {},
   "outputs": [
    {
     "data": {
      "text/plain": [
       "Index(['SK_ID_CURR', 'TARGET', 'NAME_CONTRACT_TYPE_x', 'CODE_GENDER',\n",
       "       'FLAG_OWN_CAR', 'FLAG_OWN_REALTY', 'CNT_CHILDREN', 'AMT_INCOME_TOTAL',\n",
       "       'AMT_CREDIT_x', 'AMT_ANNUITY_x',\n",
       "       ...\n",
       "       'NAME_SELLER_INDUSTRY', 'CNT_PAYMENT', 'NAME_YIELD_GROUP',\n",
       "       'PRODUCT_COMBINATION', 'DAYS_FIRST_DRAWING', 'DAYS_FIRST_DUE',\n",
       "       'DAYS_LAST_DUE_1ST_VERSION', 'DAYS_LAST_DUE', 'DAYS_TERMINATION',\n",
       "       'NFLAG_INSURED_ON_APPROVAL'],\n",
       "      dtype='object', length=158)"
      ]
     },
     "execution_count": 18,
     "metadata": {},
     "output_type": "execute_result"
    }
   ],
   "source": [
    "df3.keys()"
   ]
  },
  {
   "cell_type": "markdown",
   "metadata": {},
   "source": [
    "# UNIVARIATE ANALYSIS"
   ]
  },
  {
   "cell_type": "code",
   "execution_count": 20,
   "metadata": {},
   "outputs": [
    {
     "data": {
      "text/plain": [
       "array(['POS', 'Cash', 'XNA', 'Cards', 'Cars'], dtype=object)"
      ]
     },
     "execution_count": 20,
     "metadata": {},
     "output_type": "execute_result"
    }
   ],
   "source": [
    "df3['NAME_PORTFOLIO'].unique()"
   ]
  },
  {
   "cell_type": "code",
   "execution_count": 21,
   "metadata": {},
   "outputs": [
    {
     "data": {
      "text/plain": [
       "POS      592460\n",
       "Cash     391663\n",
       "XNA      307213\n",
       "Cards    121985\n",
       "Cars        380\n",
       "Name: NAME_PORTFOLIO, dtype: int64"
      ]
     },
     "execution_count": 21,
     "metadata": {},
     "output_type": "execute_result"
    }
   ],
   "source": [
    "df3['NAME_PORTFOLIO'].value_counts()"
   ]
  },
  {
   "cell_type": "code",
   "execution_count": 22,
   "metadata": {},
   "outputs": [
    {
     "data": {
      "text/plain": [
       "<seaborn.axisgrid.FacetGrid at 0x22b42b24940>"
      ]
     },
     "execution_count": 22,
     "metadata": {},
     "output_type": "execute_result"
    },
    {
     "data": {
      "image/png": "[encoded data removed]",
      "text/plain": [
       "<Figure size 360x360 with 1 Axes>"
      ]
     },
     "metadata": {
      "needs_background": "light"
     },
     "output_type": "display_data"
    }
   ],
   "source": [
    "sns.catplot(x='NAME_PORTFOLIO', data=df3,kind='count')"
   ]
  },
  {
   "cell_type": "code",
   "execution_count": 23,
   "metadata": {},
   "outputs": [
    {
     "data": {
      "text/plain": [
       "0              XNA\n",
       "1           x-sell\n",
       "2              XNA\n",
       "3              XNA\n",
       "4              XNA\n",
       "            ...   \n",
       "1413696     x-sell\n",
       "1413697    walk-in\n",
       "1413698    walk-in\n",
       "1413699     x-sell\n",
       "1413700        XNA\n",
       "Name: NAME_PRODUCT_TYPE, Length: 1413701, dtype: object"
      ]
     },
     "execution_count": 23,
     "metadata": {},
     "output_type": "execute_result"
    }
   ],
   "source": [
    "df3['NAME_PRODUCT_TYPE']"
   ]
  },
  {
   "cell_type": "code",
   "execution_count": 24,
   "metadata": {},
   "outputs": [
    {
     "data": {
      "text/plain": [
       "array(['XNA', 'x-sell', 'walk-in'], dtype=object)"
      ]
     },
     "execution_count": 24,
     "metadata": {},
     "output_type": "execute_result"
    }
   ],
   "source": [
    "df3['NAME_PRODUCT_TYPE'].unique()"
   ]
  },
  {
   "cell_type": "code",
   "execution_count": 25,
   "metadata": {},
   "outputs": [
    {
     "data": {
      "text/plain": [
       "XNA        900053\n",
       "x-sell     385394\n",
       "walk-in    128254\n",
       "Name: NAME_PRODUCT_TYPE, dtype: int64"
      ]
     },
     "execution_count": 25,
     "metadata": {},
     "output_type": "execute_result"
    }
   ],
   "source": [
    "df3['NAME_PRODUCT_TYPE'].value_counts()"
   ]
  },
  {
   "cell_type": "code",
   "execution_count": 26,
   "metadata": {},
   "outputs": [
    {
     "data": {
      "text/plain": [
       "<seaborn.axisgrid.FacetGrid at 0x22b403d0e80>"
      ]
     },
     "execution_count": 26,
     "metadata": {},
     "output_type": "execute_result"
    },
    {
     "data": {
      "image/png": "[encoded data removed]",
      "text/plain": [
       "<Figure size 360x360 with 1 Axes>"
      ]
     },
     "metadata": {
      "needs_background": "light"
     },
     "output_type": "display_data"
    }
   ],
   "source": [
    "sns.catplot(x='NAME_PRODUCT_TYPE', data=df3,kind='count')"
   ]
  },
  {
   "cell_type": "code",
   "execution_count": 27,
   "metadata": {},
   "outputs": [
    {
     "data": {
      "text/plain": [
       "0                            Stone\n",
       "1          Credit and cash offices\n",
       "2                            Stone\n",
       "3                     Country-wide\n",
       "4                 Regional / Local\n",
       "                    ...           \n",
       "1413696    Credit and cash offices\n",
       "1413697               Country-wide\n",
       "1413698    Credit and cash offices\n",
       "1413699            AP+ (Cash loan)\n",
       "1413700               Country-wide\n",
       "Name: CHANNEL_TYPE, Length: 1413701, dtype: object"
      ]
     },
     "execution_count": 27,
     "metadata": {},
     "output_type": "execute_result"
    }
   ],
   "source": [
    "df3['CHANNEL_TYPE']"
   ]
  },
  {
   "cell_type": "code",
   "execution_count": 28,
   "metadata": {},
   "outputs": [
    {
     "data": {
      "text/plain": [
       "array(['Stone', 'Credit and cash offices', 'Country-wide',\n",
       "       'Regional / Local', 'AP+ (Cash loan)', 'Contact center',\n",
       "       'Channel of corporate sales', 'Car dealer'], dtype=object)"
      ]
     },
     "execution_count": 28,
     "metadata": {},
     "output_type": "execute_result"
    }
   ],
   "source": [
    "df3['CHANNEL_TYPE'].unique()"
   ]
  },
  {
   "cell_type": "code",
   "execution_count": 29,
   "metadata": {},
   "outputs": [
    {
     "data": {
      "text/plain": [
       "Credit and cash offices       600342\n",
       "Country-wide                  423062\n",
       "Stone                         183508\n",
       "Regional / Local               92472\n",
       "Contact center                 58891\n",
       "AP+ (Cash loan)                49624\n",
       "Channel of corporate sales      5396\n",
       "Car dealer                       406\n",
       "Name: CHANNEL_TYPE, dtype: int64"
      ]
     },
     "execution_count": 29,
     "metadata": {},
     "output_type": "execute_result"
    }
   ],
   "source": [
    "df3['CHANNEL_TYPE'].value_counts()"
   ]
  },
  {
   "cell_type": "code",
   "execution_count": 32,
   "metadata": {},
   "outputs": [
    {
     "data": {
      "image/png": "[encoded data removed]",
      "text/plain": [
       "<Figure size 1440x720 with 1 Axes>"
      ]
     },
     "metadata": {
      "needs_background": "light"
     },
     "output_type": "display_data"
    }
   ],
   "source": [
    "sns.countplot(df3['CHANNEL_TYPE'])\n",
    "fig = plt.gcf()\n",
    "fig.set_size_inches(20,10)"
   ]
  },
  {
   "cell_type": "code",
   "execution_count": 33,
   "metadata": {},
   "outputs": [
    {
     "data": {
      "text/plain": [
       "0           500\n",
       "1            -1\n",
       "2          1400\n",
       "3           200\n",
       "4            30\n",
       "           ... \n",
       "1413696      -1\n",
       "1413697      20\n",
       "1413698      -1\n",
       "1413699       6\n",
       "1413700      20\n",
       "Name: SELLERPLACE_AREA, Length: 1413701, dtype: int64"
      ]
     },
     "execution_count": 33,
     "metadata": {},
     "output_type": "execute_result"
    }
   ],
   "source": [
    "df3['SELLERPLACE_AREA']"
   ]
  },
  {
   "cell_type": "code",
   "execution_count": 36,
   "metadata": {},
   "outputs": [
    {
     "data": {
      "text/plain": [
       "-1       636583\n",
       " 0        50680\n",
       " 50       31699\n",
       " 30       29690\n",
       " 20       29085\n",
       "          ...  \n",
       " 7518         1\n",
       " 688          1\n",
       " 1317         1\n",
       " 9740         1\n",
       " 1023         1\n",
       "Name: SELLERPLACE_AREA, Length: 2077, dtype: int64"
      ]
     },
     "execution_count": 36,
     "metadata": {},
     "output_type": "execute_result"
    }
   ],
   "source": [
    "df3['SELLERPLACE_AREA'].value_counts()"
   ]
  },
  {
   "cell_type": "code",
   "execution_count": 37,
   "metadata": {},
   "outputs": [
    {
     "data": {
      "text/plain": [
       "0               Auto technology\n",
       "1                           XNA\n",
       "2                     Furniture\n",
       "3          Consumer electronics\n",
       "4                  Connectivity\n",
       "                   ...         \n",
       "1413696                     XNA\n",
       "1413697            Connectivity\n",
       "1413698                     XNA\n",
       "1413699                     XNA\n",
       "1413700            Connectivity\n",
       "Name: NAME_SELLER_INDUSTRY, Length: 1413701, dtype: object"
      ]
     },
     "execution_count": 37,
     "metadata": {},
     "output_type": "execute_result"
    }
   ],
   "source": [
    "df3['NAME_SELLER_INDUSTRY']"
   ]
  },
  {
   "cell_type": "code",
   "execution_count": 38,
   "metadata": {},
   "outputs": [
    {
     "data": {
      "text/plain": [
       "array(['Auto technology', 'XNA', 'Furniture', 'Consumer electronics',\n",
       "       'Connectivity', 'Construction', 'Clothing', 'Industry', 'Tourism',\n",
       "       'Jewelry', 'MLM partners'], dtype=object)"
      ]
     },
     "execution_count": 38,
     "metadata": {},
     "output_type": "execute_result"
    }
   ],
   "source": [
    "df3['NAME_SELLER_INDUSTRY'].unique()"
   ]
  },
  {
   "cell_type": "code",
   "execution_count": 39,
   "metadata": {},
   "outputs": [
    {
     "data": {
      "text/plain": [
       "XNA                     715322\n",
       "Consumer electronics    341701\n",
       "Connectivity            238350\n",
       "Furniture                48966\n",
       "Construction             25417\n",
       "Clothing                 19896\n",
       "Industry                 16567\n",
       "Auto technology           4080\n",
       "Jewelry                   2107\n",
       "MLM partners               921\n",
       "Tourism                    374\n",
       "Name: NAME_SELLER_INDUSTRY, dtype: int64"
      ]
     },
     "execution_count": 39,
     "metadata": {},
     "output_type": "execute_result"
    }
   ],
   "source": [
    "df3['NAME_SELLER_INDUSTRY'].value_counts()"
   ]
  },
  {
   "cell_type": "code",
   "execution_count": 40,
   "metadata": {},
   "outputs": [
    {
     "data": {
      "image/png": "[encoded data removed]",
      "text/plain": [
       "<Figure size 1440x720 with 1 Axes>"
      ]
     },
     "metadata": {
      "needs_background": "light"
     },
     "output_type": "display_data"
    }
   ],
   "source": [
    "sns.countplot(df3['NAME_SELLER_INDUSTRY'])\n",
    "fig = plt.gcf()\n",
    "fig.set_size_inches(20,10)"
   ]
  },
  {
   "cell_type": "code",
   "execution_count": 42,
   "metadata": {},
   "outputs": [
    {
     "data": {
      "text/plain": [
       "0          24.0\n",
       "1          12.0\n",
       "2           6.0\n",
       "3          12.0\n",
       "4           4.0\n",
       "           ... \n",
       "1413696    24.0\n",
       "1413697     0.0\n",
       "1413698    60.0\n",
       "1413699    36.0\n",
       "1413700     6.0\n",
       "Name: CNT_PAYMENT, Length: 1413701, dtype: float64"
      ]
     },
     "execution_count": 42,
     "metadata": {},
     "output_type": "execute_result"
    }
   ],
   "source": [
    "df3['CNT_PAYMENT']"
   ]
  },
  {
   "cell_type": "code",
   "execution_count": 44,
   "metadata": {},
   "outputs": [
    {
     "data": {
      "text/plain": [
       "array([24., 12.,  6.,  4., 48., nan,  0., 18., 10., 30.,  8., 16., 36.,\n",
       "        5., 60., 42., 14., 54., 20.,  3., 15., 72.,  9.,  7., 11., 22.,\n",
       "       17., 84., 13., 29., 59., 53., 40., 23., 26., 28., 32., 34., 38.,\n",
       "       19., 66., 35., 33., 39., 44., 21., 47., 41., 45.])"
      ]
     },
     "execution_count": 44,
     "metadata": {},
     "output_type": "execute_result"
    }
   ],
   "source": [
    "df3['CNT_PAYMENT'].unique()"
   ]
  },
  {
   "cell_type": "code",
   "execution_count": 45,
   "metadata": {},
   "outputs": [
    {
     "data": {
      "text/plain": [
       "12.0    275258\n",
       "6.0     162760\n",
       "10.0    122546\n",
       "0.0     121985\n",
       "24.0    116777\n",
       "18.0     65532\n",
       "36.0     60844\n",
       "60.0     45697\n",
       "48.0     40709\n",
       "8.0      26117\n",
       "4.0      23360\n",
       "30.0     14599\n",
       "14.0      7188\n",
       "42.0      6229\n",
       "16.0      4782\n",
       "5.0       3490\n",
       "54.0      1853\n",
       "20.0      1613\n",
       "7.0       1282\n",
       "9.0       1118\n",
       "3.0        944\n",
       "15.0       837\n",
       "11.0       582\n",
       "72.0       123\n",
       "13.0        48\n",
       "84.0        45\n",
       "17.0        37\n",
       "22.0        32\n",
       "23.0        24\n",
       "26.0        11\n",
       "66.0        10\n",
       "35.0         9\n",
       "28.0         8\n",
       "29.0         6\n",
       "19.0         5\n",
       "32.0         5\n",
       "34.0         3\n",
       "59.0         3\n",
       "21.0         3\n",
       "41.0         3\n",
       "39.0         2\n",
       "45.0         2\n",
       "47.0         2\n",
       "44.0         1\n",
       "53.0         1\n",
       "40.0         1\n",
       "38.0         1\n",
       "33.0         1\n",
       "Name: CNT_PAYMENT, dtype: int64"
      ]
     },
     "execution_count": 45,
     "metadata": {},
     "output_type": "execute_result"
    }
   ],
   "source": [
    "df3['CNT_PAYMENT'].value_counts()"
   ]
  },
  {
   "cell_type": "code",
   "execution_count": 48,
   "metadata": {},
   "outputs": [
    {
     "data": {
      "text/plain": [
       "0          low_normal\n",
       "1          low_normal\n",
       "2              middle\n",
       "3              middle\n",
       "4              middle\n",
       "              ...    \n",
       "1413696        middle\n",
       "1413697           XNA\n",
       "1413698    low_normal\n",
       "1413699    low_normal\n",
       "1413700          high\n",
       "Name: NAME_YIELD_GROUP, Length: 1413701, dtype: object"
      ]
     },
     "execution_count": 48,
     "metadata": {},
     "output_type": "execute_result"
    }
   ],
   "source": [
    "df3['NAME_YIELD_GROUP']"
   ]
  },
  {
   "cell_type": "code",
   "execution_count": 49,
   "metadata": {},
   "outputs": [
    {
     "data": {
      "text/plain": [
       "array(['low_normal', 'middle', 'XNA', 'high', 'low_action'], dtype=object)"
      ]
     },
     "execution_count": 49,
     "metadata": {},
     "output_type": "execute_result"
    }
   ],
   "source": [
    "df3['NAME_YIELD_GROUP'].unique()"
   ]
  },
  {
   "cell_type": "code",
   "execution_count": 50,
   "metadata": {},
   "outputs": [
    {
     "data": {
      "text/plain": [
       "XNA           429198\n",
       "middle        324971\n",
       "high          306061\n",
       "low_normal    274884\n",
       "low_action     78587\n",
       "Name: NAME_YIELD_GROUP, dtype: int64"
      ]
     },
     "execution_count": 50,
     "metadata": {},
     "output_type": "execute_result"
    }
   ],
   "source": [
    "df3['NAME_YIELD_GROUP'].value_counts()"
   ]
  },
  {
   "cell_type": "code",
   "execution_count": 51,
   "metadata": {},
   "outputs": [
    {
     "data": {
      "text/plain": [
       "<seaborn.axisgrid.FacetGrid at 0x22e154dc4c0>"
      ]
     },
     "execution_count": 51,
     "metadata": {},
     "output_type": "execute_result"
    },
    {
     "data": {
      "image/png": "[encoded data removed]",
      "text/plain": [
       "<Figure size 360x360 with 1 Axes>"
      ]
     },
     "metadata": {
      "needs_background": "light"
     },
     "output_type": "display_data"
    }
   ],
   "source": [
    "sns.catplot(x='NAME_YIELD_GROUP', data=df3,kind='count')"
   ]
  },
  {
   "cell_type": "code",
   "execution_count": 52,
   "metadata": {},
   "outputs": [
    {
     "data": {
      "text/plain": [
       "0              POS other with interest\n",
       "1                     Cash X-Sell: low\n",
       "2           POS industry with interest\n",
       "3          POS household with interest\n",
       "4          POS mobile without interest\n",
       "                      ...             \n",
       "1413696            Cash X-Sell: middle\n",
       "1413697                    Card Street\n",
       "1413698               Cash Street: low\n",
       "1413699               Cash X-Sell: low\n",
       "1413700       POS mobile with interest\n",
       "Name: PRODUCT_COMBINATION, Length: 1413701, dtype: object"
      ]
     },
     "execution_count": 52,
     "metadata": {},
     "output_type": "execute_result"
    }
   ],
   "source": [
    "df3['PRODUCT_COMBINATION']"
   ]
  },
  {
   "cell_type": "code",
   "execution_count": 53,
   "metadata": {},
   "outputs": [
    {
     "data": {
      "text/plain": [
       "array(['POS other with interest', 'Cash X-Sell: low',\n",
       "       'POS industry with interest', 'POS household with interest',\n",
       "       'POS mobile without interest', 'Card Street', 'Card X-Sell',\n",
       "       'Cash X-Sell: high', 'Cash', 'Cash Street: high',\n",
       "       'Cash X-Sell: middle', 'POS mobile with interest',\n",
       "       'POS household without interest', 'POS industry without interest',\n",
       "       'Cash Street: low', 'Cash Street: middle',\n",
       "       'POS others without interest', nan], dtype=object)"
      ]
     },
     "execution_count": 53,
     "metadata": {},
     "output_type": "execute_result"
    }
   ],
   "source": [
    "df3['PRODUCT_COMBINATION'].unique()"
   ]
  },
  {
   "cell_type": "code",
   "execution_count": 54,
   "metadata": {},
   "outputs": [
    {
     "data": {
      "text/plain": [
       "Cash                              235101\n",
       "POS household with interest       226464\n",
       "POS mobile with interest          190850\n",
       "Cash X-Sell: middle               120036\n",
       "Cash X-Sell: low                  110599\n",
       "Card Street                        94594\n",
       "POS industry with interest         83508\n",
       "POS household without interest     71519\n",
       "Card X-Sell                        66774\n",
       "Cash Street: high                  51699\n",
       "Cash X-Sell: high                  50802\n",
       "Cash Street: middle                29934\n",
       "Cash Street: low                   28593\n",
       "POS other with interest            20309\n",
       "POS mobile without interest        19890\n",
       "POS industry without interest      10621\n",
       "POS others without interest         2095\n",
       "Name: PRODUCT_COMBINATION, dtype: int64"
      ]
     },
     "execution_count": 54,
     "metadata": {},
     "output_type": "execute_result"
    }
   ],
   "source": [
    "df3['PRODUCT_COMBINATION'].value_counts()"
   ]
  },
  {
   "cell_type": "code",
   "execution_count": 63,
   "metadata": {},
   "outputs": [
    {
     "data": {
      "text/plain": [
       "(array([ 0,  1,  2,  3,  4,  5,  6,  7,  8,  9, 10, 11, 12, 13, 14, 15, 16]),\n",
       " [Text(0, 0, 'POS other with interest'),\n",
       "  Text(1, 0, 'Cash X-Sell: low'),\n",
       "  Text(2, 0, 'POS industry with interest'),\n",
       "  Text(3, 0, 'POS household with interest'),\n",
       "  Text(4, 0, 'POS mobile without interest'),\n",
       "  Text(5, 0, 'Card Street'),\n",
       "  Text(6, 0, 'Card X-Sell'),\n",
       "  Text(7, 0, 'Cash X-Sell: high'),\n",
       "  Text(8, 0, 'Cash'),\n",
       "  Text(9, 0, 'Cash Street: high'),\n",
       "  Text(10, 0, 'Cash X-Sell: middle'),\n",
       "  Text(11, 0, 'POS mobile with interest'),\n",
       "  Text(12, 0, 'POS household without interest'),\n",
       "  Text(13, 0, 'POS industry without interest'),\n",
       "  Text(14, 0, 'Cash Street: low'),\n",
       "  Text(15, 0, 'Cash Street: middle'),\n",
       "  Text(16, 0, 'POS others without interest')])"
      ]
     },
     "execution_count": 63,
     "metadata": {},
     "output_type": "execute_result"
    },
    {
     "data": {
      "image/png": "[encoded data removed]",
      "text/plain": [
       "<Figure size 1440x720 with 1 Axes>"
      ]
     },
     "metadata": {
      "needs_background": "light"
     },
     "output_type": "display_data"
    }
   ],
   "source": [
    "sns.countplot(df3['PRODUCT_COMBINATION'])\n",
    "fig = plt.gcf()\n",
    "fig.set_size_inches(20,10)\n",
    "plt.xticks(rotation=90)"
   ]
  },
  {
   "cell_type": "code",
   "execution_count": 64,
   "metadata": {},
   "outputs": [
    {
     "data": {
      "text/plain": [
       "0          365243.0\n",
       "1          365243.0\n",
       "2          365243.0\n",
       "3          365243.0\n",
       "4          365243.0\n",
       "             ...   \n",
       "1413696    365243.0\n",
       "1413697         NaN\n",
       "1413698         NaN\n",
       "1413699    365243.0\n",
       "1413700    365243.0\n",
       "Name: DAYS_FIRST_DRAWING, Length: 1413701, dtype: float64"
      ]
     },
     "execution_count": 64,
     "metadata": {},
     "output_type": "execute_result"
    }
   ],
   "source": [
    "df3['DAYS_FIRST_DRAWING']"
   ]
  },
  {
   "cell_type": "code",
   "execution_count": 65,
   "metadata": {},
   "outputs": [
    {
     "data": {
      "text/plain": [
       " 365243.0    799094\n",
       "-228.0          115\n",
       "-224.0          113\n",
       "-212.0          112\n",
       "-220.0          111\n",
       "              ...  \n",
       "-1842.0           1\n",
       "-1844.0           1\n",
       "-1845.0           1\n",
       "-1846.0           1\n",
       "-1886.0           1\n",
       "Name: DAYS_FIRST_DRAWING, Length: 2799, dtype: int64"
      ]
     },
     "execution_count": 65,
     "metadata": {},
     "output_type": "execute_result"
    }
   ],
   "source": [
    "df3['DAYS_FIRST_DRAWING'].value_counts()"
   ]
  },
  {
   "cell_type": "code",
   "execution_count": 66,
   "metadata": {},
   "outputs": [
    {
     "data": {
      "text/plain": [
       "count    852595.000000\n",
       "mean     342257.656710\n",
       "std       88832.266598\n",
       "min       -2922.000000\n",
       "25%      365243.000000\n",
       "50%      365243.000000\n",
       "75%      365243.000000\n",
       "max      365243.000000\n",
       "Name: DAYS_FIRST_DRAWING, dtype: float64"
      ]
     },
     "execution_count": 66,
     "metadata": {},
     "output_type": "execute_result"
    }
   ],
   "source": [
    "df3['DAYS_FIRST_DRAWING'].describe()"
   ]
  },
  {
   "cell_type": "code",
   "execution_count": 67,
   "metadata": {},
   "outputs": [
    {
     "data": {
      "text/plain": [
       "0          -565.0\n",
       "1          -716.0\n",
       "2          -797.0\n",
       "3         -2310.0\n",
       "4          -784.0\n",
       "            ...  \n",
       "1413696    -618.0\n",
       "1413697       NaN\n",
       "1413698       NaN\n",
       "1413699    -756.0\n",
       "1413700    -469.0\n",
       "Name: DAYS_FIRST_DUE, Length: 1413701, dtype: float64"
      ]
     },
     "execution_count": 67,
     "metadata": {},
     "output_type": "execute_result"
    }
   ],
   "source": [
    "df3['DAYS_FIRST_DUE']"
   ]
  },
  {
   "cell_type": "code",
   "execution_count": 69,
   "metadata": {},
   "outputs": [
    {
     "data": {
      "text/plain": [
       " 365243.0    33962\n",
       "-334.0         661\n",
       "-299.0         653\n",
       "-208.0         650\n",
       "-292.0         647\n",
       "             ...  \n",
       "-2887.0         66\n",
       "-2890.0         58\n",
       "-2891.0         44\n",
       "-2.0            11\n",
       "-2892.0          5\n",
       "Name: DAYS_FIRST_DUE, Length: 2892, dtype: int64"
      ]
     },
     "execution_count": 69,
     "metadata": {},
     "output_type": "execute_result"
    }
   ],
   "source": [
    "df3['DAYS_FIRST_DUE'].value_counts()"
   ]
  },
  {
   "cell_type": "code",
   "execution_count": 70,
   "metadata": {},
   "outputs": [
    {
     "data": {
      "text/plain": [
       "count    852595.000000\n",
       "mean      13488.741567\n",
       "std       71650.147146\n",
       "min       -2892.000000\n",
       "25%       -1630.000000\n",
       "50%        -825.000000\n",
       "75%        -408.000000\n",
       "max      365243.000000\n",
       "Name: DAYS_FIRST_DUE, dtype: float64"
      ]
     },
     "execution_count": 70,
     "metadata": {},
     "output_type": "execute_result"
    }
   ],
   "source": [
    "df3['DAYS_FIRST_DUE'].describe()"
   ]
  },
  {
   "cell_type": "code",
   "execution_count": 71,
   "metadata": {},
   "outputs": [
    {
     "data": {
      "text/plain": [
       "0           125.0\n",
       "1          -386.0\n",
       "2          -647.0\n",
       "3         -1980.0\n",
       "4          -694.0\n",
       "            ...  \n",
       "1413696      72.0\n",
       "1413697       NaN\n",
       "1413698       NaN\n",
       "1413699     294.0\n",
       "1413700    -319.0\n",
       "Name: DAYS_LAST_DUE_1ST_VERSION, Length: 1413701, dtype: float64"
      ]
     },
     "execution_count": 71,
     "metadata": {},
     "output_type": "execute_result"
    }
   ],
   "source": [
    "df3['DAYS_LAST_DUE_1ST_VERSION']"
   ]
  },
  {
   "cell_type": "code",
   "execution_count": 74,
   "metadata": {},
   "outputs": [
    {
     "data": {
      "text/plain": [
       "365243.0    79099\n",
       "9.0           621\n",
       "10.0          601\n",
       "0.0           600\n",
       "8.0           595\n",
       "            ...  \n",
       "2016.0          1\n",
       "2389.0          1\n",
       "1746.0          1\n",
       "1990.0          1\n",
       "2032.0          1\n",
       "Name: DAYS_LAST_DUE_1ST_VERSION, Length: 4604, dtype: int64"
      ]
     },
     "execution_count": 74,
     "metadata": {},
     "output_type": "execute_result"
    }
   ],
   "source": [
    "df3['DAYS_LAST_DUE_1ST_VERSION'].value_counts()"
   ]
  },
  {
   "cell_type": "code",
   "execution_count": 75,
   "metadata": {},
   "outputs": [
    {
     "data": {
      "text/plain": [
       "count    852595.000000\n",
       "mean      33274.831806\n",
       "std      106161.775933\n",
       "min       -2801.000000\n",
       "25%       -1244.000000\n",
       "50%        -358.000000\n",
       "75%         135.000000\n",
       "max      365243.000000\n",
       "Name: DAYS_LAST_DUE_1ST_VERSION, dtype: float64"
      ]
     },
     "execution_count": 75,
     "metadata": {},
     "output_type": "execute_result"
    }
   ],
   "source": [
    "df3['DAYS_LAST_DUE_1ST_VERSION'].describe()"
   ]
  },
  {
   "cell_type": "code",
   "execution_count": 76,
   "metadata": {},
   "outputs": [
    {
     "data": {
      "text/plain": [
       "0           -25.0\n",
       "1          -536.0\n",
       "2          -647.0\n",
       "3         -1980.0\n",
       "4          -724.0\n",
       "            ...  \n",
       "1413696    -558.0\n",
       "1413697       NaN\n",
       "1413698       NaN\n",
       "1413699     -66.0\n",
       "1413700    -409.0\n",
       "Name: DAYS_LAST_DUE, Length: 1413701, dtype: float64"
      ]
     },
     "execution_count": 76,
     "metadata": {},
     "output_type": "execute_result"
    }
   ],
   "source": [
    "df3['DAYS_LAST_DUE']"
   ]
  },
  {
   "cell_type": "code",
   "execution_count": 77,
   "metadata": {},
   "outputs": [
    {
     "data": {
      "text/plain": [
       " 365243.0    180792\n",
       "-239.0          569\n",
       "-188.0          564\n",
       "-245.0          559\n",
       "-236.0          550\n",
       "              ...  \n",
       "-2837.0           1\n",
       "-2836.0           1\n",
       "-2833.0           1\n",
       "-2824.0           1\n",
       "-2889.0           1\n",
       "Name: DAYS_LAST_DUE, Length: 2869, dtype: int64"
      ]
     },
     "execution_count": 77,
     "metadata": {},
     "output_type": "execute_result"
    }
   ],
   "source": [
    "df3['DAYS_LAST_DUE'].value_counts()"
   ]
  },
  {
   "cell_type": "code",
   "execution_count": 78,
   "metadata": {},
   "outputs": [
    {
     "data": {
      "text/plain": [
       "count    852595.000000\n",
       "mean      76665.634755\n",
       "std      149704.716371\n",
       "min       -2889.000000\n",
       "25%       -1316.000000\n",
       "50%        -534.000000\n",
       "75%         -73.000000\n",
       "max      365243.000000\n",
       "Name: DAYS_LAST_DUE, dtype: float64"
      ]
     },
     "execution_count": 78,
     "metadata": {},
     "output_type": "execute_result"
    }
   ],
   "source": [
    "df3['DAYS_LAST_DUE'].describe()"
   ]
  },
  {
   "cell_type": "code",
   "execution_count": 79,
   "metadata": {},
   "outputs": [
    {
     "data": {
      "text/plain": [
       "0           -17.0\n",
       "1          -527.0\n",
       "2          -639.0\n",
       "3         -1976.0\n",
       "4          -714.0\n",
       "            ...  \n",
       "1413696    -528.0\n",
       "1413697       NaN\n",
       "1413698       NaN\n",
       "1413699     -64.0\n",
       "1413700    -400.0\n",
       "Name: DAYS_TERMINATION, Length: 1413701, dtype: float64"
      ]
     },
     "execution_count": 79,
     "metadata": {},
     "output_type": "execute_result"
    }
   ],
   "source": [
    "df3['DAYS_TERMINATION']"
   ]
  },
  {
   "cell_type": "code",
   "execution_count": 80,
   "metadata": {},
   "outputs": [
    {
     "data": {
      "text/plain": [
       " 365243.0    194000\n",
       "-156.0          653\n",
       "-233.0          652\n",
       "-170.0          641\n",
       "-163.0          638\n",
       "              ...  \n",
       "-2804.0           1\n",
       "-2757.0           1\n",
       "-2803.0           1\n",
       "-2802.0           1\n",
       "-2852.0           1\n",
       "Name: DAYS_TERMINATION, Length: 2809, dtype: int64"
      ]
     },
     "execution_count": 80,
     "metadata": {},
     "output_type": "execute_result"
    }
   ],
   "source": [
    "df3['DAYS_TERMINATION'].value_counts()"
   ]
  },
  {
   "cell_type": "code",
   "execution_count": 81,
   "metadata": {},
   "outputs": [
    {
     "data": {
      "text/plain": [
       "count    852595.000000\n",
       "mean      82353.171672\n",
       "std      153537.064274\n",
       "min       -2874.000000\n",
       "25%       -1269.000000\n",
       "50%        -494.000000\n",
       "75%         -42.000000\n",
       "max      365243.000000\n",
       "Name: DAYS_TERMINATION, dtype: float64"
      ]
     },
     "execution_count": 81,
     "metadata": {},
     "output_type": "execute_result"
    }
   ],
   "source": [
    "df3['DAYS_TERMINATION'].describe()"
   ]
  },
  {
   "cell_type": "code",
   "execution_count": 82,
   "metadata": {},
   "outputs": [
    {
     "data": {
      "text/plain": [
       "0          0.0\n",
       "1          1.0\n",
       "2          0.0\n",
       "3          1.0\n",
       "4          0.0\n",
       "          ... \n",
       "1413696    1.0\n",
       "1413697    NaN\n",
       "1413698    NaN\n",
       "1413699    0.0\n",
       "1413700    0.0\n",
       "Name: NFLAG_INSURED_ON_APPROVAL, Length: 1413701, dtype: float64"
      ]
     },
     "execution_count": 82,
     "metadata": {},
     "output_type": "execute_result"
    }
   ],
   "source": [
    "df3['NFLAG_INSURED_ON_APPROVAL']"
   ]
  },
  {
   "cell_type": "code",
   "execution_count": 84,
   "metadata": {},
   "outputs": [
    {
     "data": {
      "text/plain": [
       "0.0    570751\n",
       "1.0    281844\n",
       "Name: NFLAG_INSURED_ON_APPROVAL, dtype: int64"
      ]
     },
     "execution_count": 84,
     "metadata": {},
     "output_type": "execute_result"
    }
   ],
   "source": [
    "df3['NFLAG_INSURED_ON_APPROVAL'].value_counts()"
   ]
  },
  {
   "cell_type": "code",
   "execution_count": 85,
   "metadata": {},
   "outputs": [
    {
     "data": {
      "text/plain": [
       "<seaborn.axisgrid.FacetGrid at 0x22b05ac5c40>"
      ]
     },
     "execution_count": 85,
     "metadata": {},
     "output_type": "execute_result"
    },
    {
     "data": {
      "image/png": "[encoded data removed]",
      "text/plain": [
       "<Figure size 360x360 with 1 Axes>"
      ]
     },
     "metadata": {
      "needs_background": "light"
     },
     "output_type": "display_data"
    }
   ],
   "source": [
    "sns.catplot(x='NFLAG_INSURED_ON_APPROVAL', data=df3,kind='count')"
   ]
  },
  {
   "cell_type": "code",
   "execution_count": null,
   "metadata": {},
   "outputs": [],
   "source": []
  },
  {
   "cell_type": "code",
   "execution_count": null,
   "metadata": {},
   "outputs": [],
   "source": []
  }
 ],
 "metadata": {
  "kernelspec": {
   "display_name": "Python 3",
   "language": "python",
   "name": "python3"
  },
  "language_info": {
   "codemirror_mode": {
    "name": "ipython",
    "version": 3
   },
   "file_extension": ".py",
   "mimetype": "text/x-python",
   "name": "python",
   "nbconvert_exporter": "python",
   "pygments_lexer": "ipython3",
   "version": "3.8.5"
  }
 },
 "nbformat": 4,
 "nbformat_minor": 4
}
