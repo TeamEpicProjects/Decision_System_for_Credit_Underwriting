{
 "cells": [
  {
   "cell_type": "markdown",
   "metadata": {},
   "source": [
    "**IMPORTING THE LIBRARIES**"
   ]
  },
  {
   "cell_type": "code",
   "execution_count": 1,
   "metadata": {},
   "outputs": [],
   "source": [
    "import numpy as np\n",
    "import pandas as pd \n",
    "import matplotlib.pyplot as plt\n",
    "import seaborn as sns\n",
    "import warnings\n",
    "warnings.filterwarnings(\"ignore\")"
   ]
  },
  {
   "cell_type": "markdown",
   "metadata": {},
   "source": [
    "**IMPORTING THE DATA**"
   ]
  },
  {
   "cell_type": "code",
   "execution_count": 2,
   "metadata": {},
   "outputs": [],
   "source": [
    "df1 =  pd.read_csv('application_data.csv.zip')\n",
    "df2 =  pd.read_csv('previous_application.csv.zip')"
   ]
  },
  {
   "cell_type": "code",
   "execution_count": 3,
   "metadata": {},
   "outputs": [],
   "source": [
    "df3 = pd.merge(df1,df2,on='SK_ID_CURR',how='outer',indicator=True)"
   ]
  },
  {
   "cell_type": "code",
   "execution_count": 4,
   "metadata": {},
   "outputs": [
    {
     "data": {
      "text/html": [
       "<div>\n",
       "<style scoped>\n",
       "    .dataframe tbody tr th:only-of-type {\n",
       "        vertical-align: middle;\n",
       "    }\n",
       "\n",
       "    .dataframe tbody tr th {\n",
       "        vertical-align: top;\n",
       "    }\n",
       "\n",
       "    .dataframe thead th {\n",
       "        text-align: right;\n",
       "    }\n",
       "</style>\n",
       "<table border=\"1\" class=\"dataframe\">\n",
       "  <thead>\n",
       "    <tr style=\"text-align: right;\">\n",
       "      <th></th>\n",
       "      <th>SK_ID_CURR</th>\n",
       "      <th>TARGET</th>\n",
       "      <th>NAME_CONTRACT_TYPE_x</th>\n",
       "      <th>CODE_GENDER</th>\n",
       "      <th>FLAG_OWN_CAR</th>\n",
       "      <th>FLAG_OWN_REALTY</th>\n",
       "      <th>CNT_CHILDREN</th>\n",
       "      <th>AMT_INCOME_TOTAL</th>\n",
       "      <th>AMT_CREDIT_x</th>\n",
       "      <th>AMT_ANNUITY_x</th>\n",
       "      <th>...</th>\n",
       "      <th>CNT_PAYMENT</th>\n",
       "      <th>NAME_YIELD_GROUP</th>\n",
       "      <th>PRODUCT_COMBINATION</th>\n",
       "      <th>DAYS_FIRST_DRAWING</th>\n",
       "      <th>DAYS_FIRST_DUE</th>\n",
       "      <th>DAYS_LAST_DUE_1ST_VERSION</th>\n",
       "      <th>DAYS_LAST_DUE</th>\n",
       "      <th>DAYS_TERMINATION</th>\n",
       "      <th>NFLAG_INSURED_ON_APPROVAL</th>\n",
       "      <th>_merge</th>\n",
       "    </tr>\n",
       "  </thead>\n",
       "  <tbody>\n",
       "    <tr>\n",
       "      <th>0</th>\n",
       "      <td>100002</td>\n",
       "      <td>1.0</td>\n",
       "      <td>Cash loans</td>\n",
       "      <td>M</td>\n",
       "      <td>N</td>\n",
       "      <td>Y</td>\n",
       "      <td>0.0</td>\n",
       "      <td>202500.0</td>\n",
       "      <td>406597.5</td>\n",
       "      <td>24700.5</td>\n",
       "      <td>...</td>\n",
       "      <td>24.0</td>\n",
       "      <td>low_normal</td>\n",
       "      <td>POS other with interest</td>\n",
       "      <td>365243.0</td>\n",
       "      <td>-565.0</td>\n",
       "      <td>125.0</td>\n",
       "      <td>-25.0</td>\n",
       "      <td>-17.0</td>\n",
       "      <td>0.0</td>\n",
       "      <td>both</td>\n",
       "    </tr>\n",
       "    <tr>\n",
       "      <th>1</th>\n",
       "      <td>100003</td>\n",
       "      <td>0.0</td>\n",
       "      <td>Cash loans</td>\n",
       "      <td>F</td>\n",
       "      <td>N</td>\n",
       "      <td>N</td>\n",
       "      <td>0.0</td>\n",
       "      <td>270000.0</td>\n",
       "      <td>1293502.5</td>\n",
       "      <td>35698.5</td>\n",
       "      <td>...</td>\n",
       "      <td>12.0</td>\n",
       "      <td>low_normal</td>\n",
       "      <td>Cash X-Sell: low</td>\n",
       "      <td>365243.0</td>\n",
       "      <td>-716.0</td>\n",
       "      <td>-386.0</td>\n",
       "      <td>-536.0</td>\n",
       "      <td>-527.0</td>\n",
       "      <td>1.0</td>\n",
       "      <td>both</td>\n",
       "    </tr>\n",
       "    <tr>\n",
       "      <th>2</th>\n",
       "      <td>100003</td>\n",
       "      <td>0.0</td>\n",
       "      <td>Cash loans</td>\n",
       "      <td>F</td>\n",
       "      <td>N</td>\n",
       "      <td>N</td>\n",
       "      <td>0.0</td>\n",
       "      <td>270000.0</td>\n",
       "      <td>1293502.5</td>\n",
       "      <td>35698.5</td>\n",
       "      <td>...</td>\n",
       "      <td>6.0</td>\n",
       "      <td>middle</td>\n",
       "      <td>POS industry with interest</td>\n",
       "      <td>365243.0</td>\n",
       "      <td>-797.0</td>\n",
       "      <td>-647.0</td>\n",
       "      <td>-647.0</td>\n",
       "      <td>-639.0</td>\n",
       "      <td>0.0</td>\n",
       "      <td>both</td>\n",
       "    </tr>\n",
       "    <tr>\n",
       "      <th>3</th>\n",
       "      <td>100003</td>\n",
       "      <td>0.0</td>\n",
       "      <td>Cash loans</td>\n",
       "      <td>F</td>\n",
       "      <td>N</td>\n",
       "      <td>N</td>\n",
       "      <td>0.0</td>\n",
       "      <td>270000.0</td>\n",
       "      <td>1293502.5</td>\n",
       "      <td>35698.5</td>\n",
       "      <td>...</td>\n",
       "      <td>12.0</td>\n",
       "      <td>middle</td>\n",
       "      <td>POS household with interest</td>\n",
       "      <td>365243.0</td>\n",
       "      <td>-2310.0</td>\n",
       "      <td>-1980.0</td>\n",
       "      <td>-1980.0</td>\n",
       "      <td>-1976.0</td>\n",
       "      <td>1.0</td>\n",
       "      <td>both</td>\n",
       "    </tr>\n",
       "    <tr>\n",
       "      <th>4</th>\n",
       "      <td>100004</td>\n",
       "      <td>0.0</td>\n",
       "      <td>Revolving loans</td>\n",
       "      <td>M</td>\n",
       "      <td>Y</td>\n",
       "      <td>Y</td>\n",
       "      <td>0.0</td>\n",
       "      <td>67500.0</td>\n",
       "      <td>135000.0</td>\n",
       "      <td>6750.0</td>\n",
       "      <td>...</td>\n",
       "      <td>4.0</td>\n",
       "      <td>middle</td>\n",
       "      <td>POS mobile without interest</td>\n",
       "      <td>365243.0</td>\n",
       "      <td>-784.0</td>\n",
       "      <td>-694.0</td>\n",
       "      <td>-724.0</td>\n",
       "      <td>-714.0</td>\n",
       "      <td>0.0</td>\n",
       "      <td>both</td>\n",
       "    </tr>\n",
       "  </tbody>\n",
       "</table>\n",
       "<p>5 rows × 159 columns</p>\n",
       "</div>"
      ],
      "text/plain": [
       "   SK_ID_CURR  TARGET NAME_CONTRACT_TYPE_x CODE_GENDER FLAG_OWN_CAR  \\\n",
       "0      100002     1.0           Cash loans           M            N   \n",
       "1      100003     0.0           Cash loans           F            N   \n",
       "2      100003     0.0           Cash loans           F            N   \n",
       "3      100003     0.0           Cash loans           F            N   \n",
       "4      100004     0.0      Revolving loans           M            Y   \n",
       "\n",
       "  FLAG_OWN_REALTY  CNT_CHILDREN  AMT_INCOME_TOTAL  AMT_CREDIT_x  \\\n",
       "0               Y           0.0          202500.0      406597.5   \n",
       "1               N           0.0          270000.0     1293502.5   \n",
       "2               N           0.0          270000.0     1293502.5   \n",
       "3               N           0.0          270000.0     1293502.5   \n",
       "4               Y           0.0           67500.0      135000.0   \n",
       "\n",
       "   AMT_ANNUITY_x  ...  CNT_PAYMENT NAME_YIELD_GROUP  \\\n",
       "0        24700.5  ...         24.0       low_normal   \n",
       "1        35698.5  ...         12.0       low_normal   \n",
       "2        35698.5  ...          6.0           middle   \n",
       "3        35698.5  ...         12.0           middle   \n",
       "4         6750.0  ...          4.0           middle   \n",
       "\n",
       "           PRODUCT_COMBINATION DAYS_FIRST_DRAWING DAYS_FIRST_DUE  \\\n",
       "0      POS other with interest           365243.0         -565.0   \n",
       "1             Cash X-Sell: low           365243.0         -716.0   \n",
       "2   POS industry with interest           365243.0         -797.0   \n",
       "3  POS household with interest           365243.0        -2310.0   \n",
       "4  POS mobile without interest           365243.0         -784.0   \n",
       "\n",
       "  DAYS_LAST_DUE_1ST_VERSION  DAYS_LAST_DUE  DAYS_TERMINATION  \\\n",
       "0                     125.0          -25.0             -17.0   \n",
       "1                    -386.0         -536.0            -527.0   \n",
       "2                    -647.0         -647.0            -639.0   \n",
       "3                   -1980.0        -1980.0           -1976.0   \n",
       "4                    -694.0         -724.0            -714.0   \n",
       "\n",
       "   NFLAG_INSURED_ON_APPROVAL  _merge  \n",
       "0                        0.0    both  \n",
       "1                        1.0    both  \n",
       "2                        0.0    both  \n",
       "3                        1.0    both  \n",
       "4                        0.0    both  \n",
       "\n",
       "[5 rows x 159 columns]"
      ]
     },
     "execution_count": 4,
     "metadata": {},
     "output_type": "execute_result"
    }
   ],
   "source": [
    "df3.head()"
   ]
  },
  {
   "cell_type": "code",
   "execution_count": 5,
   "metadata": {},
   "outputs": [
    {
     "name": "stdout",
     "output_type": "stream",
     "text": [
      "<class 'pandas.core.frame.DataFrame'>\n",
      "Int64Index: 1686668 entries, 0 to 1686667\n",
      "Columns: 159 entries, SK_ID_CURR to _merge\n",
      "dtypes: category(1), float64(125), int64(1), object(32)\n",
      "memory usage: 2.0+ GB\n"
     ]
    }
   ],
   "source": [
    "df3.info()"
   ]
  },
  {
   "cell_type": "code",
   "execution_count": 6,
   "metadata": {},
   "outputs": [
    {
     "data": {
      "text/plain": [
       "(1686668, 159)"
      ]
     },
     "execution_count": 6,
     "metadata": {},
     "output_type": "execute_result"
    }
   ],
   "source": [
    "df3.shape"
   ]
  },
  {
   "cell_type": "code",
   "execution_count": 7,
   "metadata": {},
   "outputs": [
    {
     "data": {
      "text/plain": [
       "Index(['SK_ID_CURR', 'TARGET', 'NAME_CONTRACT_TYPE_x', 'CODE_GENDER',\n",
       "       'FLAG_OWN_CAR', 'FLAG_OWN_REALTY', 'CNT_CHILDREN', 'AMT_INCOME_TOTAL',\n",
       "       'AMT_CREDIT_x', 'AMT_ANNUITY_x',\n",
       "       ...\n",
       "       'CNT_PAYMENT', 'NAME_YIELD_GROUP', 'PRODUCT_COMBINATION',\n",
       "       'DAYS_FIRST_DRAWING', 'DAYS_FIRST_DUE', 'DAYS_LAST_DUE_1ST_VERSION',\n",
       "       'DAYS_LAST_DUE', 'DAYS_TERMINATION', 'NFLAG_INSURED_ON_APPROVAL',\n",
       "       '_merge'],\n",
       "      dtype='object', length=159)"
      ]
     },
     "execution_count": 7,
     "metadata": {},
     "output_type": "execute_result"
    }
   ],
   "source": [
    "df3.columns"
   ]
  },
  {
   "cell_type": "code",
   "execution_count": 8,
   "metadata": {},
   "outputs": [
    {
     "data": {
      "text/plain": [
       "SK_ID_CURR                        0\n",
       "TARGET                       256513\n",
       "NAME_CONTRACT_TYPE_x         256513\n",
       "CODE_GENDER                  256513\n",
       "FLAG_OWN_CAR                 256513\n",
       "                              ...  \n",
       "DAYS_LAST_DUE_1ST_VERSION    689519\n",
       "DAYS_LAST_DUE                689519\n",
       "DAYS_TERMINATION             689519\n",
       "NFLAG_INSURED_ON_APPROVAL    689519\n",
       "_merge                            0\n",
       "Length: 159, dtype: int64"
      ]
     },
     "execution_count": 8,
     "metadata": {},
     "output_type": "execute_result"
    }
   ],
   "source": [
    "df3.isnull().sum()"
   ]
  },
  {
   "cell_type": "code",
   "execution_count": 9,
   "metadata": {},
   "outputs": [
    {
     "data": {
      "text/html": [
       "<div>\n",
       "<style scoped>\n",
       "    .dataframe tbody tr th:only-of-type {\n",
       "        vertical-align: middle;\n",
       "    }\n",
       "\n",
       "    .dataframe tbody tr th {\n",
       "        vertical-align: top;\n",
       "    }\n",
       "\n",
       "    .dataframe thead th {\n",
       "        text-align: right;\n",
       "    }\n",
       "</style>\n",
       "<table border=\"1\" class=\"dataframe\">\n",
       "  <thead>\n",
       "    <tr style=\"text-align: right;\">\n",
       "      <th></th>\n",
       "      <th>count</th>\n",
       "      <th>mean</th>\n",
       "      <th>std</th>\n",
       "      <th>min</th>\n",
       "      <th>25%</th>\n",
       "      <th>50%</th>\n",
       "      <th>75%</th>\n",
       "      <th>max</th>\n",
       "    </tr>\n",
       "  </thead>\n",
       "  <tbody>\n",
       "    <tr>\n",
       "      <th>SK_ID_CURR</th>\n",
       "      <td>1686668.0</td>\n",
       "      <td>278349.024179</td>\n",
       "      <td>102806.565533</td>\n",
       "      <td>100001.0</td>\n",
       "      <td>189325.0</td>\n",
       "      <td>278689.0</td>\n",
       "      <td>367487.0</td>\n",
       "      <td>456255.0</td>\n",
       "    </tr>\n",
       "    <tr>\n",
       "      <th>TARGET</th>\n",
       "      <td>1430155.0</td>\n",
       "      <td>0.086242</td>\n",
       "      <td>0.280722</td>\n",
       "      <td>0.0</td>\n",
       "      <td>0.0</td>\n",
       "      <td>0.0</td>\n",
       "      <td>0.0</td>\n",
       "      <td>1.0</td>\n",
       "    </tr>\n",
       "    <tr>\n",
       "      <th>CNT_CHILDREN</th>\n",
       "      <td>1430155.0</td>\n",
       "      <td>0.403887</td>\n",
       "      <td>0.716518</td>\n",
       "      <td>0.0</td>\n",
       "      <td>0.0</td>\n",
       "      <td>0.0</td>\n",
       "      <td>1.0</td>\n",
       "      <td>19.0</td>\n",
       "    </tr>\n",
       "    <tr>\n",
       "      <th>AMT_INCOME_TOTAL</th>\n",
       "      <td>1430155.0</td>\n",
       "      <td>173603.622588</td>\n",
       "      <td>198330.285287</td>\n",
       "      <td>25650.0</td>\n",
       "      <td>112500.0</td>\n",
       "      <td>157500.0</td>\n",
       "      <td>211500.0</td>\n",
       "      <td>117000000.0</td>\n",
       "    </tr>\n",
       "    <tr>\n",
       "      <th>AMT_CREDIT_x</th>\n",
       "      <td>1430155.0</td>\n",
       "      <td>589338.592951</td>\n",
       "      <td>387420.355419</td>\n",
       "      <td>45000.0</td>\n",
       "      <td>270000.0</td>\n",
       "      <td>508495.5</td>\n",
       "      <td>808650.0</td>\n",
       "      <td>4050000.0</td>\n",
       "    </tr>\n",
       "    <tr>\n",
       "      <th>...</th>\n",
       "      <td>...</td>\n",
       "      <td>...</td>\n",
       "      <td>...</td>\n",
       "      <td>...</td>\n",
       "      <td>...</td>\n",
       "      <td>...</td>\n",
       "      <td>...</td>\n",
       "      <td>...</td>\n",
       "    </tr>\n",
       "    <tr>\n",
       "      <th>DAYS_FIRST_DUE</th>\n",
       "      <td>997149.0</td>\n",
       "      <td>13826.269337</td>\n",
       "      <td>72444.869708</td>\n",
       "      <td>-2892.0</td>\n",
       "      <td>-1628.0</td>\n",
       "      <td>-831.0</td>\n",
       "      <td>-411.0</td>\n",
       "      <td>365243.0</td>\n",
       "    </tr>\n",
       "    <tr>\n",
       "      <th>DAYS_LAST_DUE_1ST_VERSION</th>\n",
       "      <td>997149.0</td>\n",
       "      <td>33767.774054</td>\n",
       "      <td>106857.034789</td>\n",
       "      <td>-2801.0</td>\n",
       "      <td>-1242.0</td>\n",
       "      <td>-361.0</td>\n",
       "      <td>129.0</td>\n",
       "      <td>365243.0</td>\n",
       "    </tr>\n",
       "    <tr>\n",
       "      <th>DAYS_LAST_DUE</th>\n",
       "      <td>997149.0</td>\n",
       "      <td>76582.403064</td>\n",
       "      <td>149647.415123</td>\n",
       "      <td>-2889.0</td>\n",
       "      <td>-1314.0</td>\n",
       "      <td>-537.0</td>\n",
       "      <td>-74.0</td>\n",
       "      <td>365243.0</td>\n",
       "    </tr>\n",
       "    <tr>\n",
       "      <th>DAYS_TERMINATION</th>\n",
       "      <td>997149.0</td>\n",
       "      <td>81992.343838</td>\n",
       "      <td>153303.516729</td>\n",
       "      <td>-2874.0</td>\n",
       "      <td>-1270.0</td>\n",
       "      <td>-499.0</td>\n",
       "      <td>-44.0</td>\n",
       "      <td>365243.0</td>\n",
       "    </tr>\n",
       "    <tr>\n",
       "      <th>NFLAG_INSURED_ON_APPROVAL</th>\n",
       "      <td>997149.0</td>\n",
       "      <td>0.332570</td>\n",
       "      <td>0.471134</td>\n",
       "      <td>0.0</td>\n",
       "      <td>0.0</td>\n",
       "      <td>0.0</td>\n",
       "      <td>1.0</td>\n",
       "      <td>1.0</td>\n",
       "    </tr>\n",
       "  </tbody>\n",
       "</table>\n",
       "<p>126 rows × 8 columns</p>\n",
       "</div>"
      ],
      "text/plain": [
       "                               count           mean            std       min  \\\n",
       "SK_ID_CURR                 1686668.0  278349.024179  102806.565533  100001.0   \n",
       "TARGET                     1430155.0       0.086242       0.280722       0.0   \n",
       "CNT_CHILDREN               1430155.0       0.403887       0.716518       0.0   \n",
       "AMT_INCOME_TOTAL           1430155.0  173603.622588  198330.285287   25650.0   \n",
       "AMT_CREDIT_x               1430155.0  589338.592951  387420.355419   45000.0   \n",
       "...                              ...            ...            ...       ...   \n",
       "DAYS_FIRST_DUE              997149.0   13826.269337   72444.869708   -2892.0   \n",
       "DAYS_LAST_DUE_1ST_VERSION   997149.0   33767.774054  106857.034789   -2801.0   \n",
       "DAYS_LAST_DUE               997149.0   76582.403064  149647.415123   -2889.0   \n",
       "DAYS_TERMINATION            997149.0   81992.343838  153303.516729   -2874.0   \n",
       "NFLAG_INSURED_ON_APPROVAL   997149.0       0.332570       0.471134       0.0   \n",
       "\n",
       "                                25%       50%       75%          max  \n",
       "SK_ID_CURR                 189325.0  278689.0  367487.0     456255.0  \n",
       "TARGET                          0.0       0.0       0.0          1.0  \n",
       "CNT_CHILDREN                    0.0       0.0       1.0         19.0  \n",
       "AMT_INCOME_TOTAL           112500.0  157500.0  211500.0  117000000.0  \n",
       "AMT_CREDIT_x               270000.0  508495.5  808650.0    4050000.0  \n",
       "...                             ...       ...       ...          ...  \n",
       "DAYS_FIRST_DUE              -1628.0    -831.0    -411.0     365243.0  \n",
       "DAYS_LAST_DUE_1ST_VERSION   -1242.0    -361.0     129.0     365243.0  \n",
       "DAYS_LAST_DUE               -1314.0    -537.0     -74.0     365243.0  \n",
       "DAYS_TERMINATION            -1270.0    -499.0     -44.0     365243.0  \n",
       "NFLAG_INSURED_ON_APPROVAL       0.0       0.0       1.0          1.0  \n",
       "\n",
       "[126 rows x 8 columns]"
      ]
     },
     "execution_count": 9,
     "metadata": {},
     "output_type": "execute_result"
    }
   ],
   "source": [
    "df3.describe().T"
   ]
  },
  {
   "cell_type": "code",
   "execution_count": 10,
   "metadata": {},
   "outputs": [
    {
     "data": {
      "text/plain": [
       "Index(['SK_ID_CURR', 'TARGET', 'NAME_CONTRACT_TYPE_x', 'CODE_GENDER',\n",
       "       'FLAG_OWN_CAR', 'FLAG_OWN_REALTY', 'CNT_CHILDREN', 'AMT_INCOME_TOTAL',\n",
       "       'AMT_CREDIT_x', 'AMT_ANNUITY_x',\n",
       "       ...\n",
       "       'CNT_PAYMENT', 'NAME_YIELD_GROUP', 'PRODUCT_COMBINATION',\n",
       "       'DAYS_FIRST_DRAWING', 'DAYS_FIRST_DUE', 'DAYS_LAST_DUE_1ST_VERSION',\n",
       "       'DAYS_LAST_DUE', 'DAYS_TERMINATION', 'NFLAG_INSURED_ON_APPROVAL',\n",
       "       '_merge'],\n",
       "      dtype='object', length=159)"
      ]
     },
     "execution_count": 10,
     "metadata": {},
     "output_type": "execute_result"
    }
   ],
   "source": [
    "df3.keys()"
   ]
  },
  {
   "cell_type": "markdown",
   "metadata": {},
   "source": [
    "# UNIVARIATE ANALYSIS"
   ]
  },
  {
   "cell_type": "code",
   "execution_count": 11,
   "metadata": {},
   "outputs": [
    {
     "data": {
      "text/plain": [
       "array(['POS', 'Cash', 'XNA', 'Cards', nan, 'Cars'], dtype=object)"
      ]
     },
     "execution_count": 11,
     "metadata": {},
     "output_type": "execute_result"
    }
   ],
   "source": [
    "df3['NAME_PORTFOLIO'].unique()"
   ]
  },
  {
   "cell_type": "code",
   "execution_count": 12,
   "metadata": {},
   "outputs": [
    {
     "data": {
      "text/plain": [
       "POS      691011\n",
       "Cash     461563\n",
       "XNA      372230\n",
       "Cards    144985\n",
       "Cars        425\n",
       "Name: NAME_PORTFOLIO, dtype: int64"
      ]
     },
     "execution_count": 12,
     "metadata": {},
     "output_type": "execute_result"
    }
   ],
   "source": [
    "df3['NAME_PORTFOLIO'].value_counts()"
   ]
  },
  {
   "cell_type": "code",
   "execution_count": 13,
   "metadata": {},
   "outputs": [
    {
     "data": {
      "text/plain": [
       "<seaborn.axisgrid.FacetGrid at 0x29c80074670>"
      ]
     },
     "execution_count": 13,
     "metadata": {},
     "output_type": "execute_result"
    },
    {
     "data": {
      "image/png": "[encoded data removed]",
      "text/plain": [
       "<Figure size 360x360 with 1 Axes>"
      ]
     },
     "metadata": {
      "needs_background": "light"
     },
     "output_type": "display_data"
    }
   ],
   "source": [
    "sns.catplot(x='NAME_PORTFOLIO', data=df3,kind='count')"
   ]
  },
  {
   "cell_type": "code",
   "execution_count": 14,
   "metadata": {},
   "outputs": [
    {
     "data": {
      "text/plain": [
       "0             XNA\n",
       "1          x-sell\n",
       "2             XNA\n",
       "3             XNA\n",
       "4             XNA\n",
       "            ...  \n",
       "1686663       XNA\n",
       "1686664       XNA\n",
       "1686665       XNA\n",
       "1686666    x-sell\n",
       "1686667    x-sell\n",
       "Name: NAME_PRODUCT_TYPE, Length: 1686668, dtype: object"
      ]
     },
     "execution_count": 14,
     "metadata": {},
     "output_type": "execute_result"
    }
   ],
   "source": [
    "df3['NAME_PRODUCT_TYPE']"
   ]
  },
  {
   "cell_type": "code",
   "execution_count": 15,
   "metadata": {},
   "outputs": [
    {
     "data": {
      "text/plain": [
       "array(['XNA', 'x-sell', 'walk-in', nan], dtype=object)"
      ]
     },
     "execution_count": 15,
     "metadata": {},
     "output_type": "execute_result"
    }
   ],
   "source": [
    "df3['NAME_PRODUCT_TYPE'].unique()"
   ]
  },
  {
   "cell_type": "code",
   "execution_count": 16,
   "metadata": {},
   "outputs": [
    {
     "data": {
      "text/plain": [
       "XNA        1063666\n",
       "x-sell      456287\n",
       "walk-in     150261\n",
       "Name: NAME_PRODUCT_TYPE, dtype: int64"
      ]
     },
     "execution_count": 16,
     "metadata": {},
     "output_type": "execute_result"
    }
   ],
   "source": [
    "df3['NAME_PRODUCT_TYPE'].value_counts()"
   ]
  },
  {
   "cell_type": "code",
   "execution_count": 17,
   "metadata": {},
   "outputs": [
    {
     "data": {
      "text/plain": [
       "<seaborn.axisgrid.FacetGrid at 0x29c8007a3d0>"
      ]
     },
     "execution_count": 17,
     "metadata": {},
     "output_type": "execute_result"
    },
    {
     "data": {
      "image/png": "[encoded data removed]",
      "text/plain": [
       "<Figure size 360x360 with 1 Axes>"
      ]
     },
     "metadata": {
      "needs_background": "light"
     },
     "output_type": "display_data"
    }
   ],
   "source": [
    "sns.catplot(x='NAME_PRODUCT_TYPE', data=df3,kind='count')"
   ]
  },
  {
   "cell_type": "code",
   "execution_count": 18,
   "metadata": {},
   "outputs": [
    {
     "data": {
      "text/plain": [
       "0                            Stone\n",
       "1          Credit and cash offices\n",
       "2                            Stone\n",
       "3                     Country-wide\n",
       "4                 Regional / Local\n",
       "                    ...           \n",
       "1686663               Country-wide\n",
       "1686664               Country-wide\n",
       "1686665               Country-wide\n",
       "1686666    Credit and cash offices\n",
       "1686667    Credit and cash offices\n",
       "Name: CHANNEL_TYPE, Length: 1686668, dtype: object"
      ]
     },
     "execution_count": 18,
     "metadata": {},
     "output_type": "execute_result"
    }
   ],
   "source": [
    "df3['CHANNEL_TYPE']"
   ]
  },
  {
   "cell_type": "code",
   "execution_count": 19,
   "metadata": {},
   "outputs": [
    {
     "data": {
      "text/plain": [
       "array(['Stone', 'Credit and cash offices', 'Country-wide',\n",
       "       'Regional / Local', 'AP+ (Cash loan)', 'Contact center', nan,\n",
       "       'Channel of corporate sales', 'Car dealer'], dtype=object)"
      ]
     },
     "execution_count": 19,
     "metadata": {},
     "output_type": "execute_result"
    }
   ],
   "source": [
    "df3['CHANNEL_TYPE'].unique()"
   ]
  },
  {
   "cell_type": "code",
   "execution_count": 20,
   "metadata": {},
   "outputs": [
    {
     "data": {
      "text/plain": [
       "Credit and cash offices       719968\n",
       "Country-wide                  494690\n",
       "Stone                         212083\n",
       "Regional / Local              108528\n",
       "Contact center                 71297\n",
       "AP+ (Cash loan)                57046\n",
       "Channel of corporate sales      6150\n",
       "Car dealer                       452\n",
       "Name: CHANNEL_TYPE, dtype: int64"
      ]
     },
     "execution_count": 20,
     "metadata": {},
     "output_type": "execute_result"
    }
   ],
   "source": [
    "df3['CHANNEL_TYPE'].value_counts()"
   ]
  },
  {
   "cell_type": "code",
   "execution_count": 21,
   "metadata": {},
   "outputs": [
    {
     "data": {
      "image/png": "[encoded data removed]",
      "text/plain": [
       "<Figure size 1440x720 with 1 Axes>"
      ]
     },
     "metadata": {
      "needs_background": "light"
     },
     "output_type": "display_data"
    }
   ],
   "source": [
    "sns.countplot(df3['CHANNEL_TYPE'])\n",
    "fig = plt.gcf()\n",
    "fig.set_size_inches(20,10)"
   ]
  },
  {
   "cell_type": "code",
   "execution_count": 22,
   "metadata": {},
   "outputs": [
    {
     "data": {
      "text/plain": [
       "0           500.0\n",
       "1            -1.0\n",
       "2          1400.0\n",
       "3           200.0\n",
       "4            30.0\n",
       "            ...  \n",
       "1686663      35.0\n",
       "1686664     100.0\n",
       "1686665      20.0\n",
       "1686666      -1.0\n",
       "1686667       0.0\n",
       "Name: SELLERPLACE_AREA, Length: 1686668, dtype: float64"
      ]
     },
     "execution_count": 22,
     "metadata": {},
     "output_type": "execute_result"
    }
   ],
   "source": [
    "df3['SELLERPLACE_AREA']"
   ]
  },
  {
   "cell_type": "code",
   "execution_count": 23,
   "metadata": {},
   "outputs": [
    {
     "data": {
      "text/plain": [
       "-1.0         762675\n",
       " 0.0          60523\n",
       " 50.0         37401\n",
       " 30.0         34423\n",
       " 20.0         33840\n",
       "              ...  \n",
       " 3814.0           1\n",
       " 990.0            1\n",
       " 256099.0         1\n",
       " 1822.0           1\n",
       " 2332.0           1\n",
       "Name: SELLERPLACE_AREA, Length: 2097, dtype: int64"
      ]
     },
     "execution_count": 23,
     "metadata": {},
     "output_type": "execute_result"
    }
   ],
   "source": [
    "df3['SELLERPLACE_AREA'].value_counts()"
   ]
  },
  {
   "cell_type": "code",
   "execution_count": 24,
   "metadata": {},
   "outputs": [
    {
     "data": {
      "text/plain": [
       "0               Auto technology\n",
       "1                           XNA\n",
       "2                     Furniture\n",
       "3          Consumer electronics\n",
       "4                  Connectivity\n",
       "                   ...         \n",
       "1686663            Connectivity\n",
       "1686664    Consumer electronics\n",
       "1686665            Connectivity\n",
       "1686666                     XNA\n",
       "1686667                     XNA\n",
       "Name: NAME_SELLER_INDUSTRY, Length: 1686668, dtype: object"
      ]
     },
     "execution_count": 24,
     "metadata": {},
     "output_type": "execute_result"
    }
   ],
   "source": [
    "df3['NAME_SELLER_INDUSTRY']"
   ]
  },
  {
   "cell_type": "code",
   "execution_count": 25,
   "metadata": {},
   "outputs": [
    {
     "data": {
      "text/plain": [
       "array(['Auto technology', 'XNA', 'Furniture', 'Consumer electronics',\n",
       "       'Connectivity', 'Construction', 'Clothing', nan, 'Industry',\n",
       "       'Tourism', 'Jewelry', 'MLM partners'], dtype=object)"
      ]
     },
     "execution_count": 25,
     "metadata": {},
     "output_type": "execute_result"
    }
   ],
   "source": [
    "df3['NAME_SELLER_INDUSTRY'].unique()"
   ]
  },
  {
   "cell_type": "code",
   "execution_count": 26,
   "metadata": {},
   "outputs": [
    {
     "data": {
      "text/plain": [
       "XNA                     855720\n",
       "Consumer electronics    398265\n",
       "Connectivity            276029\n",
       "Furniture                57849\n",
       "Construction             29781\n",
       "Clothing                 23949\n",
       "Industry                 19194\n",
       "Auto technology           4990\n",
       "Jewelry                   2709\n",
       "MLM partners              1215\n",
       "Tourism                    513\n",
       "Name: NAME_SELLER_INDUSTRY, dtype: int64"
      ]
     },
     "execution_count": 26,
     "metadata": {},
     "output_type": "execute_result"
    }
   ],
   "source": [
    "df3['NAME_SELLER_INDUSTRY'].value_counts()"
   ]
  },
  {
   "cell_type": "code",
   "execution_count": 27,
   "metadata": {},
   "outputs": [
    {
     "data": {
      "image/png": "[encoded data removed]",
      "text/plain": [
       "<Figure size 1440x720 with 1 Axes>"
      ]
     },
     "metadata": {
      "needs_background": "light"
     },
     "output_type": "display_data"
    }
   ],
   "source": [
    "sns.countplot(df3['NAME_SELLER_INDUSTRY'])\n",
    "fig = plt.gcf()\n",
    "fig.set_size_inches(20,10)"
   ]
  },
  {
   "cell_type": "code",
   "execution_count": 28,
   "metadata": {},
   "outputs": [
    {
     "data": {
      "text/plain": [
       "0          24.0\n",
       "1          12.0\n",
       "2           6.0\n",
       "3          12.0\n",
       "4           4.0\n",
       "           ... \n",
       "1686663    10.0\n",
       "1686664     6.0\n",
       "1686665    10.0\n",
       "1686666    12.0\n",
       "1686667     6.0\n",
       "Name: CNT_PAYMENT, Length: 1686668, dtype: float64"
      ]
     },
     "execution_count": 28,
     "metadata": {},
     "output_type": "execute_result"
    }
   ],
   "source": [
    "df3['CNT_PAYMENT']"
   ]
  },
  {
   "cell_type": "code",
   "execution_count": 29,
   "metadata": {},
   "outputs": [
    {
     "data": {
      "text/plain": [
       "array([24., 12.,  6.,  4., 48., nan,  0., 18., 10., 30.,  8., 16., 36.,\n",
       "        5., 60., 42., 14., 54., 20.,  3., 15., 72.,  9.,  7., 11., 22.,\n",
       "       17., 84., 13., 29., 59., 53., 40., 23., 26., 28., 32., 34., 38.,\n",
       "       19., 66., 35., 33., 39., 44., 21., 47., 41., 45., 46.])"
      ]
     },
     "execution_count": 29,
     "metadata": {},
     "output_type": "execute_result"
    }
   ],
   "source": [
    "df3['CNT_PAYMENT'].unique()"
   ]
  },
  {
   "cell_type": "code",
   "execution_count": 30,
   "metadata": {},
   "outputs": [
    {
     "data": {
      "text/plain": [
       "12.0    323049\n",
       "6.0     190461\n",
       "0.0     144985\n",
       "10.0    141851\n",
       "24.0    137764\n",
       "18.0     77430\n",
       "36.0     72583\n",
       "60.0     53600\n",
       "48.0     47316\n",
       "8.0      30349\n",
       "4.0      26924\n",
       "30.0     16924\n",
       "14.0      8253\n",
       "42.0      7136\n",
       "16.0      5710\n",
       "5.0       3957\n",
       "54.0      2104\n",
       "20.0      1805\n",
       "7.0       1434\n",
       "9.0       1236\n",
       "3.0       1100\n",
       "15.0       904\n",
       "11.0       669\n",
       "72.0       139\n",
       "13.0        51\n",
       "17.0        48\n",
       "84.0        45\n",
       "22.0        37\n",
       "23.0        27\n",
       "26.0        13\n",
       "35.0        11\n",
       "66.0        10\n",
       "29.0         8\n",
       "28.0         8\n",
       "19.0         6\n",
       "32.0         6\n",
       "59.0         4\n",
       "34.0         4\n",
       "21.0         3\n",
       "45.0         3\n",
       "41.0         3\n",
       "47.0         3\n",
       "46.0         2\n",
       "44.0         2\n",
       "39.0         2\n",
       "38.0         2\n",
       "40.0         1\n",
       "53.0         1\n",
       "33.0         1\n",
       "Name: CNT_PAYMENT, dtype: int64"
      ]
     },
     "execution_count": 30,
     "metadata": {},
     "output_type": "execute_result"
    }
   ],
   "source": [
    "df3['CNT_PAYMENT'].value_counts()"
   ]
  },
  {
   "cell_type": "code",
   "execution_count": 31,
   "metadata": {},
   "outputs": [
    {
     "data": {
      "text/plain": [
       "0          low_normal\n",
       "1          low_normal\n",
       "2              middle\n",
       "3              middle\n",
       "4              middle\n",
       "              ...    \n",
       "1686663    low_normal\n",
       "1686664    low_normal\n",
       "1686665    low_normal\n",
       "1686666        middle\n",
       "1686667          high\n",
       "Name: NAME_YIELD_GROUP, Length: 1686668, dtype: object"
      ]
     },
     "execution_count": 31,
     "metadata": {},
     "output_type": "execute_result"
    }
   ],
   "source": [
    "df3['NAME_YIELD_GROUP']"
   ]
  },
  {
   "cell_type": "code",
   "execution_count": 32,
   "metadata": {},
   "outputs": [
    {
     "data": {
      "text/plain": [
       "array(['low_normal', 'middle', 'XNA', 'high', 'low_action', nan],\n",
       "      dtype=object)"
      ]
     },
     "execution_count": 32,
     "metadata": {},
     "output_type": "execute_result"
    }
   ],
   "source": [
    "df3['NAME_YIELD_GROUP'].unique()"
   ]
  },
  {
   "cell_type": "code",
   "execution_count": 33,
   "metadata": {},
   "outputs": [
    {
     "data": {
      "text/plain": [
       "XNA           517215\n",
       "middle        385532\n",
       "high          353331\n",
       "low_normal    322095\n",
       "low_action     92041\n",
       "Name: NAME_YIELD_GROUP, dtype: int64"
      ]
     },
     "execution_count": 33,
     "metadata": {},
     "output_type": "execute_result"
    }
   ],
   "source": [
    "df3['NAME_YIELD_GROUP'].value_counts()"
   ]
  },
  {
   "cell_type": "code",
   "execution_count": 34,
   "metadata": {},
   "outputs": [
    {
     "data": {
      "text/plain": [
       "<seaborn.axisgrid.FacetGrid at 0x29c8048c850>"
      ]
     },
     "execution_count": 34,
     "metadata": {},
     "output_type": "execute_result"
    },
    {
     "data": {
      "image/png": "[encoded data removed]",
      "text/plain": [
       "<Figure size 360x360 with 1 Axes>"
      ]
     },
     "metadata": {
      "needs_background": "light"
     },
     "output_type": "display_data"
    }
   ],
   "source": [
    "sns.catplot(x='NAME_YIELD_GROUP', data=df3,kind='count')"
   ]
  },
  {
   "cell_type": "code",
   "execution_count": 35,
   "metadata": {},
   "outputs": [
    {
     "data": {
      "text/plain": [
       "0              POS other with interest\n",
       "1                     Cash X-Sell: low\n",
       "2           POS industry with interest\n",
       "3          POS household with interest\n",
       "4          POS mobile without interest\n",
       "                      ...             \n",
       "1686663    POS mobile without interest\n",
       "1686664        POS other with interest\n",
       "1686665    POS mobile without interest\n",
       "1686666            Cash X-Sell: middle\n",
       "1686667              Cash Street: high\n",
       "Name: PRODUCT_COMBINATION, Length: 1686668, dtype: object"
      ]
     },
     "execution_count": 35,
     "metadata": {},
     "output_type": "execute_result"
    }
   ],
   "source": [
    "df3['PRODUCT_COMBINATION']"
   ]
  },
  {
   "cell_type": "code",
   "execution_count": 36,
   "metadata": {},
   "outputs": [
    {
     "data": {
      "text/plain": [
       "array(['POS other with interest', 'Cash X-Sell: low',\n",
       "       'POS industry with interest', 'POS household with interest',\n",
       "       'POS mobile without interest', 'Card Street', 'Card X-Sell',\n",
       "       'Cash X-Sell: high', 'Cash', 'Cash Street: high',\n",
       "       'Cash X-Sell: middle', 'POS mobile with interest',\n",
       "       'POS household without interest', 'POS industry without interest',\n",
       "       'Cash Street: low', nan, 'Cash Street: middle',\n",
       "       'POS others without interest'], dtype=object)"
      ]
     },
     "execution_count": 36,
     "metadata": {},
     "output_type": "execute_result"
    }
   ],
   "source": [
    "df3['PRODUCT_COMBINATION'].unique()"
   ]
  },
  {
   "cell_type": "code",
   "execution_count": 37,
   "metadata": {},
   "outputs": [
    {
     "data": {
      "text/plain": [
       "Cash                              285990\n",
       "POS household with interest       263622\n",
       "POS mobile with interest          220670\n",
       "Cash X-Sell: middle               143883\n",
       "Cash X-Sell: low                  130248\n",
       "Card Street                       112582\n",
       "POS industry with interest         98833\n",
       "POS household without interest     82908\n",
       "Card X-Sell                        80582\n",
       "Cash Street: high                  59639\n",
       "Cash X-Sell: high                  59301\n",
       "Cash Street: middle                34658\n",
       "Cash Street: low                   33834\n",
       "POS mobile without interest        24082\n",
       "POS other with interest            23879\n",
       "POS industry without interest      12602\n",
       "POS others without interest         2555\n",
       "Name: PRODUCT_COMBINATION, dtype: int64"
      ]
     },
     "execution_count": 37,
     "metadata": {},
     "output_type": "execute_result"
    }
   ],
   "source": [
    "df3['PRODUCT_COMBINATION'].value_counts()"
   ]
  },
  {
   "cell_type": "code",
   "execution_count": 38,
   "metadata": {},
   "outputs": [
    {
     "data": {
      "text/plain": [
       "(array([ 0,  1,  2,  3,  4,  5,  6,  7,  8,  9, 10, 11, 12, 13, 14, 15, 16]),\n",
       " [Text(0, 0, 'POS other with interest'),\n",
       "  Text(1, 0, 'Cash X-Sell: low'),\n",
       "  Text(2, 0, 'POS industry with interest'),\n",
       "  Text(3, 0, 'POS household with interest'),\n",
       "  Text(4, 0, 'POS mobile without interest'),\n",
       "  Text(5, 0, 'Card Street'),\n",
       "  Text(6, 0, 'Card X-Sell'),\n",
       "  Text(7, 0, 'Cash X-Sell: high'),\n",
       "  Text(8, 0, 'Cash'),\n",
       "  Text(9, 0, 'Cash Street: high'),\n",
       "  Text(10, 0, 'Cash X-Sell: middle'),\n",
       "  Text(11, 0, 'POS mobile with interest'),\n",
       "  Text(12, 0, 'POS household without interest'),\n",
       "  Text(13, 0, 'POS industry without interest'),\n",
       "  Text(14, 0, 'Cash Street: low'),\n",
       "  Text(15, 0, 'Cash Street: middle'),\n",
       "  Text(16, 0, 'POS others without interest')])"
      ]
     },
     "execution_count": 38,
     "metadata": {},
     "output_type": "execute_result"
    },
    {
     "data": {
      "image/png": "[encoded data removed]",
      "text/plain": [
       "<Figure size 1440x720 with 1 Axes>"
      ]
     },
     "metadata": {
      "needs_background": "light"
     },
     "output_type": "display_data"
    }
   ],
   "source": [
    "sns.countplot(df3['PRODUCT_COMBINATION'])\n",
    "fig = plt.gcf()\n",
    "fig.set_size_inches(20,10)\n",
    "plt.xticks(rotation=90)"
   ]
  },
  {
   "cell_type": "code",
   "execution_count": 39,
   "metadata": {},
   "outputs": [
    {
     "data": {
      "text/plain": [
       "0          365243.0\n",
       "1          365243.0\n",
       "2          365243.0\n",
       "3          365243.0\n",
       "4          365243.0\n",
       "             ...   \n",
       "1686663    365243.0\n",
       "1686664    365243.0\n",
       "1686665    365243.0\n",
       "1686666    365243.0\n",
       "1686667    365243.0\n",
       "Name: DAYS_FIRST_DRAWING, Length: 1686668, dtype: float64"
      ]
     },
     "execution_count": 39,
     "metadata": {},
     "output_type": "execute_result"
    }
   ],
   "source": [
    "df3['DAYS_FIRST_DRAWING']"
   ]
  },
  {
   "cell_type": "code",
   "execution_count": 40,
   "metadata": {},
   "outputs": [
    {
     "data": {
      "text/plain": [
       " 365243.0    934444\n",
       "-228.0          123\n",
       "-224.0          121\n",
       "-212.0          121\n",
       "-223.0          119\n",
       "              ...  \n",
       "-1599.0           1\n",
       "-1819.0           1\n",
       "-1823.0           1\n",
       "-1825.0           1\n",
       "-1911.0           1\n",
       "Name: DAYS_FIRST_DRAWING, Length: 2838, dtype: int64"
      ]
     },
     "execution_count": 40,
     "metadata": {},
     "output_type": "execute_result"
    }
   ],
   "source": [
    "df3['DAYS_FIRST_DRAWING'].value_counts()"
   ]
  },
  {
   "cell_type": "code",
   "execution_count": 41,
   "metadata": {},
   "outputs": [
    {
     "data": {
      "text/plain": [
       "count    997149.000000\n",
       "mean     342209.855039\n",
       "std       88916.115834\n",
       "min       -2922.000000\n",
       "25%      365243.000000\n",
       "50%      365243.000000\n",
       "75%      365243.000000\n",
       "max      365243.000000\n",
       "Name: DAYS_FIRST_DRAWING, dtype: float64"
      ]
     },
     "execution_count": 41,
     "metadata": {},
     "output_type": "execute_result"
    }
   ],
   "source": [
    "df3['DAYS_FIRST_DRAWING'].describe()"
   ]
  },
  {
   "cell_type": "code",
   "execution_count": 42,
   "metadata": {},
   "outputs": [
    {
     "data": {
      "text/plain": [
       "0          -565.0\n",
       "1          -716.0\n",
       "2          -797.0\n",
       "3         -2310.0\n",
       "4          -784.0\n",
       "            ...  \n",
       "1686663    -334.0\n",
       "1686664    -212.0\n",
       "1686665    -268.0\n",
       "1686666    -972.0\n",
       "1686667   -2755.0\n",
       "Name: DAYS_FIRST_DUE, Length: 1686668, dtype: float64"
      ]
     },
     "execution_count": 42,
     "metadata": {},
     "output_type": "execute_result"
    }
   ],
   "source": [
    "df3['DAYS_FIRST_DUE']"
   ]
  },
  {
   "cell_type": "code",
   "execution_count": 43,
   "metadata": {},
   "outputs": [
    {
     "data": {
      "text/plain": [
       " 365243.0    40645\n",
       "-334.0         772\n",
       "-509.0         760\n",
       "-208.0         751\n",
       "-330.0         750\n",
       "             ...  \n",
       "-2889.0         86\n",
       "-2890.0         73\n",
       "-2891.0         55\n",
       "-2.0            14\n",
       "-2892.0          9\n",
       "Name: DAYS_FIRST_DUE, Length: 2892, dtype: int64"
      ]
     },
     "execution_count": 43,
     "metadata": {},
     "output_type": "execute_result"
    }
   ],
   "source": [
    "df3['DAYS_FIRST_DUE'].value_counts()"
   ]
  },
  {
   "cell_type": "code",
   "execution_count": 44,
   "metadata": {},
   "outputs": [
    {
     "data": {
      "text/plain": [
       "count    997149.000000\n",
       "mean      13826.269337\n",
       "std       72444.869708\n",
       "min       -2892.000000\n",
       "25%       -1628.000000\n",
       "50%        -831.000000\n",
       "75%        -411.000000\n",
       "max      365243.000000\n",
       "Name: DAYS_FIRST_DUE, dtype: float64"
      ]
     },
     "execution_count": 44,
     "metadata": {},
     "output_type": "execute_result"
    }
   ],
   "source": [
    "df3['DAYS_FIRST_DUE'].describe()"
   ]
  },
  {
   "cell_type": "code",
   "execution_count": 45,
   "metadata": {},
   "outputs": [
    {
     "data": {
      "text/plain": [
       "0           125.0\n",
       "1          -386.0\n",
       "2          -647.0\n",
       "3         -1980.0\n",
       "4          -694.0\n",
       "            ...  \n",
       "1686663     -64.0\n",
       "1686664     -62.0\n",
       "1686665       2.0\n",
       "1686666    -642.0\n",
       "1686667   -2605.0\n",
       "Name: DAYS_LAST_DUE_1ST_VERSION, Length: 1686668, dtype: float64"
      ]
     },
     "execution_count": 45,
     "metadata": {},
     "output_type": "execute_result"
    }
   ],
   "source": [
    "df3['DAYS_LAST_DUE_1ST_VERSION']"
   ]
  },
  {
   "cell_type": "code",
   "execution_count": 46,
   "metadata": {},
   "outputs": [
    {
     "data": {
      "text/plain": [
       "365243.0    93864\n",
       "9.0           720\n",
       "8.0           706\n",
       "0.0           705\n",
       "5.0           702\n",
       "            ...  \n",
       "1800.0          1\n",
       "2389.0          1\n",
       "1947.0          1\n",
       "2090.0          1\n",
       "2032.0          1\n",
       "Name: DAYS_LAST_DUE_1ST_VERSION, Length: 4605, dtype: int64"
      ]
     },
     "execution_count": 46,
     "metadata": {},
     "output_type": "execute_result"
    }
   ],
   "source": [
    "df3['DAYS_LAST_DUE_1ST_VERSION'].value_counts()"
   ]
  },
  {
   "cell_type": "code",
   "execution_count": 47,
   "metadata": {},
   "outputs": [
    {
     "data": {
      "text/plain": [
       "count    997149.000000\n",
       "mean      33767.774054\n",
       "std      106857.034789\n",
       "min       -2801.000000\n",
       "25%       -1242.000000\n",
       "50%        -361.000000\n",
       "75%         129.000000\n",
       "max      365243.000000\n",
       "Name: DAYS_LAST_DUE_1ST_VERSION, dtype: float64"
      ]
     },
     "execution_count": 47,
     "metadata": {},
     "output_type": "execute_result"
    }
   ],
   "source": [
    "df3['DAYS_LAST_DUE_1ST_VERSION'].describe()"
   ]
  },
  {
   "cell_type": "code",
   "execution_count": 48,
   "metadata": {},
   "outputs": [
    {
     "data": {
      "text/plain": [
       "0             -25.0\n",
       "1            -536.0\n",
       "2            -647.0\n",
       "3           -1980.0\n",
       "4            -724.0\n",
       "             ...   \n",
       "1686663       -94.0\n",
       "1686664      -122.0\n",
       "1686665    365243.0\n",
       "1686666      -642.0\n",
       "1686667     -2605.0\n",
       "Name: DAYS_LAST_DUE, Length: 1686668, dtype: float64"
      ]
     },
     "execution_count": 48,
     "metadata": {},
     "output_type": "execute_result"
    }
   ],
   "source": [
    "df3['DAYS_LAST_DUE']"
   ]
  },
  {
   "cell_type": "code",
   "execution_count": 49,
   "metadata": {},
   "outputs": [
    {
     "data": {
      "text/plain": [
       " 365243.0    211221\n",
       "-245.0          658\n",
       "-188.0          650\n",
       "-239.0          642\n",
       "-167.0          638\n",
       "              ...  \n",
       "-2849.0           1\n",
       "-2865.0           1\n",
       "-2836.0           1\n",
       "-2888.0           1\n",
       "-2833.0           1\n",
       "Name: DAYS_LAST_DUE, Length: 2873, dtype: int64"
      ]
     },
     "execution_count": 49,
     "metadata": {},
     "output_type": "execute_result"
    }
   ],
   "source": [
    "df3['DAYS_LAST_DUE'].value_counts()"
   ]
  },
  {
   "cell_type": "code",
   "execution_count": 50,
   "metadata": {},
   "outputs": [
    {
     "data": {
      "text/plain": [
       "count    997149.000000\n",
       "mean      76582.403064\n",
       "std      149647.415123\n",
       "min       -2889.000000\n",
       "25%       -1314.000000\n",
       "50%        -537.000000\n",
       "75%         -74.000000\n",
       "max      365243.000000\n",
       "Name: DAYS_LAST_DUE, dtype: float64"
      ]
     },
     "execution_count": 50,
     "metadata": {},
     "output_type": "execute_result"
    }
   ],
   "source": [
    "df3['DAYS_LAST_DUE'].describe()"
   ]
  },
  {
   "cell_type": "code",
   "execution_count": 51,
   "metadata": {},
   "outputs": [
    {
     "data": {
      "text/plain": [
       "0             -17.0\n",
       "1            -527.0\n",
       "2            -639.0\n",
       "3           -1976.0\n",
       "4            -714.0\n",
       "             ...   \n",
       "1686663    365243.0\n",
       "1686664      -115.0\n",
       "1686665    365243.0\n",
       "1686666      -636.0\n",
       "1686667     -2598.0\n",
       "Name: DAYS_TERMINATION, Length: 1686668, dtype: float64"
      ]
     },
     "execution_count": 51,
     "metadata": {},
     "output_type": "execute_result"
    }
   ],
   "source": [
    "df3['DAYS_TERMINATION']"
   ]
  },
  {
   "cell_type": "code",
   "execution_count": 52,
   "metadata": {},
   "outputs": [
    {
     "data": {
      "text/plain": [
       " 365243.0    225913\n",
       "-233.0          786\n",
       "-184.0          770\n",
       "-170.0          770\n",
       "-163.0          769\n",
       "              ...  \n",
       "-2807.0           1\n",
       "-2829.0           1\n",
       "-2844.0           1\n",
       "-2809.0           1\n",
       "-2824.0           1\n",
       "Name: DAYS_TERMINATION, Length: 2830, dtype: int64"
      ]
     },
     "execution_count": 52,
     "metadata": {},
     "output_type": "execute_result"
    }
   ],
   "source": [
    "df3['DAYS_TERMINATION'].value_counts()"
   ]
  },
  {
   "cell_type": "code",
   "execution_count": 53,
   "metadata": {},
   "outputs": [
    {
     "data": {
      "text/plain": [
       "count    997149.000000\n",
       "mean      81992.343838\n",
       "std      153303.516729\n",
       "min       -2874.000000\n",
       "25%       -1270.000000\n",
       "50%        -499.000000\n",
       "75%         -44.000000\n",
       "max      365243.000000\n",
       "Name: DAYS_TERMINATION, dtype: float64"
      ]
     },
     "execution_count": 53,
     "metadata": {},
     "output_type": "execute_result"
    }
   ],
   "source": [
    "df3['DAYS_TERMINATION'].describe()"
   ]
  },
  {
   "cell_type": "code",
   "execution_count": 54,
   "metadata": {},
   "outputs": [
    {
     "data": {
      "text/plain": [
       "0          0.0\n",
       "1          1.0\n",
       "2          0.0\n",
       "3          1.0\n",
       "4          0.0\n",
       "          ... \n",
       "1686663    0.0\n",
       "1686664    1.0\n",
       "1686665    0.0\n",
       "1686666    1.0\n",
       "1686667    0.0\n",
       "Name: NFLAG_INSURED_ON_APPROVAL, Length: 1686668, dtype: float64"
      ]
     },
     "execution_count": 54,
     "metadata": {},
     "output_type": "execute_result"
    }
   ],
   "source": [
    "df3['NFLAG_INSURED_ON_APPROVAL']"
   ]
  },
  {
   "cell_type": "code",
   "execution_count": 55,
   "metadata": {},
   "outputs": [
    {
     "data": {
      "text/plain": [
       "0.0    665527\n",
       "1.0    331622\n",
       "Name: NFLAG_INSURED_ON_APPROVAL, dtype: int64"
      ]
     },
     "execution_count": 55,
     "metadata": {},
     "output_type": "execute_result"
    }
   ],
   "source": [
    "df3['NFLAG_INSURED_ON_APPROVAL'].value_counts()"
   ]
  },
  {
   "cell_type": "code",
   "execution_count": 56,
   "metadata": {},
   "outputs": [
    {
     "data": {
      "text/plain": [
       "<seaborn.axisgrid.FacetGrid at 0x29c80b2cf40>"
      ]
     },
     "execution_count": 56,
     "metadata": {},
     "output_type": "execute_result"
    },
    {
     "data": {
      "image/png": "[encoded data removed]",
      "text/plain": [
       "<Figure size 360x360 with 1 Axes>"
      ]
     },
     "metadata": {
      "needs_background": "light"
     },
     "output_type": "display_data"
    }
   ],
   "source": [
    "sns.catplot(x='NFLAG_INSURED_ON_APPROVAL', data=df3,kind='count')"
   ]
  },
  {
   "cell_type": "code",
   "execution_count": 57,
   "metadata": {},
   "outputs": [
    {
     "name": "stdout",
     "output_type": "stream",
     "text": [
      "Requirement already satisfied: altair in c:\\users\\91829\\anaconda3\\lib\\site-packages (4.1.0)\n",
      "Requirement already satisfied: toolz in c:\\users\\91829\\anaconda3\\lib\\site-packages (from altair) (0.11.1)\n",
      "Requirement already satisfied: numpy in c:\\users\\91829\\anaconda3\\lib\\site-packages (from altair) (1.19.2)\n",
      "Requirement already satisfied: pandas>=0.18 in c:\\users\\91829\\anaconda3\\lib\\site-packages (from altair) (1.1.3)\n",
      "Requirement already satisfied: jinja2 in c:\\users\\91829\\anaconda3\\lib\\site-packages (from altair) (2.11.2)\n",
      "Requirement already satisfied: jsonschema in c:\\users\\91829\\anaconda3\\lib\\site-packages (from altair) (3.2.0)\n",
      "Requirement already satisfied: entrypoints in c:\\users\\91829\\anaconda3\\lib\\site-packages (from altair) (0.3)\n",
      "Requirement already satisfied: pytz>=2017.2 in c:\\users\\91829\\anaconda3\\lib\\site-packages (from pandas>=0.18->altair) (2020.1)\n",
      "Requirement already satisfied: python-dateutil>=2.7.3 in c:\\users\\91829\\anaconda3\\lib\\site-packages (from pandas>=0.18->altair) (2.8.1)\n",
      "Requirement already satisfied: MarkupSafe>=0.23 in c:\\users\\91829\\anaconda3\\lib\\site-packages (from jinja2->altair) (1.1.1)\n",
      "Requirement already satisfied: six>=1.11.0 in c:\\users\\91829\\anaconda3\\lib\\site-packages (from jsonschema->altair) (1.15.0)\n",
      "Requirement already satisfied: attrs>=17.4.0 in c:\\users\\91829\\anaconda3\\lib\\site-packages (from jsonschema->altair) (20.3.0)\n",
      "Requirement already satisfied: setuptools in c:\\users\\91829\\anaconda3\\lib\\site-packages (from jsonschema->altair) (50.3.1.post20201107)\n",
      "Requirement already satisfied: pyrsistent>=0.14.0 in c:\\users\\91829\\anaconda3\\lib\\site-packages (from jsonschema->altair) (0.17.3)\n"
     ]
    }
   ],
   "source": [
    "!pip install altair\n",
    "import altair as alt"
   ]
  },
  {
   "cell_type": "code",
   "execution_count": 58,
   "metadata": {},
   "outputs": [],
   "source": [
    "chart1 = alt.Chart(df3).mark_bar()\\\n",
    "            .encode(alt.X(\"CODE_GENDER\"), y='count()')"
   ]
  },
  {
   "cell_type": "code",
   "execution_count": 59,
   "metadata": {},
   "outputs": [
    {
     "ename": "MaxRowsError",
     "evalue": "The number of rows in your dataset is greater than the maximum allowed (5000). For information on how to plot larger datasets in Altair, see the documentation",
     "output_type": "error",
     "traceback": [
      "\u001b[1;31m---------------------------------------------------------------------------\u001b[0m",
      "\u001b[1;31mMaxRowsError\u001b[0m                              Traceback (most recent call last)",
      "\u001b[1;32m~\\Anaconda3\\lib\\site-packages\\altair\\vegalite\\v4\\api.py\u001b[0m in \u001b[0;36mto_dict\u001b[1;34m(self, *args, **kwargs)\u001b[0m\n\u001b[0;32m    361\u001b[0m         \u001b[0mcopy\u001b[0m \u001b[1;33m=\u001b[0m \u001b[0mself\u001b[0m\u001b[1;33m.\u001b[0m\u001b[0mcopy\u001b[0m\u001b[1;33m(\u001b[0m\u001b[0mdeep\u001b[0m\u001b[1;33m=\u001b[0m\u001b[1;32mFalse\u001b[0m\u001b[1;33m)\u001b[0m\u001b[1;33m\u001b[0m\u001b[1;33m\u001b[0m\u001b[0m\n\u001b[0;32m    362\u001b[0m         \u001b[0moriginal_data\u001b[0m \u001b[1;33m=\u001b[0m \u001b[0mgetattr\u001b[0m\u001b[1;33m(\u001b[0m\u001b[0mcopy\u001b[0m\u001b[1;33m,\u001b[0m \u001b[1;34m\"data\"\u001b[0m\u001b[1;33m,\u001b[0m \u001b[0mUndefined\u001b[0m\u001b[1;33m)\u001b[0m\u001b[1;33m\u001b[0m\u001b[1;33m\u001b[0m\u001b[0m\n\u001b[1;32m--> 363\u001b[1;33m         \u001b[0mcopy\u001b[0m\u001b[1;33m.\u001b[0m\u001b[0mdata\u001b[0m \u001b[1;33m=\u001b[0m \u001b[0m_prepare_data\u001b[0m\u001b[1;33m(\u001b[0m\u001b[0moriginal_data\u001b[0m\u001b[1;33m,\u001b[0m \u001b[0mcontext\u001b[0m\u001b[1;33m)\u001b[0m\u001b[1;33m\u001b[0m\u001b[1;33m\u001b[0m\u001b[0m\n\u001b[0m\u001b[0;32m    364\u001b[0m \u001b[1;33m\u001b[0m\u001b[0m\n\u001b[0;32m    365\u001b[0m         \u001b[1;32mif\u001b[0m \u001b[0moriginal_data\u001b[0m \u001b[1;32mis\u001b[0m \u001b[1;32mnot\u001b[0m \u001b[0mUndefined\u001b[0m\u001b[1;33m:\u001b[0m\u001b[1;33m\u001b[0m\u001b[1;33m\u001b[0m\u001b[0m\n",
      "\u001b[1;32m~\\Anaconda3\\lib\\site-packages\\altair\\vegalite\\v4\\api.py\u001b[0m in \u001b[0;36m_prepare_data\u001b[1;34m(data, context)\u001b[0m\n\u001b[0;32m     82\u001b[0m     \u001b[1;31m# convert dataframes  or objects with __geo_interface__ to dict\u001b[0m\u001b[1;33m\u001b[0m\u001b[1;33m\u001b[0m\u001b[1;33m\u001b[0m\u001b[0m\n\u001b[0;32m     83\u001b[0m     \u001b[1;32mif\u001b[0m \u001b[0misinstance\u001b[0m\u001b[1;33m(\u001b[0m\u001b[0mdata\u001b[0m\u001b[1;33m,\u001b[0m \u001b[0mpd\u001b[0m\u001b[1;33m.\u001b[0m\u001b[0mDataFrame\u001b[0m\u001b[1;33m)\u001b[0m \u001b[1;32mor\u001b[0m \u001b[0mhasattr\u001b[0m\u001b[1;33m(\u001b[0m\u001b[0mdata\u001b[0m\u001b[1;33m,\u001b[0m \u001b[1;34m\"__geo_interface__\"\u001b[0m\u001b[1;33m)\u001b[0m\u001b[1;33m:\u001b[0m\u001b[1;33m\u001b[0m\u001b[1;33m\u001b[0m\u001b[0m\n\u001b[1;32m---> 84\u001b[1;33m         \u001b[0mdata\u001b[0m \u001b[1;33m=\u001b[0m \u001b[0m_pipe\u001b[0m\u001b[1;33m(\u001b[0m\u001b[0mdata\u001b[0m\u001b[1;33m,\u001b[0m \u001b[0mdata_transformers\u001b[0m\u001b[1;33m.\u001b[0m\u001b[0mget\u001b[0m\u001b[1;33m(\u001b[0m\u001b[1;33m)\u001b[0m\u001b[1;33m)\u001b[0m\u001b[1;33m\u001b[0m\u001b[1;33m\u001b[0m\u001b[0m\n\u001b[0m\u001b[0;32m     85\u001b[0m \u001b[1;33m\u001b[0m\u001b[0m\n\u001b[0;32m     86\u001b[0m     \u001b[1;31m# convert string input to a URLData\u001b[0m\u001b[1;33m\u001b[0m\u001b[1;33m\u001b[0m\u001b[1;33m\u001b[0m\u001b[0m\n",
      "\u001b[1;32m~\\Anaconda3\\lib\\site-packages\\toolz\\functoolz.py\u001b[0m in \u001b[0;36mpipe\u001b[1;34m(data, *funcs)\u001b[0m\n\u001b[0;32m    625\u001b[0m     \"\"\"\n\u001b[0;32m    626\u001b[0m     \u001b[1;32mfor\u001b[0m \u001b[0mfunc\u001b[0m \u001b[1;32min\u001b[0m \u001b[0mfuncs\u001b[0m\u001b[1;33m:\u001b[0m\u001b[1;33m\u001b[0m\u001b[1;33m\u001b[0m\u001b[0m\n\u001b[1;32m--> 627\u001b[1;33m         \u001b[0mdata\u001b[0m \u001b[1;33m=\u001b[0m \u001b[0mfunc\u001b[0m\u001b[1;33m(\u001b[0m\u001b[0mdata\u001b[0m\u001b[1;33m)\u001b[0m\u001b[1;33m\u001b[0m\u001b[1;33m\u001b[0m\u001b[0m\n\u001b[0m\u001b[0;32m    628\u001b[0m     \u001b[1;32mreturn\u001b[0m \u001b[0mdata\u001b[0m\u001b[1;33m\u001b[0m\u001b[1;33m\u001b[0m\u001b[0m\n\u001b[0;32m    629\u001b[0m \u001b[1;33m\u001b[0m\u001b[0m\n",
      "\u001b[1;32m~\\Anaconda3\\lib\\site-packages\\toolz\\functoolz.py\u001b[0m in \u001b[0;36m__call__\u001b[1;34m(self, *args, **kwargs)\u001b[0m\n\u001b[0;32m    301\u001b[0m     \u001b[1;32mdef\u001b[0m \u001b[0m__call__\u001b[0m\u001b[1;33m(\u001b[0m\u001b[0mself\u001b[0m\u001b[1;33m,\u001b[0m \u001b[1;33m*\u001b[0m\u001b[0margs\u001b[0m\u001b[1;33m,\u001b[0m \u001b[1;33m**\u001b[0m\u001b[0mkwargs\u001b[0m\u001b[1;33m)\u001b[0m\u001b[1;33m:\u001b[0m\u001b[1;33m\u001b[0m\u001b[1;33m\u001b[0m\u001b[0m\n\u001b[0;32m    302\u001b[0m         \u001b[1;32mtry\u001b[0m\u001b[1;33m:\u001b[0m\u001b[1;33m\u001b[0m\u001b[1;33m\u001b[0m\u001b[0m\n\u001b[1;32m--> 303\u001b[1;33m             \u001b[1;32mreturn\u001b[0m \u001b[0mself\u001b[0m\u001b[1;33m.\u001b[0m\u001b[0m_partial\u001b[0m\u001b[1;33m(\u001b[0m\u001b[1;33m*\u001b[0m\u001b[0margs\u001b[0m\u001b[1;33m,\u001b[0m \u001b[1;33m**\u001b[0m\u001b[0mkwargs\u001b[0m\u001b[1;33m)\u001b[0m\u001b[1;33m\u001b[0m\u001b[1;33m\u001b[0m\u001b[0m\n\u001b[0m\u001b[0;32m    304\u001b[0m         \u001b[1;32mexcept\u001b[0m \u001b[0mTypeError\u001b[0m \u001b[1;32mas\u001b[0m \u001b[0mexc\u001b[0m\u001b[1;33m:\u001b[0m\u001b[1;33m\u001b[0m\u001b[1;33m\u001b[0m\u001b[0m\n\u001b[0;32m    305\u001b[0m             \u001b[1;32mif\u001b[0m \u001b[0mself\u001b[0m\u001b[1;33m.\u001b[0m\u001b[0m_should_curry\u001b[0m\u001b[1;33m(\u001b[0m\u001b[0margs\u001b[0m\u001b[1;33m,\u001b[0m \u001b[0mkwargs\u001b[0m\u001b[1;33m,\u001b[0m \u001b[0mexc\u001b[0m\u001b[1;33m)\u001b[0m\u001b[1;33m:\u001b[0m\u001b[1;33m\u001b[0m\u001b[1;33m\u001b[0m\u001b[0m\n",
      "\u001b[1;32m~\\Anaconda3\\lib\\site-packages\\altair\\vegalite\\data.py\u001b[0m in \u001b[0;36mdefault_data_transformer\u001b[1;34m(data, max_rows)\u001b[0m\n\u001b[0;32m     17\u001b[0m \u001b[1;33m@\u001b[0m\u001b[0mcurried\u001b[0m\u001b[1;33m.\u001b[0m\u001b[0mcurry\u001b[0m\u001b[1;33m\u001b[0m\u001b[1;33m\u001b[0m\u001b[0m\n\u001b[0;32m     18\u001b[0m \u001b[1;32mdef\u001b[0m \u001b[0mdefault_data_transformer\u001b[0m\u001b[1;33m(\u001b[0m\u001b[0mdata\u001b[0m\u001b[1;33m,\u001b[0m \u001b[0mmax_rows\u001b[0m\u001b[1;33m=\u001b[0m\u001b[1;36m5000\u001b[0m\u001b[1;33m)\u001b[0m\u001b[1;33m:\u001b[0m\u001b[1;33m\u001b[0m\u001b[1;33m\u001b[0m\u001b[0m\n\u001b[1;32m---> 19\u001b[1;33m     \u001b[1;32mreturn\u001b[0m \u001b[0mcurried\u001b[0m\u001b[1;33m.\u001b[0m\u001b[0mpipe\u001b[0m\u001b[1;33m(\u001b[0m\u001b[0mdata\u001b[0m\u001b[1;33m,\u001b[0m \u001b[0mlimit_rows\u001b[0m\u001b[1;33m(\u001b[0m\u001b[0mmax_rows\u001b[0m\u001b[1;33m=\u001b[0m\u001b[0mmax_rows\u001b[0m\u001b[1;33m)\u001b[0m\u001b[1;33m,\u001b[0m \u001b[0mto_values\u001b[0m\u001b[1;33m)\u001b[0m\u001b[1;33m\u001b[0m\u001b[1;33m\u001b[0m\u001b[0m\n\u001b[0m\u001b[0;32m     20\u001b[0m \u001b[1;33m\u001b[0m\u001b[0m\n\u001b[0;32m     21\u001b[0m \u001b[1;33m\u001b[0m\u001b[0m\n",
      "\u001b[1;32m~\\Anaconda3\\lib\\site-packages\\toolz\\functoolz.py\u001b[0m in \u001b[0;36mpipe\u001b[1;34m(data, *funcs)\u001b[0m\n\u001b[0;32m    625\u001b[0m     \"\"\"\n\u001b[0;32m    626\u001b[0m     \u001b[1;32mfor\u001b[0m \u001b[0mfunc\u001b[0m \u001b[1;32min\u001b[0m \u001b[0mfuncs\u001b[0m\u001b[1;33m:\u001b[0m\u001b[1;33m\u001b[0m\u001b[1;33m\u001b[0m\u001b[0m\n\u001b[1;32m--> 627\u001b[1;33m         \u001b[0mdata\u001b[0m \u001b[1;33m=\u001b[0m \u001b[0mfunc\u001b[0m\u001b[1;33m(\u001b[0m\u001b[0mdata\u001b[0m\u001b[1;33m)\u001b[0m\u001b[1;33m\u001b[0m\u001b[1;33m\u001b[0m\u001b[0m\n\u001b[0m\u001b[0;32m    628\u001b[0m     \u001b[1;32mreturn\u001b[0m \u001b[0mdata\u001b[0m\u001b[1;33m\u001b[0m\u001b[1;33m\u001b[0m\u001b[0m\n\u001b[0;32m    629\u001b[0m \u001b[1;33m\u001b[0m\u001b[0m\n",
      "\u001b[1;32m~\\Anaconda3\\lib\\site-packages\\toolz\\functoolz.py\u001b[0m in \u001b[0;36m__call__\u001b[1;34m(self, *args, **kwargs)\u001b[0m\n\u001b[0;32m    301\u001b[0m     \u001b[1;32mdef\u001b[0m \u001b[0m__call__\u001b[0m\u001b[1;33m(\u001b[0m\u001b[0mself\u001b[0m\u001b[1;33m,\u001b[0m \u001b[1;33m*\u001b[0m\u001b[0margs\u001b[0m\u001b[1;33m,\u001b[0m \u001b[1;33m**\u001b[0m\u001b[0mkwargs\u001b[0m\u001b[1;33m)\u001b[0m\u001b[1;33m:\u001b[0m\u001b[1;33m\u001b[0m\u001b[1;33m\u001b[0m\u001b[0m\n\u001b[0;32m    302\u001b[0m         \u001b[1;32mtry\u001b[0m\u001b[1;33m:\u001b[0m\u001b[1;33m\u001b[0m\u001b[1;33m\u001b[0m\u001b[0m\n\u001b[1;32m--> 303\u001b[1;33m             \u001b[1;32mreturn\u001b[0m \u001b[0mself\u001b[0m\u001b[1;33m.\u001b[0m\u001b[0m_partial\u001b[0m\u001b[1;33m(\u001b[0m\u001b[1;33m*\u001b[0m\u001b[0margs\u001b[0m\u001b[1;33m,\u001b[0m \u001b[1;33m**\u001b[0m\u001b[0mkwargs\u001b[0m\u001b[1;33m)\u001b[0m\u001b[1;33m\u001b[0m\u001b[1;33m\u001b[0m\u001b[0m\n\u001b[0m\u001b[0;32m    304\u001b[0m         \u001b[1;32mexcept\u001b[0m \u001b[0mTypeError\u001b[0m \u001b[1;32mas\u001b[0m \u001b[0mexc\u001b[0m\u001b[1;33m:\u001b[0m\u001b[1;33m\u001b[0m\u001b[1;33m\u001b[0m\u001b[0m\n\u001b[0;32m    305\u001b[0m             \u001b[1;32mif\u001b[0m \u001b[0mself\u001b[0m\u001b[1;33m.\u001b[0m\u001b[0m_should_curry\u001b[0m\u001b[1;33m(\u001b[0m\u001b[0margs\u001b[0m\u001b[1;33m,\u001b[0m \u001b[0mkwargs\u001b[0m\u001b[1;33m,\u001b[0m \u001b[0mexc\u001b[0m\u001b[1;33m)\u001b[0m\u001b[1;33m:\u001b[0m\u001b[1;33m\u001b[0m\u001b[1;33m\u001b[0m\u001b[0m\n",
      "\u001b[1;32m~\\Anaconda3\\lib\\site-packages\\altair\\utils\\data.py\u001b[0m in \u001b[0;36mlimit_rows\u001b[1;34m(data, max_rows)\u001b[0m\n\u001b[0;32m     78\u001b[0m             \u001b[1;32mreturn\u001b[0m \u001b[0mdata\u001b[0m\u001b[1;33m\u001b[0m\u001b[1;33m\u001b[0m\u001b[0m\n\u001b[0;32m     79\u001b[0m     \u001b[1;32mif\u001b[0m \u001b[0mmax_rows\u001b[0m \u001b[1;32mis\u001b[0m \u001b[1;32mnot\u001b[0m \u001b[1;32mNone\u001b[0m \u001b[1;32mand\u001b[0m \u001b[0mlen\u001b[0m\u001b[1;33m(\u001b[0m\u001b[0mvalues\u001b[0m\u001b[1;33m)\u001b[0m \u001b[1;33m>\u001b[0m \u001b[0mmax_rows\u001b[0m\u001b[1;33m:\u001b[0m\u001b[1;33m\u001b[0m\u001b[1;33m\u001b[0m\u001b[0m\n\u001b[1;32m---> 80\u001b[1;33m         raise MaxRowsError(\n\u001b[0m\u001b[0;32m     81\u001b[0m             \u001b[1;34m\"The number of rows in your dataset is greater \"\u001b[0m\u001b[1;33m\u001b[0m\u001b[1;33m\u001b[0m\u001b[0m\n\u001b[0;32m     82\u001b[0m             \u001b[1;34m\"than the maximum allowed ({}). \"\u001b[0m\u001b[1;33m\u001b[0m\u001b[1;33m\u001b[0m\u001b[0m\n",
      "\u001b[1;31mMaxRowsError\u001b[0m: The number of rows in your dataset is greater than the maximum allowed (5000). For information on how to plot larger datasets in Altair, see the documentation"
     ]
    },
    {
     "data": {
      "text/plain": [
       "alt.Chart(...)"
      ]
     },
     "execution_count": 59,
     "metadata": {},
     "output_type": "execute_result"
    }
   ],
   "source": [
    "chart1"
   ]
  },
  {
   "cell_type": "code",
   "execution_count": 60,
   "metadata": {},
   "outputs": [
    {
     "data": {
      "text/plain": [
       "DataTransformerRegistry.enable('default')"
      ]
     },
     "execution_count": 60,
     "metadata": {},
     "output_type": "execute_result"
    }
   ],
   "source": [
    "alt.data_transformers.disable_max_rows()"
   ]
  },
  {
   "cell_type": "code",
   "execution_count": 61,
   "metadata": {},
   "outputs": [
    {
     "data": {
      "text/plain": [
       "count    1.430155e+06\n",
       "mean     1.736036e+05\n",
       "std      1.983303e+05\n",
       "min      2.565000e+04\n",
       "25%      1.125000e+05\n",
       "50%      1.575000e+05\n",
       "75%      2.115000e+05\n",
       "max      1.170000e+08\n",
       "Name: AMT_INCOME_TOTAL, dtype: float64"
      ]
     },
     "execution_count": 61,
     "metadata": {},
     "output_type": "execute_result"
    }
   ],
   "source": [
    "df3['AMT_INCOME_TOTAL'].describe()"
   ]
  },
  {
   "cell_type": "code",
   "execution_count": 62,
   "metadata": {},
   "outputs": [
    {
     "data": {
      "text/plain": [
       "{'whiskers': [<matplotlib.lines.Line2D at 0x29c802a9c10>,\n",
       "  <matplotlib.lines.Line2D at 0x29c802a9f70>],\n",
       " 'caps': [<matplotlib.lines.Line2D at 0x29c802b6310>,\n",
       "  <matplotlib.lines.Line2D at 0x29c802b6670>],\n",
       " 'boxes': [<matplotlib.lines.Line2D at 0x29c802a98b0>],\n",
       " 'medians': [<matplotlib.lines.Line2D at 0x29c802b69d0>],\n",
       " 'fliers': [<matplotlib.lines.Line2D at 0x29c802b6d30>],\n",
       " 'means': []}"
      ]
     },
     "execution_count": 62,
     "metadata": {},
     "output_type": "execute_result"
    },
    {
     "data": {
      "image/png": "[encoded data removed]",
      "text/plain": [
       "<Figure size 432x288 with 1 Axes>"
      ]
     },
     "metadata": {
      "needs_background": "light"
     },
     "output_type": "display_data"
    }
   ],
   "source": [
    "plt.boxplot(df3['AMT_INCOME_TOTAL'])"
   ]
  },
  {
   "cell_type": "code",
   "execution_count": 63,
   "metadata": {},
   "outputs": [
    {
     "data": {
      "text/html": [
       "<div>\n",
       "<style scoped>\n",
       "    .dataframe tbody tr th:only-of-type {\n",
       "        vertical-align: middle;\n",
       "    }\n",
       "\n",
       "    .dataframe tbody tr th {\n",
       "        vertical-align: top;\n",
       "    }\n",
       "\n",
       "    .dataframe thead th {\n",
       "        text-align: right;\n",
       "    }\n",
       "</style>\n",
       "<table border=\"1\" class=\"dataframe\">\n",
       "  <thead>\n",
       "    <tr style=\"text-align: right;\">\n",
       "      <th></th>\n",
       "      <th></th>\n",
       "      <th></th>\n",
       "      <th>SK_ID_CURR</th>\n",
       "      <th>NAME_CONTRACT_TYPE_x</th>\n",
       "      <th>CODE_GENDER</th>\n",
       "      <th>FLAG_OWN_CAR</th>\n",
       "      <th>FLAG_OWN_REALTY</th>\n",
       "      <th>CNT_CHILDREN</th>\n",
       "      <th>AMT_CREDIT_x</th>\n",
       "      <th>AMT_ANNUITY_x</th>\n",
       "      <th>AMT_GOODS_PRICE_x</th>\n",
       "      <th>NAME_TYPE_SUITE_x</th>\n",
       "      <th>...</th>\n",
       "      <th>CNT_PAYMENT</th>\n",
       "      <th>NAME_YIELD_GROUP</th>\n",
       "      <th>PRODUCT_COMBINATION</th>\n",
       "      <th>DAYS_FIRST_DRAWING</th>\n",
       "      <th>DAYS_FIRST_DUE</th>\n",
       "      <th>DAYS_LAST_DUE_1ST_VERSION</th>\n",
       "      <th>DAYS_LAST_DUE</th>\n",
       "      <th>DAYS_TERMINATION</th>\n",
       "      <th>NFLAG_INSURED_ON_APPROVAL</th>\n",
       "      <th>_merge</th>\n",
       "    </tr>\n",
       "    <tr>\n",
       "      <th>NAME_EDUCATION_TYPE</th>\n",
       "      <th>AMT_INCOME_TOTAL</th>\n",
       "      <th>TARGET</th>\n",
       "      <th></th>\n",
       "      <th></th>\n",
       "      <th></th>\n",
       "      <th></th>\n",
       "      <th></th>\n",
       "      <th></th>\n",
       "      <th></th>\n",
       "      <th></th>\n",
       "      <th></th>\n",
       "      <th></th>\n",
       "      <th></th>\n",
       "      <th></th>\n",
       "      <th></th>\n",
       "      <th></th>\n",
       "      <th></th>\n",
       "      <th></th>\n",
       "      <th></th>\n",
       "      <th></th>\n",
       "      <th></th>\n",
       "      <th></th>\n",
       "      <th></th>\n",
       "    </tr>\n",
       "  </thead>\n",
       "  <tbody>\n",
       "    <tr>\n",
       "      <th rowspan=\"5\" valign=\"top\">Academic degree</th>\n",
       "      <th>49500.0</th>\n",
       "      <th>0.0</th>\n",
       "      <td>3</td>\n",
       "      <td>3</td>\n",
       "      <td>3</td>\n",
       "      <td>3</td>\n",
       "      <td>3</td>\n",
       "      <td>3</td>\n",
       "      <td>3</td>\n",
       "      <td>3</td>\n",
       "      <td>3</td>\n",
       "      <td>3</td>\n",
       "      <td>...</td>\n",
       "      <td>3</td>\n",
       "      <td>3</td>\n",
       "      <td>3</td>\n",
       "      <td>2</td>\n",
       "      <td>2</td>\n",
       "      <td>2</td>\n",
       "      <td>2</td>\n",
       "      <td>2</td>\n",
       "      <td>2</td>\n",
       "      <td>3</td>\n",
       "    </tr>\n",
       "    <tr>\n",
       "      <th>67500.0</th>\n",
       "      <th>0.0</th>\n",
       "      <td>7</td>\n",
       "      <td>7</td>\n",
       "      <td>7</td>\n",
       "      <td>7</td>\n",
       "      <td>7</td>\n",
       "      <td>7</td>\n",
       "      <td>7</td>\n",
       "      <td>7</td>\n",
       "      <td>7</td>\n",
       "      <td>7</td>\n",
       "      <td>...</td>\n",
       "      <td>6</td>\n",
       "      <td>7</td>\n",
       "      <td>7</td>\n",
       "      <td>6</td>\n",
       "      <td>6</td>\n",
       "      <td>6</td>\n",
       "      <td>6</td>\n",
       "      <td>6</td>\n",
       "      <td>6</td>\n",
       "      <td>7</td>\n",
       "    </tr>\n",
       "    <tr>\n",
       "      <th>76500.0</th>\n",
       "      <th>0.0</th>\n",
       "      <td>3</td>\n",
       "      <td>3</td>\n",
       "      <td>3</td>\n",
       "      <td>3</td>\n",
       "      <td>3</td>\n",
       "      <td>3</td>\n",
       "      <td>3</td>\n",
       "      <td>3</td>\n",
       "      <td>3</td>\n",
       "      <td>3</td>\n",
       "      <td>...</td>\n",
       "      <td>3</td>\n",
       "      <td>3</td>\n",
       "      <td>3</td>\n",
       "      <td>3</td>\n",
       "      <td>3</td>\n",
       "      <td>3</td>\n",
       "      <td>3</td>\n",
       "      <td>3</td>\n",
       "      <td>3</td>\n",
       "      <td>3</td>\n",
       "    </tr>\n",
       "    <tr>\n",
       "      <th>81000.0</th>\n",
       "      <th>0.0</th>\n",
       "      <td>4</td>\n",
       "      <td>4</td>\n",
       "      <td>4</td>\n",
       "      <td>4</td>\n",
       "      <td>4</td>\n",
       "      <td>4</td>\n",
       "      <td>4</td>\n",
       "      <td>4</td>\n",
       "      <td>4</td>\n",
       "      <td>4</td>\n",
       "      <td>...</td>\n",
       "      <td>2</td>\n",
       "      <td>4</td>\n",
       "      <td>4</td>\n",
       "      <td>1</td>\n",
       "      <td>1</td>\n",
       "      <td>1</td>\n",
       "      <td>1</td>\n",
       "      <td>1</td>\n",
       "      <td>1</td>\n",
       "      <td>4</td>\n",
       "    </tr>\n",
       "    <tr>\n",
       "      <th>90000.0</th>\n",
       "      <th>0.0</th>\n",
       "      <td>22</td>\n",
       "      <td>22</td>\n",
       "      <td>22</td>\n",
       "      <td>22</td>\n",
       "      <td>22</td>\n",
       "      <td>22</td>\n",
       "      <td>22</td>\n",
       "      <td>22</td>\n",
       "      <td>22</td>\n",
       "      <td>22</td>\n",
       "      <td>...</td>\n",
       "      <td>20</td>\n",
       "      <td>22</td>\n",
       "      <td>22</td>\n",
       "      <td>13</td>\n",
       "      <td>13</td>\n",
       "      <td>13</td>\n",
       "      <td>13</td>\n",
       "      <td>13</td>\n",
       "      <td>13</td>\n",
       "      <td>22</td>\n",
       "    </tr>\n",
       "    <tr>\n",
       "      <th>...</th>\n",
       "      <th>...</th>\n",
       "      <th>...</th>\n",
       "      <td>...</td>\n",
       "      <td>...</td>\n",
       "      <td>...</td>\n",
       "      <td>...</td>\n",
       "      <td>...</td>\n",
       "      <td>...</td>\n",
       "      <td>...</td>\n",
       "      <td>...</td>\n",
       "      <td>...</td>\n",
       "      <td>...</td>\n",
       "      <td>...</td>\n",
       "      <td>...</td>\n",
       "      <td>...</td>\n",
       "      <td>...</td>\n",
       "      <td>...</td>\n",
       "      <td>...</td>\n",
       "      <td>...</td>\n",
       "      <td>...</td>\n",
       "      <td>...</td>\n",
       "      <td>...</td>\n",
       "      <td>...</td>\n",
       "    </tr>\n",
       "    <tr>\n",
       "      <th rowspan=\"5\" valign=\"top\">Secondary / secondary special</th>\n",
       "      <th>2930026.5</th>\n",
       "      <th>0.0</th>\n",
       "      <td>2</td>\n",
       "      <td>2</td>\n",
       "      <td>2</td>\n",
       "      <td>2</td>\n",
       "      <td>2</td>\n",
       "      <td>2</td>\n",
       "      <td>2</td>\n",
       "      <td>2</td>\n",
       "      <td>2</td>\n",
       "      <td>2</td>\n",
       "      <td>...</td>\n",
       "      <td>2</td>\n",
       "      <td>2</td>\n",
       "      <td>2</td>\n",
       "      <td>1</td>\n",
       "      <td>1</td>\n",
       "      <td>1</td>\n",
       "      <td>1</td>\n",
       "      <td>1</td>\n",
       "      <td>1</td>\n",
       "      <td>2</td>\n",
       "    </tr>\n",
       "    <tr>\n",
       "      <th>3600000.0</th>\n",
       "      <th>0.0</th>\n",
       "      <td>9</td>\n",
       "      <td>9</td>\n",
       "      <td>9</td>\n",
       "      <td>9</td>\n",
       "      <td>9</td>\n",
       "      <td>9</td>\n",
       "      <td>9</td>\n",
       "      <td>9</td>\n",
       "      <td>9</td>\n",
       "      <td>9</td>\n",
       "      <td>...</td>\n",
       "      <td>4</td>\n",
       "      <td>9</td>\n",
       "      <td>9</td>\n",
       "      <td>3</td>\n",
       "      <td>3</td>\n",
       "      <td>3</td>\n",
       "      <td>3</td>\n",
       "      <td>3</td>\n",
       "      <td>3</td>\n",
       "      <td>9</td>\n",
       "    </tr>\n",
       "    <tr>\n",
       "      <th>4500000.0</th>\n",
       "      <th>0.0</th>\n",
       "      <td>3</td>\n",
       "      <td>3</td>\n",
       "      <td>3</td>\n",
       "      <td>3</td>\n",
       "      <td>3</td>\n",
       "      <td>3</td>\n",
       "      <td>3</td>\n",
       "      <td>3</td>\n",
       "      <td>3</td>\n",
       "      <td>3</td>\n",
       "      <td>...</td>\n",
       "      <td>2</td>\n",
       "      <td>3</td>\n",
       "      <td>3</td>\n",
       "      <td>2</td>\n",
       "      <td>2</td>\n",
       "      <td>2</td>\n",
       "      <td>2</td>\n",
       "      <td>2</td>\n",
       "      <td>2</td>\n",
       "      <td>3</td>\n",
       "    </tr>\n",
       "    <tr>\n",
       "      <th>18000090.0</th>\n",
       "      <th>0.0</th>\n",
       "      <td>3</td>\n",
       "      <td>3</td>\n",
       "      <td>3</td>\n",
       "      <td>3</td>\n",
       "      <td>3</td>\n",
       "      <td>3</td>\n",
       "      <td>3</td>\n",
       "      <td>3</td>\n",
       "      <td>3</td>\n",
       "      <td>3</td>\n",
       "      <td>...</td>\n",
       "      <td>3</td>\n",
       "      <td>3</td>\n",
       "      <td>3</td>\n",
       "      <td>2</td>\n",
       "      <td>2</td>\n",
       "      <td>2</td>\n",
       "      <td>2</td>\n",
       "      <td>2</td>\n",
       "      <td>2</td>\n",
       "      <td>3</td>\n",
       "    </tr>\n",
       "    <tr>\n",
       "      <th>117000000.0</th>\n",
       "      <th>1.0</th>\n",
       "      <td>3</td>\n",
       "      <td>3</td>\n",
       "      <td>3</td>\n",
       "      <td>3</td>\n",
       "      <td>3</td>\n",
       "      <td>3</td>\n",
       "      <td>3</td>\n",
       "      <td>3</td>\n",
       "      <td>3</td>\n",
       "      <td>3</td>\n",
       "      <td>...</td>\n",
       "      <td>2</td>\n",
       "      <td>3</td>\n",
       "      <td>3</td>\n",
       "      <td>2</td>\n",
       "      <td>2</td>\n",
       "      <td>2</td>\n",
       "      <td>2</td>\n",
       "      <td>2</td>\n",
       "      <td>2</td>\n",
       "      <td>3</td>\n",
       "    </tr>\n",
       "  </tbody>\n",
       "</table>\n",
       "<p>3995 rows × 156 columns</p>\n",
       "</div>"
      ],
      "text/plain": [
       "                                                       SK_ID_CURR  \\\n",
       "NAME_EDUCATION_TYPE           AMT_INCOME_TOTAL TARGET               \n",
       "Academic degree               49500.0          0.0              3   \n",
       "                              67500.0          0.0              7   \n",
       "                              76500.0          0.0              3   \n",
       "                              81000.0          0.0              4   \n",
       "                              90000.0          0.0             22   \n",
       "...                                                           ...   \n",
       "Secondary / secondary special 2930026.5        0.0              2   \n",
       "                              3600000.0        0.0              9   \n",
       "                              4500000.0        0.0              3   \n",
       "                              18000090.0       0.0              3   \n",
       "                              117000000.0      1.0              3   \n",
       "\n",
       "                                                       NAME_CONTRACT_TYPE_x  \\\n",
       "NAME_EDUCATION_TYPE           AMT_INCOME_TOTAL TARGET                         \n",
       "Academic degree               49500.0          0.0                        3   \n",
       "                              67500.0          0.0                        7   \n",
       "                              76500.0          0.0                        3   \n",
       "                              81000.0          0.0                        4   \n",
       "                              90000.0          0.0                       22   \n",
       "...                                                                     ...   \n",
       "Secondary / secondary special 2930026.5        0.0                        2   \n",
       "                              3600000.0        0.0                        9   \n",
       "                              4500000.0        0.0                        3   \n",
       "                              18000090.0       0.0                        3   \n",
       "                              117000000.0      1.0                        3   \n",
       "\n",
       "                                                       CODE_GENDER  \\\n",
       "NAME_EDUCATION_TYPE           AMT_INCOME_TOTAL TARGET                \n",
       "Academic degree               49500.0          0.0               3   \n",
       "                              67500.0          0.0               7   \n",
       "                              76500.0          0.0               3   \n",
       "                              81000.0          0.0               4   \n",
       "                              90000.0          0.0              22   \n",
       "...                                                            ...   \n",
       "Secondary / secondary special 2930026.5        0.0               2   \n",
       "                              3600000.0        0.0               9   \n",
       "                              4500000.0        0.0               3   \n",
       "                              18000090.0       0.0               3   \n",
       "                              117000000.0      1.0               3   \n",
       "\n",
       "                                                       FLAG_OWN_CAR  \\\n",
       "NAME_EDUCATION_TYPE           AMT_INCOME_TOTAL TARGET                 \n",
       "Academic degree               49500.0          0.0                3   \n",
       "                              67500.0          0.0                7   \n",
       "                              76500.0          0.0                3   \n",
       "                              81000.0          0.0                4   \n",
       "                              90000.0          0.0               22   \n",
       "...                                                             ...   \n",
       "Secondary / secondary special 2930026.5        0.0                2   \n",
       "                              3600000.0        0.0                9   \n",
       "                              4500000.0        0.0                3   \n",
       "                              18000090.0       0.0                3   \n",
       "                              117000000.0      1.0                3   \n",
       "\n",
       "                                                       FLAG_OWN_REALTY  \\\n",
       "NAME_EDUCATION_TYPE           AMT_INCOME_TOTAL TARGET                    \n",
       "Academic degree               49500.0          0.0                   3   \n",
       "                              67500.0          0.0                   7   \n",
       "                              76500.0          0.0                   3   \n",
       "                              81000.0          0.0                   4   \n",
       "                              90000.0          0.0                  22   \n",
       "...                                                                ...   \n",
       "Secondary / secondary special 2930026.5        0.0                   2   \n",
       "                              3600000.0        0.0                   9   \n",
       "                              4500000.0        0.0                   3   \n",
       "                              18000090.0       0.0                   3   \n",
       "                              117000000.0      1.0                   3   \n",
       "\n",
       "                                                       CNT_CHILDREN  \\\n",
       "NAME_EDUCATION_TYPE           AMT_INCOME_TOTAL TARGET                 \n",
       "Academic degree               49500.0          0.0                3   \n",
       "                              67500.0          0.0                7   \n",
       "                              76500.0          0.0                3   \n",
       "                              81000.0          0.0                4   \n",
       "                              90000.0          0.0               22   \n",
       "...                                                             ...   \n",
       "Secondary / secondary special 2930026.5        0.0                2   \n",
       "                              3600000.0        0.0                9   \n",
       "                              4500000.0        0.0                3   \n",
       "                              18000090.0       0.0                3   \n",
       "                              117000000.0      1.0                3   \n",
       "\n",
       "                                                       AMT_CREDIT_x  \\\n",
       "NAME_EDUCATION_TYPE           AMT_INCOME_TOTAL TARGET                 \n",
       "Academic degree               49500.0          0.0                3   \n",
       "                              67500.0          0.0                7   \n",
       "                              76500.0          0.0                3   \n",
       "                              81000.0          0.0                4   \n",
       "                              90000.0          0.0               22   \n",
       "...                                                             ...   \n",
       "Secondary / secondary special 2930026.5        0.0                2   \n",
       "                              3600000.0        0.0                9   \n",
       "                              4500000.0        0.0                3   \n",
       "                              18000090.0       0.0                3   \n",
       "                              117000000.0      1.0                3   \n",
       "\n",
       "                                                       AMT_ANNUITY_x  \\\n",
       "NAME_EDUCATION_TYPE           AMT_INCOME_TOTAL TARGET                  \n",
       "Academic degree               49500.0          0.0                 3   \n",
       "                              67500.0          0.0                 7   \n",
       "                              76500.0          0.0                 3   \n",
       "                              81000.0          0.0                 4   \n",
       "                              90000.0          0.0                22   \n",
       "...                                                              ...   \n",
       "Secondary / secondary special 2930026.5        0.0                 2   \n",
       "                              3600000.0        0.0                 9   \n",
       "                              4500000.0        0.0                 3   \n",
       "                              18000090.0       0.0                 3   \n",
       "                              117000000.0      1.0                 3   \n",
       "\n",
       "                                                       AMT_GOODS_PRICE_x  \\\n",
       "NAME_EDUCATION_TYPE           AMT_INCOME_TOTAL TARGET                      \n",
       "Academic degree               49500.0          0.0                     3   \n",
       "                              67500.0          0.0                     7   \n",
       "                              76500.0          0.0                     3   \n",
       "                              81000.0          0.0                     4   \n",
       "                              90000.0          0.0                    22   \n",
       "...                                                                  ...   \n",
       "Secondary / secondary special 2930026.5        0.0                     2   \n",
       "                              3600000.0        0.0                     9   \n",
       "                              4500000.0        0.0                     3   \n",
       "                              18000090.0       0.0                     3   \n",
       "                              117000000.0      1.0                     3   \n",
       "\n",
       "                                                       NAME_TYPE_SUITE_x  ...  \\\n",
       "NAME_EDUCATION_TYPE           AMT_INCOME_TOTAL TARGET                     ...   \n",
       "Academic degree               49500.0          0.0                     3  ...   \n",
       "                              67500.0          0.0                     7  ...   \n",
       "                              76500.0          0.0                     3  ...   \n",
       "                              81000.0          0.0                     4  ...   \n",
       "                              90000.0          0.0                    22  ...   \n",
       "...                                                                  ...  ...   \n",
       "Secondary / secondary special 2930026.5        0.0                     2  ...   \n",
       "                              3600000.0        0.0                     9  ...   \n",
       "                              4500000.0        0.0                     3  ...   \n",
       "                              18000090.0       0.0                     3  ...   \n",
       "                              117000000.0      1.0                     3  ...   \n",
       "\n",
       "                                                       CNT_PAYMENT  \\\n",
       "NAME_EDUCATION_TYPE           AMT_INCOME_TOTAL TARGET                \n",
       "Academic degree               49500.0          0.0               3   \n",
       "                              67500.0          0.0               6   \n",
       "                              76500.0          0.0               3   \n",
       "                              81000.0          0.0               2   \n",
       "                              90000.0          0.0              20   \n",
       "...                                                            ...   \n",
       "Secondary / secondary special 2930026.5        0.0               2   \n",
       "                              3600000.0        0.0               4   \n",
       "                              4500000.0        0.0               2   \n",
       "                              18000090.0       0.0               3   \n",
       "                              117000000.0      1.0               2   \n",
       "\n",
       "                                                       NAME_YIELD_GROUP  \\\n",
       "NAME_EDUCATION_TYPE           AMT_INCOME_TOTAL TARGET                     \n",
       "Academic degree               49500.0          0.0                    3   \n",
       "                              67500.0          0.0                    7   \n",
       "                              76500.0          0.0                    3   \n",
       "                              81000.0          0.0                    4   \n",
       "                              90000.0          0.0                   22   \n",
       "...                                                                 ...   \n",
       "Secondary / secondary special 2930026.5        0.0                    2   \n",
       "                              3600000.0        0.0                    9   \n",
       "                              4500000.0        0.0                    3   \n",
       "                              18000090.0       0.0                    3   \n",
       "                              117000000.0      1.0                    3   \n",
       "\n",
       "                                                       PRODUCT_COMBINATION  \\\n",
       "NAME_EDUCATION_TYPE           AMT_INCOME_TOTAL TARGET                        \n",
       "Academic degree               49500.0          0.0                       3   \n",
       "                              67500.0          0.0                       7   \n",
       "                              76500.0          0.0                       3   \n",
       "                              81000.0          0.0                       4   \n",
       "                              90000.0          0.0                      22   \n",
       "...                                                                    ...   \n",
       "Secondary / secondary special 2930026.5        0.0                       2   \n",
       "                              3600000.0        0.0                       9   \n",
       "                              4500000.0        0.0                       3   \n",
       "                              18000090.0       0.0                       3   \n",
       "                              117000000.0      1.0                       3   \n",
       "\n",
       "                                                       DAYS_FIRST_DRAWING  \\\n",
       "NAME_EDUCATION_TYPE           AMT_INCOME_TOTAL TARGET                       \n",
       "Academic degree               49500.0          0.0                      2   \n",
       "                              67500.0          0.0                      6   \n",
       "                              76500.0          0.0                      3   \n",
       "                              81000.0          0.0                      1   \n",
       "                              90000.0          0.0                     13   \n",
       "...                                                                   ...   \n",
       "Secondary / secondary special 2930026.5        0.0                      1   \n",
       "                              3600000.0        0.0                      3   \n",
       "                              4500000.0        0.0                      2   \n",
       "                              18000090.0       0.0                      2   \n",
       "                              117000000.0      1.0                      2   \n",
       "\n",
       "                                                       DAYS_FIRST_DUE  \\\n",
       "NAME_EDUCATION_TYPE           AMT_INCOME_TOTAL TARGET                   \n",
       "Academic degree               49500.0          0.0                  2   \n",
       "                              67500.0          0.0                  6   \n",
       "                              76500.0          0.0                  3   \n",
       "                              81000.0          0.0                  1   \n",
       "                              90000.0          0.0                 13   \n",
       "...                                                               ...   \n",
       "Secondary / secondary special 2930026.5        0.0                  1   \n",
       "                              3600000.0        0.0                  3   \n",
       "                              4500000.0        0.0                  2   \n",
       "                              18000090.0       0.0                  2   \n",
       "                              117000000.0      1.0                  2   \n",
       "\n",
       "                                                       DAYS_LAST_DUE_1ST_VERSION  \\\n",
       "NAME_EDUCATION_TYPE           AMT_INCOME_TOTAL TARGET                              \n",
       "Academic degree               49500.0          0.0                             2   \n",
       "                              67500.0          0.0                             6   \n",
       "                              76500.0          0.0                             3   \n",
       "                              81000.0          0.0                             1   \n",
       "                              90000.0          0.0                            13   \n",
       "...                                                                          ...   \n",
       "Secondary / secondary special 2930026.5        0.0                             1   \n",
       "                              3600000.0        0.0                             3   \n",
       "                              4500000.0        0.0                             2   \n",
       "                              18000090.0       0.0                             2   \n",
       "                              117000000.0      1.0                             2   \n",
       "\n",
       "                                                       DAYS_LAST_DUE  \\\n",
       "NAME_EDUCATION_TYPE           AMT_INCOME_TOTAL TARGET                  \n",
       "Academic degree               49500.0          0.0                 2   \n",
       "                              67500.0          0.0                 6   \n",
       "                              76500.0          0.0                 3   \n",
       "                              81000.0          0.0                 1   \n",
       "                              90000.0          0.0                13   \n",
       "...                                                              ...   \n",
       "Secondary / secondary special 2930026.5        0.0                 1   \n",
       "                              3600000.0        0.0                 3   \n",
       "                              4500000.0        0.0                 2   \n",
       "                              18000090.0       0.0                 2   \n",
       "                              117000000.0      1.0                 2   \n",
       "\n",
       "                                                       DAYS_TERMINATION  \\\n",
       "NAME_EDUCATION_TYPE           AMT_INCOME_TOTAL TARGET                     \n",
       "Academic degree               49500.0          0.0                    2   \n",
       "                              67500.0          0.0                    6   \n",
       "                              76500.0          0.0                    3   \n",
       "                              81000.0          0.0                    1   \n",
       "                              90000.0          0.0                   13   \n",
       "...                                                                 ...   \n",
       "Secondary / secondary special 2930026.5        0.0                    1   \n",
       "                              3600000.0        0.0                    3   \n",
       "                              4500000.0        0.0                    2   \n",
       "                              18000090.0       0.0                    2   \n",
       "                              117000000.0      1.0                    2   \n",
       "\n",
       "                                                       NFLAG_INSURED_ON_APPROVAL  \\\n",
       "NAME_EDUCATION_TYPE           AMT_INCOME_TOTAL TARGET                              \n",
       "Academic degree               49500.0          0.0                             2   \n",
       "                              67500.0          0.0                             6   \n",
       "                              76500.0          0.0                             3   \n",
       "                              81000.0          0.0                             1   \n",
       "                              90000.0          0.0                            13   \n",
       "...                                                                          ...   \n",
       "Secondary / secondary special 2930026.5        0.0                             1   \n",
       "                              3600000.0        0.0                             3   \n",
       "                              4500000.0        0.0                             2   \n",
       "                              18000090.0       0.0                             2   \n",
       "                              117000000.0      1.0                             2   \n",
       "\n",
       "                                                       _merge  \n",
       "NAME_EDUCATION_TYPE           AMT_INCOME_TOTAL TARGET          \n",
       "Academic degree               49500.0          0.0          3  \n",
       "                              67500.0          0.0          7  \n",
       "                              76500.0          0.0          3  \n",
       "                              81000.0          0.0          4  \n",
       "                              90000.0          0.0         22  \n",
       "...                                                       ...  \n",
       "Secondary / secondary special 2930026.5        0.0          2  \n",
       "                              3600000.0        0.0          9  \n",
       "                              4500000.0        0.0          3  \n",
       "                              18000090.0       0.0          3  \n",
       "                              117000000.0      1.0          3  \n",
       "\n",
       "[3995 rows x 156 columns]"
      ]
     },
     "execution_count": 63,
     "metadata": {},
     "output_type": "execute_result"
    }
   ],
   "source": [
    "df3.groupby(by=['NAME_EDUCATION_TYPE','AMT_INCOME_TOTAL','TARGET']).count()"
   ]
  },
  {
   "cell_type": "code",
   "execution_count": 64,
   "metadata": {},
   "outputs": [
    {
     "data": {
      "text/plain": [
       "<AxesSubplot:>"
      ]
     },
     "execution_count": 64,
     "metadata": {},
     "output_type": "execute_result"
    },
    {
     "data": {
      "image/png": "[encoded data removed]",
      "text/plain": [
       "<Figure size 432x288 with 1 Axes>"
      ]
     },
     "metadata": {
      "needs_background": "light"
     },
     "output_type": "display_data"
    }
   ],
   "source": [
    "df3['AMT_INCOME_TOTAL'].hist(bins=70)"
   ]
  },
  {
   "cell_type": "code",
   "execution_count": 65,
   "metadata": {},
   "outputs": [],
   "source": [
    "df3['Age']=df3['DAYS_BIRTH']//365"
   ]
  },
  {
   "cell_type": "code",
   "execution_count": 66,
   "metadata": {},
   "outputs": [
    {
     "data": {
      "text/html": [
       "<div>\n",
       "<style scoped>\n",
       "    .dataframe tbody tr th:only-of-type {\n",
       "        vertical-align: middle;\n",
       "    }\n",
       "\n",
       "    .dataframe tbody tr th {\n",
       "        vertical-align: top;\n",
       "    }\n",
       "\n",
       "    .dataframe thead th {\n",
       "        text-align: right;\n",
       "    }\n",
       "</style>\n",
       "<table border=\"1\" class=\"dataframe\">\n",
       "  <thead>\n",
       "    <tr style=\"text-align: right;\">\n",
       "      <th>Age</th>\n",
       "      <th>-70.0</th>\n",
       "      <th>-69.0</th>\n",
       "      <th>-68.0</th>\n",
       "      <th>-67.0</th>\n",
       "      <th>-66.0</th>\n",
       "      <th>-65.0</th>\n",
       "      <th>-64.0</th>\n",
       "      <th>-63.0</th>\n",
       "      <th>-62.0</th>\n",
       "      <th>-61.0</th>\n",
       "      <th>...</th>\n",
       "      <th>-30.0</th>\n",
       "      <th>-29.0</th>\n",
       "      <th>-28.0</th>\n",
       "      <th>-27.0</th>\n",
       "      <th>-26.0</th>\n",
       "      <th>-25.0</th>\n",
       "      <th>-24.0</th>\n",
       "      <th>-23.0</th>\n",
       "      <th>-22.0</th>\n",
       "      <th>-21.0</th>\n",
       "    </tr>\n",
       "    <tr>\n",
       "      <th>AMT_INCOME_TOTAL</th>\n",
       "      <th></th>\n",
       "      <th></th>\n",
       "      <th></th>\n",
       "      <th></th>\n",
       "      <th></th>\n",
       "      <th></th>\n",
       "      <th></th>\n",
       "      <th></th>\n",
       "      <th></th>\n",
       "      <th></th>\n",
       "      <th></th>\n",
       "      <th></th>\n",
       "      <th></th>\n",
       "      <th></th>\n",
       "      <th></th>\n",
       "      <th></th>\n",
       "      <th></th>\n",
       "      <th></th>\n",
       "      <th></th>\n",
       "      <th></th>\n",
       "      <th></th>\n",
       "    </tr>\n",
       "  </thead>\n",
       "  <tbody>\n",
       "    <tr>\n",
       "      <th>25650.0</th>\n",
       "      <td>0</td>\n",
       "      <td>0</td>\n",
       "      <td>0</td>\n",
       "      <td>0</td>\n",
       "      <td>0</td>\n",
       "      <td>0</td>\n",
       "      <td>0</td>\n",
       "      <td>0</td>\n",
       "      <td>0</td>\n",
       "      <td>0</td>\n",
       "      <td>...</td>\n",
       "      <td>0</td>\n",
       "      <td>0</td>\n",
       "      <td>0</td>\n",
       "      <td>0</td>\n",
       "      <td>0</td>\n",
       "      <td>0</td>\n",
       "      <td>0</td>\n",
       "      <td>0</td>\n",
       "      <td>0</td>\n",
       "      <td>0</td>\n",
       "    </tr>\n",
       "    <tr>\n",
       "      <th>26100.0</th>\n",
       "      <td>0</td>\n",
       "      <td>0</td>\n",
       "      <td>0</td>\n",
       "      <td>0</td>\n",
       "      <td>0</td>\n",
       "      <td>0</td>\n",
       "      <td>0</td>\n",
       "      <td>0</td>\n",
       "      <td>0</td>\n",
       "      <td>0</td>\n",
       "      <td>...</td>\n",
       "      <td>0</td>\n",
       "      <td>0</td>\n",
       "      <td>0</td>\n",
       "      <td>0</td>\n",
       "      <td>0</td>\n",
       "      <td>0</td>\n",
       "      <td>0</td>\n",
       "      <td>0</td>\n",
       "      <td>0</td>\n",
       "      <td>0</td>\n",
       "    </tr>\n",
       "    <tr>\n",
       "      <th>26460.0</th>\n",
       "      <td>0</td>\n",
       "      <td>0</td>\n",
       "      <td>0</td>\n",
       "      <td>0</td>\n",
       "      <td>0</td>\n",
       "      <td>0</td>\n",
       "      <td>0</td>\n",
       "      <td>0</td>\n",
       "      <td>0</td>\n",
       "      <td>0</td>\n",
       "      <td>...</td>\n",
       "      <td>0</td>\n",
       "      <td>0</td>\n",
       "      <td>0</td>\n",
       "      <td>0</td>\n",
       "      <td>0</td>\n",
       "      <td>0</td>\n",
       "      <td>0</td>\n",
       "      <td>0</td>\n",
       "      <td>0</td>\n",
       "      <td>0</td>\n",
       "    </tr>\n",
       "    <tr>\n",
       "      <th>26550.0</th>\n",
       "      <td>0</td>\n",
       "      <td>0</td>\n",
       "      <td>0</td>\n",
       "      <td>0</td>\n",
       "      <td>0</td>\n",
       "      <td>0</td>\n",
       "      <td>0</td>\n",
       "      <td>0</td>\n",
       "      <td>0</td>\n",
       "      <td>0</td>\n",
       "      <td>...</td>\n",
       "      <td>0</td>\n",
       "      <td>0</td>\n",
       "      <td>0</td>\n",
       "      <td>0</td>\n",
       "      <td>0</td>\n",
       "      <td>0</td>\n",
       "      <td>0</td>\n",
       "      <td>0</td>\n",
       "      <td>0</td>\n",
       "      <td>0</td>\n",
       "    </tr>\n",
       "    <tr>\n",
       "      <th>27000.0</th>\n",
       "      <td>0</td>\n",
       "      <td>0</td>\n",
       "      <td>1</td>\n",
       "      <td>0</td>\n",
       "      <td>0</td>\n",
       "      <td>0</td>\n",
       "      <td>3</td>\n",
       "      <td>4</td>\n",
       "      <td>12</td>\n",
       "      <td>6</td>\n",
       "      <td>...</td>\n",
       "      <td>4</td>\n",
       "      <td>1</td>\n",
       "      <td>4</td>\n",
       "      <td>0</td>\n",
       "      <td>1</td>\n",
       "      <td>2</td>\n",
       "      <td>0</td>\n",
       "      <td>0</td>\n",
       "      <td>0</td>\n",
       "      <td>0</td>\n",
       "    </tr>\n",
       "    <tr>\n",
       "      <th>...</th>\n",
       "      <td>...</td>\n",
       "      <td>...</td>\n",
       "      <td>...</td>\n",
       "      <td>...</td>\n",
       "      <td>...</td>\n",
       "      <td>...</td>\n",
       "      <td>...</td>\n",
       "      <td>...</td>\n",
       "      <td>...</td>\n",
       "      <td>...</td>\n",
       "      <td>...</td>\n",
       "      <td>...</td>\n",
       "      <td>...</td>\n",
       "      <td>...</td>\n",
       "      <td>...</td>\n",
       "      <td>...</td>\n",
       "      <td>...</td>\n",
       "      <td>...</td>\n",
       "      <td>...</td>\n",
       "      <td>...</td>\n",
       "      <td>...</td>\n",
       "    </tr>\n",
       "    <tr>\n",
       "      <th>6750000.0</th>\n",
       "      <td>0</td>\n",
       "      <td>0</td>\n",
       "      <td>0</td>\n",
       "      <td>0</td>\n",
       "      <td>0</td>\n",
       "      <td>0</td>\n",
       "      <td>0</td>\n",
       "      <td>0</td>\n",
       "      <td>0</td>\n",
       "      <td>0</td>\n",
       "      <td>...</td>\n",
       "      <td>0</td>\n",
       "      <td>0</td>\n",
       "      <td>0</td>\n",
       "      <td>0</td>\n",
       "      <td>0</td>\n",
       "      <td>0</td>\n",
       "      <td>0</td>\n",
       "      <td>0</td>\n",
       "      <td>0</td>\n",
       "      <td>0</td>\n",
       "    </tr>\n",
       "    <tr>\n",
       "      <th>9000000.0</th>\n",
       "      <td>0</td>\n",
       "      <td>0</td>\n",
       "      <td>0</td>\n",
       "      <td>0</td>\n",
       "      <td>0</td>\n",
       "      <td>0</td>\n",
       "      <td>0</td>\n",
       "      <td>0</td>\n",
       "      <td>0</td>\n",
       "      <td>0</td>\n",
       "      <td>...</td>\n",
       "      <td>0</td>\n",
       "      <td>0</td>\n",
       "      <td>0</td>\n",
       "      <td>0</td>\n",
       "      <td>0</td>\n",
       "      <td>0</td>\n",
       "      <td>0</td>\n",
       "      <td>0</td>\n",
       "      <td>0</td>\n",
       "      <td>0</td>\n",
       "    </tr>\n",
       "    <tr>\n",
       "      <th>13500000.0</th>\n",
       "      <td>0</td>\n",
       "      <td>0</td>\n",
       "      <td>0</td>\n",
       "      <td>0</td>\n",
       "      <td>0</td>\n",
       "      <td>0</td>\n",
       "      <td>0</td>\n",
       "      <td>0</td>\n",
       "      <td>0</td>\n",
       "      <td>0</td>\n",
       "      <td>...</td>\n",
       "      <td>0</td>\n",
       "      <td>0</td>\n",
       "      <td>0</td>\n",
       "      <td>0</td>\n",
       "      <td>0</td>\n",
       "      <td>0</td>\n",
       "      <td>0</td>\n",
       "      <td>0</td>\n",
       "      <td>0</td>\n",
       "      <td>0</td>\n",
       "    </tr>\n",
       "    <tr>\n",
       "      <th>18000090.0</th>\n",
       "      <td>0</td>\n",
       "      <td>0</td>\n",
       "      <td>0</td>\n",
       "      <td>0</td>\n",
       "      <td>0</td>\n",
       "      <td>0</td>\n",
       "      <td>0</td>\n",
       "      <td>0</td>\n",
       "      <td>0</td>\n",
       "      <td>0</td>\n",
       "      <td>...</td>\n",
       "      <td>0</td>\n",
       "      <td>0</td>\n",
       "      <td>0</td>\n",
       "      <td>0</td>\n",
       "      <td>0</td>\n",
       "      <td>0</td>\n",
       "      <td>0</td>\n",
       "      <td>0</td>\n",
       "      <td>0</td>\n",
       "      <td>0</td>\n",
       "    </tr>\n",
       "    <tr>\n",
       "      <th>117000000.0</th>\n",
       "      <td>0</td>\n",
       "      <td>0</td>\n",
       "      <td>0</td>\n",
       "      <td>0</td>\n",
       "      <td>0</td>\n",
       "      <td>0</td>\n",
       "      <td>0</td>\n",
       "      <td>0</td>\n",
       "      <td>0</td>\n",
       "      <td>0</td>\n",
       "      <td>...</td>\n",
       "      <td>0</td>\n",
       "      <td>0</td>\n",
       "      <td>0</td>\n",
       "      <td>0</td>\n",
       "      <td>0</td>\n",
       "      <td>0</td>\n",
       "      <td>0</td>\n",
       "      <td>0</td>\n",
       "      <td>0</td>\n",
       "      <td>0</td>\n",
       "    </tr>\n",
       "  </tbody>\n",
       "</table>\n",
       "<p>2548 rows × 50 columns</p>\n",
       "</div>"
      ],
      "text/plain": [
       "Age               -70.0  -69.0  -68.0  -67.0  -66.0  -65.0  -64.0  -63.0  \\\n",
       "AMT_INCOME_TOTAL                                                           \n",
       "25650.0               0      0      0      0      0      0      0      0   \n",
       "26100.0               0      0      0      0      0      0      0      0   \n",
       "26460.0               0      0      0      0      0      0      0      0   \n",
       "26550.0               0      0      0      0      0      0      0      0   \n",
       "27000.0               0      0      1      0      0      0      3      4   \n",
       "...                 ...    ...    ...    ...    ...    ...    ...    ...   \n",
       "6750000.0             0      0      0      0      0      0      0      0   \n",
       "9000000.0             0      0      0      0      0      0      0      0   \n",
       "13500000.0            0      0      0      0      0      0      0      0   \n",
       "18000090.0            0      0      0      0      0      0      0      0   \n",
       "117000000.0           0      0      0      0      0      0      0      0   \n",
       "\n",
       "Age               -62.0  -61.0  ...  -30.0  -29.0  -28.0  -27.0  -26.0  -25.0  \\\n",
       "AMT_INCOME_TOTAL                ...                                             \n",
       "25650.0               0      0  ...      0      0      0      0      0      0   \n",
       "26100.0               0      0  ...      0      0      0      0      0      0   \n",
       "26460.0               0      0  ...      0      0      0      0      0      0   \n",
       "26550.0               0      0  ...      0      0      0      0      0      0   \n",
       "27000.0              12      6  ...      4      1      4      0      1      2   \n",
       "...                 ...    ...  ...    ...    ...    ...    ...    ...    ...   \n",
       "6750000.0             0      0  ...      0      0      0      0      0      0   \n",
       "9000000.0             0      0  ...      0      0      0      0      0      0   \n",
       "13500000.0            0      0  ...      0      0      0      0      0      0   \n",
       "18000090.0            0      0  ...      0      0      0      0      0      0   \n",
       "117000000.0           0      0  ...      0      0      0      0      0      0   \n",
       "\n",
       "Age               -24.0  -23.0  -22.0  -21.0  \n",
       "AMT_INCOME_TOTAL                              \n",
       "25650.0               0      0      0      0  \n",
       "26100.0               0      0      0      0  \n",
       "26460.0               0      0      0      0  \n",
       "26550.0               0      0      0      0  \n",
       "27000.0               0      0      0      0  \n",
       "...                 ...    ...    ...    ...  \n",
       "6750000.0             0      0      0      0  \n",
       "9000000.0             0      0      0      0  \n",
       "13500000.0            0      0      0      0  \n",
       "18000090.0            0      0      0      0  \n",
       "117000000.0           0      0      0      0  \n",
       "\n",
       "[2548 rows x 50 columns]"
      ]
     },
     "execution_count": 66,
     "metadata": {},
     "output_type": "execute_result"
    }
   ],
   "source": [
    "pd.crosstab(index=df3['AMT_INCOME_TOTAL'], columns=df3['Age'])"
   ]
  },
  {
   "cell_type": "code",
   "execution_count": 67,
   "metadata": {},
   "outputs": [
    {
     "data": {
      "text/html": [
       "<div>\n",
       "<style scoped>\n",
       "    .dataframe tbody tr th:only-of-type {\n",
       "        vertical-align: middle;\n",
       "    }\n",
       "\n",
       "    .dataframe tbody tr th {\n",
       "        vertical-align: top;\n",
       "    }\n",
       "\n",
       "    .dataframe thead th {\n",
       "        text-align: right;\n",
       "    }\n",
       "</style>\n",
       "<table border=\"1\" class=\"dataframe\">\n",
       "  <thead>\n",
       "    <tr style=\"text-align: right;\">\n",
       "      <th></th>\n",
       "      <th>AMT_INCOME_TOTAL</th>\n",
       "    </tr>\n",
       "    <tr>\n",
       "      <th>Age</th>\n",
       "      <th></th>\n",
       "    </tr>\n",
       "  </thead>\n",
       "  <tbody>\n",
       "    <tr>\n",
       "      <th>-70.0</th>\n",
       "      <td>154070.156250</td>\n",
       "    </tr>\n",
       "    <tr>\n",
       "      <th>-69.0</th>\n",
       "      <td>125271.517523</td>\n",
       "    </tr>\n",
       "    <tr>\n",
       "      <th>-68.0</th>\n",
       "      <td>125521.197493</td>\n",
       "    </tr>\n",
       "    <tr>\n",
       "      <th>-67.0</th>\n",
       "      <td>126787.994045</td>\n",
       "    </tr>\n",
       "    <tr>\n",
       "      <th>-66.0</th>\n",
       "      <td>132348.515449</td>\n",
       "    </tr>\n",
       "    <tr>\n",
       "      <th>-65.0</th>\n",
       "      <td>154609.903544</td>\n",
       "    </tr>\n",
       "    <tr>\n",
       "      <th>-64.0</th>\n",
       "      <td>158560.082612</td>\n",
       "    </tr>\n",
       "    <tr>\n",
       "      <th>-63.0</th>\n",
       "      <td>153435.898802</td>\n",
       "    </tr>\n",
       "    <tr>\n",
       "      <th>-62.0</th>\n",
       "      <td>154486.141042</td>\n",
       "    </tr>\n",
       "    <tr>\n",
       "      <th>-61.0</th>\n",
       "      <td>159554.581275</td>\n",
       "    </tr>\n",
       "    <tr>\n",
       "      <th>-60.0</th>\n",
       "      <td>162084.747317</td>\n",
       "    </tr>\n",
       "    <tr>\n",
       "      <th>-59.0</th>\n",
       "      <td>162570.561252</td>\n",
       "    </tr>\n",
       "    <tr>\n",
       "      <th>-58.0</th>\n",
       "      <td>168417.656382</td>\n",
       "    </tr>\n",
       "    <tr>\n",
       "      <th>-57.0</th>\n",
       "      <td>169273.027989</td>\n",
       "    </tr>\n",
       "    <tr>\n",
       "      <th>-56.0</th>\n",
       "      <td>172639.663767</td>\n",
       "    </tr>\n",
       "    <tr>\n",
       "      <th>-55.0</th>\n",
       "      <td>172783.448298</td>\n",
       "    </tr>\n",
       "    <tr>\n",
       "      <th>-54.0</th>\n",
       "      <td>174096.208694</td>\n",
       "    </tr>\n",
       "    <tr>\n",
       "      <th>-53.0</th>\n",
       "      <td>177677.080434</td>\n",
       "    </tr>\n",
       "    <tr>\n",
       "      <th>-52.0</th>\n",
       "      <td>179711.044163</td>\n",
       "    </tr>\n",
       "    <tr>\n",
       "      <th>-51.0</th>\n",
       "      <td>181323.878725</td>\n",
       "    </tr>\n",
       "    <tr>\n",
       "      <th>-50.0</th>\n",
       "      <td>177954.264540</td>\n",
       "    </tr>\n",
       "    <tr>\n",
       "      <th>-49.0</th>\n",
       "      <td>182132.142876</td>\n",
       "    </tr>\n",
       "    <tr>\n",
       "      <th>-48.0</th>\n",
       "      <td>185192.468836</td>\n",
       "    </tr>\n",
       "    <tr>\n",
       "      <th>-47.0</th>\n",
       "      <td>185068.786354</td>\n",
       "    </tr>\n",
       "    <tr>\n",
       "      <th>-46.0</th>\n",
       "      <td>188183.784836</td>\n",
       "    </tr>\n",
       "    <tr>\n",
       "      <th>-45.0</th>\n",
       "      <td>185927.242552</td>\n",
       "    </tr>\n",
       "    <tr>\n",
       "      <th>-44.0</th>\n",
       "      <td>185548.220781</td>\n",
       "    </tr>\n",
       "    <tr>\n",
       "      <th>-43.0</th>\n",
       "      <td>185712.685896</td>\n",
       "    </tr>\n",
       "    <tr>\n",
       "      <th>-42.0</th>\n",
       "      <td>185183.911117</td>\n",
       "    </tr>\n",
       "    <tr>\n",
       "      <th>-41.0</th>\n",
       "      <td>184077.771924</td>\n",
       "    </tr>\n",
       "    <tr>\n",
       "      <th>-40.0</th>\n",
       "      <td>182634.623324</td>\n",
       "    </tr>\n",
       "    <tr>\n",
       "      <th>-39.0</th>\n",
       "      <td>183278.848561</td>\n",
       "    </tr>\n",
       "    <tr>\n",
       "      <th>-38.0</th>\n",
       "      <td>181272.080653</td>\n",
       "    </tr>\n",
       "    <tr>\n",
       "      <th>-37.0</th>\n",
       "      <td>181349.101946</td>\n",
       "    </tr>\n",
       "    <tr>\n",
       "      <th>-36.0</th>\n",
       "      <td>179910.903292</td>\n",
       "    </tr>\n",
       "    <tr>\n",
       "      <th>-35.0</th>\n",
       "      <td>191283.511902</td>\n",
       "    </tr>\n",
       "    <tr>\n",
       "      <th>-34.0</th>\n",
       "      <td>179957.966946</td>\n",
       "    </tr>\n",
       "    <tr>\n",
       "      <th>-33.0</th>\n",
       "      <td>179457.635187</td>\n",
       "    </tr>\n",
       "    <tr>\n",
       "      <th>-32.0</th>\n",
       "      <td>176491.260669</td>\n",
       "    </tr>\n",
       "    <tr>\n",
       "      <th>-31.0</th>\n",
       "      <td>173010.842550</td>\n",
       "    </tr>\n",
       "    <tr>\n",
       "      <th>-30.0</th>\n",
       "      <td>171480.790456</td>\n",
       "    </tr>\n",
       "    <tr>\n",
       "      <th>-29.0</th>\n",
       "      <td>168855.884182</td>\n",
       "    </tr>\n",
       "    <tr>\n",
       "      <th>-28.0</th>\n",
       "      <td>166623.459592</td>\n",
       "    </tr>\n",
       "    <tr>\n",
       "      <th>-27.0</th>\n",
       "      <td>167059.967536</td>\n",
       "    </tr>\n",
       "    <tr>\n",
       "      <th>-26.0</th>\n",
       "      <td>161835.330083</td>\n",
       "    </tr>\n",
       "    <tr>\n",
       "      <th>-25.0</th>\n",
       "      <td>156639.111014</td>\n",
       "    </tr>\n",
       "    <tr>\n",
       "      <th>-24.0</th>\n",
       "      <td>152704.940338</td>\n",
       "    </tr>\n",
       "    <tr>\n",
       "      <th>-23.0</th>\n",
       "      <td>149357.638329</td>\n",
       "    </tr>\n",
       "    <tr>\n",
       "      <th>-22.0</th>\n",
       "      <td>126764.981081</td>\n",
       "    </tr>\n",
       "    <tr>\n",
       "      <th>-21.0</th>\n",
       "      <td>112500.000000</td>\n",
       "    </tr>\n",
       "  </tbody>\n",
       "</table>\n",
       "</div>"
      ],
      "text/plain": [
       "       AMT_INCOME_TOTAL\n",
       "Age                    \n",
       "-70.0     154070.156250\n",
       "-69.0     125271.517523\n",
       "-68.0     125521.197493\n",
       "-67.0     126787.994045\n",
       "-66.0     132348.515449\n",
       "-65.0     154609.903544\n",
       "-64.0     158560.082612\n",
       "-63.0     153435.898802\n",
       "-62.0     154486.141042\n",
       "-61.0     159554.581275\n",
       "-60.0     162084.747317\n",
       "-59.0     162570.561252\n",
       "-58.0     168417.656382\n",
       "-57.0     169273.027989\n",
       "-56.0     172639.663767\n",
       "-55.0     172783.448298\n",
       "-54.0     174096.208694\n",
       "-53.0     177677.080434\n",
       "-52.0     179711.044163\n",
       "-51.0     181323.878725\n",
       "-50.0     177954.264540\n",
       "-49.0     182132.142876\n",
       "-48.0     185192.468836\n",
       "-47.0     185068.786354\n",
       "-46.0     188183.784836\n",
       "-45.0     185927.242552\n",
       "-44.0     185548.220781\n",
       "-43.0     185712.685896\n",
       "-42.0     185183.911117\n",
       "-41.0     184077.771924\n",
       "-40.0     182634.623324\n",
       "-39.0     183278.848561\n",
       "-38.0     181272.080653\n",
       "-37.0     181349.101946\n",
       "-36.0     179910.903292\n",
       "-35.0     191283.511902\n",
       "-34.0     179957.966946\n",
       "-33.0     179457.635187\n",
       "-32.0     176491.260669\n",
       "-31.0     173010.842550\n",
       "-30.0     171480.790456\n",
       "-29.0     168855.884182\n",
       "-28.0     166623.459592\n",
       "-27.0     167059.967536\n",
       "-26.0     161835.330083\n",
       "-25.0     156639.111014\n",
       "-24.0     152704.940338\n",
       "-23.0     149357.638329\n",
       "-22.0     126764.981081\n",
       "-21.0     112500.000000"
      ]
     },
     "execution_count": 67,
     "metadata": {},
     "output_type": "execute_result"
    }
   ],
   "source": [
    "df3.groupby('Age')[['AMT_INCOME_TOTAL']].mean()"
   ]
  },
  {
   "cell_type": "code",
   "execution_count": null,
   "metadata": {},
   "outputs": [],
   "source": []
  },
  {
   "cell_type": "code",
   "execution_count": 68,
   "metadata": {},
   "outputs": [
    {
     "data": {
      "text/html": [
       "<div>\n",
       "<style scoped>\n",
       "    .dataframe tbody tr th:only-of-type {\n",
       "        vertical-align: middle;\n",
       "    }\n",
       "\n",
       "    .dataframe tbody tr th {\n",
       "        vertical-align: top;\n",
       "    }\n",
       "\n",
       "    .dataframe thead th {\n",
       "        text-align: right;\n",
       "    }\n",
       "</style>\n",
       "<table border=\"1\" class=\"dataframe\">\n",
       "  <thead>\n",
       "    <tr style=\"text-align: right;\">\n",
       "      <th></th>\n",
       "      <th>AMT_INCOME_TOTAL</th>\n",
       "      <th>AMT_APPLICATION</th>\n",
       "      <th>AMT_DOWN_PAYMENT</th>\n",
       "    </tr>\n",
       "    <tr>\n",
       "      <th>Age</th>\n",
       "      <th></th>\n",
       "      <th></th>\n",
       "      <th></th>\n",
       "    </tr>\n",
       "  </thead>\n",
       "  <tbody>\n",
       "    <tr>\n",
       "      <th>-70.0</th>\n",
       "      <td>154070.156250</td>\n",
       "      <td>81178.778571</td>\n",
       "      <td>7707.514865</td>\n",
       "    </tr>\n",
       "    <tr>\n",
       "      <th>-69.0</th>\n",
       "      <td>125271.517523</td>\n",
       "      <td>97639.485079</td>\n",
       "      <td>5653.358363</td>\n",
       "    </tr>\n",
       "    <tr>\n",
       "      <th>-68.0</th>\n",
       "      <td>125521.197493</td>\n",
       "      <td>114214.991335</td>\n",
       "      <td>5488.059337</td>\n",
       "    </tr>\n",
       "    <tr>\n",
       "      <th>-67.0</th>\n",
       "      <td>126787.994045</td>\n",
       "      <td>137954.503450</td>\n",
       "      <td>5695.594750</td>\n",
       "    </tr>\n",
       "    <tr>\n",
       "      <th>-66.0</th>\n",
       "      <td>132348.515449</td>\n",
       "      <td>172608.433998</td>\n",
       "      <td>5477.916548</td>\n",
       "    </tr>\n",
       "  </tbody>\n",
       "</table>\n",
       "</div>"
      ],
      "text/plain": [
       "       AMT_INCOME_TOTAL  AMT_APPLICATION  AMT_DOWN_PAYMENT\n",
       "Age                                                       \n",
       "-70.0     154070.156250     81178.778571       7707.514865\n",
       "-69.0     125271.517523     97639.485079       5653.358363\n",
       "-68.0     125521.197493    114214.991335       5488.059337\n",
       "-67.0     126787.994045    137954.503450       5695.594750\n",
       "-66.0     132348.515449    172608.433998       5477.916548"
      ]
     },
     "execution_count": 68,
     "metadata": {},
     "output_type": "execute_result"
    }
   ],
   "source": [
    "age=pd.DataFrame(df3.groupby(\"Age\")[[\"AMT_INCOME_TOTAL\",\"NAME_EDUCATION_TYPE\",\"ORGANIZATION_TYPE\",'AMT_APPLICATION','AMT_DOWN_PAYMENT']].mean())\n",
    "age.head()"
   ]
  },
  {
   "cell_type": "code",
   "execution_count": 69,
   "metadata": {},
   "outputs": [],
   "source": [
    "age[\"Count\"]=df3.Age.value_counts(dropna=False)"
   ]
  },
  {
   "cell_type": "code",
   "execution_count": 70,
   "metadata": {},
   "outputs": [
    {
     "data": {
      "text/html": [
       "<div>\n",
       "<style scoped>\n",
       "    .dataframe tbody tr th:only-of-type {\n",
       "        vertical-align: middle;\n",
       "    }\n",
       "\n",
       "    .dataframe tbody tr th {\n",
       "        vertical-align: top;\n",
       "    }\n",
       "\n",
       "    .dataframe thead th {\n",
       "        text-align: right;\n",
       "    }\n",
       "</style>\n",
       "<table border=\"1\" class=\"dataframe\">\n",
       "  <thead>\n",
       "    <tr style=\"text-align: right;\">\n",
       "      <th></th>\n",
       "      <th>AMT_INCOME_TOTAL</th>\n",
       "      <th>AMT_APPLICATION</th>\n",
       "      <th>AMT_DOWN_PAYMENT</th>\n",
       "      <th>Count</th>\n",
       "    </tr>\n",
       "    <tr>\n",
       "      <th>Age</th>\n",
       "      <th></th>\n",
       "      <th></th>\n",
       "      <th></th>\n",
       "      <th></th>\n",
       "    </tr>\n",
       "  </thead>\n",
       "  <tbody>\n",
       "    <tr>\n",
       "      <th>-70.0</th>\n",
       "      <td>154070.156250</td>\n",
       "      <td>81178.778571</td>\n",
       "      <td>7707.514865</td>\n",
       "      <td>64</td>\n",
       "    </tr>\n",
       "    <tr>\n",
       "      <th>-69.0</th>\n",
       "      <td>125271.517523</td>\n",
       "      <td>97639.485079</td>\n",
       "      <td>5653.358363</td>\n",
       "      <td>4965</td>\n",
       "    </tr>\n",
       "    <tr>\n",
       "      <th>-68.0</th>\n",
       "      <td>125521.197493</td>\n",
       "      <td>114214.991335</td>\n",
       "      <td>5488.059337</td>\n",
       "      <td>11127</td>\n",
       "    </tr>\n",
       "    <tr>\n",
       "      <th>-67.0</th>\n",
       "      <td>126787.994045</td>\n",
       "      <td>137954.503450</td>\n",
       "      <td>5695.594750</td>\n",
       "      <td>11167</td>\n",
       "    </tr>\n",
       "    <tr>\n",
       "      <th>-66.0</th>\n",
       "      <td>132348.515449</td>\n",
       "      <td>172608.433998</td>\n",
       "      <td>5477.916548</td>\n",
       "      <td>16765</td>\n",
       "    </tr>\n",
       "    <tr>\n",
       "      <th>-65.0</th>\n",
       "      <td>154609.903544</td>\n",
       "      <td>199601.578506</td>\n",
       "      <td>5643.567612</td>\n",
       "      <td>27893</td>\n",
       "    </tr>\n",
       "    <tr>\n",
       "      <th>-64.0</th>\n",
       "      <td>158560.082612</td>\n",
       "      <td>205642.317745</td>\n",
       "      <td>6168.342928</td>\n",
       "      <td>27248</td>\n",
       "    </tr>\n",
       "    <tr>\n",
       "      <th>-63.0</th>\n",
       "      <td>153435.898802</td>\n",
       "      <td>201633.110579</td>\n",
       "      <td>6213.242171</td>\n",
       "      <td>28286</td>\n",
       "    </tr>\n",
       "    <tr>\n",
       "      <th>-62.0</th>\n",
       "      <td>154486.141042</td>\n",
       "      <td>202895.851887</td>\n",
       "      <td>6620.182033</td>\n",
       "      <td>27195</td>\n",
       "    </tr>\n",
       "    <tr>\n",
       "      <th>-61.0</th>\n",
       "      <td>159554.581275</td>\n",
       "      <td>206254.078785</td>\n",
       "      <td>6877.736715</td>\n",
       "      <td>31471</td>\n",
       "    </tr>\n",
       "    <tr>\n",
       "      <th>-60.0</th>\n",
       "      <td>162084.747317</td>\n",
       "      <td>211658.614351</td>\n",
       "      <td>7206.126566</td>\n",
       "      <td>33265</td>\n",
       "    </tr>\n",
       "    <tr>\n",
       "      <th>-59.0</th>\n",
       "      <td>162570.561252</td>\n",
       "      <td>205085.847884</td>\n",
       "      <td>6656.738152</td>\n",
       "      <td>30660</td>\n",
       "    </tr>\n",
       "    <tr>\n",
       "      <th>-58.0</th>\n",
       "      <td>168417.656382</td>\n",
       "      <td>209906.951572</td>\n",
       "      <td>6828.804935</td>\n",
       "      <td>32866</td>\n",
       "    </tr>\n",
       "    <tr>\n",
       "      <th>-57.0</th>\n",
       "      <td>169273.027989</td>\n",
       "      <td>210720.421442</td>\n",
       "      <td>6881.544838</td>\n",
       "      <td>32888</td>\n",
       "    </tr>\n",
       "    <tr>\n",
       "      <th>-56.0</th>\n",
       "      <td>172639.663767</td>\n",
       "      <td>209177.883682</td>\n",
       "      <td>6761.534458</td>\n",
       "      <td>31344</td>\n",
       "    </tr>\n",
       "    <tr>\n",
       "      <th>-55.0</th>\n",
       "      <td>172783.448298</td>\n",
       "      <td>203029.246814</td>\n",
       "      <td>7308.482547</td>\n",
       "      <td>35777</td>\n",
       "    </tr>\n",
       "    <tr>\n",
       "      <th>-54.0</th>\n",
       "      <td>174096.208694</td>\n",
       "      <td>201734.871622</td>\n",
       "      <td>7465.221210</td>\n",
       "      <td>33489</td>\n",
       "    </tr>\n",
       "    <tr>\n",
       "      <th>-53.0</th>\n",
       "      <td>177677.080434</td>\n",
       "      <td>197344.393341</td>\n",
       "      <td>7114.038322</td>\n",
       "      <td>31394</td>\n",
       "    </tr>\n",
       "    <tr>\n",
       "      <th>-52.0</th>\n",
       "      <td>179711.044163</td>\n",
       "      <td>199447.188924</td>\n",
       "      <td>7225.347895</td>\n",
       "      <td>30931</td>\n",
       "    </tr>\n",
       "    <tr>\n",
       "      <th>-51.0</th>\n",
       "      <td>181323.878725</td>\n",
       "      <td>202054.137469</td>\n",
       "      <td>7028.358352</td>\n",
       "      <td>29527</td>\n",
       "    </tr>\n",
       "    <tr>\n",
       "      <th>-50.0</th>\n",
       "      <td>177954.264540</td>\n",
       "      <td>193252.728596</td>\n",
       "      <td>7430.057678</td>\n",
       "      <td>30812</td>\n",
       "    </tr>\n",
       "    <tr>\n",
       "      <th>-49.0</th>\n",
       "      <td>182132.142876</td>\n",
       "      <td>192852.664598</td>\n",
       "      <td>6823.102270</td>\n",
       "      <td>33438</td>\n",
       "    </tr>\n",
       "    <tr>\n",
       "      <th>-48.0</th>\n",
       "      <td>185192.468836</td>\n",
       "      <td>194193.475802</td>\n",
       "      <td>7256.632154</td>\n",
       "      <td>33380</td>\n",
       "    </tr>\n",
       "    <tr>\n",
       "      <th>-47.0</th>\n",
       "      <td>185068.786354</td>\n",
       "      <td>194089.029732</td>\n",
       "      <td>7371.386121</td>\n",
       "      <td>34791</td>\n",
       "    </tr>\n",
       "    <tr>\n",
       "      <th>-46.0</th>\n",
       "      <td>188183.784836</td>\n",
       "      <td>193772.114217</td>\n",
       "      <td>7066.530785</td>\n",
       "      <td>34733</td>\n",
       "    </tr>\n",
       "    <tr>\n",
       "      <th>-45.0</th>\n",
       "      <td>185927.242552</td>\n",
       "      <td>186335.871900</td>\n",
       "      <td>7020.253090</td>\n",
       "      <td>37417</td>\n",
       "    </tr>\n",
       "    <tr>\n",
       "      <th>-44.0</th>\n",
       "      <td>185548.220781</td>\n",
       "      <td>184992.613013</td>\n",
       "      <td>7094.508399</td>\n",
       "      <td>39598</td>\n",
       "    </tr>\n",
       "    <tr>\n",
       "      <th>-43.0</th>\n",
       "      <td>185712.685896</td>\n",
       "      <td>184625.384914</td>\n",
       "      <td>6965.110187</td>\n",
       "      <td>38981</td>\n",
       "    </tr>\n",
       "    <tr>\n",
       "      <th>-42.0</th>\n",
       "      <td>185183.911117</td>\n",
       "      <td>180036.271866</td>\n",
       "      <td>7020.165020</td>\n",
       "      <td>39450</td>\n",
       "    </tr>\n",
       "    <tr>\n",
       "      <th>-41.0</th>\n",
       "      <td>184077.771924</td>\n",
       "      <td>179188.560974</td>\n",
       "      <td>6840.156808</td>\n",
       "      <td>40469</td>\n",
       "    </tr>\n",
       "    <tr>\n",
       "      <th>-40.0</th>\n",
       "      <td>182634.623324</td>\n",
       "      <td>176427.807562</td>\n",
       "      <td>7079.715375</td>\n",
       "      <td>41545</td>\n",
       "    </tr>\n",
       "    <tr>\n",
       "      <th>-39.0</th>\n",
       "      <td>183278.848561</td>\n",
       "      <td>170380.272928</td>\n",
       "      <td>6754.017114</td>\n",
       "      <td>41056</td>\n",
       "    </tr>\n",
       "    <tr>\n",
       "      <th>-38.0</th>\n",
       "      <td>181272.080653</td>\n",
       "      <td>167217.205598</td>\n",
       "      <td>6816.504578</td>\n",
       "      <td>40197</td>\n",
       "    </tr>\n",
       "    <tr>\n",
       "      <th>-37.0</th>\n",
       "      <td>181349.101946</td>\n",
       "      <td>160569.901691</td>\n",
       "      <td>6958.891972</td>\n",
       "      <td>38839</td>\n",
       "    </tr>\n",
       "    <tr>\n",
       "      <th>-36.0</th>\n",
       "      <td>179910.903292</td>\n",
       "      <td>153561.592538</td>\n",
       "      <td>6852.005699</td>\n",
       "      <td>34992</td>\n",
       "    </tr>\n",
       "    <tr>\n",
       "      <th>-35.0</th>\n",
       "      <td>191283.511902</td>\n",
       "      <td>147948.835024</td>\n",
       "      <td>6469.500340</td>\n",
       "      <td>34029</td>\n",
       "    </tr>\n",
       "    <tr>\n",
       "      <th>-34.0</th>\n",
       "      <td>179957.966946</td>\n",
       "      <td>146558.897330</td>\n",
       "      <td>6295.618153</td>\n",
       "      <td>34807</td>\n",
       "    </tr>\n",
       "    <tr>\n",
       "      <th>-33.0</th>\n",
       "      <td>179457.635187</td>\n",
       "      <td>147265.129249</td>\n",
       "      <td>6585.138990</td>\n",
       "      <td>35887</td>\n",
       "    </tr>\n",
       "    <tr>\n",
       "      <th>-32.0</th>\n",
       "      <td>176491.260669</td>\n",
       "      <td>144054.820813</td>\n",
       "      <td>6377.211479</td>\n",
       "      <td>38216</td>\n",
       "    </tr>\n",
       "    <tr>\n",
       "      <th>-31.0</th>\n",
       "      <td>173010.842550</td>\n",
       "      <td>139684.314780</td>\n",
       "      <td>6316.282529</td>\n",
       "      <td>35948</td>\n",
       "    </tr>\n",
       "    <tr>\n",
       "      <th>-30.0</th>\n",
       "      <td>171480.790456</td>\n",
       "      <td>135040.314752</td>\n",
       "      <td>6160.616799</td>\n",
       "      <td>34870</td>\n",
       "    </tr>\n",
       "    <tr>\n",
       "      <th>-29.0</th>\n",
       "      <td>168855.884182</td>\n",
       "      <td>129538.367376</td>\n",
       "      <td>6070.071090</td>\n",
       "      <td>35391</td>\n",
       "    </tr>\n",
       "    <tr>\n",
       "      <th>-28.0</th>\n",
       "      <td>166623.459592</td>\n",
       "      <td>126199.882354</td>\n",
       "      <td>5811.895192</td>\n",
       "      <td>36992</td>\n",
       "    </tr>\n",
       "    <tr>\n",
       "      <th>-27.0</th>\n",
       "      <td>167059.967536</td>\n",
       "      <td>128125.041241</td>\n",
       "      <td>6277.001125</td>\n",
       "      <td>18673</td>\n",
       "    </tr>\n",
       "    <tr>\n",
       "      <th>-26.0</th>\n",
       "      <td>161835.330083</td>\n",
       "      <td>117569.487157</td>\n",
       "      <td>5796.868954</td>\n",
       "      <td>16664</td>\n",
       "    </tr>\n",
       "    <tr>\n",
       "      <th>-25.0</th>\n",
       "      <td>156639.111014</td>\n",
       "      <td>112406.529578</td>\n",
       "      <td>5368.689102</td>\n",
       "      <td>14867</td>\n",
       "    </tr>\n",
       "    <tr>\n",
       "      <th>-24.0</th>\n",
       "      <td>152704.940338</td>\n",
       "      <td>104960.476710</td>\n",
       "      <td>5292.808041</td>\n",
       "      <td>13336</td>\n",
       "    </tr>\n",
       "    <tr>\n",
       "      <th>-23.0</th>\n",
       "      <td>149357.638329</td>\n",
       "      <td>99295.496235</td>\n",
       "      <td>5144.300084</td>\n",
       "      <td>9121</td>\n",
       "    </tr>\n",
       "    <tr>\n",
       "      <th>-22.0</th>\n",
       "      <td>126764.981081</td>\n",
       "      <td>92836.477428</td>\n",
       "      <td>5465.479709</td>\n",
       "      <td>3330</td>\n",
       "    </tr>\n",
       "    <tr>\n",
       "      <th>-21.0</th>\n",
       "      <td>112500.000000</td>\n",
       "      <td>76134.746250</td>\n",
       "      <td>2345.996250</td>\n",
       "      <td>4</td>\n",
       "    </tr>\n",
       "  </tbody>\n",
       "</table>\n",
       "</div>"
      ],
      "text/plain": [
       "       AMT_INCOME_TOTAL  AMT_APPLICATION  AMT_DOWN_PAYMENT  Count\n",
       "Age                                                              \n",
       "-70.0     154070.156250     81178.778571       7707.514865     64\n",
       "-69.0     125271.517523     97639.485079       5653.358363   4965\n",
       "-68.0     125521.197493    114214.991335       5488.059337  11127\n",
       "-67.0     126787.994045    137954.503450       5695.594750  11167\n",
       "-66.0     132348.515449    172608.433998       5477.916548  16765\n",
       "-65.0     154609.903544    199601.578506       5643.567612  27893\n",
       "-64.0     158560.082612    205642.317745       6168.342928  27248\n",
       "-63.0     153435.898802    201633.110579       6213.242171  28286\n",
       "-62.0     154486.141042    202895.851887       6620.182033  27195\n",
       "-61.0     159554.581275    206254.078785       6877.736715  31471\n",
       "-60.0     162084.747317    211658.614351       7206.126566  33265\n",
       "-59.0     162570.561252    205085.847884       6656.738152  30660\n",
       "-58.0     168417.656382    209906.951572       6828.804935  32866\n",
       "-57.0     169273.027989    210720.421442       6881.544838  32888\n",
       "-56.0     172639.663767    209177.883682       6761.534458  31344\n",
       "-55.0     172783.448298    203029.246814       7308.482547  35777\n",
       "-54.0     174096.208694    201734.871622       7465.221210  33489\n",
       "-53.0     177677.080434    197344.393341       7114.038322  31394\n",
       "-52.0     179711.044163    199447.188924       7225.347895  30931\n",
       "-51.0     181323.878725    202054.137469       7028.358352  29527\n",
       "-50.0     177954.264540    193252.728596       7430.057678  30812\n",
       "-49.0     182132.142876    192852.664598       6823.102270  33438\n",
       "-48.0     185192.468836    194193.475802       7256.632154  33380\n",
       "-47.0     185068.786354    194089.029732       7371.386121  34791\n",
       "-46.0     188183.784836    193772.114217       7066.530785  34733\n",
       "-45.0     185927.242552    186335.871900       7020.253090  37417\n",
       "-44.0     185548.220781    184992.613013       7094.508399  39598\n",
       "-43.0     185712.685896    184625.384914       6965.110187  38981\n",
       "-42.0     185183.911117    180036.271866       7020.165020  39450\n",
       "-41.0     184077.771924    179188.560974       6840.156808  40469\n",
       "-40.0     182634.623324    176427.807562       7079.715375  41545\n",
       "-39.0     183278.848561    170380.272928       6754.017114  41056\n",
       "-38.0     181272.080653    167217.205598       6816.504578  40197\n",
       "-37.0     181349.101946    160569.901691       6958.891972  38839\n",
       "-36.0     179910.903292    153561.592538       6852.005699  34992\n",
       "-35.0     191283.511902    147948.835024       6469.500340  34029\n",
       "-34.0     179957.966946    146558.897330       6295.618153  34807\n",
       "-33.0     179457.635187    147265.129249       6585.138990  35887\n",
       "-32.0     176491.260669    144054.820813       6377.211479  38216\n",
       "-31.0     173010.842550    139684.314780       6316.282529  35948\n",
       "-30.0     171480.790456    135040.314752       6160.616799  34870\n",
       "-29.0     168855.884182    129538.367376       6070.071090  35391\n",
       "-28.0     166623.459592    126199.882354       5811.895192  36992\n",
       "-27.0     167059.967536    128125.041241       6277.001125  18673\n",
       "-26.0     161835.330083    117569.487157       5796.868954  16664\n",
       "-25.0     156639.111014    112406.529578       5368.689102  14867\n",
       "-24.0     152704.940338    104960.476710       5292.808041  13336\n",
       "-23.0     149357.638329     99295.496235       5144.300084   9121\n",
       "-22.0     126764.981081     92836.477428       5465.479709   3330\n",
       "-21.0     112500.000000     76134.746250       2345.996250      4"
      ]
     },
     "execution_count": 70,
     "metadata": {},
     "output_type": "execute_result"
    }
   ],
   "source": [
    "age"
   ]
  },
  {
   "cell_type": "code",
   "execution_count": 71,
   "metadata": {},
   "outputs": [
    {
     "data": {
      "text/html": [
       "<div>\n",
       "<style scoped>\n",
       "    .dataframe tbody tr th:only-of-type {\n",
       "        vertical-align: middle;\n",
       "    }\n",
       "\n",
       "    .dataframe tbody tr th {\n",
       "        vertical-align: top;\n",
       "    }\n",
       "\n",
       "    .dataframe thead th {\n",
       "        text-align: right;\n",
       "    }\n",
       "</style>\n",
       "<table border=\"1\" class=\"dataframe\">\n",
       "  <thead>\n",
       "    <tr style=\"text-align: right;\">\n",
       "      <th></th>\n",
       "      <th>Age</th>\n",
       "      <th>AMT_INCOME_TOTAL</th>\n",
       "      <th>AMT_APPLICATION</th>\n",
       "      <th>AMT_DOWN_PAYMENT</th>\n",
       "      <th>Count</th>\n",
       "    </tr>\n",
       "  </thead>\n",
       "  <tbody>\n",
       "    <tr>\n",
       "      <th>0</th>\n",
       "      <td>-70.0</td>\n",
       "      <td>154070.156250</td>\n",
       "      <td>81178.778571</td>\n",
       "      <td>7707.514865</td>\n",
       "      <td>64</td>\n",
       "    </tr>\n",
       "    <tr>\n",
       "      <th>1</th>\n",
       "      <td>-69.0</td>\n",
       "      <td>125271.517523</td>\n",
       "      <td>97639.485079</td>\n",
       "      <td>5653.358363</td>\n",
       "      <td>4965</td>\n",
       "    </tr>\n",
       "    <tr>\n",
       "      <th>2</th>\n",
       "      <td>-68.0</td>\n",
       "      <td>125521.197493</td>\n",
       "      <td>114214.991335</td>\n",
       "      <td>5488.059337</td>\n",
       "      <td>11127</td>\n",
       "    </tr>\n",
       "    <tr>\n",
       "      <th>3</th>\n",
       "      <td>-67.0</td>\n",
       "      <td>126787.994045</td>\n",
       "      <td>137954.503450</td>\n",
       "      <td>5695.594750</td>\n",
       "      <td>11167</td>\n",
       "    </tr>\n",
       "    <tr>\n",
       "      <th>4</th>\n",
       "      <td>-66.0</td>\n",
       "      <td>132348.515449</td>\n",
       "      <td>172608.433998</td>\n",
       "      <td>5477.916548</td>\n",
       "      <td>16765</td>\n",
       "    </tr>\n",
       "  </tbody>\n",
       "</table>\n",
       "</div>"
      ],
      "text/plain": [
       "    Age  AMT_INCOME_TOTAL  AMT_APPLICATION  AMT_DOWN_PAYMENT  Count\n",
       "0 -70.0     154070.156250     81178.778571       7707.514865     64\n",
       "1 -69.0     125271.517523     97639.485079       5653.358363   4965\n",
       "2 -68.0     125521.197493    114214.991335       5488.059337  11127\n",
       "3 -67.0     126787.994045    137954.503450       5695.594750  11167\n",
       "4 -66.0     132348.515449    172608.433998       5477.916548  16765"
      ]
     },
     "execution_count": 71,
     "metadata": {},
     "output_type": "execute_result"
    }
   ],
   "source": [
    "age[\"Count\"]=df3.Age.value_counts(dropna=False) # adding new column to age\n",
    "age.reset_index(level=0, inplace=True)\n",
    "age.head()"
   ]
  },
  {
   "cell_type": "code",
   "execution_count": 72,
   "metadata": {},
   "outputs": [
    {
     "data": {
      "image/png": "[encoded data removed]",
      "text/plain": [
       "<Figure size 1080x720 with 1 Axes>"
      ]
     },
     "metadata": {
      "needs_background": "light"
     },
     "output_type": "display_data"
    }
   ],
   "source": [
    "# showing the counts for different ages\n",
    "plt.figure(figsize=(15,10))\n",
    "ax=sns.barplot(x=age.Age,y=age.Count)\n",
    "plt.xticks(rotation=45)\n",
    "plt.xlabel(\"Age\")\n",
    "plt.ylabel(\"Counts\")\n",
    "plt.title(\"Age Counts\")\n",
    "plt.show()"
   ]
  },
  {
   "cell_type": "code",
   "execution_count": 73,
   "metadata": {},
   "outputs": [
    {
     "data": {
      "image/png": "[encoded data removed]",
      "text/plain": [
       "<Figure size 1080x720 with 1 Axes>"
      ]
     },
     "metadata": {
      "needs_background": "light"
     },
     "output_type": "display_data"
    }
   ],
   "source": [
    "# showing monthly income according to age\n",
    "plt.figure(figsize=(15,10))\n",
    "ax=sns.barplot(x=age.Age,y=age.AMT_INCOME_TOTAL,palette = sns.cubehelix_palette(len(age.index)))\n",
    "plt.xticks(rotation=90)\n",
    "plt.xlabel(\"Age\")\n",
    "plt.ylabel(\"AMT_INCOME_TOTAL\")\n",
    "plt.title(\"Monthly Income According to Age\")\n",
    "plt.show()"
   ]
  },
  {
   "cell_type": "code",
   "execution_count": 74,
   "metadata": {},
   "outputs": [],
   "source": [
    "income=pd.DataFrame(df3.groupby(\"ORGANIZATION_TYPE\").AMT_INCOME_TOTAL.mean().sort_values(ascending=False))"
   ]
  },
  {
   "cell_type": "code",
   "execution_count": 75,
   "metadata": {},
   "outputs": [
    {
     "data": {
      "image/png": "[encoded data removed]",
      "text/plain": [
       "<Figure size 1080x720 with 1 Axes>"
      ]
     },
     "metadata": {
      "needs_background": "light"
     },
     "output_type": "display_data"
    }
   ],
   "source": [
    "#ing the job roles with their monthly incomes\n",
    "plt.figure(figsize=(15,10))\n",
    "ax=sns.barplot(x=income.index,y=income.AMT_INCOME_TOTAL)\n",
    "plt.xticks(rotation=90)\n",
    "plt.xlabel(\"Job Roles\")\n",
    "plt.ylabel(\"Monthly Income\")\n",
    "plt.title(\"Job Roles with Monthly Income\")\n",
    "plt.show()"
   ]
  },
  {
   "cell_type": "code",
   "execution_count": null,
   "metadata": {},
   "outputs": [],
   "source": []
  },
  {
   "cell_type": "code",
   "execution_count": 76,
   "metadata": {},
   "outputs": [
    {
     "data": {
      "text/plain": [
       "0         -26.0\n",
       "1         -46.0\n",
       "2         -46.0\n",
       "3         -46.0\n",
       "4         -53.0\n",
       "           ... \n",
       "1686663     NaN\n",
       "1686664     NaN\n",
       "1686665     NaN\n",
       "1686666     NaN\n",
       "1686667     NaN\n",
       "Name: Age, Length: 1686668, dtype: float64"
      ]
     },
     "execution_count": 76,
     "metadata": {},
     "output_type": "execute_result"
    }
   ],
   "source": [
    "df3['Age']\n"
   ]
  },
  {
   "cell_type": "code",
   "execution_count": 77,
   "metadata": {},
   "outputs": [
    {
     "data": {
      "text/plain": [
       "Boomer        562915\n",
       "GenX          539070\n",
       "Millennial    328106\n",
       "Silent            64\n",
       "Name: Age_BINS, dtype: int64"
      ]
     },
     "execution_count": 77,
     "metadata": {},
     "output_type": "execute_result"
    }
   ],
   "source": [
    "ranges = [-100,-70,-50,-35,-18]\n",
    "df3['Age_BINS'] = pd.cut(df3['Age'],bins=ranges,precision=0,labels=['Silent','GenX','Boomer','Millennial'])\n",
    "df3['Age_BINS'].value_counts()"
   ]
  },
  {
   "cell_type": "code",
   "execution_count": 78,
   "metadata": {},
   "outputs": [
    {
     "data": {
      "text/html": [
       "<div>\n",
       "<style scoped>\n",
       "    .dataframe tbody tr th:only-of-type {\n",
       "        vertical-align: middle;\n",
       "    }\n",
       "\n",
       "    .dataframe tbody tr th {\n",
       "        vertical-align: top;\n",
       "    }\n",
       "\n",
       "    .dataframe thead th {\n",
       "        text-align: right;\n",
       "    }\n",
       "</style>\n",
       "<table border=\"1\" class=\"dataframe\">\n",
       "  <thead>\n",
       "    <tr style=\"text-align: right;\">\n",
       "      <th></th>\n",
       "      <th>SK_ID_CURR</th>\n",
       "      <th>TARGET</th>\n",
       "      <th>NAME_CONTRACT_TYPE_x</th>\n",
       "      <th>CODE_GENDER</th>\n",
       "      <th>FLAG_OWN_CAR</th>\n",
       "      <th>FLAG_OWN_REALTY</th>\n",
       "      <th>CNT_CHILDREN</th>\n",
       "      <th>AMT_INCOME_TOTAL</th>\n",
       "      <th>AMT_CREDIT_x</th>\n",
       "      <th>AMT_ANNUITY_x</th>\n",
       "      <th>...</th>\n",
       "      <th>PRODUCT_COMBINATION</th>\n",
       "      <th>DAYS_FIRST_DRAWING</th>\n",
       "      <th>DAYS_FIRST_DUE</th>\n",
       "      <th>DAYS_LAST_DUE_1ST_VERSION</th>\n",
       "      <th>DAYS_LAST_DUE</th>\n",
       "      <th>DAYS_TERMINATION</th>\n",
       "      <th>NFLAG_INSURED_ON_APPROVAL</th>\n",
       "      <th>_merge</th>\n",
       "      <th>Age</th>\n",
       "      <th>Age_BINS</th>\n",
       "    </tr>\n",
       "  </thead>\n",
       "  <tbody>\n",
       "    <tr>\n",
       "      <th>0</th>\n",
       "      <td>100002</td>\n",
       "      <td>1.0</td>\n",
       "      <td>Cash loans</td>\n",
       "      <td>M</td>\n",
       "      <td>N</td>\n",
       "      <td>Y</td>\n",
       "      <td>0.0</td>\n",
       "      <td>202500.0</td>\n",
       "      <td>406597.5</td>\n",
       "      <td>24700.5</td>\n",
       "      <td>...</td>\n",
       "      <td>POS other with interest</td>\n",
       "      <td>365243.0</td>\n",
       "      <td>-565.0</td>\n",
       "      <td>125.0</td>\n",
       "      <td>-25.0</td>\n",
       "      <td>-17.0</td>\n",
       "      <td>0.0</td>\n",
       "      <td>both</td>\n",
       "      <td>-26.0</td>\n",
       "      <td>Millennial</td>\n",
       "    </tr>\n",
       "    <tr>\n",
       "      <th>1</th>\n",
       "      <td>100003</td>\n",
       "      <td>0.0</td>\n",
       "      <td>Cash loans</td>\n",
       "      <td>F</td>\n",
       "      <td>N</td>\n",
       "      <td>N</td>\n",
       "      <td>0.0</td>\n",
       "      <td>270000.0</td>\n",
       "      <td>1293502.5</td>\n",
       "      <td>35698.5</td>\n",
       "      <td>...</td>\n",
       "      <td>Cash X-Sell: low</td>\n",
       "      <td>365243.0</td>\n",
       "      <td>-716.0</td>\n",
       "      <td>-386.0</td>\n",
       "      <td>-536.0</td>\n",
       "      <td>-527.0</td>\n",
       "      <td>1.0</td>\n",
       "      <td>both</td>\n",
       "      <td>-46.0</td>\n",
       "      <td>Boomer</td>\n",
       "    </tr>\n",
       "    <tr>\n",
       "      <th>2</th>\n",
       "      <td>100003</td>\n",
       "      <td>0.0</td>\n",
       "      <td>Cash loans</td>\n",
       "      <td>F</td>\n",
       "      <td>N</td>\n",
       "      <td>N</td>\n",
       "      <td>0.0</td>\n",
       "      <td>270000.0</td>\n",
       "      <td>1293502.5</td>\n",
       "      <td>35698.5</td>\n",
       "      <td>...</td>\n",
       "      <td>POS industry with interest</td>\n",
       "      <td>365243.0</td>\n",
       "      <td>-797.0</td>\n",
       "      <td>-647.0</td>\n",
       "      <td>-647.0</td>\n",
       "      <td>-639.0</td>\n",
       "      <td>0.0</td>\n",
       "      <td>both</td>\n",
       "      <td>-46.0</td>\n",
       "      <td>Boomer</td>\n",
       "    </tr>\n",
       "    <tr>\n",
       "      <th>3</th>\n",
       "      <td>100003</td>\n",
       "      <td>0.0</td>\n",
       "      <td>Cash loans</td>\n",
       "      <td>F</td>\n",
       "      <td>N</td>\n",
       "      <td>N</td>\n",
       "      <td>0.0</td>\n",
       "      <td>270000.0</td>\n",
       "      <td>1293502.5</td>\n",
       "      <td>35698.5</td>\n",
       "      <td>...</td>\n",
       "      <td>POS household with interest</td>\n",
       "      <td>365243.0</td>\n",
       "      <td>-2310.0</td>\n",
       "      <td>-1980.0</td>\n",
       "      <td>-1980.0</td>\n",
       "      <td>-1976.0</td>\n",
       "      <td>1.0</td>\n",
       "      <td>both</td>\n",
       "      <td>-46.0</td>\n",
       "      <td>Boomer</td>\n",
       "    </tr>\n",
       "    <tr>\n",
       "      <th>4</th>\n",
       "      <td>100004</td>\n",
       "      <td>0.0</td>\n",
       "      <td>Revolving loans</td>\n",
       "      <td>M</td>\n",
       "      <td>Y</td>\n",
       "      <td>Y</td>\n",
       "      <td>0.0</td>\n",
       "      <td>67500.0</td>\n",
       "      <td>135000.0</td>\n",
       "      <td>6750.0</td>\n",
       "      <td>...</td>\n",
       "      <td>POS mobile without interest</td>\n",
       "      <td>365243.0</td>\n",
       "      <td>-784.0</td>\n",
       "      <td>-694.0</td>\n",
       "      <td>-724.0</td>\n",
       "      <td>-714.0</td>\n",
       "      <td>0.0</td>\n",
       "      <td>both</td>\n",
       "      <td>-53.0</td>\n",
       "      <td>GenX</td>\n",
       "    </tr>\n",
       "    <tr>\n",
       "      <th>...</th>\n",
       "      <td>...</td>\n",
       "      <td>...</td>\n",
       "      <td>...</td>\n",
       "      <td>...</td>\n",
       "      <td>...</td>\n",
       "      <td>...</td>\n",
       "      <td>...</td>\n",
       "      <td>...</td>\n",
       "      <td>...</td>\n",
       "      <td>...</td>\n",
       "      <td>...</td>\n",
       "      <td>...</td>\n",
       "      <td>...</td>\n",
       "      <td>...</td>\n",
       "      <td>...</td>\n",
       "      <td>...</td>\n",
       "      <td>...</td>\n",
       "      <td>...</td>\n",
       "      <td>...</td>\n",
       "      <td>...</td>\n",
       "      <td>...</td>\n",
       "    </tr>\n",
       "    <tr>\n",
       "      <th>1686663</th>\n",
       "      <td>316831</td>\n",
       "      <td>NaN</td>\n",
       "      <td>NaN</td>\n",
       "      <td>NaN</td>\n",
       "      <td>NaN</td>\n",
       "      <td>NaN</td>\n",
       "      <td>NaN</td>\n",
       "      <td>NaN</td>\n",
       "      <td>NaN</td>\n",
       "      <td>NaN</td>\n",
       "      <td>...</td>\n",
       "      <td>POS mobile without interest</td>\n",
       "      <td>365243.0</td>\n",
       "      <td>-334.0</td>\n",
       "      <td>-64.0</td>\n",
       "      <td>-94.0</td>\n",
       "      <td>365243.0</td>\n",
       "      <td>0.0</td>\n",
       "      <td>right_only</td>\n",
       "      <td>NaN</td>\n",
       "      <td>NaN</td>\n",
       "    </tr>\n",
       "    <tr>\n",
       "      <th>1686664</th>\n",
       "      <td>445110</td>\n",
       "      <td>NaN</td>\n",
       "      <td>NaN</td>\n",
       "      <td>NaN</td>\n",
       "      <td>NaN</td>\n",
       "      <td>NaN</td>\n",
       "      <td>NaN</td>\n",
       "      <td>NaN</td>\n",
       "      <td>NaN</td>\n",
       "      <td>NaN</td>\n",
       "      <td>...</td>\n",
       "      <td>POS other with interest</td>\n",
       "      <td>365243.0</td>\n",
       "      <td>-212.0</td>\n",
       "      <td>-62.0</td>\n",
       "      <td>-122.0</td>\n",
       "      <td>-115.0</td>\n",
       "      <td>1.0</td>\n",
       "      <td>right_only</td>\n",
       "      <td>NaN</td>\n",
       "      <td>NaN</td>\n",
       "    </tr>\n",
       "    <tr>\n",
       "      <th>1686665</th>\n",
       "      <td>424256</td>\n",
       "      <td>NaN</td>\n",
       "      <td>NaN</td>\n",
       "      <td>NaN</td>\n",
       "      <td>NaN</td>\n",
       "      <td>NaN</td>\n",
       "      <td>NaN</td>\n",
       "      <td>NaN</td>\n",
       "      <td>NaN</td>\n",
       "      <td>NaN</td>\n",
       "      <td>...</td>\n",
       "      <td>POS mobile without interest</td>\n",
       "      <td>365243.0</td>\n",
       "      <td>-268.0</td>\n",
       "      <td>2.0</td>\n",
       "      <td>365243.0</td>\n",
       "      <td>365243.0</td>\n",
       "      <td>0.0</td>\n",
       "      <td>right_only</td>\n",
       "      <td>NaN</td>\n",
       "      <td>NaN</td>\n",
       "    </tr>\n",
       "    <tr>\n",
       "      <th>1686666</th>\n",
       "      <td>174832</td>\n",
       "      <td>NaN</td>\n",
       "      <td>NaN</td>\n",
       "      <td>NaN</td>\n",
       "      <td>NaN</td>\n",
       "      <td>NaN</td>\n",
       "      <td>NaN</td>\n",
       "      <td>NaN</td>\n",
       "      <td>NaN</td>\n",
       "      <td>NaN</td>\n",
       "      <td>...</td>\n",
       "      <td>Cash X-Sell: middle</td>\n",
       "      <td>365243.0</td>\n",
       "      <td>-972.0</td>\n",
       "      <td>-642.0</td>\n",
       "      <td>-642.0</td>\n",
       "      <td>-636.0</td>\n",
       "      <td>1.0</td>\n",
       "      <td>right_only</td>\n",
       "      <td>NaN</td>\n",
       "      <td>NaN</td>\n",
       "    </tr>\n",
       "    <tr>\n",
       "      <th>1686667</th>\n",
       "      <td>253940</td>\n",
       "      <td>NaN</td>\n",
       "      <td>NaN</td>\n",
       "      <td>NaN</td>\n",
       "      <td>NaN</td>\n",
       "      <td>NaN</td>\n",
       "      <td>NaN</td>\n",
       "      <td>NaN</td>\n",
       "      <td>NaN</td>\n",
       "      <td>NaN</td>\n",
       "      <td>...</td>\n",
       "      <td>Cash Street: high</td>\n",
       "      <td>365243.0</td>\n",
       "      <td>-2755.0</td>\n",
       "      <td>-2605.0</td>\n",
       "      <td>-2605.0</td>\n",
       "      <td>-2598.0</td>\n",
       "      <td>0.0</td>\n",
       "      <td>right_only</td>\n",
       "      <td>NaN</td>\n",
       "      <td>NaN</td>\n",
       "    </tr>\n",
       "  </tbody>\n",
       "</table>\n",
       "<p>1686668 rows × 161 columns</p>\n",
       "</div>"
      ],
      "text/plain": [
       "         SK_ID_CURR  TARGET NAME_CONTRACT_TYPE_x CODE_GENDER FLAG_OWN_CAR  \\\n",
       "0            100002     1.0           Cash loans           M            N   \n",
       "1            100003     0.0           Cash loans           F            N   \n",
       "2            100003     0.0           Cash loans           F            N   \n",
       "3            100003     0.0           Cash loans           F            N   \n",
       "4            100004     0.0      Revolving loans           M            Y   \n",
       "...             ...     ...                  ...         ...          ...   \n",
       "1686663      316831     NaN                  NaN         NaN          NaN   \n",
       "1686664      445110     NaN                  NaN         NaN          NaN   \n",
       "1686665      424256     NaN                  NaN         NaN          NaN   \n",
       "1686666      174832     NaN                  NaN         NaN          NaN   \n",
       "1686667      253940     NaN                  NaN         NaN          NaN   \n",
       "\n",
       "        FLAG_OWN_REALTY  CNT_CHILDREN  AMT_INCOME_TOTAL  AMT_CREDIT_x  \\\n",
       "0                     Y           0.0          202500.0      406597.5   \n",
       "1                     N           0.0          270000.0     1293502.5   \n",
       "2                     N           0.0          270000.0     1293502.5   \n",
       "3                     N           0.0          270000.0     1293502.5   \n",
       "4                     Y           0.0           67500.0      135000.0   \n",
       "...                 ...           ...               ...           ...   \n",
       "1686663             NaN           NaN               NaN           NaN   \n",
       "1686664             NaN           NaN               NaN           NaN   \n",
       "1686665             NaN           NaN               NaN           NaN   \n",
       "1686666             NaN           NaN               NaN           NaN   \n",
       "1686667             NaN           NaN               NaN           NaN   \n",
       "\n",
       "         AMT_ANNUITY_x  ...          PRODUCT_COMBINATION DAYS_FIRST_DRAWING  \\\n",
       "0              24700.5  ...      POS other with interest           365243.0   \n",
       "1              35698.5  ...             Cash X-Sell: low           365243.0   \n",
       "2              35698.5  ...   POS industry with interest           365243.0   \n",
       "3              35698.5  ...  POS household with interest           365243.0   \n",
       "4               6750.0  ...  POS mobile without interest           365243.0   \n",
       "...                ...  ...                          ...                ...   \n",
       "1686663            NaN  ...  POS mobile without interest           365243.0   \n",
       "1686664            NaN  ...      POS other with interest           365243.0   \n",
       "1686665            NaN  ...  POS mobile without interest           365243.0   \n",
       "1686666            NaN  ...          Cash X-Sell: middle           365243.0   \n",
       "1686667            NaN  ...            Cash Street: high           365243.0   \n",
       "\n",
       "        DAYS_FIRST_DUE DAYS_LAST_DUE_1ST_VERSION DAYS_LAST_DUE  \\\n",
       "0               -565.0                     125.0         -25.0   \n",
       "1               -716.0                    -386.0        -536.0   \n",
       "2               -797.0                    -647.0        -647.0   \n",
       "3              -2310.0                   -1980.0       -1980.0   \n",
       "4               -784.0                    -694.0        -724.0   \n",
       "...                ...                       ...           ...   \n",
       "1686663         -334.0                     -64.0         -94.0   \n",
       "1686664         -212.0                     -62.0        -122.0   \n",
       "1686665         -268.0                       2.0      365243.0   \n",
       "1686666         -972.0                    -642.0        -642.0   \n",
       "1686667        -2755.0                   -2605.0       -2605.0   \n",
       "\n",
       "        DAYS_TERMINATION  NFLAG_INSURED_ON_APPROVAL      _merge   Age  \\\n",
       "0                  -17.0                        0.0        both -26.0   \n",
       "1                 -527.0                        1.0        both -46.0   \n",
       "2                 -639.0                        0.0        both -46.0   \n",
       "3                -1976.0                        1.0        both -46.0   \n",
       "4                 -714.0                        0.0        both -53.0   \n",
       "...                  ...                        ...         ...   ...   \n",
       "1686663         365243.0                        0.0  right_only   NaN   \n",
       "1686664           -115.0                        1.0  right_only   NaN   \n",
       "1686665         365243.0                        0.0  right_only   NaN   \n",
       "1686666           -636.0                        1.0  right_only   NaN   \n",
       "1686667          -2598.0                        0.0  right_only   NaN   \n",
       "\n",
       "           Age_BINS  \n",
       "0        Millennial  \n",
       "1            Boomer  \n",
       "2            Boomer  \n",
       "3            Boomer  \n",
       "4              GenX  \n",
       "...             ...  \n",
       "1686663         NaN  \n",
       "1686664         NaN  \n",
       "1686665         NaN  \n",
       "1686666         NaN  \n",
       "1686667         NaN  \n",
       "\n",
       "[1686668 rows x 161 columns]"
      ]
     },
     "execution_count": 78,
     "metadata": {},
     "output_type": "execute_result"
    }
   ],
   "source": [
    "df3"
   ]
  },
  {
   "cell_type": "code",
   "execution_count": 79,
   "metadata": {},
   "outputs": [
    {
     "data": {
      "text/plain": [
       "<seaborn.axisgrid.FacetGrid at 0x29c80733d60>"
      ]
     },
     "execution_count": 79,
     "metadata": {},
     "output_type": "execute_result"
    },
    {
     "data": {
      "image/png": "[encoded data removed]",
      "text/plain": [
       "<Figure size 444x360 with 1 Axes>"
      ]
     },
     "metadata": {
      "needs_background": "light"
     },
     "output_type": "display_data"
    }
   ],
   "source": [
    "sns.catplot('TARGET', data=df3, hue='Age_BINS', kind='count')"
   ]
  },
  {
   "cell_type": "code",
   "execution_count": 80,
   "metadata": {},
   "outputs": [
    {
     "data": {
      "text/plain": [
       "<AxesSubplot:xlabel='NAME_CLIENT_TYPE,Age_BINS,TARGET'>"
      ]
     },
     "execution_count": 80,
     "metadata": {},
     "output_type": "execute_result"
    },
    {
     "data": {
      "image/png": "[encoded data removed]",
      "text/plain": [
       "<Figure size 432x288 with 1 Axes>"
      ]
     },
     "metadata": {
      "needs_background": "light"
     },
     "output_type": "display_data"
    }
   ],
   "source": [
    "df3.groupby(by=['NAME_CLIENT_TYPE','Age_BINS','TARGET']).count()['SK_ID_CURR'].plot(kind='bar')"
   ]
  },
  {
   "cell_type": "code",
   "execution_count": 81,
   "metadata": {},
   "outputs": [
    {
     "data": {
      "text/plain": [
       "<seaborn.axisgrid.FacetGrid at 0x29c810fdd90>"
      ]
     },
     "execution_count": 81,
     "metadata": {},
     "output_type": "execute_result"
    },
    {
     "data": {
      "image/png": "[encoded data removed]",
      "text/plain": [
       "<Figure size 444x360 with 1 Axes>"
      ]
     },
     "metadata": {
      "needs_background": "light"
     },
     "output_type": "display_data"
    }
   ],
   "source": [
    "sns.catplot('NAME_CONTRACT_STATUS', data=df3, hue='Age_BINS', kind='count')"
   ]
  },
  {
   "cell_type": "code",
   "execution_count": 82,
   "metadata": {},
   "outputs": [
    {
     "data": {
      "text/html": [
       "<div>\n",
       "<style scoped>\n",
       "    .dataframe tbody tr th:only-of-type {\n",
       "        vertical-align: middle;\n",
       "    }\n",
       "\n",
       "    .dataframe tbody tr th {\n",
       "        vertical-align: top;\n",
       "    }\n",
       "\n",
       "    .dataframe thead th {\n",
       "        text-align: right;\n",
       "    }\n",
       "</style>\n",
       "<table border=\"1\" class=\"dataframe\">\n",
       "  <thead>\n",
       "    <tr style=\"text-align: right;\">\n",
       "      <th></th>\n",
       "      <th>SK_ID_CURR</th>\n",
       "      <th>TARGET</th>\n",
       "      <th>NAME_CONTRACT_TYPE_x</th>\n",
       "      <th>CODE_GENDER</th>\n",
       "      <th>FLAG_OWN_CAR</th>\n",
       "      <th>FLAG_OWN_REALTY</th>\n",
       "      <th>CNT_CHILDREN</th>\n",
       "      <th>AMT_INCOME_TOTAL</th>\n",
       "      <th>AMT_CREDIT_x</th>\n",
       "      <th>AMT_ANNUITY_x</th>\n",
       "      <th>...</th>\n",
       "      <th>PRODUCT_COMBINATION</th>\n",
       "      <th>DAYS_FIRST_DRAWING</th>\n",
       "      <th>DAYS_FIRST_DUE</th>\n",
       "      <th>DAYS_LAST_DUE_1ST_VERSION</th>\n",
       "      <th>DAYS_LAST_DUE</th>\n",
       "      <th>DAYS_TERMINATION</th>\n",
       "      <th>NFLAG_INSURED_ON_APPROVAL</th>\n",
       "      <th>_merge</th>\n",
       "      <th>Age</th>\n",
       "      <th>Age_BINS</th>\n",
       "    </tr>\n",
       "  </thead>\n",
       "  <tbody>\n",
       "    <tr>\n",
       "      <th>0</th>\n",
       "      <td>100002</td>\n",
       "      <td>1.0</td>\n",
       "      <td>Cash loans</td>\n",
       "      <td>M</td>\n",
       "      <td>N</td>\n",
       "      <td>Y</td>\n",
       "      <td>0.0</td>\n",
       "      <td>202500.0</td>\n",
       "      <td>406597.5</td>\n",
       "      <td>24700.5</td>\n",
       "      <td>...</td>\n",
       "      <td>POS other with interest</td>\n",
       "      <td>365243.0</td>\n",
       "      <td>-565.0</td>\n",
       "      <td>125.0</td>\n",
       "      <td>-25.0</td>\n",
       "      <td>-17.0</td>\n",
       "      <td>0.0</td>\n",
       "      <td>both</td>\n",
       "      <td>-26.0</td>\n",
       "      <td>Millennial</td>\n",
       "    </tr>\n",
       "    <tr>\n",
       "      <th>1</th>\n",
       "      <td>100003</td>\n",
       "      <td>0.0</td>\n",
       "      <td>Cash loans</td>\n",
       "      <td>F</td>\n",
       "      <td>N</td>\n",
       "      <td>N</td>\n",
       "      <td>0.0</td>\n",
       "      <td>270000.0</td>\n",
       "      <td>1293502.5</td>\n",
       "      <td>35698.5</td>\n",
       "      <td>...</td>\n",
       "      <td>Cash X-Sell: low</td>\n",
       "      <td>365243.0</td>\n",
       "      <td>-716.0</td>\n",
       "      <td>-386.0</td>\n",
       "      <td>-536.0</td>\n",
       "      <td>-527.0</td>\n",
       "      <td>1.0</td>\n",
       "      <td>both</td>\n",
       "      <td>-46.0</td>\n",
       "      <td>Boomer</td>\n",
       "    </tr>\n",
       "    <tr>\n",
       "      <th>2</th>\n",
       "      <td>100003</td>\n",
       "      <td>0.0</td>\n",
       "      <td>Cash loans</td>\n",
       "      <td>F</td>\n",
       "      <td>N</td>\n",
       "      <td>N</td>\n",
       "      <td>0.0</td>\n",
       "      <td>270000.0</td>\n",
       "      <td>1293502.5</td>\n",
       "      <td>35698.5</td>\n",
       "      <td>...</td>\n",
       "      <td>POS industry with interest</td>\n",
       "      <td>365243.0</td>\n",
       "      <td>-797.0</td>\n",
       "      <td>-647.0</td>\n",
       "      <td>-647.0</td>\n",
       "      <td>-639.0</td>\n",
       "      <td>0.0</td>\n",
       "      <td>both</td>\n",
       "      <td>-46.0</td>\n",
       "      <td>Boomer</td>\n",
       "    </tr>\n",
       "    <tr>\n",
       "      <th>3</th>\n",
       "      <td>100003</td>\n",
       "      <td>0.0</td>\n",
       "      <td>Cash loans</td>\n",
       "      <td>F</td>\n",
       "      <td>N</td>\n",
       "      <td>N</td>\n",
       "      <td>0.0</td>\n",
       "      <td>270000.0</td>\n",
       "      <td>1293502.5</td>\n",
       "      <td>35698.5</td>\n",
       "      <td>...</td>\n",
       "      <td>POS household with interest</td>\n",
       "      <td>365243.0</td>\n",
       "      <td>-2310.0</td>\n",
       "      <td>-1980.0</td>\n",
       "      <td>-1980.0</td>\n",
       "      <td>-1976.0</td>\n",
       "      <td>1.0</td>\n",
       "      <td>both</td>\n",
       "      <td>-46.0</td>\n",
       "      <td>Boomer</td>\n",
       "    </tr>\n",
       "    <tr>\n",
       "      <th>4</th>\n",
       "      <td>100004</td>\n",
       "      <td>0.0</td>\n",
       "      <td>Revolving loans</td>\n",
       "      <td>M</td>\n",
       "      <td>Y</td>\n",
       "      <td>Y</td>\n",
       "      <td>0.0</td>\n",
       "      <td>67500.0</td>\n",
       "      <td>135000.0</td>\n",
       "      <td>6750.0</td>\n",
       "      <td>...</td>\n",
       "      <td>POS mobile without interest</td>\n",
       "      <td>365243.0</td>\n",
       "      <td>-784.0</td>\n",
       "      <td>-694.0</td>\n",
       "      <td>-724.0</td>\n",
       "      <td>-714.0</td>\n",
       "      <td>0.0</td>\n",
       "      <td>both</td>\n",
       "      <td>-53.0</td>\n",
       "      <td>GenX</td>\n",
       "    </tr>\n",
       "    <tr>\n",
       "      <th>...</th>\n",
       "      <td>...</td>\n",
       "      <td>...</td>\n",
       "      <td>...</td>\n",
       "      <td>...</td>\n",
       "      <td>...</td>\n",
       "      <td>...</td>\n",
       "      <td>...</td>\n",
       "      <td>...</td>\n",
       "      <td>...</td>\n",
       "      <td>...</td>\n",
       "      <td>...</td>\n",
       "      <td>...</td>\n",
       "      <td>...</td>\n",
       "      <td>...</td>\n",
       "      <td>...</td>\n",
       "      <td>...</td>\n",
       "      <td>...</td>\n",
       "      <td>...</td>\n",
       "      <td>...</td>\n",
       "      <td>...</td>\n",
       "      <td>...</td>\n",
       "    </tr>\n",
       "    <tr>\n",
       "      <th>1686663</th>\n",
       "      <td>316831</td>\n",
       "      <td>NaN</td>\n",
       "      <td>NaN</td>\n",
       "      <td>NaN</td>\n",
       "      <td>NaN</td>\n",
       "      <td>NaN</td>\n",
       "      <td>NaN</td>\n",
       "      <td>NaN</td>\n",
       "      <td>NaN</td>\n",
       "      <td>NaN</td>\n",
       "      <td>...</td>\n",
       "      <td>POS mobile without interest</td>\n",
       "      <td>365243.0</td>\n",
       "      <td>-334.0</td>\n",
       "      <td>-64.0</td>\n",
       "      <td>-94.0</td>\n",
       "      <td>365243.0</td>\n",
       "      <td>0.0</td>\n",
       "      <td>right_only</td>\n",
       "      <td>NaN</td>\n",
       "      <td>NaN</td>\n",
       "    </tr>\n",
       "    <tr>\n",
       "      <th>1686664</th>\n",
       "      <td>445110</td>\n",
       "      <td>NaN</td>\n",
       "      <td>NaN</td>\n",
       "      <td>NaN</td>\n",
       "      <td>NaN</td>\n",
       "      <td>NaN</td>\n",
       "      <td>NaN</td>\n",
       "      <td>NaN</td>\n",
       "      <td>NaN</td>\n",
       "      <td>NaN</td>\n",
       "      <td>...</td>\n",
       "      <td>POS other with interest</td>\n",
       "      <td>365243.0</td>\n",
       "      <td>-212.0</td>\n",
       "      <td>-62.0</td>\n",
       "      <td>-122.0</td>\n",
       "      <td>-115.0</td>\n",
       "      <td>1.0</td>\n",
       "      <td>right_only</td>\n",
       "      <td>NaN</td>\n",
       "      <td>NaN</td>\n",
       "    </tr>\n",
       "    <tr>\n",
       "      <th>1686665</th>\n",
       "      <td>424256</td>\n",
       "      <td>NaN</td>\n",
       "      <td>NaN</td>\n",
       "      <td>NaN</td>\n",
       "      <td>NaN</td>\n",
       "      <td>NaN</td>\n",
       "      <td>NaN</td>\n",
       "      <td>NaN</td>\n",
       "      <td>NaN</td>\n",
       "      <td>NaN</td>\n",
       "      <td>...</td>\n",
       "      <td>POS mobile without interest</td>\n",
       "      <td>365243.0</td>\n",
       "      <td>-268.0</td>\n",
       "      <td>2.0</td>\n",
       "      <td>365243.0</td>\n",
       "      <td>365243.0</td>\n",
       "      <td>0.0</td>\n",
       "      <td>right_only</td>\n",
       "      <td>NaN</td>\n",
       "      <td>NaN</td>\n",
       "    </tr>\n",
       "    <tr>\n",
       "      <th>1686666</th>\n",
       "      <td>174832</td>\n",
       "      <td>NaN</td>\n",
       "      <td>NaN</td>\n",
       "      <td>NaN</td>\n",
       "      <td>NaN</td>\n",
       "      <td>NaN</td>\n",
       "      <td>NaN</td>\n",
       "      <td>NaN</td>\n",
       "      <td>NaN</td>\n",
       "      <td>NaN</td>\n",
       "      <td>...</td>\n",
       "      <td>Cash X-Sell: middle</td>\n",
       "      <td>365243.0</td>\n",
       "      <td>-972.0</td>\n",
       "      <td>-642.0</td>\n",
       "      <td>-642.0</td>\n",
       "      <td>-636.0</td>\n",
       "      <td>1.0</td>\n",
       "      <td>right_only</td>\n",
       "      <td>NaN</td>\n",
       "      <td>NaN</td>\n",
       "    </tr>\n",
       "    <tr>\n",
       "      <th>1686667</th>\n",
       "      <td>253940</td>\n",
       "      <td>NaN</td>\n",
       "      <td>NaN</td>\n",
       "      <td>NaN</td>\n",
       "      <td>NaN</td>\n",
       "      <td>NaN</td>\n",
       "      <td>NaN</td>\n",
       "      <td>NaN</td>\n",
       "      <td>NaN</td>\n",
       "      <td>NaN</td>\n",
       "      <td>...</td>\n",
       "      <td>Cash Street: high</td>\n",
       "      <td>365243.0</td>\n",
       "      <td>-2755.0</td>\n",
       "      <td>-2605.0</td>\n",
       "      <td>-2605.0</td>\n",
       "      <td>-2598.0</td>\n",
       "      <td>0.0</td>\n",
       "      <td>right_only</td>\n",
       "      <td>NaN</td>\n",
       "      <td>NaN</td>\n",
       "    </tr>\n",
       "  </tbody>\n",
       "</table>\n",
       "<p>1686668 rows × 161 columns</p>\n",
       "</div>"
      ],
      "text/plain": [
       "         SK_ID_CURR  TARGET NAME_CONTRACT_TYPE_x CODE_GENDER FLAG_OWN_CAR  \\\n",
       "0            100002     1.0           Cash loans           M            N   \n",
       "1            100003     0.0           Cash loans           F            N   \n",
       "2            100003     0.0           Cash loans           F            N   \n",
       "3            100003     0.0           Cash loans           F            N   \n",
       "4            100004     0.0      Revolving loans           M            Y   \n",
       "...             ...     ...                  ...         ...          ...   \n",
       "1686663      316831     NaN                  NaN         NaN          NaN   \n",
       "1686664      445110     NaN                  NaN         NaN          NaN   \n",
       "1686665      424256     NaN                  NaN         NaN          NaN   \n",
       "1686666      174832     NaN                  NaN         NaN          NaN   \n",
       "1686667      253940     NaN                  NaN         NaN          NaN   \n",
       "\n",
       "        FLAG_OWN_REALTY  CNT_CHILDREN  AMT_INCOME_TOTAL  AMT_CREDIT_x  \\\n",
       "0                     Y           0.0          202500.0      406597.5   \n",
       "1                     N           0.0          270000.0     1293502.5   \n",
       "2                     N           0.0          270000.0     1293502.5   \n",
       "3                     N           0.0          270000.0     1293502.5   \n",
       "4                     Y           0.0           67500.0      135000.0   \n",
       "...                 ...           ...               ...           ...   \n",
       "1686663             NaN           NaN               NaN           NaN   \n",
       "1686664             NaN           NaN               NaN           NaN   \n",
       "1686665             NaN           NaN               NaN           NaN   \n",
       "1686666             NaN           NaN               NaN           NaN   \n",
       "1686667             NaN           NaN               NaN           NaN   \n",
       "\n",
       "         AMT_ANNUITY_x  ...          PRODUCT_COMBINATION DAYS_FIRST_DRAWING  \\\n",
       "0              24700.5  ...      POS other with interest           365243.0   \n",
       "1              35698.5  ...             Cash X-Sell: low           365243.0   \n",
       "2              35698.5  ...   POS industry with interest           365243.0   \n",
       "3              35698.5  ...  POS household with interest           365243.0   \n",
       "4               6750.0  ...  POS mobile without interest           365243.0   \n",
       "...                ...  ...                          ...                ...   \n",
       "1686663            NaN  ...  POS mobile without interest           365243.0   \n",
       "1686664            NaN  ...      POS other with interest           365243.0   \n",
       "1686665            NaN  ...  POS mobile without interest           365243.0   \n",
       "1686666            NaN  ...          Cash X-Sell: middle           365243.0   \n",
       "1686667            NaN  ...            Cash Street: high           365243.0   \n",
       "\n",
       "        DAYS_FIRST_DUE DAYS_LAST_DUE_1ST_VERSION DAYS_LAST_DUE  \\\n",
       "0               -565.0                     125.0         -25.0   \n",
       "1               -716.0                    -386.0        -536.0   \n",
       "2               -797.0                    -647.0        -647.0   \n",
       "3              -2310.0                   -1980.0       -1980.0   \n",
       "4               -784.0                    -694.0        -724.0   \n",
       "...                ...                       ...           ...   \n",
       "1686663         -334.0                     -64.0         -94.0   \n",
       "1686664         -212.0                     -62.0        -122.0   \n",
       "1686665         -268.0                       2.0      365243.0   \n",
       "1686666         -972.0                    -642.0        -642.0   \n",
       "1686667        -2755.0                   -2605.0       -2605.0   \n",
       "\n",
       "        DAYS_TERMINATION  NFLAG_INSURED_ON_APPROVAL      _merge   Age  \\\n",
       "0                  -17.0                        0.0        both -26.0   \n",
       "1                 -527.0                        1.0        both -46.0   \n",
       "2                 -639.0                        0.0        both -46.0   \n",
       "3                -1976.0                        1.0        both -46.0   \n",
       "4                 -714.0                        0.0        both -53.0   \n",
       "...                  ...                        ...         ...   ...   \n",
       "1686663         365243.0                        0.0  right_only   NaN   \n",
       "1686664           -115.0                        1.0  right_only   NaN   \n",
       "1686665         365243.0                        0.0  right_only   NaN   \n",
       "1686666           -636.0                        1.0  right_only   NaN   \n",
       "1686667          -2598.0                        0.0  right_only   NaN   \n",
       "\n",
       "           Age_BINS  \n",
       "0        Millennial  \n",
       "1            Boomer  \n",
       "2            Boomer  \n",
       "3            Boomer  \n",
       "4              GenX  \n",
       "...             ...  \n",
       "1686663         NaN  \n",
       "1686664         NaN  \n",
       "1686665         NaN  \n",
       "1686666         NaN  \n",
       "1686667         NaN  \n",
       "\n",
       "[1686668 rows x 161 columns]"
      ]
     },
     "execution_count": 82,
     "metadata": {},
     "output_type": "execute_result"
    }
   ],
   "source": [
    "df3"
   ]
  },
  {
   "cell_type": "code",
   "execution_count": 83,
   "metadata": {},
   "outputs": [],
   "source": [
    "df3.drop(columns=['_merge'],inplace=True)"
   ]
  },
  {
   "cell_type": "code",
   "execution_count": 84,
   "metadata": {},
   "outputs": [
    {
     "data": {
      "text/html": [
       "<div>\n",
       "<style scoped>\n",
       "    .dataframe tbody tr th:only-of-type {\n",
       "        vertical-align: middle;\n",
       "    }\n",
       "\n",
       "    .dataframe tbody tr th {\n",
       "        vertical-align: top;\n",
       "    }\n",
       "\n",
       "    .dataframe thead th {\n",
       "        text-align: right;\n",
       "    }\n",
       "</style>\n",
       "<table border=\"1\" class=\"dataframe\">\n",
       "  <thead>\n",
       "    <tr style=\"text-align: right;\">\n",
       "      <th></th>\n",
       "      <th>SK_ID_CURR</th>\n",
       "      <th>TARGET</th>\n",
       "      <th>NAME_CONTRACT_TYPE_x</th>\n",
       "      <th>CODE_GENDER</th>\n",
       "      <th>FLAG_OWN_CAR</th>\n",
       "      <th>FLAG_OWN_REALTY</th>\n",
       "      <th>CNT_CHILDREN</th>\n",
       "      <th>AMT_INCOME_TOTAL</th>\n",
       "      <th>AMT_CREDIT_x</th>\n",
       "      <th>AMT_ANNUITY_x</th>\n",
       "      <th>...</th>\n",
       "      <th>NAME_YIELD_GROUP</th>\n",
       "      <th>PRODUCT_COMBINATION</th>\n",
       "      <th>DAYS_FIRST_DRAWING</th>\n",
       "      <th>DAYS_FIRST_DUE</th>\n",
       "      <th>DAYS_LAST_DUE_1ST_VERSION</th>\n",
       "      <th>DAYS_LAST_DUE</th>\n",
       "      <th>DAYS_TERMINATION</th>\n",
       "      <th>NFLAG_INSURED_ON_APPROVAL</th>\n",
       "      <th>Age</th>\n",
       "      <th>Age_BINS</th>\n",
       "    </tr>\n",
       "  </thead>\n",
       "  <tbody>\n",
       "    <tr>\n",
       "      <th>0</th>\n",
       "      <td>100002</td>\n",
       "      <td>1.0</td>\n",
       "      <td>Cash loans</td>\n",
       "      <td>M</td>\n",
       "      <td>N</td>\n",
       "      <td>Y</td>\n",
       "      <td>0.0</td>\n",
       "      <td>202500.0</td>\n",
       "      <td>406597.5</td>\n",
       "      <td>24700.5</td>\n",
       "      <td>...</td>\n",
       "      <td>low_normal</td>\n",
       "      <td>POS other with interest</td>\n",
       "      <td>365243.0</td>\n",
       "      <td>-565.0</td>\n",
       "      <td>125.0</td>\n",
       "      <td>-25.0</td>\n",
       "      <td>-17.0</td>\n",
       "      <td>0.0</td>\n",
       "      <td>-26.0</td>\n",
       "      <td>Millennial</td>\n",
       "    </tr>\n",
       "    <tr>\n",
       "      <th>1</th>\n",
       "      <td>100003</td>\n",
       "      <td>0.0</td>\n",
       "      <td>Cash loans</td>\n",
       "      <td>F</td>\n",
       "      <td>N</td>\n",
       "      <td>N</td>\n",
       "      <td>0.0</td>\n",
       "      <td>270000.0</td>\n",
       "      <td>1293502.5</td>\n",
       "      <td>35698.5</td>\n",
       "      <td>...</td>\n",
       "      <td>low_normal</td>\n",
       "      <td>Cash X-Sell: low</td>\n",
       "      <td>365243.0</td>\n",
       "      <td>-716.0</td>\n",
       "      <td>-386.0</td>\n",
       "      <td>-536.0</td>\n",
       "      <td>-527.0</td>\n",
       "      <td>1.0</td>\n",
       "      <td>-46.0</td>\n",
       "      <td>Boomer</td>\n",
       "    </tr>\n",
       "    <tr>\n",
       "      <th>2</th>\n",
       "      <td>100003</td>\n",
       "      <td>0.0</td>\n",
       "      <td>Cash loans</td>\n",
       "      <td>F</td>\n",
       "      <td>N</td>\n",
       "      <td>N</td>\n",
       "      <td>0.0</td>\n",
       "      <td>270000.0</td>\n",
       "      <td>1293502.5</td>\n",
       "      <td>35698.5</td>\n",
       "      <td>...</td>\n",
       "      <td>middle</td>\n",
       "      <td>POS industry with interest</td>\n",
       "      <td>365243.0</td>\n",
       "      <td>-797.0</td>\n",
       "      <td>-647.0</td>\n",
       "      <td>-647.0</td>\n",
       "      <td>-639.0</td>\n",
       "      <td>0.0</td>\n",
       "      <td>-46.0</td>\n",
       "      <td>Boomer</td>\n",
       "    </tr>\n",
       "    <tr>\n",
       "      <th>3</th>\n",
       "      <td>100003</td>\n",
       "      <td>0.0</td>\n",
       "      <td>Cash loans</td>\n",
       "      <td>F</td>\n",
       "      <td>N</td>\n",
       "      <td>N</td>\n",
       "      <td>0.0</td>\n",
       "      <td>270000.0</td>\n",
       "      <td>1293502.5</td>\n",
       "      <td>35698.5</td>\n",
       "      <td>...</td>\n",
       "      <td>middle</td>\n",
       "      <td>POS household with interest</td>\n",
       "      <td>365243.0</td>\n",
       "      <td>-2310.0</td>\n",
       "      <td>-1980.0</td>\n",
       "      <td>-1980.0</td>\n",
       "      <td>-1976.0</td>\n",
       "      <td>1.0</td>\n",
       "      <td>-46.0</td>\n",
       "      <td>Boomer</td>\n",
       "    </tr>\n",
       "    <tr>\n",
       "      <th>4</th>\n",
       "      <td>100004</td>\n",
       "      <td>0.0</td>\n",
       "      <td>Revolving loans</td>\n",
       "      <td>M</td>\n",
       "      <td>Y</td>\n",
       "      <td>Y</td>\n",
       "      <td>0.0</td>\n",
       "      <td>67500.0</td>\n",
       "      <td>135000.0</td>\n",
       "      <td>6750.0</td>\n",
       "      <td>...</td>\n",
       "      <td>middle</td>\n",
       "      <td>POS mobile without interest</td>\n",
       "      <td>365243.0</td>\n",
       "      <td>-784.0</td>\n",
       "      <td>-694.0</td>\n",
       "      <td>-724.0</td>\n",
       "      <td>-714.0</td>\n",
       "      <td>0.0</td>\n",
       "      <td>-53.0</td>\n",
       "      <td>GenX</td>\n",
       "    </tr>\n",
       "    <tr>\n",
       "      <th>...</th>\n",
       "      <td>...</td>\n",
       "      <td>...</td>\n",
       "      <td>...</td>\n",
       "      <td>...</td>\n",
       "      <td>...</td>\n",
       "      <td>...</td>\n",
       "      <td>...</td>\n",
       "      <td>...</td>\n",
       "      <td>...</td>\n",
       "      <td>...</td>\n",
       "      <td>...</td>\n",
       "      <td>...</td>\n",
       "      <td>...</td>\n",
       "      <td>...</td>\n",
       "      <td>...</td>\n",
       "      <td>...</td>\n",
       "      <td>...</td>\n",
       "      <td>...</td>\n",
       "      <td>...</td>\n",
       "      <td>...</td>\n",
       "      <td>...</td>\n",
       "    </tr>\n",
       "    <tr>\n",
       "      <th>1686663</th>\n",
       "      <td>316831</td>\n",
       "      <td>NaN</td>\n",
       "      <td>NaN</td>\n",
       "      <td>NaN</td>\n",
       "      <td>NaN</td>\n",
       "      <td>NaN</td>\n",
       "      <td>NaN</td>\n",
       "      <td>NaN</td>\n",
       "      <td>NaN</td>\n",
       "      <td>NaN</td>\n",
       "      <td>...</td>\n",
       "      <td>low_normal</td>\n",
       "      <td>POS mobile without interest</td>\n",
       "      <td>365243.0</td>\n",
       "      <td>-334.0</td>\n",
       "      <td>-64.0</td>\n",
       "      <td>-94.0</td>\n",
       "      <td>365243.0</td>\n",
       "      <td>0.0</td>\n",
       "      <td>NaN</td>\n",
       "      <td>NaN</td>\n",
       "    </tr>\n",
       "    <tr>\n",
       "      <th>1686664</th>\n",
       "      <td>445110</td>\n",
       "      <td>NaN</td>\n",
       "      <td>NaN</td>\n",
       "      <td>NaN</td>\n",
       "      <td>NaN</td>\n",
       "      <td>NaN</td>\n",
       "      <td>NaN</td>\n",
       "      <td>NaN</td>\n",
       "      <td>NaN</td>\n",
       "      <td>NaN</td>\n",
       "      <td>...</td>\n",
       "      <td>low_normal</td>\n",
       "      <td>POS other with interest</td>\n",
       "      <td>365243.0</td>\n",
       "      <td>-212.0</td>\n",
       "      <td>-62.0</td>\n",
       "      <td>-122.0</td>\n",
       "      <td>-115.0</td>\n",
       "      <td>1.0</td>\n",
       "      <td>NaN</td>\n",
       "      <td>NaN</td>\n",
       "    </tr>\n",
       "    <tr>\n",
       "      <th>1686665</th>\n",
       "      <td>424256</td>\n",
       "      <td>NaN</td>\n",
       "      <td>NaN</td>\n",
       "      <td>NaN</td>\n",
       "      <td>NaN</td>\n",
       "      <td>NaN</td>\n",
       "      <td>NaN</td>\n",
       "      <td>NaN</td>\n",
       "      <td>NaN</td>\n",
       "      <td>NaN</td>\n",
       "      <td>...</td>\n",
       "      <td>low_normal</td>\n",
       "      <td>POS mobile without interest</td>\n",
       "      <td>365243.0</td>\n",
       "      <td>-268.0</td>\n",
       "      <td>2.0</td>\n",
       "      <td>365243.0</td>\n",
       "      <td>365243.0</td>\n",
       "      <td>0.0</td>\n",
       "      <td>NaN</td>\n",
       "      <td>NaN</td>\n",
       "    </tr>\n",
       "    <tr>\n",
       "      <th>1686666</th>\n",
       "      <td>174832</td>\n",
       "      <td>NaN</td>\n",
       "      <td>NaN</td>\n",
       "      <td>NaN</td>\n",
       "      <td>NaN</td>\n",
       "      <td>NaN</td>\n",
       "      <td>NaN</td>\n",
       "      <td>NaN</td>\n",
       "      <td>NaN</td>\n",
       "      <td>NaN</td>\n",
       "      <td>...</td>\n",
       "      <td>middle</td>\n",
       "      <td>Cash X-Sell: middle</td>\n",
       "      <td>365243.0</td>\n",
       "      <td>-972.0</td>\n",
       "      <td>-642.0</td>\n",
       "      <td>-642.0</td>\n",
       "      <td>-636.0</td>\n",
       "      <td>1.0</td>\n",
       "      <td>NaN</td>\n",
       "      <td>NaN</td>\n",
       "    </tr>\n",
       "    <tr>\n",
       "      <th>1686667</th>\n",
       "      <td>253940</td>\n",
       "      <td>NaN</td>\n",
       "      <td>NaN</td>\n",
       "      <td>NaN</td>\n",
       "      <td>NaN</td>\n",
       "      <td>NaN</td>\n",
       "      <td>NaN</td>\n",
       "      <td>NaN</td>\n",
       "      <td>NaN</td>\n",
       "      <td>NaN</td>\n",
       "      <td>...</td>\n",
       "      <td>high</td>\n",
       "      <td>Cash Street: high</td>\n",
       "      <td>365243.0</td>\n",
       "      <td>-2755.0</td>\n",
       "      <td>-2605.0</td>\n",
       "      <td>-2605.0</td>\n",
       "      <td>-2598.0</td>\n",
       "      <td>0.0</td>\n",
       "      <td>NaN</td>\n",
       "      <td>NaN</td>\n",
       "    </tr>\n",
       "  </tbody>\n",
       "</table>\n",
       "<p>1686668 rows × 160 columns</p>\n",
       "</div>"
      ],
      "text/plain": [
       "         SK_ID_CURR  TARGET NAME_CONTRACT_TYPE_x CODE_GENDER FLAG_OWN_CAR  \\\n",
       "0            100002     1.0           Cash loans           M            N   \n",
       "1            100003     0.0           Cash loans           F            N   \n",
       "2            100003     0.0           Cash loans           F            N   \n",
       "3            100003     0.0           Cash loans           F            N   \n",
       "4            100004     0.0      Revolving loans           M            Y   \n",
       "...             ...     ...                  ...         ...          ...   \n",
       "1686663      316831     NaN                  NaN         NaN          NaN   \n",
       "1686664      445110     NaN                  NaN         NaN          NaN   \n",
       "1686665      424256     NaN                  NaN         NaN          NaN   \n",
       "1686666      174832     NaN                  NaN         NaN          NaN   \n",
       "1686667      253940     NaN                  NaN         NaN          NaN   \n",
       "\n",
       "        FLAG_OWN_REALTY  CNT_CHILDREN  AMT_INCOME_TOTAL  AMT_CREDIT_x  \\\n",
       "0                     Y           0.0          202500.0      406597.5   \n",
       "1                     N           0.0          270000.0     1293502.5   \n",
       "2                     N           0.0          270000.0     1293502.5   \n",
       "3                     N           0.0          270000.0     1293502.5   \n",
       "4                     Y           0.0           67500.0      135000.0   \n",
       "...                 ...           ...               ...           ...   \n",
       "1686663             NaN           NaN               NaN           NaN   \n",
       "1686664             NaN           NaN               NaN           NaN   \n",
       "1686665             NaN           NaN               NaN           NaN   \n",
       "1686666             NaN           NaN               NaN           NaN   \n",
       "1686667             NaN           NaN               NaN           NaN   \n",
       "\n",
       "         AMT_ANNUITY_x  ...  NAME_YIELD_GROUP          PRODUCT_COMBINATION  \\\n",
       "0              24700.5  ...        low_normal      POS other with interest   \n",
       "1              35698.5  ...        low_normal             Cash X-Sell: low   \n",
       "2              35698.5  ...            middle   POS industry with interest   \n",
       "3              35698.5  ...            middle  POS household with interest   \n",
       "4               6750.0  ...            middle  POS mobile without interest   \n",
       "...                ...  ...               ...                          ...   \n",
       "1686663            NaN  ...        low_normal  POS mobile without interest   \n",
       "1686664            NaN  ...        low_normal      POS other with interest   \n",
       "1686665            NaN  ...        low_normal  POS mobile without interest   \n",
       "1686666            NaN  ...            middle          Cash X-Sell: middle   \n",
       "1686667            NaN  ...              high            Cash Street: high   \n",
       "\n",
       "        DAYS_FIRST_DRAWING DAYS_FIRST_DUE DAYS_LAST_DUE_1ST_VERSION  \\\n",
       "0                 365243.0         -565.0                     125.0   \n",
       "1                 365243.0         -716.0                    -386.0   \n",
       "2                 365243.0         -797.0                    -647.0   \n",
       "3                 365243.0        -2310.0                   -1980.0   \n",
       "4                 365243.0         -784.0                    -694.0   \n",
       "...                    ...            ...                       ...   \n",
       "1686663           365243.0         -334.0                     -64.0   \n",
       "1686664           365243.0         -212.0                     -62.0   \n",
       "1686665           365243.0         -268.0                       2.0   \n",
       "1686666           365243.0         -972.0                    -642.0   \n",
       "1686667           365243.0        -2755.0                   -2605.0   \n",
       "\n",
       "        DAYS_LAST_DUE  DAYS_TERMINATION  NFLAG_INSURED_ON_APPROVAL   Age  \\\n",
       "0               -25.0             -17.0                        0.0 -26.0   \n",
       "1              -536.0            -527.0                        1.0 -46.0   \n",
       "2              -647.0            -639.0                        0.0 -46.0   \n",
       "3             -1980.0           -1976.0                        1.0 -46.0   \n",
       "4              -724.0            -714.0                        0.0 -53.0   \n",
       "...               ...               ...                        ...   ...   \n",
       "1686663         -94.0          365243.0                        0.0   NaN   \n",
       "1686664        -122.0            -115.0                        1.0   NaN   \n",
       "1686665      365243.0          365243.0                        0.0   NaN   \n",
       "1686666        -642.0            -636.0                        1.0   NaN   \n",
       "1686667       -2605.0           -2598.0                        0.0   NaN   \n",
       "\n",
       "           Age_BINS  \n",
       "0        Millennial  \n",
       "1            Boomer  \n",
       "2            Boomer  \n",
       "3            Boomer  \n",
       "4              GenX  \n",
       "...             ...  \n",
       "1686663         NaN  \n",
       "1686664         NaN  \n",
       "1686665         NaN  \n",
       "1686666         NaN  \n",
       "1686667         NaN  \n",
       "\n",
       "[1686668 rows x 160 columns]"
      ]
     },
     "execution_count": 84,
     "metadata": {},
     "output_type": "execute_result"
    }
   ],
   "source": [
    "df3"
   ]
  },
  {
   "cell_type": "code",
   "execution_count": 85,
   "metadata": {},
   "outputs": [
    {
     "data": {
      "text/plain": [
       "Medium    554787\n",
       "High      446909\n",
       "Low       428459\n",
       "Name: INCOME_BINS, dtype: int64"
      ]
     },
     "execution_count": 85,
     "metadata": {},
     "output_type": "execute_result"
    }
   ],
   "source": [
    "ranges = [25649,120000,200000,117000000]\n",
    "df3['INCOME_BINS'] = pd.cut(df3['AMT_INCOME_TOTAL'],bins=ranges,precision=0, labels=['Low','Medium','High' ])\n",
    "\n",
    "df3['INCOME_BINS'].value_counts()"
   ]
  },
  {
   "cell_type": "code",
   "execution_count": 86,
   "metadata": {},
   "outputs": [
    {
     "data": {
      "text/plain": [
       "<AxesSubplot:ylabel='INCOME_BINS,Age_BINS,TARGET'>"
      ]
     },
     "execution_count": 86,
     "metadata": {},
     "output_type": "execute_result"
    },
    {
     "data": {
      "image/png": "[encoded data removed]",
      "text/plain": [
       "<Figure size 432x288 with 1 Axes>"
      ]
     },
     "metadata": {
      "needs_background": "light"
     },
     "output_type": "display_data"
    }
   ],
   "source": [
    "df3.groupby(by=['INCOME_BINS','Age_BINS','TARGET']).count()['SK_ID_CURR'].plot(kind='barh')"
   ]
  },
  {
   "cell_type": "code",
   "execution_count": 87,
   "metadata": {},
   "outputs": [
    {
     "data": {
      "text/plain": [
       "INCOME_BINS  Age_BINS    NAME_EDUCATION_TYPE            TARGET\n",
       "Low          Silent      Academic degree                0.0           NaN\n",
       "                                                        1.0           NaN\n",
       "                         Higher education               0.0           6.0\n",
       "                                                        1.0           NaN\n",
       "                         Incomplete higher              0.0           NaN\n",
       "                                                                   ...   \n",
       "High         Millennial  Incomplete higher              1.0         702.0\n",
       "                         Lower secondary                0.0         448.0\n",
       "                                                        1.0          55.0\n",
       "                         Secondary / secondary special  0.0       42089.0\n",
       "                                                        1.0        6042.0\n",
       "Name: SK_ID_CURR, Length: 120, dtype: float64"
      ]
     },
     "execution_count": 87,
     "metadata": {},
     "output_type": "execute_result"
    }
   ],
   "source": [
    "df3.groupby(by=['INCOME_BINS','Age_BINS','NAME_EDUCATION_TYPE','TARGET']).count()['SK_ID_CURR']"
   ]
  },
  {
   "cell_type": "code",
   "execution_count": 88,
   "metadata": {},
   "outputs": [
    {
     "data": {
      "text/plain": [
       "<seaborn.axisgrid.FacetGrid at 0x29c8116b0d0>"
      ]
     },
     "execution_count": 88,
     "metadata": {},
     "output_type": "execute_result"
    },
    {
     "data": {
      "image/png": "[encoded data removed]",
      "text/plain": [
       "<Figure size 444x360 with 1 Axes>"
      ]
     },
     "metadata": {
      "needs_background": "light"
     },
     "output_type": "display_data"
    }
   ],
   "source": [
    "sns.factorplot('TARGET','Age_BINS',data=df3,hue='CODE_GENDER')"
   ]
  },
  {
   "cell_type": "code",
   "execution_count": 89,
   "metadata": {},
   "outputs": [
    {
     "data": {
      "text/plain": [
       "<seaborn.axisgrid.FacetGrid at 0x29c81a08dc0>"
      ]
     },
     "execution_count": 89,
     "metadata": {},
     "output_type": "execute_result"
    },
    {
     "data": {
      "image/png": "[encoded data removed]",
      "text/plain": [
       "<Figure size 444x360 with 1 Axes>"
      ]
     },
     "metadata": {
      "needs_background": "light"
     },
     "output_type": "display_data"
    }
   ],
   "source": [
    "sns.factorplot('TARGET','INCOME_BINS',data=df3,hue='Age_BINS')\n"
   ]
  },
  {
   "cell_type": "code",
   "execution_count": null,
   "metadata": {},
   "outputs": [],
   "source": []
  },
  {
   "cell_type": "code",
   "execution_count": 90,
   "metadata": {},
   "outputs": [
    {
     "data": {
      "text/plain": [
       "array([nan, 'Unaccompanied', 'Spouse, partner', 'Family', 'Children',\n",
       "       'Other_B', 'Other_A', 'Group of people'], dtype=object)"
      ]
     },
     "execution_count": 90,
     "metadata": {},
     "output_type": "execute_result"
    }
   ],
   "source": [
    "df2['NAME_TYPE_SUITE'].unique()"
   ]
  },
  {
   "cell_type": "code",
   "execution_count": 91,
   "metadata": {},
   "outputs": [
    {
     "data": {
      "text/plain": [
       "Age_BINS    NAME_TYPE_SUITE  TARGET\n",
       "Silent      Children         0.0            2.0\n",
       "                             1.0            NaN\n",
       "            Family           0.0            7.0\n",
       "                             1.0            NaN\n",
       "            Group of people  0.0            NaN\n",
       "                             1.0            NaN\n",
       "            Other_A          0.0            NaN\n",
       "                             1.0            NaN\n",
       "            Other_B          0.0            NaN\n",
       "                             1.0            NaN\n",
       "            Spouse, partner  0.0            5.0\n",
       "                             1.0            NaN\n",
       "            Unaccompanied    0.0           17.0\n",
       "                             1.0            NaN\n",
       "GenX        Children         0.0         9525.0\n",
       "                             1.0          708.0\n",
       "            Family           0.0        64537.0\n",
       "                             1.0         4440.0\n",
       "            Group of people  0.0          686.0\n",
       "                             1.0           51.0\n",
       "            Other_A          0.0         2765.0\n",
       "                             1.0          177.0\n",
       "            Other_B          0.0         5407.0\n",
       "                             1.0          337.0\n",
       "            Spouse, partner  0.0        20114.0\n",
       "                             1.0         1415.0\n",
       "            Unaccompanied    0.0       153786.0\n",
       "                             1.0        10623.0\n",
       "Boomer      Children         0.0         9856.0\n",
       "                             1.0         1001.0\n",
       "            Family           0.0        66001.0\n",
       "                             1.0         6643.0\n",
       "            Group of people  0.0          692.0\n",
       "                             1.0           72.0\n",
       "            Other_A          0.0         2774.0\n",
       "                             1.0          308.0\n",
       "            Other_B          0.0         5390.0\n",
       "                             1.0          567.0\n",
       "            Spouse, partner  0.0        20811.0\n",
       "                             1.0         2089.0\n",
       "            Unaccompanied    0.0       155448.0\n",
       "                             1.0        15346.0\n",
       "Millennial  Children         0.0         5490.0\n",
       "                             1.0          675.0\n",
       "            Family           0.0        37030.0\n",
       "                             1.0         4698.0\n",
       "            Group of people  0.0          376.0\n",
       "                             1.0           45.0\n",
       "            Other_A          0.0         1627.0\n",
       "                             1.0          200.0\n",
       "            Other_B          0.0         3008.0\n",
       "                             1.0          415.0\n",
       "            Spouse, partner  0.0        11802.0\n",
       "                             1.0         1542.0\n",
       "            Unaccompanied    0.0        88636.0\n",
       "                             1.0        11254.0\n",
       "Name: SK_ID_CURR, dtype: float64"
      ]
     },
     "execution_count": 91,
     "metadata": {},
     "output_type": "execute_result"
    }
   ],
   "source": [
    "df3.groupby(by=['Age_BINS',df2['NAME_TYPE_SUITE'],'TARGET']).count()['SK_ID_CURR']"
   ]
  },
  {
   "cell_type": "code",
   "execution_count": 92,
   "metadata": {},
   "outputs": [
    {
     "data": {
      "text/plain": [
       "Age_BINS    OCCUPATION_TYPE       TARGET\n",
       "Silent      Accountants           0.0          NaN\n",
       "                                  1.0          NaN\n",
       "            Cleaning staff        0.0          NaN\n",
       "                                  1.0          NaN\n",
       "            Cooking staff         0.0          NaN\n",
       "                                             ...  \n",
       "Millennial  Secretaries           1.0        183.0\n",
       "            Security staff        0.0       4274.0\n",
       "                                  1.0        803.0\n",
       "            Waiters/barmen staff  0.0       2378.0\n",
       "                                  1.0        352.0\n",
       "Name: SK_ID_CURR, Length: 144, dtype: float64"
      ]
     },
     "execution_count": 92,
     "metadata": {},
     "output_type": "execute_result"
    }
   ],
   "source": [
    "df3.groupby(by=['Age_BINS','OCCUPATION_TYPE','TARGET']).count()['SK_ID_CURR']"
   ]
  },
  {
   "cell_type": "code",
   "execution_count": 93,
   "metadata": {},
   "outputs": [
    {
     "data": {
      "text/plain": [
       "<seaborn.axisgrid.FacetGrid at 0x29cc5ffdd00>"
      ]
     },
     "execution_count": 93,
     "metadata": {},
     "output_type": "execute_result"
    },
    {
     "data": {
      "image/png": "[encoded data removed]",
      "text/plain": [
       "<Figure size 444x360 with 1 Axes>"
      ]
     },
     "metadata": {
      "needs_background": "light"
     },
     "output_type": "display_data"
    }
   ],
   "source": [
    "sns.factorplot('TARGET','OCCUPATION_TYPE',data=df3,hue='Age_BINS')"
   ]
  },
  {
   "cell_type": "code",
   "execution_count": 94,
   "metadata": {},
   "outputs": [
    {
     "data": {
      "text/plain": [
       "<seaborn.axisgrid.FacetGrid at 0x29cb3866ee0>"
      ]
     },
     "execution_count": 94,
     "metadata": {},
     "output_type": "execute_result"
    },
    {
     "data": {
      "image/png": "[encoded data removed]",
      "text/plain": [
       "<Figure size 436.375x360 with 1 Axes>"
      ]
     },
     "metadata": {
      "needs_background": "light"
     },
     "output_type": "display_data"
    }
   ],
   "source": [
    "sns.factorplot('TARGET','OCCUPATION_TYPE',data=df3,hue='INCOME_BINS')"
   ]
  },
  {
   "cell_type": "code",
   "execution_count": 95,
   "metadata": {},
   "outputs": [
    {
     "data": {
      "text/plain": [
       "<seaborn.axisgrid.FacetGrid at 0x29c80f49df0>"
      ]
     },
     "execution_count": 95,
     "metadata": {},
     "output_type": "execute_result"
    },
    {
     "data": {
      "image/png": "[encoded data removed]",
      "text/plain": [
       "<Figure size 466.5x360 with 1 Axes>"
      ]
     },
     "metadata": {
      "needs_background": "light"
     },
     "output_type": "display_data"
    }
   ],
   "source": [
    "sns.factorplot('TARGET','NAME_CONTRACT_STATUS',data=df3,hue='NAME_CLIENT_TYPE')"
   ]
  },
  {
   "cell_type": "code",
   "execution_count": 96,
   "metadata": {},
   "outputs": [
    {
     "data": {
      "text/plain": [
       "<seaborn.axisgrid.FacetGrid at 0x29c80e419a0>"
      ]
     },
     "execution_count": 96,
     "metadata": {},
     "output_type": "execute_result"
    },
    {
     "data": {
      "image/png": "[encoded data removed]",
      "text/plain": [
       "<Figure size 444x360 with 1 Axes>"
      ]
     },
     "metadata": {
      "needs_background": "light"
     },
     "output_type": "display_data"
    }
   ],
   "source": [
    "sns.factorplot('TARGET','NAME_CASH_LOAN_PURPOSE',data=df3,hue='CODE_GENDER')"
   ]
  },
  {
   "cell_type": "code",
   "execution_count": 97,
   "metadata": {},
   "outputs": [
    {
     "data": {
      "text/plain": [
       "<seaborn.axisgrid.FacetGrid at 0x2a14b552a90>"
      ]
     },
     "execution_count": 97,
     "metadata": {},
     "output_type": "execute_result"
    },
    {
     "data": {
      "image/png": "[encoded data removed]",
      "text/plain": [
       "<Figure size 436.375x360 with 1 Axes>"
      ]
     },
     "metadata": {
      "needs_background": "light"
     },
     "output_type": "display_data"
    }
   ],
   "source": [
    "sns.factorplot('TARGET','NAME_CASH_LOAN_PURPOSE',data=df3,hue='INCOME_BINS')"
   ]
  },
  {
   "cell_type": "code",
   "execution_count": null,
   "metadata": {},
   "outputs": [],
   "source": []
  },
  {
   "cell_type": "code",
   "execution_count": null,
   "metadata": {},
   "outputs": [],
   "source": []
  },
  {
   "cell_type": "code",
   "execution_count": 100,
   "metadata": {},
   "outputs": [],
   "source": []
  },
  {
   "cell_type": "code",
   "execution_count": null,
   "metadata": {},
   "outputs": [],
   "source": []
  },
  {
   "cell_type": "code",
   "execution_count": null,
   "metadata": {},
   "outputs": [],
   "source": []
  },
  {
   "cell_type": "code",
   "execution_count": null,
   "metadata": {},
   "outputs": [],
   "source": []
  },
  {
   "cell_type": "code",
   "execution_count": null,
   "metadata": {},
   "outputs": [],
   "source": []
  },
  {
   "cell_type": "code",
   "execution_count": null,
   "metadata": {},
   "outputs": [],
   "source": []
  },
  {
   "cell_type": "code",
   "execution_count": null,
   "metadata": {},
   "outputs": [],
   "source": []
  },
  {
   "cell_type": "code",
   "execution_count": null,
   "metadata": {},
   "outputs": [],
   "source": []
  },
  {
   "cell_type": "code",
   "execution_count": null,
   "metadata": {},
   "outputs": [],
   "source": []
  },
  {
   "cell_type": "code",
   "execution_count": null,
   "metadata": {},
   "outputs": [],
   "source": []
  },
  {
   "cell_type": "code",
   "execution_count": null,
   "metadata": {},
   "outputs": [],
   "source": []
  }
 ],
 "metadata": {
  "kernelspec": {
   "display_name": "Python 3",
   "language": "python",
   "name": "python3"
  },
  "language_info": {
   "codemirror_mode": {
    "name": "ipython",
    "version": 3
   },
   "file_extension": ".py",
   "mimetype": "text/x-python",
   "name": "python",
   "nbconvert_exporter": "python",
   "pygments_lexer": "ipython3",
   "version": "3.8.5"
  }
 },
 "nbformat": 4,
 "nbformat_minor": 4
}
