{
  "nbformat": 4,
  "nbformat_minor": 0,
  "metadata": {
    "colab": {
      "name": "Jagdish_Day1.ipynb",
      "provenance": []
    },
    "kernelspec": {
      "name": "python3",
      "display_name": "Python 3"
    },
    "language_info": {
      "name": "python"
    }
  },
  "cells": [
    {
      "cell_type": "code",
      "metadata": {
        "id": "putX7Be0UP3y"
      },
      "source": [
        "import pandas as pd\n",
        "import numpy as np\n",
        "import matplotlib.pyplot as plt\n",
        "\n",
        "pd.set_option(\"display.max_columns\",None)\n",
        "pd.set_option(\"display.max_rows\",None)\n",
        "df=pd.read_csv(\"application_data.csv\")"
      ],
      "execution_count": null,
      "outputs": []
    },
    {
      "cell_type": "code",
      "metadata": {
        "id": "Q6wGc-uUWTOO"
      },
      "source": [
        "#knowing the data\n",
        "print(\"top 5 rows of data:\\n\\n\",df.head(5))"
      ],
      "execution_count": null,
      "outputs": []
    },
    {
      "cell_type": "code",
      "metadata": {
        "id": "WrGPx4V3Wjvx"
      },
      "source": [
        "print(\"Getting information about column\\n\\n\", df.dtypes)"
      ],
      "execution_count": null,
      "outputs": []
    },
    {
      "cell_type": "code",
      "metadata": {
        "colab": {
          "base_uri": "https://localhost:8080/"
        },
        "id": "S6nzHEmscltK",
        "outputId": "fc8ea5d1-ed72-4936-9651-8de8e8cbc9e1"
      },
      "source": [
        "print(\"Getting name of all columns: \\n\\n\",df.columns)"
      ],
      "execution_count": null,
      "outputs": [
        {
          "output_type": "stream",
          "text": [
            "Getting name of all columns: \n",
            "\n",
            " Index(['SK_ID_CURR', 'TARGET', 'NAME_CONTRACT_TYPE', 'CODE_GENDER',\n",
            "       'FLAG_OWN_CAR', 'FLAG_OWN_REALTY', 'CNT_CHILDREN', 'AMT_INCOME_TOTAL',\n",
            "       'AMT_CREDIT', 'AMT_ANNUITY',\n",
            "       ...\n",
            "       'FLAG_DOCUMENT_18', 'FLAG_DOCUMENT_19', 'FLAG_DOCUMENT_20',\n",
            "       'FLAG_DOCUMENT_21', 'AMT_REQ_CREDIT_BUREAU_HOUR',\n",
            "       'AMT_REQ_CREDIT_BUREAU_DAY', 'AMT_REQ_CREDIT_BUREAU_WEEK',\n",
            "       'AMT_REQ_CREDIT_BUREAU_MON', 'AMT_REQ_CREDIT_BUREAU_QRT',\n",
            "       'AMT_REQ_CREDIT_BUREAU_YEAR'],\n",
            "      dtype='object', length=122)\n"
          ],
          "name": "stdout"
        }
      ]
    },
    {
      "cell_type": "code",
      "metadata": {
        "id": "ngWqsKZ3dQwf"
      },
      "source": [
        "#Dividing the columns into continuous and discreate column\n",
        "cont_col=[]\n",
        "dis_col=[]\n",
        "for column in df.columns:\n",
        "  if len(df[column].unique())>30:\n",
        "    cont_col.append(column)\n",
        "  else:\n",
        "    dis_col.append(column)\n",
        "\n",
        "#removing the target variable from dis_col\n",
        "dis_col.remove(\"TARGET\")"
      ],
      "execution_count": null,
      "outputs": []
    },
    {
      "cell_type": "code",
      "metadata": {
        "id": "0W7Roj2zhwxP"
      },
      "source": [
        "print(len(cont_col),len(dis_col))"
      ],
      "execution_count": null,
      "outputs": []
    },
    {
      "cell_type": "markdown",
      "metadata": {
        "id": "eLQQkgW1tIiK"
      },
      "source": [
        ""
      ]
    },
    {
      "cell_type": "code",
      "metadata": {
        "id": "oRbo7Aj0O-sJ"
      },
      "source": [
        "df.describe().transpose()"
      ],
      "execution_count": null,
      "outputs": []
    },
    {
      "cell_type": "code",
      "metadata": {
        "id": "dt7RkSENQTjD"
      },
      "source": [
        "#checking for nan values\n",
        "df.isna().sum()"
      ],
      "execution_count": null,
      "outputs": []
    },
    {
      "cell_type": "code",
      "metadata": {
        "id": "l8MCW-8aGT_8"
      },
      "source": [
        "df_p=pd.read_csv(\"previous_application.csv\")\n",
        "df_p.head(5)"
      ],
      "execution_count": null,
      "outputs": []
    },
    {
      "cell_type": "code",
      "metadata": {
        "id": "AB3jEabWN_un"
      },
      "source": [
        "print(\"Getting information about column\\n\\n\", df_p.dtypes)"
      ],
      "execution_count": null,
      "outputs": []
    },
    {
      "cell_type": "code",
      "metadata": {
        "colab": {
          "base_uri": "https://localhost:8080/"
        },
        "id": "STduaLNSYTFv",
        "outputId": "8e9e0958-0027-42c0-951d-63c885c30446"
      },
      "source": [
        "print(\"Getting name of all columns: \\n\\n\",df_p.columns)"
      ],
      "execution_count": null,
      "outputs": [
        {
          "output_type": "stream",
          "text": [
            "Getting name of all columns: \n",
            "\n",
            " Index(['SK_ID_PREV', 'SK_ID_CURR', 'NAME_CONTRACT_TYPE', 'AMT_ANNUITY',\n",
            "       'AMT_APPLICATION', 'AMT_CREDIT', 'AMT_DOWN_PAYMENT', 'AMT_GOODS_PRICE',\n",
            "       'WEEKDAY_APPR_PROCESS_START', 'HOUR_APPR_PROCESS_START',\n",
            "       'FLAG_LAST_APPL_PER_CONTRACT', 'NFLAG_LAST_APPL_IN_DAY',\n",
            "       'RATE_DOWN_PAYMENT', 'RATE_INTEREST_PRIMARY',\n",
            "       'RATE_INTEREST_PRIVILEGED', 'NAME_CASH_LOAN_PURPOSE',\n",
            "       'NAME_CONTRACT_STATUS', 'DAYS_DECISION', 'NAME_PAYMENT_TYPE',\n",
            "       'CODE_REJECT_REASON', 'NAME_TYPE_SUITE', 'NAME_CLIENT_TYPE',\n",
            "       'NAME_GOODS_CATEGORY', 'NAME_PORTFOLIO', 'NAME_PRODUCT_TYPE',\n",
            "       'CHANNEL_TYPE', 'SELLERPLACE_AREA', 'NAME_SELLER_INDUSTRY',\n",
            "       'CNT_PAYMENT', 'NAME_YIELD_GROUP', 'PRODUCT_COMBINATION',\n",
            "       'DAYS_FIRST_DRAWING', 'DAYS_FIRST_DUE', 'DAYS_LAST_DUE_1ST_VERSION',\n",
            "       'DAYS_LAST_DUE', 'DAYS_TERMINATION', 'NFLAG_INSURED_ON_APPROVAL'],\n",
            "      dtype='object')\n"
          ],
          "name": "stdout"
        }
      ]
    },
    {
      "cell_type": "code",
      "metadata": {
        "colab": {
          "base_uri": "https://localhost:8080/",
          "height": 317
        },
        "id": "kxg8wbl8YmYY",
        "outputId": "0200d3ff-318e-4a5e-bb11-daf4c3d40847"
      },
      "source": [
        "df_p.describe()"
      ],
      "execution_count": null,
      "outputs": [
        {
          "output_type": "execute_result",
          "data": {
            "text/html": [
              "<div>\n",
              "<style scoped>\n",
              "    .dataframe tbody tr th:only-of-type {\n",
              "        vertical-align: middle;\n",
              "    }\n",
              "\n",
              "    .dataframe tbody tr th {\n",
              "        vertical-align: top;\n",
              "    }\n",
              "\n",
              "    .dataframe thead th {\n",
              "        text-align: right;\n",
              "    }\n",
              "</style>\n",
              "<table border=\"1\" class=\"dataframe\">\n",
              "  <thead>\n",
              "    <tr style=\"text-align: right;\">\n",
              "      <th></th>\n",
              "      <th>SK_ID_PREV</th>\n",
              "      <th>SK_ID_CURR</th>\n",
              "      <th>AMT_ANNUITY</th>\n",
              "      <th>AMT_APPLICATION</th>\n",
              "      <th>AMT_CREDIT</th>\n",
              "      <th>AMT_DOWN_PAYMENT</th>\n",
              "      <th>AMT_GOODS_PRICE</th>\n",
              "      <th>HOUR_APPR_PROCESS_START</th>\n",
              "      <th>NFLAG_LAST_APPL_IN_DAY</th>\n",
              "      <th>RATE_DOWN_PAYMENT</th>\n",
              "      <th>RATE_INTEREST_PRIMARY</th>\n",
              "      <th>RATE_INTEREST_PRIVILEGED</th>\n",
              "      <th>DAYS_DECISION</th>\n",
              "      <th>SELLERPLACE_AREA</th>\n",
              "      <th>CNT_PAYMENT</th>\n",
              "      <th>DAYS_FIRST_DRAWING</th>\n",
              "      <th>DAYS_FIRST_DUE</th>\n",
              "      <th>DAYS_LAST_DUE_1ST_VERSION</th>\n",
              "      <th>DAYS_LAST_DUE</th>\n",
              "      <th>DAYS_TERMINATION</th>\n",
              "      <th>NFLAG_INSURED_ON_APPROVAL</th>\n",
              "    </tr>\n",
              "  </thead>\n",
              "  <tbody>\n",
              "    <tr>\n",
              "      <th>count</th>\n",
              "      <td>4.399620e+05</td>\n",
              "      <td>439962.000000</td>\n",
              "      <td>342882.000000</td>\n",
              "      <td>4.399620e+05</td>\n",
              "      <td>4.399620e+05</td>\n",
              "      <td>2.071110e+05</td>\n",
              "      <td>3.396700e+05</td>\n",
              "      <td>439962.000000</td>\n",
              "      <td>439962.000000</td>\n",
              "      <td>207111.000000</td>\n",
              "      <td>1577.000000</td>\n",
              "      <td>1577.000000</td>\n",
              "      <td>439962.000000</td>\n",
              "      <td>4.399620e+05</td>\n",
              "      <td>342882.000000</td>\n",
              "      <td>264452.000000</td>\n",
              "      <td>264452.000000</td>\n",
              "      <td>264452.000000</td>\n",
              "      <td>264452.000000</td>\n",
              "      <td>264452.000000</td>\n",
              "      <td>264452.000000</td>\n",
              "    </tr>\n",
              "    <tr>\n",
              "      <th>mean</th>\n",
              "      <td>1.921383e+06</td>\n",
              "      <td>278467.960344</td>\n",
              "      <td>15820.700429</td>\n",
              "      <td>1.734530e+05</td>\n",
              "      <td>1.939402e+05</td>\n",
              "      <td>6.700734e+03</td>\n",
              "      <td>2.246999e+05</td>\n",
              "      <td>12.487842</td>\n",
              "      <td>0.996357</td>\n",
              "      <td>0.079668</td>\n",
              "      <td>0.189076</td>\n",
              "      <td>0.779091</td>\n",
              "      <td>-885.217351</td>\n",
              "      <td>3.303805e+02</td>\n",
              "      <td>15.926803</td>\n",
              "      <td>342604.608591</td>\n",
              "      <td>13679.015243</td>\n",
              "      <td>33176.813611</td>\n",
              "      <td>76268.214402</td>\n",
              "      <td>81669.062102</td>\n",
              "      <td>0.330400</td>\n",
              "    </tr>\n",
              "    <tr>\n",
              "      <th>std</th>\n",
              "      <td>5.333252e+05</td>\n",
              "      <td>102787.861666</td>\n",
              "      <td>14710.363919</td>\n",
              "      <td>2.900198e+05</td>\n",
              "      <td>3.158712e+05</td>\n",
              "      <td>2.057192e+04</td>\n",
              "      <td>3.121779e+05</td>\n",
              "      <td>3.332720</td>\n",
              "      <td>0.060251</td>\n",
              "      <td>0.107629</td>\n",
              "      <td>0.085755</td>\n",
              "      <td>0.097850</td>\n",
              "      <td>780.580889</td>\n",
              "      <td>1.057200e+04</td>\n",
              "      <td>14.422921</td>\n",
              "      <td>88201.280964</td>\n",
              "      <td>72105.255458</td>\n",
              "      <td>106037.199307</td>\n",
              "      <td>149427.829698</td>\n",
              "      <td>153094.534099</td>\n",
              "      <td>0.470358</td>\n",
              "    </tr>\n",
              "    <tr>\n",
              "      <th>min</th>\n",
              "      <td>1.000001e+06</td>\n",
              "      <td>100001.000000</td>\n",
              "      <td>0.000000</td>\n",
              "      <td>0.000000e+00</td>\n",
              "      <td>0.000000e+00</td>\n",
              "      <td>-9.000000e-01</td>\n",
              "      <td>0.000000e+00</td>\n",
              "      <td>0.000000</td>\n",
              "      <td>0.000000</td>\n",
              "      <td>-0.000014</td>\n",
              "      <td>0.059121</td>\n",
              "      <td>0.373150</td>\n",
              "      <td>-2922.000000</td>\n",
              "      <td>-1.000000e+00</td>\n",
              "      <td>0.000000</td>\n",
              "      <td>-2920.000000</td>\n",
              "      <td>-2892.000000</td>\n",
              "      <td>-2801.000000</td>\n",
              "      <td>-2889.000000</td>\n",
              "      <td>-2847.000000</td>\n",
              "      <td>0.000000</td>\n",
              "    </tr>\n",
              "    <tr>\n",
              "      <th>25%</th>\n",
              "      <td>1.458894e+06</td>\n",
              "      <td>189462.000000</td>\n",
              "      <td>6272.336250</td>\n",
              "      <td>1.932300e+04</td>\n",
              "      <td>2.442262e+04</td>\n",
              "      <td>0.000000e+00</td>\n",
              "      <td>5.014406e+04</td>\n",
              "      <td>10.000000</td>\n",
              "      <td>1.000000</td>\n",
              "      <td>0.000000</td>\n",
              "      <td>0.160716</td>\n",
              "      <td>0.715645</td>\n",
              "      <td>-1310.000000</td>\n",
              "      <td>-1.000000e+00</td>\n",
              "      <td>6.000000</td>\n",
              "      <td>365243.000000</td>\n",
              "      <td>-1634.000000</td>\n",
              "      <td>-1250.000000</td>\n",
              "      <td>-1322.000000</td>\n",
              "      <td>-1277.000000</td>\n",
              "      <td>0.000000</td>\n",
              "    </tr>\n",
              "    <tr>\n",
              "      <th>50%</th>\n",
              "      <td>1.921652e+06</td>\n",
              "      <td>278791.000000</td>\n",
              "      <td>11221.762500</td>\n",
              "      <td>7.082550e+04</td>\n",
              "      <td>8.001000e+04</td>\n",
              "      <td>1.665000e+03</td>\n",
              "      <td>1.102208e+05</td>\n",
              "      <td>12.000000</td>\n",
              "      <td>1.000000</td>\n",
              "      <td>0.052185</td>\n",
              "      <td>0.189136</td>\n",
              "      <td>0.835095</td>\n",
              "      <td>-586.000000</td>\n",
              "      <td>4.000000e+00</td>\n",
              "      <td>12.000000</td>\n",
              "      <td>365243.000000</td>\n",
              "      <td>-833.000000</td>\n",
              "      <td>-365.000000</td>\n",
              "      <td>-539.000000</td>\n",
              "      <td>-501.000000</td>\n",
              "      <td>0.000000</td>\n",
              "    </tr>\n",
              "    <tr>\n",
              "      <th>75%</th>\n",
              "      <td>2.383161e+06</td>\n",
              "      <td>367712.750000</td>\n",
              "      <td>20363.220000</td>\n",
              "      <td>1.800000e+05</td>\n",
              "      <td>2.109015e+05</td>\n",
              "      <td>7.726500e+03</td>\n",
              "      <td>2.295000e+05</td>\n",
              "      <td>15.000000</td>\n",
              "      <td>1.000000</td>\n",
              "      <td>0.108909</td>\n",
              "      <td>0.193330</td>\n",
              "      <td>0.852537</td>\n",
              "      <td>-282.000000</td>\n",
              "      <td>8.900000e+01</td>\n",
              "      <td>24.000000</td>\n",
              "      <td>365243.000000</td>\n",
              "      <td>-411.000000</td>\n",
              "      <td>122.000000</td>\n",
              "      <td>-75.000000</td>\n",
              "      <td>-45.000000</td>\n",
              "      <td>1.000000</td>\n",
              "    </tr>\n",
              "    <tr>\n",
              "      <th>max</th>\n",
              "      <td>2.845382e+06</td>\n",
              "      <td>456255.000000</td>\n",
              "      <td>417927.645000</td>\n",
              "      <td>4.237875e+06</td>\n",
              "      <td>4.104351e+06</td>\n",
              "      <td>2.118938e+06</td>\n",
              "      <td>4.237875e+06</td>\n",
              "      <td>23.000000</td>\n",
              "      <td>1.000000</td>\n",
              "      <td>0.989740</td>\n",
              "      <td>1.000000</td>\n",
              "      <td>1.000000</td>\n",
              "      <td>-2.000000</td>\n",
              "      <td>4.000000e+06</td>\n",
              "      <td>84.000000</td>\n",
              "      <td>365243.000000</td>\n",
              "      <td>365243.000000</td>\n",
              "      <td>365243.000000</td>\n",
              "      <td>365243.000000</td>\n",
              "      <td>365243.000000</td>\n",
              "      <td>1.000000</td>\n",
              "    </tr>\n",
              "  </tbody>\n",
              "</table>\n",
              "</div>"
            ],
            "text/plain": [
              "         SK_ID_PREV     SK_ID_CURR    AMT_ANNUITY  AMT_APPLICATION  \\\n",
              "count  4.399620e+05  439962.000000  342882.000000     4.399620e+05   \n",
              "mean   1.921383e+06  278467.960344   15820.700429     1.734530e+05   \n",
              "std    5.333252e+05  102787.861666   14710.363919     2.900198e+05   \n",
              "min    1.000001e+06  100001.000000       0.000000     0.000000e+00   \n",
              "25%    1.458894e+06  189462.000000    6272.336250     1.932300e+04   \n",
              "50%    1.921652e+06  278791.000000   11221.762500     7.082550e+04   \n",
              "75%    2.383161e+06  367712.750000   20363.220000     1.800000e+05   \n",
              "max    2.845382e+06  456255.000000  417927.645000     4.237875e+06   \n",
              "\n",
              "         AMT_CREDIT  AMT_DOWN_PAYMENT  AMT_GOODS_PRICE  \\\n",
              "count  4.399620e+05      2.071110e+05     3.396700e+05   \n",
              "mean   1.939402e+05      6.700734e+03     2.246999e+05   \n",
              "std    3.158712e+05      2.057192e+04     3.121779e+05   \n",
              "min    0.000000e+00     -9.000000e-01     0.000000e+00   \n",
              "25%    2.442262e+04      0.000000e+00     5.014406e+04   \n",
              "50%    8.001000e+04      1.665000e+03     1.102208e+05   \n",
              "75%    2.109015e+05      7.726500e+03     2.295000e+05   \n",
              "max    4.104351e+06      2.118938e+06     4.237875e+06   \n",
              "\n",
              "       HOUR_APPR_PROCESS_START  NFLAG_LAST_APPL_IN_DAY  RATE_DOWN_PAYMENT  \\\n",
              "count            439962.000000           439962.000000      207111.000000   \n",
              "mean                 12.487842                0.996357           0.079668   \n",
              "std                   3.332720                0.060251           0.107629   \n",
              "min                   0.000000                0.000000          -0.000014   \n",
              "25%                  10.000000                1.000000           0.000000   \n",
              "50%                  12.000000                1.000000           0.052185   \n",
              "75%                  15.000000                1.000000           0.108909   \n",
              "max                  23.000000                1.000000           0.989740   \n",
              "\n",
              "       RATE_INTEREST_PRIMARY  RATE_INTEREST_PRIVILEGED  DAYS_DECISION  \\\n",
              "count            1577.000000               1577.000000  439962.000000   \n",
              "mean                0.189076                  0.779091    -885.217351   \n",
              "std                 0.085755                  0.097850     780.580889   \n",
              "min                 0.059121                  0.373150   -2922.000000   \n",
              "25%                 0.160716                  0.715645   -1310.000000   \n",
              "50%                 0.189136                  0.835095    -586.000000   \n",
              "75%                 0.193330                  0.852537    -282.000000   \n",
              "max                 1.000000                  1.000000      -2.000000   \n",
              "\n",
              "       SELLERPLACE_AREA    CNT_PAYMENT  DAYS_FIRST_DRAWING  DAYS_FIRST_DUE  \\\n",
              "count      4.399620e+05  342882.000000       264452.000000   264452.000000   \n",
              "mean       3.303805e+02      15.926803       342604.608591    13679.015243   \n",
              "std        1.057200e+04      14.422921        88201.280964    72105.255458   \n",
              "min       -1.000000e+00       0.000000        -2920.000000    -2892.000000   \n",
              "25%       -1.000000e+00       6.000000       365243.000000    -1634.000000   \n",
              "50%        4.000000e+00      12.000000       365243.000000     -833.000000   \n",
              "75%        8.900000e+01      24.000000       365243.000000     -411.000000   \n",
              "max        4.000000e+06      84.000000       365243.000000   365243.000000   \n",
              "\n",
              "       DAYS_LAST_DUE_1ST_VERSION  DAYS_LAST_DUE  DAYS_TERMINATION  \\\n",
              "count              264452.000000  264452.000000     264452.000000   \n",
              "mean                33176.813611   76268.214402      81669.062102   \n",
              "std                106037.199307  149427.829698     153094.534099   \n",
              "min                 -2801.000000   -2889.000000      -2847.000000   \n",
              "25%                 -1250.000000   -1322.000000      -1277.000000   \n",
              "50%                  -365.000000    -539.000000       -501.000000   \n",
              "75%                   122.000000     -75.000000        -45.000000   \n",
              "max                365243.000000  365243.000000     365243.000000   \n",
              "\n",
              "       NFLAG_INSURED_ON_APPROVAL  \n",
              "count              264452.000000  \n",
              "mean                    0.330400  \n",
              "std                     0.470358  \n",
              "min                     0.000000  \n",
              "25%                     0.000000  \n",
              "50%                     0.000000  \n",
              "75%                     1.000000  \n",
              "max                     1.000000  "
            ]
          },
          "metadata": {
            "tags": []
          },
          "execution_count": 58
        }
      ]
    },
    {
      "cell_type": "code",
      "metadata": {
        "colab": {
          "base_uri": "https://localhost:8080/"
        },
        "id": "MwgbsMe2Yo-N",
        "outputId": "2bd0e7db-7c51-46cd-fc8a-a15023e6b297"
      },
      "source": [
        "df_p.isna().sum()"
      ],
      "execution_count": null,
      "outputs": [
        {
          "output_type": "execute_result",
          "data": {
            "text/plain": [
              "SK_ID_PREV                          0\n",
              "SK_ID_CURR                          0\n",
              "NAME_CONTRACT_TYPE                  0\n",
              "AMT_ANNUITY                     97080\n",
              "AMT_APPLICATION                     0\n",
              "AMT_CREDIT                          0\n",
              "AMT_DOWN_PAYMENT               232851\n",
              "AMT_GOODS_PRICE                100292\n",
              "WEEKDAY_APPR_PROCESS_START          0\n",
              "HOUR_APPR_PROCESS_START             0\n",
              "FLAG_LAST_APPL_PER_CONTRACT         0\n",
              "NFLAG_LAST_APPL_IN_DAY              0\n",
              "RATE_DOWN_PAYMENT              232851\n",
              "RATE_INTEREST_PRIMARY          438385\n",
              "RATE_INTEREST_PRIVILEGED       438385\n",
              "NAME_CASH_LOAN_PURPOSE              0\n",
              "NAME_CONTRACT_STATUS                0\n",
              "DAYS_DECISION                       0\n",
              "NAME_PAYMENT_TYPE                   0\n",
              "CODE_REJECT_REASON                  0\n",
              "NAME_TYPE_SUITE                215980\n",
              "NAME_CLIENT_TYPE                    0\n",
              "NAME_GOODS_CATEGORY                 0\n",
              "NAME_PORTFOLIO                      0\n",
              "NAME_PRODUCT_TYPE                   0\n",
              "CHANNEL_TYPE                        0\n",
              "SELLERPLACE_AREA                    0\n",
              "NAME_SELLER_INDUSTRY                0\n",
              "CNT_PAYMENT                     97080\n",
              "NAME_YIELD_GROUP                    1\n",
              "PRODUCT_COMBINATION                85\n",
              "DAYS_FIRST_DRAWING             175510\n",
              "DAYS_FIRST_DUE                 175510\n",
              "DAYS_LAST_DUE_1ST_VERSION      175510\n",
              "DAYS_LAST_DUE                  175510\n",
              "DAYS_TERMINATION               175510\n",
              "NFLAG_INSURED_ON_APPROVAL      175510\n",
              "dtype: int64"
            ]
          },
          "metadata": {
            "tags": []
          },
          "execution_count": 60
        }
      ]
    },
    {
      "cell_type": "code",
      "metadata": {
        "id": "vz8aAa1ScMbk"
      },
      "source": [
        ""
      ],
      "execution_count": null,
      "outputs": []
    }
  ]
}